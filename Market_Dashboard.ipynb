{
 "cells": [
  {
   "attachments": {},
   "cell_type": "markdown",
   "id": "a7ee249b-80dd-46c0-b849-3f4b61f9998c",
   "metadata": {
    "tags": []
   },
   "source": [
    "# Market Breakdown"
   ]
  },
  {
   "attachments": {},
   "cell_type": "markdown",
   "id": "2d7a705e-3d0a-4a8e-809b-f9841af08d8c",
   "metadata": {
    "tags": []
   },
   "source": [
    "## Code"
   ]
  },
  {
   "attachments": {},
   "cell_type": "markdown",
   "id": "20d1cd57-1b2f-43fd-9a05-c7cb60c75c36",
   "metadata": {
    "tags": []
   },
   "source": [
    "### Prep"
   ]
  },
  {
   "attachments": {},
   "cell_type": "markdown",
   "id": "1c0d70c0-3001-428a-83cb-1883e8f9c23d",
   "metadata": {
    "tags": []
   },
   "source": [
    "Imports"
   ]
  },
  {
   "cell_type": "code",
   "execution_count": 1,
   "id": "13679472-7cc2-465b-b79b-dd09ffe527f1",
   "metadata": {
    "tags": []
   },
   "outputs": [],
   "source": [
    "# Structure packages\n",
    "import pandas as pd\n",
    "import pandas_datareader as pdr\n",
    "import numpy as np\n",
    "import datetime as dt\n",
    "\n",
    "# Data\n",
    "import yfinance as yf\n",
    "import investpy\n",
    "\n",
    "# Graphing packages\n",
    "import plotly.express as px\n",
    "from plotly.subplots import make_subplots\n",
    "import plotly.graph_objects as go\n",
    "import plotly.io as pio\n",
    "\n",
    "# Notebook packages\n",
    "from IPython.display import display, HTML"
   ]
  },
  {
   "attachments": {},
   "cell_type": "markdown",
   "id": "ef966e04-d7fc-4840-9201-84e46d40ac43",
   "metadata": {
    "tags": []
   },
   "source": [
    "Definitions"
   ]
  },
  {
   "cell_type": "code",
   "execution_count": 2,
   "id": "4223e818-f9b3-44ea-ad09-c0ac2b2b5b8b",
   "metadata": {
    "tags": []
   },
   "outputs": [],
   "source": [
    "# Setting dates\n",
    "no_of_days = 180\n",
    "today = dt.datetime.now()\n",
    "time_delta = today - dt.timedelta(days=no_of_days)\n",
    "\n",
    "today = str(today.strftime(\"%Y-%m-%d\"))\n",
    "time_delta = str(time_delta.strftime(\"%Y-%m-%d\"))\n",
    "\n",
    "# Adjusting Display settings\n",
    "css = \"\"\"\n",
    ".output {\n",
    "    flex-direction: row;\n",
    "}\n",
    "\"\"\"\n",
    "\n",
    "HTML(\"<style>{}</style>\".format(css))\n",
    "\n",
    "# Setting the plotly theme to 'dark'\n",
    "pio.templates.default = \"plotly_dark\"\n",
    "\n",
    "# Create a dictionary to map the ResidualMaturity values to decimal years\n",
    "maturity_mapping = {\"1 month\" : 1/12} | {str(m)+\" months\" : m/12 for m in range(2,13)} | {\"1 year\" : 1} | {str(y)+\" years\" : y for y in range(1,51)}"
   ]
  },
  {
   "attachments": {},
   "cell_type": "markdown",
   "id": "ac6ea2b6",
   "metadata": {},
   "source": [
    "<br>\n",
    "Assets"
   ]
  },
  {
   "cell_type": "code",
   "execution_count": 3,
   "id": "fc04952b",
   "metadata": {},
   "outputs": [],
   "source": [
    "# Yield Curves\n",
    "countries = [\n",
    "    \"united-states\",\n",
    "    \"china\",\n",
    "    \"united-kingdom\",\n",
    "    \"japan\",\n",
    "    \"germany\",\n",
    "    \"italy\",\n",
    "]\n",
    "\n",
    "# Equity Indexes\n",
    "equity_indexes = {\n",
    "    \"MIB (Italy)\": \"FTSEMIB.MI\",\n",
    "    \"DE40 (Germany)\": \"^GDAXI\",\n",
    "    \"FTSE100 (U.K.)\": \"^FTSE\",\n",
    "    \"S&P500 (U.S.)\": \"^GSPC\",\n",
    "    \"Nasdaq Composite (U.S.)\": \"^IXIC\",\n",
    "    \"Nikkei (Japan)\": \"^N225\",\n",
    "    \"Hang Seng (H.K.)\": \"^HSI\",\n",
    "    \"'FIX' China large-cap ETF\": \"FXI\"\n",
    "}\n",
    "\n",
    "# Commodity Futures\n",
    "list_of_futures = [\n",
    "    \"GC=F\",  # Gold futures\n",
    "    \"PL=F\",  # Platinum futures\n",
    "    \"BZ=F\",  # Brent futures\n",
    "    \"NG=F\",  # Natural gas futures\n",
    "    \"ZW=F\",  # Wheat futures\n",
    "    \"ZC=F\",  # Corn futures\n",
    "]\n",
    "\n",
    "# Currencies\n",
    "FX_pairs = {\n",
    "    \"EUR/USD\": \"EURUSD=X\",\n",
    "    \"EUR/CHF\": \"EURCHF=X\",\n",
    "    \"EUR/JPY\": \"EURJPY=X\",\n",
    "    \"EUR/GBP\": \"EURGBP=X\",\n",
    "    \"GBP/USD\": \"GBPUSD=X\",\n",
    "    \"USD/JPY\": \"USDJPY=X\",\n",
    "    \"USD/CHF\": \"USDCHF=X\",\n",
    "    \"USD/AUD\": \"USDAUD=X\",\n",
    "    \"USD/CAD\": \"USDCAD=X\",\n",
    "}"
   ]
  },
  {
   "attachments": {},
   "cell_type": "markdown",
   "id": "0079d33b-9d6d-4c03-9fe3-5ff4604daf4e",
   "metadata": {
    "tags": []
   },
   "source": [
    "### Government Bonds"
   ]
  },
  {
   "cell_type": "code",
   "execution_count": 4,
   "id": "63a1a20b-8755-4902-a5ec-0e28fc808045",
   "metadata": {},
   "outputs": [],
   "source": [
    "def get_yield_curves(country):\n",
    "    \"\"\"\n",
    "    This function obtains the yield curve data for a given country, converts the data from str to float, and calculates the\n",
    "    yield curve 1 month ago and 6 months ago.\n",
    "    \"\"\"\n",
    "\n",
    "    # Download the data\n",
    "    table = pd.read_html(f\"http://www.worldgovernmentbonds.com/country/{country}/\")[0]\n",
    "\n",
    "    # Extract the relevant series\n",
    "    table = table[\n",
    "        [\n",
    "            (\"ResidualMaturity\", \"ResidualMaturity\"),\n",
    "            (\"Yield\", \"Last\"),\n",
    "            (\"Yield\", \"Chg 1M\"),\n",
    "            (\"Yield\", \"Chg 6M\"),\n",
    "        ]\n",
    "    ]\n",
    "\n",
    "    # Make all \"n.a.\" strings actual NaN values\n",
    "    table = table.replace(\"n.a.\", np.nan)\n",
    "\n",
    "    # Convert the \"Last\" series to float\n",
    "    table.loc[:, (\"Yield\", \"Last\")] = pd.to_numeric(table.loc[:, (\"Yield\", \"Last\")].str.strip(\"%\"))\n",
    "\n",
    "    # Convert the Chg 1M and Chg 6M series to floats\n",
    "    for col in [(\"Yield\", \"Chg 1M\"), (\"Yield\", \"Chg 6M\")]:\n",
    "        table.loc[:, col] = pd.to_numeric(\n",
    "            table.loc[:, col].str.replace(\"[-+]\", \"\", regex=True).str.replace(\" bp\", \"\", regex=False)\n",
    "        )\n",
    "\n",
    "    # Divide the Chg series by 100\n",
    "    table.loc[:, [(\"Yield\", \"Chg 1M\"), (\"Yield\", \"Chg 6M\")]] /= 100\n",
    "\n",
    "    # Create old yield curves, to be plotted against the latest one\n",
    "    table.loc[:, (\"1mo ago\")] = (\n",
    "        table.loc[:, (\"Yield\", \"Last\")] - table.loc[:, (\"Yield\", \"Chg 1M\")]\n",
    "    )\n",
    "    table.loc[:, (\"6mo ago\")] = (\n",
    "        table.loc[:, (\"Yield\", \"Last\")] - table.loc[:, (\"Yield\", \"Chg 6M\")]\n",
    "    )\n",
    "\n",
    "    # Drop the original Chg 1M and Chg 6M columns\n",
    "    table.drop(columns=[(\"Yield\", \"Chg 1M\"), (\"Yield\", \"Chg 6M\")], inplace=True)\n",
    "\n",
    "    # Rename the columns\n",
    "    table.columns = [\"ResidualMaturity\", \"Last\", \"1mo ago\", \"6mo ago\"]\n",
    "\n",
    "    # Create the new \"Decimal M\" series\n",
    "    table[\"Decimal M\"] = table[\"ResidualMaturity\"].map(maturity_mapping)\n",
    "\n",
    "    # Return the results\n",
    "    return table"
   ]
  },
  {
   "cell_type": "code",
   "execution_count": 5,
   "id": "4e40f594-e97b-4fb5-a628-250446d2d8dc",
   "metadata": {},
   "outputs": [],
   "source": [
    "# Process the names\n",
    "yield_curves = {\n",
    "    curve.replace(\"-\", \" \").title(): get_yield_curves(curve) for curve in countries\n",
    "}\n",
    "\n",
    "# Generate the subplot space\n",
    "yc_fig = make_subplots(\n",
    "    rows=2,\n",
    "    cols=3,\n",
    "    shared_xaxes=False,\n",
    "    subplot_titles=[name for name in yield_curves.keys()],\n",
    ")\n",
    "\n",
    "# Define the colors to use for each series\n",
    "colors = [\"#ef553b\", \"#6a76f9\", \"#00cc96\"]\n",
    "\n",
    "# Add traces for each series in each subplot\n",
    "for i, (name, df) in enumerate(yield_curves.items()):\n",
    "    for j, col in enumerate([\"Last\", \"1mo ago\", \"6mo ago\"]):\n",
    "        mode = \"lines+markers\" if col == \"Last\" else \"lines\"\n",
    "        line_style = \"dash\" if col != \"Last\" else None\n",
    "        yc_fig.add_trace(\n",
    "            go.Scatter(\n",
    "                x=df[\"Decimal M\"],\n",
    "                y=df[col],\n",
    "                name=col,\n",
    "                mode=mode,\n",
    "                line=dict(color=colors[j], dash=line_style),\n",
    "            ),\n",
    "            row=i // 3 + 1,\n",
    "            col=i % 3 + 1,\n",
    "        )\n",
    "\n",
    "# Update the layout\n",
    "yc_fig.update_layout(\n",
    "    title=\"<b>Yield Curves over the last 6 months</b>\",\n",
    "    yaxis=dict(title=\"\"),\n",
    "    height=800,\n",
    "    legend=dict(orientation=\"h\", y=1.125, x=0.75)\n",
    ")\n",
    "\n",
    "# Format legend\n",
    "labels_to_show_in_legend = [\"Last\", \"1mo ago\", \"6mo ago\"]\n",
    "for i, trace in enumerate(yc_fig[\"data\"]):\n",
    "    if i >= 3:\n",
    "        trace[\"showlegend\"] = False\n",
    "    elif not trace[\"name\"] in labels_to_show_in_legend:\n",
    "        trace[\"showlegend\"] = False"
   ]
  },
  {
   "cell_type": "code",
   "execution_count": 6,
   "id": "003ecef4-90b3-4cc0-88a0-c6310222833c",
   "metadata": {},
   "outputs": [],
   "source": [
    "# Calculate the Italy-German spreads\n",
    "it_de_spreads = yield_curves[\"Italy\"].copy()\n",
    "it_de_spreads.iloc[:, 1:] -= yield_curves[\"Germany\"].iloc[:, 1:]\n",
    "\n",
    "# Create the new \"Decimal M\" series\n",
    "it_de_spreads[\"Decimal M\"] = it_de_spreads[\"ResidualMaturity\"].map(maturity_mapping)\n",
    "\n",
    "# Drop the 50Y maturity, which does not exist in Germany\n",
    "it_de_spreads = it_de_spreads.iloc[:-1]\n",
    "\n",
    "# Create a list of traces for each series\n",
    "traces = []\n",
    "for i, col in enumerate([\"Last\", \"1mo ago\", \"6mo ago\"]):\n",
    "    if col == \"Last\":\n",
    "        trace = go.Scatter(\n",
    "            x=it_de_spreads[\"Decimal M\"],\n",
    "            y=it_de_spreads[col],\n",
    "            name=col,\n",
    "            line=dict(color=colors[i], width=2),\n",
    "            mode=\"lines+markers\",\n",
    "        )\n",
    "    else:\n",
    "        trace = go.Scatter(\n",
    "            x=it_de_spreads[\"Decimal M\"],\n",
    "            y=it_de_spreads[col],\n",
    "            name=col,\n",
    "            line=dict(color=colors[i], dash=\"dash\"),\n",
    "            mode=\"lines\",\n",
    "        )\n",
    "    traces.append(trace)\n",
    "\n",
    "# Create the figure\n",
    "spread_fig = go.Figure(data=traces)\n",
    "\n",
    "# Update the layout\n",
    "spread_fig.update_layout(\n",
    "    title=\"<b>Spread between Italian and German Yield Curves over the last 6 months</b>\",\n",
    "    yaxis_title=r\"$y_t^{\\text{IT}} - y_t^{\\text{DE}}$\",\n",
    "    height=500,\n",
    ")\n",
    "\n",
    "# Save the plot to an HTML file\n",
    "spread_fig.write_html(\"spread_fig.html\", auto_open=False)"
   ]
  },
  {
   "attachments": {},
   "cell_type": "markdown",
   "id": "ea959673-c32a-4ed5-9dd7-c708023312ee",
   "metadata": {},
   "source": [
    "<br>\n",
    "\n",
    "### Main Equity Indexes"
   ]
  },
  {
   "cell_type": "code",
   "execution_count": 7,
   "id": "968709fd-249b-48f5-a192-0ee583e49674",
   "metadata": {
    "tags": []
   },
   "outputs": [
    {
     "name": "stdout",
     "output_type": "stream",
     "text": [
      "[*********************100%***********************]  8 of 8 completed\n"
     ]
    }
   ],
   "source": [
    "# Download the equity prices\n",
    "index_prices = yf.download(list(equity_indexes.values()), start=time_delta)[\"Adj Close\"]\n",
    "\n",
    "# Forward fill any missing values\n",
    "index_prices.ffill(inplace=True)"
   ]
  },
  {
   "cell_type": "code",
   "execution_count": 8,
   "id": "42f2801a-db39-472c-ac95-23e8cb3fe7b3",
   "metadata": {
    "tags": []
   },
   "outputs": [],
   "source": [
    "# Define the subplot titles\n",
    "subplot_titles = list(equity_indexes.keys())\n",
    "\n",
    "# Create the subplot figure\n",
    "eq_indexes_fig = make_subplots(rows=2, cols=4, subplot_titles=subplot_titles)\n",
    "\n",
    "# Add traces for each index\n",
    "for i, index in enumerate(list(equity_indexes.values())):\n",
    "    row = i // 4 + 1\n",
    "    col = i % 4 + 1\n",
    "    eq_indexes_fig.add_trace(\n",
    "        go.Scatter(x=index_prices.index, y=index_prices[index]), row=row, col=col\n",
    "    )\n",
    "\n",
    "# Update the layout\n",
    "eq_indexes_fig.update_layout(\n",
    "    height=600,\n",
    "    title_text=f\"<b>Equity Indexes over the last {no_of_days//30} months</b>\",\n",
    "    showlegend=False,\n",
    ")\n",
    "\n",
    "# Save the plot to an HTML file\n",
    "eq_indexes_fig.write_html(\"equity_indexes.html\", auto_open=False)"
   ]
  },
  {
   "cell_type": "code",
   "execution_count": 9,
   "id": "9c384c8c-b09f-4404-86c0-68520aa8f384",
   "metadata": {},
   "outputs": [],
   "source": [
    "# Calculate the cumulative returns for each index\n",
    "index_cum_rets = np.log1p(index_prices.pct_change()).cumsum()\n",
    "index_cum_rets.rename(columns = {v:k for k, v in equity_indexes.items()}, inplace=True)\n",
    "\n",
    "# Plot the results\n",
    "cum_ret_fig = px.line(index_cum_rets, render_mode=\"svg\").update_layout(\n",
    "    height=600,\n",
    "    title_text=f\"<b>Cumulative Returns of Equity Indexes over the last {no_of_days // 30} months</b>\",\n",
    "    showlegend=True,\n",
    "    legend=dict(title_text=\"\"),\n",
    "    yaxis_title=\"Cumulative log returns\",\n",
    "    xaxis_title=\"\",\n",
    ")"
   ]
  },
  {
   "attachments": {},
   "cell_type": "markdown",
   "id": "e0b62a00-9c4e-4bb6-8e52-8f77d7239b00",
   "metadata": {},
   "source": [
    "<br>\n",
    "\n",
    "### Commodity Futures"
   ]
  },
  {
   "cell_type": "code",
   "execution_count": 10,
   "id": "b7da8f51-66fd-4550-a939-58221c58789b",
   "metadata": {
    "tags": []
   },
   "outputs": [
    {
     "name": "stdout",
     "output_type": "stream",
     "text": [
      "[*********************100%***********************]  6 of 6 completed\n"
     ]
    }
   ],
   "source": [
    "# Download the commodity futures prices\n",
    "futures_prices = yf.download(list_of_futures, start=time_delta)[\"Adj Close\"]\n",
    "\n",
    "# Forward-fill any missing values\n",
    "futures_prices.ffill(inplace=True)"
   ]
  },
  {
   "cell_type": "code",
   "execution_count": 11,
   "id": "15f97d84-4acc-4ac6-9ff9-cbc719c1cbd3",
   "metadata": {
    "tags": []
   },
   "outputs": [],
   "source": [
    "# Create subplots\n",
    "futures_dash = make_subplots(\n",
    "    rows=3,\n",
    "    cols=2,\n",
    "    subplot_titles=(\"Gold\", \"Platinum\", \"Brent\", \"Natural Gas\", \"Wheat\", \"Corn\"),\n",
    ")\n",
    "\n",
    "# Add traces for commodity\n",
    "for i, com in enumerate(list_of_futures):\n",
    "    row = i // 2 + 1\n",
    "    col = i % 2 + 1\n",
    "    futures_dash.add_trace(\n",
    "        go.Scatter(x=futures_prices.index, y=futures_prices[com]), row=row, col=col\n",
    "    )\n",
    "\n",
    "# Update layout\n",
    "futures_dash.update_layout(\n",
    "    height=800,\n",
    "    title_text=f\"<b>Commodity Futures over the last {no_of_days//30} months</b>\",\n",
    "    showlegend=False,\n",
    ")\n",
    "\n",
    "# Save the plot to an HTML file\n",
    "futures_dash.write_html(\"futures_dash.html\", auto_open=False)"
   ]
  },
  {
   "attachments": {},
   "cell_type": "markdown",
   "id": "7277f002",
   "metadata": {},
   "source": [
    "<br>\n",
    "\n",
    "### Currencies"
   ]
  },
  {
   "cell_type": "code",
   "execution_count": 12,
   "id": "e74ec365",
   "metadata": {},
   "outputs": [
    {
     "name": "stdout",
     "output_type": "stream",
     "text": [
      "[*********************100%***********************]  9 of 9 completed\n"
     ]
    }
   ],
   "source": [
    "# Download the historical data\n",
    "FX_prices = yf.download(list(FX_pairs.values()), start=time_delta)[\"Adj Close\"]\n",
    "\n",
    "# Forward-fill any missing values\n",
    "FX_prices.ffill(inplace=True)"
   ]
  },
  {
   "cell_type": "code",
   "execution_count": 13,
   "id": "a8d7585f",
   "metadata": {},
   "outputs": [],
   "source": [
    "# Define the subplot titles\n",
    "subplot_titles = list(FX_pairs.keys())\n",
    "\n",
    "# Create the subplot figure\n",
    "FX_fig = make_subplots(rows=3, cols=3, subplot_titles=subplot_titles)\n",
    "\n",
    "# Add traces for each FX pair\n",
    "for i, pair in enumerate(list(FX_pairs.values())):\n",
    "    row = i // 3 + 1\n",
    "    col = i % 3 + 1\n",
    "    FX_fig.add_trace(go.Scatter(x=FX_prices.index, y=FX_prices[pair]), row=row, col=col)\n",
    "\n",
    "# Update the layout\n",
    "FX_fig.update_layout(\n",
    "    height=800,\n",
    "    title_text=f\"<b>FX Pairs over the last {no_of_days//30} months</b>\",\n",
    "    showlegend=False,\n",
    ")\n",
    "\n",
    "# Save the plot to an HTML file\n",
    "FX_fig.write_html(\"FX_pairs.html\", auto_open=False)\n",
    "\n",
    "# Note: if X/Y falls, it means it takes fewer Y to buy X – the value of X is falling and/or the value of Y is rising."
   ]
  },
  {
   "attachments": {},
   "cell_type": "markdown",
   "id": "ce4b8c96-41b1-4da7-bedc-f77c5468affb",
   "metadata": {},
   "source": [
    "<br>\n",
    "\n",
    "## Dashboard"
   ]
  },
  {
   "cell_type": "code",
   "execution_count": 14,
   "id": "8da51666-70a8-4ac0-b4ee-b6e2fb367693",
   "metadata": {},
   "outputs": [
    {
     "data": {
      "application/vnd.plotly.v1+json": {
       "config": {
        "plotlyServerURL": "https://plot.ly"
       },
       "data": [
        {
         "line": {
          "color": "#ef553b"
         },
         "mode": "lines+markers",
         "name": "Last",
         "type": "scatter",
         "x": [
          0.08333333333333333,
          0.16666666666666666,
          0.25,
          0.3333333333333333,
          0.5,
          1,
          2,
          3,
          5,
          7,
          10,
          20,
          30
         ],
         "xaxis": "x",
         "y": [
          5.247,
          5.33,
          5.373,
          5.44,
          5.496,
          5.426,
          4.95,
          4.666,
          4.358,
          4.23,
          4.066,
          4.273,
          4.047
         ],
         "yaxis": "y"
        },
        {
         "line": {
          "color": "#6a76f9",
          "dash": "dash"
         },
         "mode": "lines",
         "name": "1mo ago",
         "type": "scatter",
         "x": [
          0.08333333333333333,
          0.16666666666666666,
          0.25,
          0.3333333333333333,
          0.5,
          1,
          2,
          3,
          5,
          7,
          10,
          20,
          30
         ],
         "xaxis": "x",
         "y": [
          5.204,
          5.191,
          5.253,
          5.3660000000000005,
          5.389,
          5.24,
          4.614,
          4.247000000000001,
          3.9179999999999997,
          3.8400000000000003,
          3.7449999999999997,
          4.052,
          3.8819999999999997
         ],
         "yaxis": "y"
        },
        {
         "line": {
          "color": "#00cc96",
          "dash": "dash"
         },
         "mode": "lines",
         "name": "6mo ago",
         "type": "scatter",
         "x": [
          0.08333333333333333,
          0.16666666666666666,
          0.25,
          0.3333333333333333,
          0.5,
          1,
          2,
          3,
          5,
          7,
          10,
          20,
          30
         ],
         "xaxis": "x",
         "y": [
          4.272,
          null,
          4.63,
          null,
          4.836,
          4.708,
          4.197,
          3.942,
          3.6649999999999996,
          3.6000000000000005,
          3.528,
          3.8209999999999997,
          3.654
         ],
         "yaxis": "y"
        },
        {
         "line": {
          "color": "#ef553b"
         },
         "mode": "lines+markers",
         "name": "Last",
         "showlegend": false,
         "type": "scatter",
         "x": [
          1,
          2,
          3,
          5,
          7,
          10,
          15,
          20,
          30
         ],
         "xaxis": "x2",
         "y": [
          1.808,
          2.091,
          2.232,
          2.414,
          2.625,
          2.704,
          2.771,
          3.088,
          3.043
         ],
         "yaxis": "y2"
        },
        {
         "line": {
          "color": "#6a76f9",
          "dash": "dash"
         },
         "mode": "lines",
         "name": "1mo ago",
         "showlegend": false,
         "type": "scatter",
         "x": [
          1,
          2,
          3,
          5,
          7,
          10,
          15,
          20,
          30
         ],
         "xaxis": "x2",
         "y": [
          1.774,
          2.0810000000000004,
          2.2110000000000003,
          2.414,
          2.622,
          2.704,
          2.6959999999999997,
          3.057,
          3.0250000000000004
         ],
         "yaxis": "y2"
        },
        {
         "line": {
          "color": "#00cc96",
          "dash": "dash"
         },
         "mode": "lines",
         "name": "6mo ago",
         "showlegend": false,
         "type": "scatter",
         "x": [
          1,
          2,
          3,
          5,
          7,
          10,
          15,
          20,
          30
         ],
         "xaxis": "x2",
         "y": [
          1.526,
          1.862,
          2.016,
          2.196,
          2.437,
          2.503,
          2.608,
          2.883,
          2.8360000000000003
         ],
         "yaxis": "y2"
        },
        {
         "line": {
          "color": "#ef553b"
         },
         "mode": "lines+markers",
         "name": "Last",
         "showlegend": false,
         "type": "scatter",
         "x": [
          0.08333333333333333,
          0.25,
          0.5,
          1,
          2,
          3,
          4,
          5,
          6,
          7,
          8,
          9,
          10,
          12,
          15,
          20,
          25,
          30,
          40,
          50
         ],
         "xaxis": "x3",
         "y": [
          5.066,
          5.362,
          5.783,
          5.376,
          5.376,
          5.194,
          5.055,
          4.842,
          4.901,
          4.663,
          4.625,
          4.569,
          4.644,
          4.683,
          4.802,
          4.78,
          4.698,
          4.676,
          4.266,
          4.159
         ],
         "yaxis": "y3"
        },
        {
         "line": {
          "color": "#6a76f9",
          "dash": "dash"
         },
         "mode": "lines",
         "name": "1mo ago",
         "showlegend": false,
         "type": "scatter",
         "x": [
          0.08333333333333333,
          0.25,
          0.5,
          1,
          2,
          3,
          4,
          5,
          6,
          7,
          8,
          9,
          10,
          12,
          15,
          20,
          25,
          30,
          40,
          50
         ],
         "xaxis": "x3",
         "y": [
          4.423,
          4.872,
          5.096,
          4.788,
          4.524,
          4.47,
          4.351,
          4.244999999999999,
          4.322,
          4.173,
          4.178,
          4.146,
          4.242,
          4.338,
          4.47,
          4.486000000000001,
          4.478000000000001,
          4.484,
          4.191,
          4.085
         ],
         "yaxis": "y3"
        },
        {
         "line": {
          "color": "#00cc96",
          "dash": "dash"
         },
         "mode": "lines",
         "name": "6mo ago",
         "showlegend": false,
         "type": "scatter",
         "x": [
          0.08333333333333333,
          0.25,
          0.5,
          1,
          2,
          3,
          4,
          5,
          6,
          7,
          8,
          9,
          10,
          12,
          15,
          20,
          25,
          30,
          40,
          50
         ],
         "xaxis": "x3",
         "y": [
          3.346,
          3.765,
          3.9930000000000003,
          3.4030000000000005,
          3.4390000000000005,
          3.354,
          3.4549999999999996,
          3.4429999999999996,
          3.4529999999999994,
          3.5380000000000003,
          3.493,
          3.5389999999999997,
          3.532,
          3.6919999999999997,
          3.917,
          3.986,
          4.019,
          3.9490000000000003,
          3.612,
          3.621
         ],
         "yaxis": "y3"
        },
        {
         "line": {
          "color": "#ef553b"
         },
         "mode": "lines+markers",
         "name": "Last",
         "showlegend": false,
         "type": "scatter",
         "x": [
          0.08333333333333333,
          0.25,
          0.5,
          0.75,
          1,
          2,
          3,
          4,
          5,
          6,
          7,
          8,
          9,
          10,
          15,
          20,
          30,
          40
         ],
         "xaxis": "x4",
         "y": [
          -0.112,
          -0.132,
          -0.202,
          -0.152,
          -0.115,
          -0.043,
          -0.024,
          0.035,
          0.098,
          0.19,
          0.26,
          0.338,
          0.378,
          0.444,
          0.803,
          1.04,
          1.273,
          1.406
         ],
         "yaxis": "y4"
        },
        {
         "line": {
          "color": "#6a76f9",
          "dash": "dash"
         },
         "mode": "lines",
         "name": "1mo ago",
         "showlegend": false,
         "type": "scatter",
         "x": [
          0.08333333333333333,
          0.25,
          0.5,
          0.75,
          1,
          2,
          3,
          4,
          5,
          6,
          7,
          8,
          9,
          10,
          15,
          20,
          30,
          40
         ],
         "xaxis": "x4",
         "y": [
          -0.181,
          -0.182,
          -0.23700000000000002,
          -0.162,
          -0.15200000000000002,
          -0.066,
          -0.051000000000000004,
          0.0010000000000000009,
          0.077,
          0.14,
          0.20500000000000002,
          0.30400000000000005,
          0.369,
          0.424,
          0.773,
          1.018,
          1.273,
          1.393
         ],
         "yaxis": "y4"
        },
        {
         "line": {
          "color": "#00cc96",
          "dash": "dash"
         },
         "mode": "lines",
         "name": "6mo ago",
         "showlegend": false,
         "type": "scatter",
         "x": [
          0.08333333333333333,
          0.25,
          0.5,
          0.75,
          1,
          2,
          3,
          4,
          5,
          6,
          7,
          8,
          9,
          10,
          15,
          20,
          30,
          40
         ],
         "xaxis": "x4",
         "y": [
          -0.129,
          -0.14200000000000002,
          -0.28900000000000003,
          -0.197,
          -0.217,
          -0.10200000000000001,
          -0.08399999999999999,
          -0.06999999999999999,
          0.0030000000000000027,
          0.035,
          0.07600000000000001,
          0.162,
          0.298,
          0.39,
          0.561,
          0.8,
          0.966,
          1.111
         ],
         "yaxis": "y4"
        },
        {
         "line": {
          "color": "#ef553b"
         },
         "mode": "lines+markers",
         "name": "Last",
         "showlegend": false,
         "type": "scatter",
         "x": [
          0.08333333333333333,
          0.25,
          0.5,
          0.75,
          1,
          2,
          3,
          4,
          5,
          6,
          7,
          8,
          9,
          10,
          15,
          20,
          25,
          30
         ],
         "xaxis": "x5",
         "y": [
          3.3,
          3.418,
          3.588,
          3.663,
          3.679,
          3.323,
          3.056,
          2.851,
          2.766,
          2.666,
          2.631,
          2.6,
          2.594,
          2.641,
          2.746,
          2.761,
          2.661,
          2.652
         ],
         "yaxis": "y5"
        },
        {
         "line": {
          "color": "#6a76f9",
          "dash": "dash"
         },
         "mode": "lines",
         "name": "1mo ago",
         "showlegend": false,
         "type": "scatter",
         "x": [
          0.08333333333333333,
          0.25,
          0.5,
          0.75,
          1,
          2,
          3,
          4,
          5,
          6,
          7,
          8,
          9,
          10,
          15,
          20,
          25,
          30
         ],
         "xaxis": "x5",
         "y": [
          3.029,
          3.157,
          3.29,
          3.356,
          3.3569999999999998,
          2.974,
          2.697,
          2.509,
          2.42,
          2.358,
          2.32,
          2.317,
          2.315,
          2.375,
          2.557,
          2.568,
          2.49,
          2.5140000000000002
         ],
         "yaxis": "y5"
        },
        {
         "line": {
          "color": "#00cc96",
          "dash": "dash"
         },
         "mode": "lines",
         "name": "6mo ago",
         "showlegend": false,
         "type": "scatter",
         "x": [
          0.08333333333333333,
          0.25,
          0.5,
          0.75,
          1,
          2,
          3,
          4,
          5,
          6,
          7,
          8,
          9,
          10,
          15,
          20,
          25,
          30
         ],
         "xaxis": "x5",
         "y": [
          1.7959999999999998,
          2.1710000000000003,
          2.466,
          2.662,
          2.71,
          2.586,
          2.481,
          2.343,
          2.265,
          2.2319999999999998,
          2.2289999999999996,
          2.1910000000000003,
          2.187,
          2.233,
          2.3449999999999998,
          2.278,
          2.199,
          2.092
         ],
         "yaxis": "y5"
        },
        {
         "line": {
          "color": "#ef553b"
         },
         "mode": "lines+markers",
         "name": "Last",
         "showlegend": false,
         "type": "scatter",
         "x": [
          0.08333333333333333,
          0.25,
          0.5,
          0.75,
          1,
          2,
          3,
          4,
          5,
          6,
          7,
          8,
          9,
          10,
          15,
          20,
          25,
          30,
          50
         ],
         "xaxis": "x6",
         "y": [
          3.527,
          3.594,
          3.645,
          3.864,
          3.89,
          3.909,
          3.839,
          3.88,
          3.898,
          3.976,
          4.095,
          4.147,
          4.268,
          4.35,
          4.504,
          4.641,
          4.562,
          4.7,
          4.359
         ],
         "yaxis": "y6"
        },
        {
         "line": {
          "color": "#6a76f9",
          "dash": "dash"
         },
         "mode": "lines",
         "name": "1mo ago",
         "showlegend": false,
         "type": "scatter",
         "x": [
          0.08333333333333333,
          0.25,
          0.5,
          0.75,
          1,
          2,
          3,
          4,
          5,
          6,
          7,
          8,
          9,
          10,
          15,
          20,
          25,
          30,
          50
         ],
         "xaxis": "x6",
         "y": [
          3.1670000000000003,
          3.292,
          3.515,
          3.581,
          3.593,
          3.4869999999999997,
          3.441,
          3.52,
          3.545,
          3.657,
          3.8149999999999995,
          3.8800000000000003,
          3.969,
          4.114999999999999,
          4.35,
          4.509,
          4.456,
          4.406000000000001,
          4.297
         ],
         "yaxis": "y6"
        },
        {
         "line": {
          "color": "#00cc96",
          "dash": "dash"
         },
         "mode": "lines",
         "name": "6mo ago",
         "showlegend": false,
         "type": "scatter",
         "x": [
          0.08333333333333333,
          0.25,
          0.5,
          0.75,
          1,
          2,
          3,
          4,
          5,
          6,
          7,
          8,
          9,
          10,
          15,
          20,
          25,
          30,
          50
         ],
         "xaxis": "x6",
         "y": [
          1.8870000000000002,
          1.8249999999999997,
          2.5380000000000003,
          2.7729999999999997,
          3.172,
          3.078,
          3.285,
          3.386,
          3.622,
          3.681,
          3.804,
          3.994,
          4.082,
          4.193,
          4.311,
          4.433,
          4.36,
          4.247,
          4.105
         ],
         "yaxis": "y6"
        }
       ],
       "layout": {
        "annotations": [
         {
          "font": {
           "size": 16
          },
          "showarrow": false,
          "text": "United States",
          "x": 0.14444444444444446,
          "xanchor": "center",
          "xref": "paper",
          "y": 1,
          "yanchor": "bottom",
          "yref": "paper"
         },
         {
          "font": {
           "size": 16
          },
          "showarrow": false,
          "text": "China",
          "x": 0.5,
          "xanchor": "center",
          "xref": "paper",
          "y": 1,
          "yanchor": "bottom",
          "yref": "paper"
         },
         {
          "font": {
           "size": 16
          },
          "showarrow": false,
          "text": "United Kingdom",
          "x": 0.8555555555555556,
          "xanchor": "center",
          "xref": "paper",
          "y": 1,
          "yanchor": "bottom",
          "yref": "paper"
         },
         {
          "font": {
           "size": 16
          },
          "showarrow": false,
          "text": "Japan",
          "x": 0.14444444444444446,
          "xanchor": "center",
          "xref": "paper",
          "y": 0.375,
          "yanchor": "bottom",
          "yref": "paper"
         },
         {
          "font": {
           "size": 16
          },
          "showarrow": false,
          "text": "Germany",
          "x": 0.5,
          "xanchor": "center",
          "xref": "paper",
          "y": 0.375,
          "yanchor": "bottom",
          "yref": "paper"
         },
         {
          "font": {
           "size": 16
          },
          "showarrow": false,
          "text": "Italy",
          "x": 0.8555555555555556,
          "xanchor": "center",
          "xref": "paper",
          "y": 0.375,
          "yanchor": "bottom",
          "yref": "paper"
         }
        ],
        "height": 800,
        "legend": {
         "orientation": "h",
         "x": 0.75,
         "y": 1.125
        },
        "template": {
         "data": {
          "bar": [
           {
            "error_x": {
             "color": "#f2f5fa"
            },
            "error_y": {
             "color": "#f2f5fa"
            },
            "marker": {
             "line": {
              "color": "rgb(17,17,17)",
              "width": 0.5
             },
             "pattern": {
              "fillmode": "overlay",
              "size": 10,
              "solidity": 0.2
             }
            },
            "type": "bar"
           }
          ],
          "barpolar": [
           {
            "marker": {
             "line": {
              "color": "rgb(17,17,17)",
              "width": 0.5
             },
             "pattern": {
              "fillmode": "overlay",
              "size": 10,
              "solidity": 0.2
             }
            },
            "type": "barpolar"
           }
          ],
          "carpet": [
           {
            "aaxis": {
             "endlinecolor": "#A2B1C6",
             "gridcolor": "#506784",
             "linecolor": "#506784",
             "minorgridcolor": "#506784",
             "startlinecolor": "#A2B1C6"
            },
            "baxis": {
             "endlinecolor": "#A2B1C6",
             "gridcolor": "#506784",
             "linecolor": "#506784",
             "minorgridcolor": "#506784",
             "startlinecolor": "#A2B1C6"
            },
            "type": "carpet"
           }
          ],
          "choropleth": [
           {
            "colorbar": {
             "outlinewidth": 0,
             "ticks": ""
            },
            "type": "choropleth"
           }
          ],
          "contour": [
           {
            "colorbar": {
             "outlinewidth": 0,
             "ticks": ""
            },
            "colorscale": [
             [
              0,
              "#0d0887"
             ],
             [
              0.1111111111111111,
              "#46039f"
             ],
             [
              0.2222222222222222,
              "#7201a8"
             ],
             [
              0.3333333333333333,
              "#9c179e"
             ],
             [
              0.4444444444444444,
              "#bd3786"
             ],
             [
              0.5555555555555556,
              "#d8576b"
             ],
             [
              0.6666666666666666,
              "#ed7953"
             ],
             [
              0.7777777777777778,
              "#fb9f3a"
             ],
             [
              0.8888888888888888,
              "#fdca26"
             ],
             [
              1,
              "#f0f921"
             ]
            ],
            "type": "contour"
           }
          ],
          "contourcarpet": [
           {
            "colorbar": {
             "outlinewidth": 0,
             "ticks": ""
            },
            "type": "contourcarpet"
           }
          ],
          "heatmap": [
           {
            "colorbar": {
             "outlinewidth": 0,
             "ticks": ""
            },
            "colorscale": [
             [
              0,
              "#0d0887"
             ],
             [
              0.1111111111111111,
              "#46039f"
             ],
             [
              0.2222222222222222,
              "#7201a8"
             ],
             [
              0.3333333333333333,
              "#9c179e"
             ],
             [
              0.4444444444444444,
              "#bd3786"
             ],
             [
              0.5555555555555556,
              "#d8576b"
             ],
             [
              0.6666666666666666,
              "#ed7953"
             ],
             [
              0.7777777777777778,
              "#fb9f3a"
             ],
             [
              0.8888888888888888,
              "#fdca26"
             ],
             [
              1,
              "#f0f921"
             ]
            ],
            "type": "heatmap"
           }
          ],
          "heatmapgl": [
           {
            "colorbar": {
             "outlinewidth": 0,
             "ticks": ""
            },
            "colorscale": [
             [
              0,
              "#0d0887"
             ],
             [
              0.1111111111111111,
              "#46039f"
             ],
             [
              0.2222222222222222,
              "#7201a8"
             ],
             [
              0.3333333333333333,
              "#9c179e"
             ],
             [
              0.4444444444444444,
              "#bd3786"
             ],
             [
              0.5555555555555556,
              "#d8576b"
             ],
             [
              0.6666666666666666,
              "#ed7953"
             ],
             [
              0.7777777777777778,
              "#fb9f3a"
             ],
             [
              0.8888888888888888,
              "#fdca26"
             ],
             [
              1,
              "#f0f921"
             ]
            ],
            "type": "heatmapgl"
           }
          ],
          "histogram": [
           {
            "marker": {
             "pattern": {
              "fillmode": "overlay",
              "size": 10,
              "solidity": 0.2
             }
            },
            "type": "histogram"
           }
          ],
          "histogram2d": [
           {
            "colorbar": {
             "outlinewidth": 0,
             "ticks": ""
            },
            "colorscale": [
             [
              0,
              "#0d0887"
             ],
             [
              0.1111111111111111,
              "#46039f"
             ],
             [
              0.2222222222222222,
              "#7201a8"
             ],
             [
              0.3333333333333333,
              "#9c179e"
             ],
             [
              0.4444444444444444,
              "#bd3786"
             ],
             [
              0.5555555555555556,
              "#d8576b"
             ],
             [
              0.6666666666666666,
              "#ed7953"
             ],
             [
              0.7777777777777778,
              "#fb9f3a"
             ],
             [
              0.8888888888888888,
              "#fdca26"
             ],
             [
              1,
              "#f0f921"
             ]
            ],
            "type": "histogram2d"
           }
          ],
          "histogram2dcontour": [
           {
            "colorbar": {
             "outlinewidth": 0,
             "ticks": ""
            },
            "colorscale": [
             [
              0,
              "#0d0887"
             ],
             [
              0.1111111111111111,
              "#46039f"
             ],
             [
              0.2222222222222222,
              "#7201a8"
             ],
             [
              0.3333333333333333,
              "#9c179e"
             ],
             [
              0.4444444444444444,
              "#bd3786"
             ],
             [
              0.5555555555555556,
              "#d8576b"
             ],
             [
              0.6666666666666666,
              "#ed7953"
             ],
             [
              0.7777777777777778,
              "#fb9f3a"
             ],
             [
              0.8888888888888888,
              "#fdca26"
             ],
             [
              1,
              "#f0f921"
             ]
            ],
            "type": "histogram2dcontour"
           }
          ],
          "mesh3d": [
           {
            "colorbar": {
             "outlinewidth": 0,
             "ticks": ""
            },
            "type": "mesh3d"
           }
          ],
          "parcoords": [
           {
            "line": {
             "colorbar": {
              "outlinewidth": 0,
              "ticks": ""
             }
            },
            "type": "parcoords"
           }
          ],
          "pie": [
           {
            "automargin": true,
            "type": "pie"
           }
          ],
          "scatter": [
           {
            "marker": {
             "line": {
              "color": "#283442"
             }
            },
            "type": "scatter"
           }
          ],
          "scatter3d": [
           {
            "line": {
             "colorbar": {
              "outlinewidth": 0,
              "ticks": ""
             }
            },
            "marker": {
             "colorbar": {
              "outlinewidth": 0,
              "ticks": ""
             }
            },
            "type": "scatter3d"
           }
          ],
          "scattercarpet": [
           {
            "marker": {
             "colorbar": {
              "outlinewidth": 0,
              "ticks": ""
             }
            },
            "type": "scattercarpet"
           }
          ],
          "scattergeo": [
           {
            "marker": {
             "colorbar": {
              "outlinewidth": 0,
              "ticks": ""
             }
            },
            "type": "scattergeo"
           }
          ],
          "scattergl": [
           {
            "marker": {
             "line": {
              "color": "#283442"
             }
            },
            "type": "scattergl"
           }
          ],
          "scattermapbox": [
           {
            "marker": {
             "colorbar": {
              "outlinewidth": 0,
              "ticks": ""
             }
            },
            "type": "scattermapbox"
           }
          ],
          "scatterpolar": [
           {
            "marker": {
             "colorbar": {
              "outlinewidth": 0,
              "ticks": ""
             }
            },
            "type": "scatterpolar"
           }
          ],
          "scatterpolargl": [
           {
            "marker": {
             "colorbar": {
              "outlinewidth": 0,
              "ticks": ""
             }
            },
            "type": "scatterpolargl"
           }
          ],
          "scatterternary": [
           {
            "marker": {
             "colorbar": {
              "outlinewidth": 0,
              "ticks": ""
             }
            },
            "type": "scatterternary"
           }
          ],
          "surface": [
           {
            "colorbar": {
             "outlinewidth": 0,
             "ticks": ""
            },
            "colorscale": [
             [
              0,
              "#0d0887"
             ],
             [
              0.1111111111111111,
              "#46039f"
             ],
             [
              0.2222222222222222,
              "#7201a8"
             ],
             [
              0.3333333333333333,
              "#9c179e"
             ],
             [
              0.4444444444444444,
              "#bd3786"
             ],
             [
              0.5555555555555556,
              "#d8576b"
             ],
             [
              0.6666666666666666,
              "#ed7953"
             ],
             [
              0.7777777777777778,
              "#fb9f3a"
             ],
             [
              0.8888888888888888,
              "#fdca26"
             ],
             [
              1,
              "#f0f921"
             ]
            ],
            "type": "surface"
           }
          ],
          "table": [
           {
            "cells": {
             "fill": {
              "color": "#506784"
             },
             "line": {
              "color": "rgb(17,17,17)"
             }
            },
            "header": {
             "fill": {
              "color": "#2a3f5f"
             },
             "line": {
              "color": "rgb(17,17,17)"
             }
            },
            "type": "table"
           }
          ]
         },
         "layout": {
          "annotationdefaults": {
           "arrowcolor": "#f2f5fa",
           "arrowhead": 0,
           "arrowwidth": 1
          },
          "autotypenumbers": "strict",
          "coloraxis": {
           "colorbar": {
            "outlinewidth": 0,
            "ticks": ""
           }
          },
          "colorscale": {
           "diverging": [
            [
             0,
             "#8e0152"
            ],
            [
             0.1,
             "#c51b7d"
            ],
            [
             0.2,
             "#de77ae"
            ],
            [
             0.3,
             "#f1b6da"
            ],
            [
             0.4,
             "#fde0ef"
            ],
            [
             0.5,
             "#f7f7f7"
            ],
            [
             0.6,
             "#e6f5d0"
            ],
            [
             0.7,
             "#b8e186"
            ],
            [
             0.8,
             "#7fbc41"
            ],
            [
             0.9,
             "#4d9221"
            ],
            [
             1,
             "#276419"
            ]
           ],
           "sequential": [
            [
             0,
             "#0d0887"
            ],
            [
             0.1111111111111111,
             "#46039f"
            ],
            [
             0.2222222222222222,
             "#7201a8"
            ],
            [
             0.3333333333333333,
             "#9c179e"
            ],
            [
             0.4444444444444444,
             "#bd3786"
            ],
            [
             0.5555555555555556,
             "#d8576b"
            ],
            [
             0.6666666666666666,
             "#ed7953"
            ],
            [
             0.7777777777777778,
             "#fb9f3a"
            ],
            [
             0.8888888888888888,
             "#fdca26"
            ],
            [
             1,
             "#f0f921"
            ]
           ],
           "sequentialminus": [
            [
             0,
             "#0d0887"
            ],
            [
             0.1111111111111111,
             "#46039f"
            ],
            [
             0.2222222222222222,
             "#7201a8"
            ],
            [
             0.3333333333333333,
             "#9c179e"
            ],
            [
             0.4444444444444444,
             "#bd3786"
            ],
            [
             0.5555555555555556,
             "#d8576b"
            ],
            [
             0.6666666666666666,
             "#ed7953"
            ],
            [
             0.7777777777777778,
             "#fb9f3a"
            ],
            [
             0.8888888888888888,
             "#fdca26"
            ],
            [
             1,
             "#f0f921"
            ]
           ]
          },
          "colorway": [
           "#636efa",
           "#EF553B",
           "#00cc96",
           "#ab63fa",
           "#FFA15A",
           "#19d3f3",
           "#FF6692",
           "#B6E880",
           "#FF97FF",
           "#FECB52"
          ],
          "font": {
           "color": "#f2f5fa"
          },
          "geo": {
           "bgcolor": "rgb(17,17,17)",
           "lakecolor": "rgb(17,17,17)",
           "landcolor": "rgb(17,17,17)",
           "showlakes": true,
           "showland": true,
           "subunitcolor": "#506784"
          },
          "hoverlabel": {
           "align": "left"
          },
          "hovermode": "closest",
          "mapbox": {
           "style": "dark"
          },
          "paper_bgcolor": "rgb(17,17,17)",
          "plot_bgcolor": "rgb(17,17,17)",
          "polar": {
           "angularaxis": {
            "gridcolor": "#506784",
            "linecolor": "#506784",
            "ticks": ""
           },
           "bgcolor": "rgb(17,17,17)",
           "radialaxis": {
            "gridcolor": "#506784",
            "linecolor": "#506784",
            "ticks": ""
           }
          },
          "scene": {
           "xaxis": {
            "backgroundcolor": "rgb(17,17,17)",
            "gridcolor": "#506784",
            "gridwidth": 2,
            "linecolor": "#506784",
            "showbackground": true,
            "ticks": "",
            "zerolinecolor": "#C8D4E3"
           },
           "yaxis": {
            "backgroundcolor": "rgb(17,17,17)",
            "gridcolor": "#506784",
            "gridwidth": 2,
            "linecolor": "#506784",
            "showbackground": true,
            "ticks": "",
            "zerolinecolor": "#C8D4E3"
           },
           "zaxis": {
            "backgroundcolor": "rgb(17,17,17)",
            "gridcolor": "#506784",
            "gridwidth": 2,
            "linecolor": "#506784",
            "showbackground": true,
            "ticks": "",
            "zerolinecolor": "#C8D4E3"
           }
          },
          "shapedefaults": {
           "line": {
            "color": "#f2f5fa"
           }
          },
          "sliderdefaults": {
           "bgcolor": "#C8D4E3",
           "bordercolor": "rgb(17,17,17)",
           "borderwidth": 1,
           "tickwidth": 0
          },
          "ternary": {
           "aaxis": {
            "gridcolor": "#506784",
            "linecolor": "#506784",
            "ticks": ""
           },
           "baxis": {
            "gridcolor": "#506784",
            "linecolor": "#506784",
            "ticks": ""
           },
           "bgcolor": "rgb(17,17,17)",
           "caxis": {
            "gridcolor": "#506784",
            "linecolor": "#506784",
            "ticks": ""
           }
          },
          "title": {
           "x": 0.05
          },
          "updatemenudefaults": {
           "bgcolor": "#506784",
           "borderwidth": 0
          },
          "xaxis": {
           "automargin": true,
           "gridcolor": "#283442",
           "linecolor": "#506784",
           "ticks": "",
           "title": {
            "standoff": 15
           },
           "zerolinecolor": "#283442",
           "zerolinewidth": 2
          },
          "yaxis": {
           "automargin": true,
           "gridcolor": "#283442",
           "linecolor": "#506784",
           "ticks": "",
           "title": {
            "standoff": 15
           },
           "zerolinecolor": "#283442",
           "zerolinewidth": 2
          }
         }
        },
        "title": {
         "text": "<b>Yield Curves over the last 6 months</b>"
        },
        "xaxis": {
         "anchor": "y",
         "domain": [
          0,
          0.2888888888888889
         ]
        },
        "xaxis2": {
         "anchor": "y2",
         "domain": [
          0.35555555555555557,
          0.6444444444444445
         ]
        },
        "xaxis3": {
         "anchor": "y3",
         "domain": [
          0.7111111111111111,
          1
         ]
        },
        "xaxis4": {
         "anchor": "y4",
         "domain": [
          0,
          0.2888888888888889
         ]
        },
        "xaxis5": {
         "anchor": "y5",
         "domain": [
          0.35555555555555557,
          0.6444444444444445
         ]
        },
        "xaxis6": {
         "anchor": "y6",
         "domain": [
          0.7111111111111111,
          1
         ]
        },
        "yaxis": {
         "anchor": "x",
         "domain": [
          0.625,
          1
         ],
         "title": {
          "text": ""
         }
        },
        "yaxis2": {
         "anchor": "x2",
         "domain": [
          0.625,
          1
         ]
        },
        "yaxis3": {
         "anchor": "x3",
         "domain": [
          0.625,
          1
         ]
        },
        "yaxis4": {
         "anchor": "x4",
         "domain": [
          0,
          0.375
         ]
        },
        "yaxis5": {
         "anchor": "x5",
         "domain": [
          0,
          0.375
         ]
        },
        "yaxis6": {
         "anchor": "x6",
         "domain": [
          0,
          0.375
         ]
        }
       }
      }
     },
     "metadata": {},
     "output_type": "display_data"
    },
    {
     "data": {
      "application/vnd.plotly.v1+json": {
       "config": {
        "plotlyServerURL": "https://plot.ly"
       },
       "data": [
        {
         "line": {
          "color": "#ef553b",
          "width": 2
         },
         "mode": "lines+markers",
         "name": "Last",
         "type": "scatter",
         "x": [
          0.08333333333333333,
          0.25,
          0.5,
          0.75,
          1,
          2,
          3,
          4,
          5,
          6,
          7,
          8,
          9,
          10,
          15,
          20,
          25,
          30
         ],
         "y": [
          0.2270000000000003,
          0.1759999999999997,
          0.05699999999999994,
          0.20100000000000007,
          0.2110000000000003,
          0.5859999999999999,
          0.7829999999999999,
          1.029,
          1.1320000000000001,
          1.31,
          1.464,
          1.5470000000000002,
          1.674,
          1.7089999999999996,
          1.7579999999999996,
          1.88,
          1.9010000000000002,
          2.048
         ]
        },
        {
         "line": {
          "color": "#6a76f9",
          "dash": "dash"
         },
         "mode": "lines",
         "name": "1mo ago",
         "type": "scatter",
         "x": [
          0.08333333333333333,
          0.25,
          0.5,
          0.75,
          1,
          2,
          3,
          4,
          5,
          6,
          7,
          8,
          9,
          10,
          15,
          20,
          25,
          30
         ],
         "y": [
          0.13800000000000034,
          0.1349999999999998,
          0.2250000000000001,
          0.2250000000000001,
          0.2360000000000002,
          0.5129999999999995,
          0.7439999999999998,
          1.0110000000000001,
          1.125,
          1.299,
          1.4949999999999997,
          1.5630000000000002,
          1.654,
          1.7399999999999993,
          1.7929999999999997,
          1.9410000000000003,
          1.9660000000000002,
          1.8920000000000003
         ]
        },
        {
         "line": {
          "color": "#00cc96",
          "dash": "dash"
         },
         "mode": "lines",
         "name": "6mo ago",
         "type": "scatter",
         "x": [
          0.08333333333333333,
          0.25,
          0.5,
          0.75,
          1,
          2,
          3,
          4,
          5,
          6,
          7,
          8,
          9,
          10,
          15,
          20,
          25,
          30
         ],
         "y": [
          0.09100000000000041,
          -0.34600000000000053,
          0.07200000000000006,
          0.11099999999999977,
          0.4620000000000002,
          0.492,
          0.8040000000000003,
          1.0430000000000001,
          1.3569999999999998,
          1.4490000000000003,
          1.5750000000000002,
          1.803,
          1.895,
          1.9599999999999995,
          1.9660000000000002,
          2.155,
          2.1610000000000005,
          2.155
         ]
        }
       ],
       "layout": {
        "height": 500,
        "template": {
         "data": {
          "bar": [
           {
            "error_x": {
             "color": "#f2f5fa"
            },
            "error_y": {
             "color": "#f2f5fa"
            },
            "marker": {
             "line": {
              "color": "rgb(17,17,17)",
              "width": 0.5
             },
             "pattern": {
              "fillmode": "overlay",
              "size": 10,
              "solidity": 0.2
             }
            },
            "type": "bar"
           }
          ],
          "barpolar": [
           {
            "marker": {
             "line": {
              "color": "rgb(17,17,17)",
              "width": 0.5
             },
             "pattern": {
              "fillmode": "overlay",
              "size": 10,
              "solidity": 0.2
             }
            },
            "type": "barpolar"
           }
          ],
          "carpet": [
           {
            "aaxis": {
             "endlinecolor": "#A2B1C6",
             "gridcolor": "#506784",
             "linecolor": "#506784",
             "minorgridcolor": "#506784",
             "startlinecolor": "#A2B1C6"
            },
            "baxis": {
             "endlinecolor": "#A2B1C6",
             "gridcolor": "#506784",
             "linecolor": "#506784",
             "minorgridcolor": "#506784",
             "startlinecolor": "#A2B1C6"
            },
            "type": "carpet"
           }
          ],
          "choropleth": [
           {
            "colorbar": {
             "outlinewidth": 0,
             "ticks": ""
            },
            "type": "choropleth"
           }
          ],
          "contour": [
           {
            "colorbar": {
             "outlinewidth": 0,
             "ticks": ""
            },
            "colorscale": [
             [
              0,
              "#0d0887"
             ],
             [
              0.1111111111111111,
              "#46039f"
             ],
             [
              0.2222222222222222,
              "#7201a8"
             ],
             [
              0.3333333333333333,
              "#9c179e"
             ],
             [
              0.4444444444444444,
              "#bd3786"
             ],
             [
              0.5555555555555556,
              "#d8576b"
             ],
             [
              0.6666666666666666,
              "#ed7953"
             ],
             [
              0.7777777777777778,
              "#fb9f3a"
             ],
             [
              0.8888888888888888,
              "#fdca26"
             ],
             [
              1,
              "#f0f921"
             ]
            ],
            "type": "contour"
           }
          ],
          "contourcarpet": [
           {
            "colorbar": {
             "outlinewidth": 0,
             "ticks": ""
            },
            "type": "contourcarpet"
           }
          ],
          "heatmap": [
           {
            "colorbar": {
             "outlinewidth": 0,
             "ticks": ""
            },
            "colorscale": [
             [
              0,
              "#0d0887"
             ],
             [
              0.1111111111111111,
              "#46039f"
             ],
             [
              0.2222222222222222,
              "#7201a8"
             ],
             [
              0.3333333333333333,
              "#9c179e"
             ],
             [
              0.4444444444444444,
              "#bd3786"
             ],
             [
              0.5555555555555556,
              "#d8576b"
             ],
             [
              0.6666666666666666,
              "#ed7953"
             ],
             [
              0.7777777777777778,
              "#fb9f3a"
             ],
             [
              0.8888888888888888,
              "#fdca26"
             ],
             [
              1,
              "#f0f921"
             ]
            ],
            "type": "heatmap"
           }
          ],
          "heatmapgl": [
           {
            "colorbar": {
             "outlinewidth": 0,
             "ticks": ""
            },
            "colorscale": [
             [
              0,
              "#0d0887"
             ],
             [
              0.1111111111111111,
              "#46039f"
             ],
             [
              0.2222222222222222,
              "#7201a8"
             ],
             [
              0.3333333333333333,
              "#9c179e"
             ],
             [
              0.4444444444444444,
              "#bd3786"
             ],
             [
              0.5555555555555556,
              "#d8576b"
             ],
             [
              0.6666666666666666,
              "#ed7953"
             ],
             [
              0.7777777777777778,
              "#fb9f3a"
             ],
             [
              0.8888888888888888,
              "#fdca26"
             ],
             [
              1,
              "#f0f921"
             ]
            ],
            "type": "heatmapgl"
           }
          ],
          "histogram": [
           {
            "marker": {
             "pattern": {
              "fillmode": "overlay",
              "size": 10,
              "solidity": 0.2
             }
            },
            "type": "histogram"
           }
          ],
          "histogram2d": [
           {
            "colorbar": {
             "outlinewidth": 0,
             "ticks": ""
            },
            "colorscale": [
             [
              0,
              "#0d0887"
             ],
             [
              0.1111111111111111,
              "#46039f"
             ],
             [
              0.2222222222222222,
              "#7201a8"
             ],
             [
              0.3333333333333333,
              "#9c179e"
             ],
             [
              0.4444444444444444,
              "#bd3786"
             ],
             [
              0.5555555555555556,
              "#d8576b"
             ],
             [
              0.6666666666666666,
              "#ed7953"
             ],
             [
              0.7777777777777778,
              "#fb9f3a"
             ],
             [
              0.8888888888888888,
              "#fdca26"
             ],
             [
              1,
              "#f0f921"
             ]
            ],
            "type": "histogram2d"
           }
          ],
          "histogram2dcontour": [
           {
            "colorbar": {
             "outlinewidth": 0,
             "ticks": ""
            },
            "colorscale": [
             [
              0,
              "#0d0887"
             ],
             [
              0.1111111111111111,
              "#46039f"
             ],
             [
              0.2222222222222222,
              "#7201a8"
             ],
             [
              0.3333333333333333,
              "#9c179e"
             ],
             [
              0.4444444444444444,
              "#bd3786"
             ],
             [
              0.5555555555555556,
              "#d8576b"
             ],
             [
              0.6666666666666666,
              "#ed7953"
             ],
             [
              0.7777777777777778,
              "#fb9f3a"
             ],
             [
              0.8888888888888888,
              "#fdca26"
             ],
             [
              1,
              "#f0f921"
             ]
            ],
            "type": "histogram2dcontour"
           }
          ],
          "mesh3d": [
           {
            "colorbar": {
             "outlinewidth": 0,
             "ticks": ""
            },
            "type": "mesh3d"
           }
          ],
          "parcoords": [
           {
            "line": {
             "colorbar": {
              "outlinewidth": 0,
              "ticks": ""
             }
            },
            "type": "parcoords"
           }
          ],
          "pie": [
           {
            "automargin": true,
            "type": "pie"
           }
          ],
          "scatter": [
           {
            "marker": {
             "line": {
              "color": "#283442"
             }
            },
            "type": "scatter"
           }
          ],
          "scatter3d": [
           {
            "line": {
             "colorbar": {
              "outlinewidth": 0,
              "ticks": ""
             }
            },
            "marker": {
             "colorbar": {
              "outlinewidth": 0,
              "ticks": ""
             }
            },
            "type": "scatter3d"
           }
          ],
          "scattercarpet": [
           {
            "marker": {
             "colorbar": {
              "outlinewidth": 0,
              "ticks": ""
             }
            },
            "type": "scattercarpet"
           }
          ],
          "scattergeo": [
           {
            "marker": {
             "colorbar": {
              "outlinewidth": 0,
              "ticks": ""
             }
            },
            "type": "scattergeo"
           }
          ],
          "scattergl": [
           {
            "marker": {
             "line": {
              "color": "#283442"
             }
            },
            "type": "scattergl"
           }
          ],
          "scattermapbox": [
           {
            "marker": {
             "colorbar": {
              "outlinewidth": 0,
              "ticks": ""
             }
            },
            "type": "scattermapbox"
           }
          ],
          "scatterpolar": [
           {
            "marker": {
             "colorbar": {
              "outlinewidth": 0,
              "ticks": ""
             }
            },
            "type": "scatterpolar"
           }
          ],
          "scatterpolargl": [
           {
            "marker": {
             "colorbar": {
              "outlinewidth": 0,
              "ticks": ""
             }
            },
            "type": "scatterpolargl"
           }
          ],
          "scatterternary": [
           {
            "marker": {
             "colorbar": {
              "outlinewidth": 0,
              "ticks": ""
             }
            },
            "type": "scatterternary"
           }
          ],
          "surface": [
           {
            "colorbar": {
             "outlinewidth": 0,
             "ticks": ""
            },
            "colorscale": [
             [
              0,
              "#0d0887"
             ],
             [
              0.1111111111111111,
              "#46039f"
             ],
             [
              0.2222222222222222,
              "#7201a8"
             ],
             [
              0.3333333333333333,
              "#9c179e"
             ],
             [
              0.4444444444444444,
              "#bd3786"
             ],
             [
              0.5555555555555556,
              "#d8576b"
             ],
             [
              0.6666666666666666,
              "#ed7953"
             ],
             [
              0.7777777777777778,
              "#fb9f3a"
             ],
             [
              0.8888888888888888,
              "#fdca26"
             ],
             [
              1,
              "#f0f921"
             ]
            ],
            "type": "surface"
           }
          ],
          "table": [
           {
            "cells": {
             "fill": {
              "color": "#506784"
             },
             "line": {
              "color": "rgb(17,17,17)"
             }
            },
            "header": {
             "fill": {
              "color": "#2a3f5f"
             },
             "line": {
              "color": "rgb(17,17,17)"
             }
            },
            "type": "table"
           }
          ]
         },
         "layout": {
          "annotationdefaults": {
           "arrowcolor": "#f2f5fa",
           "arrowhead": 0,
           "arrowwidth": 1
          },
          "autotypenumbers": "strict",
          "coloraxis": {
           "colorbar": {
            "outlinewidth": 0,
            "ticks": ""
           }
          },
          "colorscale": {
           "diverging": [
            [
             0,
             "#8e0152"
            ],
            [
             0.1,
             "#c51b7d"
            ],
            [
             0.2,
             "#de77ae"
            ],
            [
             0.3,
             "#f1b6da"
            ],
            [
             0.4,
             "#fde0ef"
            ],
            [
             0.5,
             "#f7f7f7"
            ],
            [
             0.6,
             "#e6f5d0"
            ],
            [
             0.7,
             "#b8e186"
            ],
            [
             0.8,
             "#7fbc41"
            ],
            [
             0.9,
             "#4d9221"
            ],
            [
             1,
             "#276419"
            ]
           ],
           "sequential": [
            [
             0,
             "#0d0887"
            ],
            [
             0.1111111111111111,
             "#46039f"
            ],
            [
             0.2222222222222222,
             "#7201a8"
            ],
            [
             0.3333333333333333,
             "#9c179e"
            ],
            [
             0.4444444444444444,
             "#bd3786"
            ],
            [
             0.5555555555555556,
             "#d8576b"
            ],
            [
             0.6666666666666666,
             "#ed7953"
            ],
            [
             0.7777777777777778,
             "#fb9f3a"
            ],
            [
             0.8888888888888888,
             "#fdca26"
            ],
            [
             1,
             "#f0f921"
            ]
           ],
           "sequentialminus": [
            [
             0,
             "#0d0887"
            ],
            [
             0.1111111111111111,
             "#46039f"
            ],
            [
             0.2222222222222222,
             "#7201a8"
            ],
            [
             0.3333333333333333,
             "#9c179e"
            ],
            [
             0.4444444444444444,
             "#bd3786"
            ],
            [
             0.5555555555555556,
             "#d8576b"
            ],
            [
             0.6666666666666666,
             "#ed7953"
            ],
            [
             0.7777777777777778,
             "#fb9f3a"
            ],
            [
             0.8888888888888888,
             "#fdca26"
            ],
            [
             1,
             "#f0f921"
            ]
           ]
          },
          "colorway": [
           "#636efa",
           "#EF553B",
           "#00cc96",
           "#ab63fa",
           "#FFA15A",
           "#19d3f3",
           "#FF6692",
           "#B6E880",
           "#FF97FF",
           "#FECB52"
          ],
          "font": {
           "color": "#f2f5fa"
          },
          "geo": {
           "bgcolor": "rgb(17,17,17)",
           "lakecolor": "rgb(17,17,17)",
           "landcolor": "rgb(17,17,17)",
           "showlakes": true,
           "showland": true,
           "subunitcolor": "#506784"
          },
          "hoverlabel": {
           "align": "left"
          },
          "hovermode": "closest",
          "mapbox": {
           "style": "dark"
          },
          "paper_bgcolor": "rgb(17,17,17)",
          "plot_bgcolor": "rgb(17,17,17)",
          "polar": {
           "angularaxis": {
            "gridcolor": "#506784",
            "linecolor": "#506784",
            "ticks": ""
           },
           "bgcolor": "rgb(17,17,17)",
           "radialaxis": {
            "gridcolor": "#506784",
            "linecolor": "#506784",
            "ticks": ""
           }
          },
          "scene": {
           "xaxis": {
            "backgroundcolor": "rgb(17,17,17)",
            "gridcolor": "#506784",
            "gridwidth": 2,
            "linecolor": "#506784",
            "showbackground": true,
            "ticks": "",
            "zerolinecolor": "#C8D4E3"
           },
           "yaxis": {
            "backgroundcolor": "rgb(17,17,17)",
            "gridcolor": "#506784",
            "gridwidth": 2,
            "linecolor": "#506784",
            "showbackground": true,
            "ticks": "",
            "zerolinecolor": "#C8D4E3"
           },
           "zaxis": {
            "backgroundcolor": "rgb(17,17,17)",
            "gridcolor": "#506784",
            "gridwidth": 2,
            "linecolor": "#506784",
            "showbackground": true,
            "ticks": "",
            "zerolinecolor": "#C8D4E3"
           }
          },
          "shapedefaults": {
           "line": {
            "color": "#f2f5fa"
           }
          },
          "sliderdefaults": {
           "bgcolor": "#C8D4E3",
           "bordercolor": "rgb(17,17,17)",
           "borderwidth": 1,
           "tickwidth": 0
          },
          "ternary": {
           "aaxis": {
            "gridcolor": "#506784",
            "linecolor": "#506784",
            "ticks": ""
           },
           "baxis": {
            "gridcolor": "#506784",
            "linecolor": "#506784",
            "ticks": ""
           },
           "bgcolor": "rgb(17,17,17)",
           "caxis": {
            "gridcolor": "#506784",
            "linecolor": "#506784",
            "ticks": ""
           }
          },
          "title": {
           "x": 0.05
          },
          "updatemenudefaults": {
           "bgcolor": "#506784",
           "borderwidth": 0
          },
          "xaxis": {
           "automargin": true,
           "gridcolor": "#283442",
           "linecolor": "#506784",
           "ticks": "",
           "title": {
            "standoff": 15
           },
           "zerolinecolor": "#283442",
           "zerolinewidth": 2
          },
          "yaxis": {
           "automargin": true,
           "gridcolor": "#283442",
           "linecolor": "#506784",
           "ticks": "",
           "title": {
            "standoff": 15
           },
           "zerolinecolor": "#283442",
           "zerolinewidth": 2
          }
         }
        },
        "title": {
         "text": "<b>Spread between Italian and German Yield Curves over the last 6 months</b>"
        },
        "yaxis": {
         "title": {
          "text": "$y_t^{\\text{IT}} - y_t^{\\text{DE}}$"
         }
        }
       }
      }
     },
     "metadata": {},
     "output_type": "display_data"
    },
    {
     "data": {
      "application/vnd.plotly.v1+json": {
       "config": {
        "plotlyServerURL": "https://plot.ly"
       },
       "data": [
        {
         "type": "scatter",
         "x": [
          "2023-01-09T00:00:00",
          "2023-01-10T00:00:00",
          "2023-01-11T00:00:00",
          "2023-01-12T00:00:00",
          "2023-01-13T00:00:00",
          "2023-01-16T00:00:00",
          "2023-01-17T00:00:00",
          "2023-01-18T00:00:00",
          "2023-01-19T00:00:00",
          "2023-01-20T00:00:00",
          "2023-01-23T00:00:00",
          "2023-01-24T00:00:00",
          "2023-01-25T00:00:00",
          "2023-01-26T00:00:00",
          "2023-01-27T00:00:00",
          "2023-01-30T00:00:00",
          "2023-01-31T00:00:00",
          "2023-02-01T00:00:00",
          "2023-02-02T00:00:00",
          "2023-02-03T00:00:00",
          "2023-02-06T00:00:00",
          "2023-02-07T00:00:00",
          "2023-02-08T00:00:00",
          "2023-02-09T00:00:00",
          "2023-02-10T00:00:00",
          "2023-02-13T00:00:00",
          "2023-02-14T00:00:00",
          "2023-02-15T00:00:00",
          "2023-02-16T00:00:00",
          "2023-02-17T00:00:00",
          "2023-02-20T00:00:00",
          "2023-02-21T00:00:00",
          "2023-02-22T00:00:00",
          "2023-02-23T00:00:00",
          "2023-02-24T00:00:00",
          "2023-02-27T00:00:00",
          "2023-02-28T00:00:00",
          "2023-03-01T00:00:00",
          "2023-03-02T00:00:00",
          "2023-03-03T00:00:00",
          "2023-03-06T00:00:00",
          "2023-03-07T00:00:00",
          "2023-03-08T00:00:00",
          "2023-03-09T00:00:00",
          "2023-03-10T00:00:00",
          "2023-03-13T00:00:00",
          "2023-03-14T00:00:00",
          "2023-03-15T00:00:00",
          "2023-03-16T00:00:00",
          "2023-03-17T00:00:00",
          "2023-03-20T00:00:00",
          "2023-03-21T00:00:00",
          "2023-03-22T00:00:00",
          "2023-03-23T00:00:00",
          "2023-03-24T00:00:00",
          "2023-03-27T00:00:00",
          "2023-03-28T00:00:00",
          "2023-03-29T00:00:00",
          "2023-03-30T00:00:00",
          "2023-03-31T00:00:00",
          "2023-04-03T00:00:00",
          "2023-04-04T00:00:00",
          "2023-04-05T00:00:00",
          "2023-04-06T00:00:00",
          "2023-04-07T00:00:00",
          "2023-04-10T00:00:00",
          "2023-04-11T00:00:00",
          "2023-04-12T00:00:00",
          "2023-04-13T00:00:00",
          "2023-04-14T00:00:00",
          "2023-04-17T00:00:00",
          "2023-04-18T00:00:00",
          "2023-04-19T00:00:00",
          "2023-04-20T00:00:00",
          "2023-04-21T00:00:00",
          "2023-04-24T00:00:00",
          "2023-04-25T00:00:00",
          "2023-04-26T00:00:00",
          "2023-04-27T00:00:00",
          "2023-04-28T00:00:00",
          "2023-05-01T00:00:00",
          "2023-05-02T00:00:00",
          "2023-05-03T00:00:00",
          "2023-05-04T00:00:00",
          "2023-05-05T00:00:00",
          "2023-05-08T00:00:00",
          "2023-05-09T00:00:00",
          "2023-05-10T00:00:00",
          "2023-05-11T00:00:00",
          "2023-05-12T00:00:00",
          "2023-05-15T00:00:00",
          "2023-05-16T00:00:00",
          "2023-05-17T00:00:00",
          "2023-05-18T00:00:00",
          "2023-05-19T00:00:00",
          "2023-05-22T00:00:00",
          "2023-05-23T00:00:00",
          "2023-05-24T00:00:00",
          "2023-05-25T00:00:00",
          "2023-05-26T00:00:00",
          "2023-05-29T00:00:00",
          "2023-05-30T00:00:00",
          "2023-05-31T00:00:00",
          "2023-06-01T00:00:00",
          "2023-06-02T00:00:00",
          "2023-06-05T00:00:00",
          "2023-06-06T00:00:00",
          "2023-06-07T00:00:00",
          "2023-06-08T00:00:00",
          "2023-06-09T00:00:00",
          "2023-06-12T00:00:00",
          "2023-06-13T00:00:00",
          "2023-06-14T00:00:00",
          "2023-06-15T00:00:00",
          "2023-06-16T00:00:00",
          "2023-06-19T00:00:00",
          "2023-06-20T00:00:00",
          "2023-06-21T00:00:00",
          "2023-06-22T00:00:00",
          "2023-06-23T00:00:00",
          "2023-06-26T00:00:00",
          "2023-06-27T00:00:00",
          "2023-06-28T00:00:00",
          "2023-06-29T00:00:00",
          "2023-06-30T00:00:00",
          "2023-07-03T00:00:00",
          "2023-07-04T00:00:00",
          "2023-07-05T00:00:00",
          "2023-07-06T00:00:00",
          "2023-07-07T00:00:00"
         ],
         "xaxis": "x",
         "y": [
          null,
          25365,
          25547,
          25734,
          25783,
          25901,
          25981,
          26052,
          25596,
          25776,
          25821,
          25884,
          25875,
          26218,
          26436,
          26336,
          26600,
          26704,
          27101,
          26951,
          27022,
          27119,
          27161,
          27504,
          27268,
          27439,
          27498,
          27534,
          27854,
          27751,
          27597,
          27409,
          27102,
          27278,
          26986,
          27444,
          27478,
          27315,
          27398,
          27825,
          27949,
          27762,
          27912,
          27711,
          27282,
          26184,
          26801,
          25566,
          25919,
          25495,
          25900,
          26554,
          26523,
          26482,
          25892,
          26207,
          26329,
          26739,
          27021,
          27114,
          27179,
          27027,
          26867,
          27214,
          27214,
          27214,
          27526,
          27629,
          27627,
          27872,
          27700,
          27891,
          27934,
          27627,
          27746,
          27537,
          27253,
          27108,
          27158,
          27077,
          27077,
          26630,
          26835,
          26670,
          27349,
          27426,
          27384,
          27265,
          27099,
          27347,
          27245,
          27199,
          27196,
          27236,
          27520,
          27311,
          27175,
          26525,
          26408,
          26713,
          26617,
          26576,
          26051,
          26576,
          27068,
          26857,
          27037,
          27056,
          27275,
          27162,
          27410,
          27566,
          27809,
          27732,
          27862,
          27754,
          27576,
          27609,
          27410,
          27210,
          27243,
          27401,
          27637,
          27928,
          28231,
          28447,
          28387,
          28220,
          27507,
          27778
         ],
         "yaxis": "y"
        },
        {
         "type": "scatter",
         "x": [
          "2023-01-09T00:00:00",
          "2023-01-10T00:00:00",
          "2023-01-11T00:00:00",
          "2023-01-12T00:00:00",
          "2023-01-13T00:00:00",
          "2023-01-16T00:00:00",
          "2023-01-17T00:00:00",
          "2023-01-18T00:00:00",
          "2023-01-19T00:00:00",
          "2023-01-20T00:00:00",
          "2023-01-23T00:00:00",
          "2023-01-24T00:00:00",
          "2023-01-25T00:00:00",
          "2023-01-26T00:00:00",
          "2023-01-27T00:00:00",
          "2023-01-30T00:00:00",
          "2023-01-31T00:00:00",
          "2023-02-01T00:00:00",
          "2023-02-02T00:00:00",
          "2023-02-03T00:00:00",
          "2023-02-06T00:00:00",
          "2023-02-07T00:00:00",
          "2023-02-08T00:00:00",
          "2023-02-09T00:00:00",
          "2023-02-10T00:00:00",
          "2023-02-13T00:00:00",
          "2023-02-14T00:00:00",
          "2023-02-15T00:00:00",
          "2023-02-16T00:00:00",
          "2023-02-17T00:00:00",
          "2023-02-20T00:00:00",
          "2023-02-21T00:00:00",
          "2023-02-22T00:00:00",
          "2023-02-23T00:00:00",
          "2023-02-24T00:00:00",
          "2023-02-27T00:00:00",
          "2023-02-28T00:00:00",
          "2023-03-01T00:00:00",
          "2023-03-02T00:00:00",
          "2023-03-03T00:00:00",
          "2023-03-06T00:00:00",
          "2023-03-07T00:00:00",
          "2023-03-08T00:00:00",
          "2023-03-09T00:00:00",
          "2023-03-10T00:00:00",
          "2023-03-13T00:00:00",
          "2023-03-14T00:00:00",
          "2023-03-15T00:00:00",
          "2023-03-16T00:00:00",
          "2023-03-17T00:00:00",
          "2023-03-20T00:00:00",
          "2023-03-21T00:00:00",
          "2023-03-22T00:00:00",
          "2023-03-23T00:00:00",
          "2023-03-24T00:00:00",
          "2023-03-27T00:00:00",
          "2023-03-28T00:00:00",
          "2023-03-29T00:00:00",
          "2023-03-30T00:00:00",
          "2023-03-31T00:00:00",
          "2023-04-03T00:00:00",
          "2023-04-04T00:00:00",
          "2023-04-05T00:00:00",
          "2023-04-06T00:00:00",
          "2023-04-07T00:00:00",
          "2023-04-10T00:00:00",
          "2023-04-11T00:00:00",
          "2023-04-12T00:00:00",
          "2023-04-13T00:00:00",
          "2023-04-14T00:00:00",
          "2023-04-17T00:00:00",
          "2023-04-18T00:00:00",
          "2023-04-19T00:00:00",
          "2023-04-20T00:00:00",
          "2023-04-21T00:00:00",
          "2023-04-24T00:00:00",
          "2023-04-25T00:00:00",
          "2023-04-26T00:00:00",
          "2023-04-27T00:00:00",
          "2023-04-28T00:00:00",
          "2023-05-01T00:00:00",
          "2023-05-02T00:00:00",
          "2023-05-03T00:00:00",
          "2023-05-04T00:00:00",
          "2023-05-05T00:00:00",
          "2023-05-08T00:00:00",
          "2023-05-09T00:00:00",
          "2023-05-10T00:00:00",
          "2023-05-11T00:00:00",
          "2023-05-12T00:00:00",
          "2023-05-15T00:00:00",
          "2023-05-16T00:00:00",
          "2023-05-17T00:00:00",
          "2023-05-18T00:00:00",
          "2023-05-19T00:00:00",
          "2023-05-22T00:00:00",
          "2023-05-23T00:00:00",
          "2023-05-24T00:00:00",
          "2023-05-25T00:00:00",
          "2023-05-26T00:00:00",
          "2023-05-29T00:00:00",
          "2023-05-30T00:00:00",
          "2023-05-31T00:00:00",
          "2023-06-01T00:00:00",
          "2023-06-02T00:00:00",
          "2023-06-05T00:00:00",
          "2023-06-06T00:00:00",
          "2023-06-07T00:00:00",
          "2023-06-08T00:00:00",
          "2023-06-09T00:00:00",
          "2023-06-12T00:00:00",
          "2023-06-13T00:00:00",
          "2023-06-14T00:00:00",
          "2023-06-15T00:00:00",
          "2023-06-16T00:00:00",
          "2023-06-19T00:00:00",
          "2023-06-20T00:00:00",
          "2023-06-21T00:00:00",
          "2023-06-22T00:00:00",
          "2023-06-23T00:00:00",
          "2023-06-26T00:00:00",
          "2023-06-27T00:00:00",
          "2023-06-28T00:00:00",
          "2023-06-29T00:00:00",
          "2023-06-30T00:00:00",
          "2023-07-03T00:00:00",
          "2023-07-04T00:00:00",
          "2023-07-05T00:00:00",
          "2023-07-06T00:00:00",
          "2023-07-07T00:00:00"
         ],
         "xaxis": "x2",
         "y": [
          null,
          14774.599609375,
          14947.91015625,
          15058.2998046875,
          15086.51953125,
          15134.0400390625,
          15187.0703125,
          15181.7998046875,
          14920.3603515625,
          15033.5595703125,
          15102.9501953125,
          15093.1103515625,
          15081.6396484375,
          15132.849609375,
          15150.0302734375,
          15126.080078125,
          15128.26953125,
          15180.740234375,
          15509.1904296875,
          15476.4296875,
          15345.91015625,
          15320.8798828125,
          15412.0498046875,
          15523.419921875,
          15307.98046875,
          15397.33984375,
          15380.5595703125,
          15506.33984375,
          15533.6396484375,
          15482,
          15477.5498046875,
          15397.6201171875,
          15399.8896484375,
          15475.6904296875,
          15209.740234375,
          15381.4296875,
          15365.1396484375,
          15305.01953125,
          15327.6396484375,
          15578.3896484375,
          15653.580078125,
          15559.5302734375,
          15631.8701171875,
          15633.2099609375,
          15427.9697265625,
          14959.4697265625,
          15232.830078125,
          14735.259765625,
          14967.099609375,
          14768.2001953125,
          14933.3798828125,
          15195.33984375,
          15216.1904296875,
          15210.3896484375,
          14957.23046875,
          15127.6796875,
          15142.01953125,
          15328.7802734375,
          15522.400390625,
          15628.83984375,
          15580.919921875,
          15603.4697265625,
          15520.169921875,
          15597.8896484375,
          15597.8896484375,
          15597.8896484375,
          15655.169921875,
          15703.599609375,
          15729.4599609375,
          15807.5,
          15789.5302734375,
          15882.669921875,
          15895.2001953125,
          15795.9697265625,
          15881.66015625,
          15863.9501953125,
          15872.1298828125,
          15795.73046875,
          15800.4501953125,
          15922.3798828125,
          15922.3798828125,
          15726.9404296875,
          15815.0595703125,
          15734.240234375,
          15961.01953125,
          15952.830078125,
          15955.48046875,
          15896.23046875,
          15834.91015625,
          15913.8203125,
          15917.240234375,
          15897.9296875,
          15951.2998046875,
          16163.3603515625,
          16275.3798828125,
          16223.990234375,
          16152.8603515625,
          15842.1298828125,
          15793.7998046875,
          15983.9697265625,
          15952.73046875,
          15908.91015625,
          15664.01953125,
          15853.66015625,
          16051.23046875,
          15963.8896484375,
          15992.4404296875,
          15960.5595703125,
          15989.9599609375,
          15949.83984375,
          16097.8701171875,
          16230.6796875,
          16310.7900390625,
          16290.1201171875,
          16357.6298828125,
          16201.2001953125,
          16111.3203125,
          16023.1298828125,
          15988.16015625,
          15829.9404296875,
          15813.0595703125,
          15846.8603515625,
          15949,
          15946.7197265625,
          16147.900390625,
          16081.0400390625,
          16039.169921875,
          15937.580078125,
          15528.5400390625,
          15603.400390625
         ],
         "yaxis": "y2"
        },
        {
         "type": "scatter",
         "x": [
          "2023-01-09T00:00:00",
          "2023-01-10T00:00:00",
          "2023-01-11T00:00:00",
          "2023-01-12T00:00:00",
          "2023-01-13T00:00:00",
          "2023-01-16T00:00:00",
          "2023-01-17T00:00:00",
          "2023-01-18T00:00:00",
          "2023-01-19T00:00:00",
          "2023-01-20T00:00:00",
          "2023-01-23T00:00:00",
          "2023-01-24T00:00:00",
          "2023-01-25T00:00:00",
          "2023-01-26T00:00:00",
          "2023-01-27T00:00:00",
          "2023-01-30T00:00:00",
          "2023-01-31T00:00:00",
          "2023-02-01T00:00:00",
          "2023-02-02T00:00:00",
          "2023-02-03T00:00:00",
          "2023-02-06T00:00:00",
          "2023-02-07T00:00:00",
          "2023-02-08T00:00:00",
          "2023-02-09T00:00:00",
          "2023-02-10T00:00:00",
          "2023-02-13T00:00:00",
          "2023-02-14T00:00:00",
          "2023-02-15T00:00:00",
          "2023-02-16T00:00:00",
          "2023-02-17T00:00:00",
          "2023-02-20T00:00:00",
          "2023-02-21T00:00:00",
          "2023-02-22T00:00:00",
          "2023-02-23T00:00:00",
          "2023-02-24T00:00:00",
          "2023-02-27T00:00:00",
          "2023-02-28T00:00:00",
          "2023-03-01T00:00:00",
          "2023-03-02T00:00:00",
          "2023-03-03T00:00:00",
          "2023-03-06T00:00:00",
          "2023-03-07T00:00:00",
          "2023-03-08T00:00:00",
          "2023-03-09T00:00:00",
          "2023-03-10T00:00:00",
          "2023-03-13T00:00:00",
          "2023-03-14T00:00:00",
          "2023-03-15T00:00:00",
          "2023-03-16T00:00:00",
          "2023-03-17T00:00:00",
          "2023-03-20T00:00:00",
          "2023-03-21T00:00:00",
          "2023-03-22T00:00:00",
          "2023-03-23T00:00:00",
          "2023-03-24T00:00:00",
          "2023-03-27T00:00:00",
          "2023-03-28T00:00:00",
          "2023-03-29T00:00:00",
          "2023-03-30T00:00:00",
          "2023-03-31T00:00:00",
          "2023-04-03T00:00:00",
          "2023-04-04T00:00:00",
          "2023-04-05T00:00:00",
          "2023-04-06T00:00:00",
          "2023-04-07T00:00:00",
          "2023-04-10T00:00:00",
          "2023-04-11T00:00:00",
          "2023-04-12T00:00:00",
          "2023-04-13T00:00:00",
          "2023-04-14T00:00:00",
          "2023-04-17T00:00:00",
          "2023-04-18T00:00:00",
          "2023-04-19T00:00:00",
          "2023-04-20T00:00:00",
          "2023-04-21T00:00:00",
          "2023-04-24T00:00:00",
          "2023-04-25T00:00:00",
          "2023-04-26T00:00:00",
          "2023-04-27T00:00:00",
          "2023-04-28T00:00:00",
          "2023-05-01T00:00:00",
          "2023-05-02T00:00:00",
          "2023-05-03T00:00:00",
          "2023-05-04T00:00:00",
          "2023-05-05T00:00:00",
          "2023-05-08T00:00:00",
          "2023-05-09T00:00:00",
          "2023-05-10T00:00:00",
          "2023-05-11T00:00:00",
          "2023-05-12T00:00:00",
          "2023-05-15T00:00:00",
          "2023-05-16T00:00:00",
          "2023-05-17T00:00:00",
          "2023-05-18T00:00:00",
          "2023-05-19T00:00:00",
          "2023-05-22T00:00:00",
          "2023-05-23T00:00:00",
          "2023-05-24T00:00:00",
          "2023-05-25T00:00:00",
          "2023-05-26T00:00:00",
          "2023-05-29T00:00:00",
          "2023-05-30T00:00:00",
          "2023-05-31T00:00:00",
          "2023-06-01T00:00:00",
          "2023-06-02T00:00:00",
          "2023-06-05T00:00:00",
          "2023-06-06T00:00:00",
          "2023-06-07T00:00:00",
          "2023-06-08T00:00:00",
          "2023-06-09T00:00:00",
          "2023-06-12T00:00:00",
          "2023-06-13T00:00:00",
          "2023-06-14T00:00:00",
          "2023-06-15T00:00:00",
          "2023-06-16T00:00:00",
          "2023-06-19T00:00:00",
          "2023-06-20T00:00:00",
          "2023-06-21T00:00:00",
          "2023-06-22T00:00:00",
          "2023-06-23T00:00:00",
          "2023-06-26T00:00:00",
          "2023-06-27T00:00:00",
          "2023-06-28T00:00:00",
          "2023-06-29T00:00:00",
          "2023-06-30T00:00:00",
          "2023-07-03T00:00:00",
          "2023-07-04T00:00:00",
          "2023-07-05T00:00:00",
          "2023-07-06T00:00:00",
          "2023-07-07T00:00:00"
         ],
         "xaxis": "x3",
         "y": [
          7724.89990234375,
          7694.5,
          7725,
          7794,
          7844.10009765625,
          7860.10009765625,
          7851,
          7830.7001953125,
          7747.2998046875,
          7770.60009765625,
          7784.7001953125,
          7757.39990234375,
          7744.89990234375,
          7761.10009765625,
          7765.2001953125,
          7784.89990234375,
          7771.7001953125,
          7761.10009765625,
          7820.2001953125,
          7901.7998046875,
          7836.7001953125,
          7864.7001953125,
          7885.2001953125,
          7911.2001953125,
          7882.5,
          7947.60009765625,
          7953.89990234375,
          7997.7998046875,
          8012.5,
          8004.39990234375,
          8014.2998046875,
          7977.7998046875,
          7930.60009765625,
          7907.7001953125,
          7878.7001953125,
          7935.10009765625,
          7876.2998046875,
          7914.89990234375,
          7944,
          7947.10009765625,
          7929.7998046875,
          7919.5,
          7929.89990234375,
          7880,
          7748.39990234375,
          7548.60009765625,
          7637.10009765625,
          7344.5,
          7410,
          7335.39990234375,
          7403.89990234375,
          7536.2001953125,
          7566.7998046875,
          7499.60009765625,
          7405.5,
          7471.7998046875,
          7484.2998046875,
          7564.2998046875,
          7620.39990234375,
          7631.7001953125,
          7673,
          7634.5,
          7662.89990234375,
          7741.60009765625,
          7741.60009765625,
          7741.60009765625,
          7785.7001953125,
          7824.7998046875,
          7843.39990234375,
          7871.89990234375,
          7879.5,
          7909.39990234375,
          7898.7998046875,
          7902.60009765625,
          7914.10009765625,
          7912.2001953125,
          7891.10009765625,
          7852.60009765625,
          7831.60009765625,
          7870.60009765625,
          7870.60009765625,
          7773,
          7788.39990234375,
          7702.60009765625,
          7778.39990234375,
          7778.39990234375,
          7764.10009765625,
          7741.2998046875,
          7730.60009765625,
          7754.60009765625,
          7777.7001953125,
          7751.10009765625,
          7723.2001953125,
          7742.2998046875,
          7756.89990234375,
          7771,
          7763,
          7627.10009765625,
          7570.89990234375,
          7627.2001953125,
          7627.2001953125,
          7522.10009765625,
          7446.10009765625,
          7490.2998046875,
          7607.2998046875,
          7600,
          7628.10009765625,
          7624.2998046875,
          7599.7001953125,
          7562.39990234375,
          7570.7001953125,
          7594.7998046875,
          7602.7001953125,
          7628.2998046875,
          7642.7001953125,
          7588.5,
          7569.2998046875,
          7559.2001953125,
          7502,
          7461.89990234375,
          7453.60009765625,
          7461.5,
          7500.5,
          7471.7001953125,
          7531.5,
          7527.2998046875,
          7519.7001953125,
          7442.10009765625,
          7280.5,
          7256.89990234375
         ],
         "yaxis": "y3"
        },
        {
         "type": "scatter",
         "x": [
          "2023-01-09T00:00:00",
          "2023-01-10T00:00:00",
          "2023-01-11T00:00:00",
          "2023-01-12T00:00:00",
          "2023-01-13T00:00:00",
          "2023-01-16T00:00:00",
          "2023-01-17T00:00:00",
          "2023-01-18T00:00:00",
          "2023-01-19T00:00:00",
          "2023-01-20T00:00:00",
          "2023-01-23T00:00:00",
          "2023-01-24T00:00:00",
          "2023-01-25T00:00:00",
          "2023-01-26T00:00:00",
          "2023-01-27T00:00:00",
          "2023-01-30T00:00:00",
          "2023-01-31T00:00:00",
          "2023-02-01T00:00:00",
          "2023-02-02T00:00:00",
          "2023-02-03T00:00:00",
          "2023-02-06T00:00:00",
          "2023-02-07T00:00:00",
          "2023-02-08T00:00:00",
          "2023-02-09T00:00:00",
          "2023-02-10T00:00:00",
          "2023-02-13T00:00:00",
          "2023-02-14T00:00:00",
          "2023-02-15T00:00:00",
          "2023-02-16T00:00:00",
          "2023-02-17T00:00:00",
          "2023-02-20T00:00:00",
          "2023-02-21T00:00:00",
          "2023-02-22T00:00:00",
          "2023-02-23T00:00:00",
          "2023-02-24T00:00:00",
          "2023-02-27T00:00:00",
          "2023-02-28T00:00:00",
          "2023-03-01T00:00:00",
          "2023-03-02T00:00:00",
          "2023-03-03T00:00:00",
          "2023-03-06T00:00:00",
          "2023-03-07T00:00:00",
          "2023-03-08T00:00:00",
          "2023-03-09T00:00:00",
          "2023-03-10T00:00:00",
          "2023-03-13T00:00:00",
          "2023-03-14T00:00:00",
          "2023-03-15T00:00:00",
          "2023-03-16T00:00:00",
          "2023-03-17T00:00:00",
          "2023-03-20T00:00:00",
          "2023-03-21T00:00:00",
          "2023-03-22T00:00:00",
          "2023-03-23T00:00:00",
          "2023-03-24T00:00:00",
          "2023-03-27T00:00:00",
          "2023-03-28T00:00:00",
          "2023-03-29T00:00:00",
          "2023-03-30T00:00:00",
          "2023-03-31T00:00:00",
          "2023-04-03T00:00:00",
          "2023-04-04T00:00:00",
          "2023-04-05T00:00:00",
          "2023-04-06T00:00:00",
          "2023-04-07T00:00:00",
          "2023-04-10T00:00:00",
          "2023-04-11T00:00:00",
          "2023-04-12T00:00:00",
          "2023-04-13T00:00:00",
          "2023-04-14T00:00:00",
          "2023-04-17T00:00:00",
          "2023-04-18T00:00:00",
          "2023-04-19T00:00:00",
          "2023-04-20T00:00:00",
          "2023-04-21T00:00:00",
          "2023-04-24T00:00:00",
          "2023-04-25T00:00:00",
          "2023-04-26T00:00:00",
          "2023-04-27T00:00:00",
          "2023-04-28T00:00:00",
          "2023-05-01T00:00:00",
          "2023-05-02T00:00:00",
          "2023-05-03T00:00:00",
          "2023-05-04T00:00:00",
          "2023-05-05T00:00:00",
          "2023-05-08T00:00:00",
          "2023-05-09T00:00:00",
          "2023-05-10T00:00:00",
          "2023-05-11T00:00:00",
          "2023-05-12T00:00:00",
          "2023-05-15T00:00:00",
          "2023-05-16T00:00:00",
          "2023-05-17T00:00:00",
          "2023-05-18T00:00:00",
          "2023-05-19T00:00:00",
          "2023-05-22T00:00:00",
          "2023-05-23T00:00:00",
          "2023-05-24T00:00:00",
          "2023-05-25T00:00:00",
          "2023-05-26T00:00:00",
          "2023-05-29T00:00:00",
          "2023-05-30T00:00:00",
          "2023-05-31T00:00:00",
          "2023-06-01T00:00:00",
          "2023-06-02T00:00:00",
          "2023-06-05T00:00:00",
          "2023-06-06T00:00:00",
          "2023-06-07T00:00:00",
          "2023-06-08T00:00:00",
          "2023-06-09T00:00:00",
          "2023-06-12T00:00:00",
          "2023-06-13T00:00:00",
          "2023-06-14T00:00:00",
          "2023-06-15T00:00:00",
          "2023-06-16T00:00:00",
          "2023-06-19T00:00:00",
          "2023-06-20T00:00:00",
          "2023-06-21T00:00:00",
          "2023-06-22T00:00:00",
          "2023-06-23T00:00:00",
          "2023-06-26T00:00:00",
          "2023-06-27T00:00:00",
          "2023-06-28T00:00:00",
          "2023-06-29T00:00:00",
          "2023-06-30T00:00:00",
          "2023-07-03T00:00:00",
          "2023-07-04T00:00:00",
          "2023-07-05T00:00:00",
          "2023-07-06T00:00:00",
          "2023-07-07T00:00:00"
         ],
         "xaxis": "x4",
         "y": [
          3892.090087890625,
          3919.25,
          3969.610107421875,
          3983.169921875,
          3999.090087890625,
          3999.090087890625,
          3990.969970703125,
          3928.860107421875,
          3898.85009765625,
          3972.610107421875,
          4019.81005859375,
          4016.949951171875,
          4016.219970703125,
          4060.429931640625,
          4070.56005859375,
          4017.77001953125,
          4076.60009765625,
          4119.2099609375,
          4179.759765625,
          4136.47998046875,
          4111.080078125,
          4164,
          4117.85986328125,
          4081.5,
          4090.4599609375,
          4137.2900390625,
          4136.1298828125,
          4147.60009765625,
          4090.409912109375,
          4079.090087890625,
          4079.090087890625,
          3997.340087890625,
          3991.050048828125,
          4012.320068359375,
          3970.0400390625,
          3982.239990234375,
          3970.14990234375,
          3951.389892578125,
          3981.35009765625,
          4045.639892578125,
          4048.419921875,
          3986.3701171875,
          3992.010009765625,
          3918.320068359375,
          3861.590087890625,
          3855.760009765625,
          3919.2900390625,
          3891.929931640625,
          3960.280029296875,
          3916.639892578125,
          3951.570068359375,
          4002.8701171875,
          3936.969970703125,
          3948.719970703125,
          3970.989990234375,
          3977.530029296875,
          3971.27001953125,
          4027.81005859375,
          4050.830078125,
          4109.31005859375,
          4124.509765625,
          4100.60009765625,
          4090.3798828125,
          4105.02001953125,
          4105.02001953125,
          4109.10986328125,
          4108.93994140625,
          4091.949951171875,
          4146.22021484375,
          4137.64013671875,
          4151.31982421875,
          4154.8701171875,
          4154.52001953125,
          4129.7900390625,
          4133.52001953125,
          4137.0400390625,
          4071.6298828125,
          4055.989990234375,
          4135.35009765625,
          4169.47998046875,
          4167.8701171875,
          4119.580078125,
          4090.75,
          4061.219970703125,
          4136.25,
          4138.1201171875,
          4119.169921875,
          4137.64013671875,
          4130.6201171875,
          4124.080078125,
          4136.27978515625,
          4109.89990234375,
          4158.77001953125,
          4198.0498046875,
          4191.97998046875,
          4192.6298828125,
          4145.580078125,
          4115.240234375,
          4151.27978515625,
          4205.4501953125,
          4205.4501953125,
          4205.52001953125,
          4179.830078125,
          4221.02001953125,
          4282.3701171875,
          4273.7900390625,
          4283.85009765625,
          4267.52001953125,
          4293.93017578125,
          4298.85986328125,
          4338.93017578125,
          4369.009765625,
          4372.58984375,
          4425.83984375,
          4409.58984375,
          4409.58984375,
          4388.7099609375,
          4365.68994140625,
          4381.89013671875,
          4348.330078125,
          4328.81982421875,
          4378.41015625,
          4376.85986328125,
          4396.43994140625,
          4450.3798828125,
          4455.58984375,
          4455.58984375,
          4446.81982421875,
          4411.58984375,
          4398.9501953125
         ],
         "yaxis": "y4"
        },
        {
         "type": "scatter",
         "x": [
          "2023-01-09T00:00:00",
          "2023-01-10T00:00:00",
          "2023-01-11T00:00:00",
          "2023-01-12T00:00:00",
          "2023-01-13T00:00:00",
          "2023-01-16T00:00:00",
          "2023-01-17T00:00:00",
          "2023-01-18T00:00:00",
          "2023-01-19T00:00:00",
          "2023-01-20T00:00:00",
          "2023-01-23T00:00:00",
          "2023-01-24T00:00:00",
          "2023-01-25T00:00:00",
          "2023-01-26T00:00:00",
          "2023-01-27T00:00:00",
          "2023-01-30T00:00:00",
          "2023-01-31T00:00:00",
          "2023-02-01T00:00:00",
          "2023-02-02T00:00:00",
          "2023-02-03T00:00:00",
          "2023-02-06T00:00:00",
          "2023-02-07T00:00:00",
          "2023-02-08T00:00:00",
          "2023-02-09T00:00:00",
          "2023-02-10T00:00:00",
          "2023-02-13T00:00:00",
          "2023-02-14T00:00:00",
          "2023-02-15T00:00:00",
          "2023-02-16T00:00:00",
          "2023-02-17T00:00:00",
          "2023-02-20T00:00:00",
          "2023-02-21T00:00:00",
          "2023-02-22T00:00:00",
          "2023-02-23T00:00:00",
          "2023-02-24T00:00:00",
          "2023-02-27T00:00:00",
          "2023-02-28T00:00:00",
          "2023-03-01T00:00:00",
          "2023-03-02T00:00:00",
          "2023-03-03T00:00:00",
          "2023-03-06T00:00:00",
          "2023-03-07T00:00:00",
          "2023-03-08T00:00:00",
          "2023-03-09T00:00:00",
          "2023-03-10T00:00:00",
          "2023-03-13T00:00:00",
          "2023-03-14T00:00:00",
          "2023-03-15T00:00:00",
          "2023-03-16T00:00:00",
          "2023-03-17T00:00:00",
          "2023-03-20T00:00:00",
          "2023-03-21T00:00:00",
          "2023-03-22T00:00:00",
          "2023-03-23T00:00:00",
          "2023-03-24T00:00:00",
          "2023-03-27T00:00:00",
          "2023-03-28T00:00:00",
          "2023-03-29T00:00:00",
          "2023-03-30T00:00:00",
          "2023-03-31T00:00:00",
          "2023-04-03T00:00:00",
          "2023-04-04T00:00:00",
          "2023-04-05T00:00:00",
          "2023-04-06T00:00:00",
          "2023-04-07T00:00:00",
          "2023-04-10T00:00:00",
          "2023-04-11T00:00:00",
          "2023-04-12T00:00:00",
          "2023-04-13T00:00:00",
          "2023-04-14T00:00:00",
          "2023-04-17T00:00:00",
          "2023-04-18T00:00:00",
          "2023-04-19T00:00:00",
          "2023-04-20T00:00:00",
          "2023-04-21T00:00:00",
          "2023-04-24T00:00:00",
          "2023-04-25T00:00:00",
          "2023-04-26T00:00:00",
          "2023-04-27T00:00:00",
          "2023-04-28T00:00:00",
          "2023-05-01T00:00:00",
          "2023-05-02T00:00:00",
          "2023-05-03T00:00:00",
          "2023-05-04T00:00:00",
          "2023-05-05T00:00:00",
          "2023-05-08T00:00:00",
          "2023-05-09T00:00:00",
          "2023-05-10T00:00:00",
          "2023-05-11T00:00:00",
          "2023-05-12T00:00:00",
          "2023-05-15T00:00:00",
          "2023-05-16T00:00:00",
          "2023-05-17T00:00:00",
          "2023-05-18T00:00:00",
          "2023-05-19T00:00:00",
          "2023-05-22T00:00:00",
          "2023-05-23T00:00:00",
          "2023-05-24T00:00:00",
          "2023-05-25T00:00:00",
          "2023-05-26T00:00:00",
          "2023-05-29T00:00:00",
          "2023-05-30T00:00:00",
          "2023-05-31T00:00:00",
          "2023-06-01T00:00:00",
          "2023-06-02T00:00:00",
          "2023-06-05T00:00:00",
          "2023-06-06T00:00:00",
          "2023-06-07T00:00:00",
          "2023-06-08T00:00:00",
          "2023-06-09T00:00:00",
          "2023-06-12T00:00:00",
          "2023-06-13T00:00:00",
          "2023-06-14T00:00:00",
          "2023-06-15T00:00:00",
          "2023-06-16T00:00:00",
          "2023-06-19T00:00:00",
          "2023-06-20T00:00:00",
          "2023-06-21T00:00:00",
          "2023-06-22T00:00:00",
          "2023-06-23T00:00:00",
          "2023-06-26T00:00:00",
          "2023-06-27T00:00:00",
          "2023-06-28T00:00:00",
          "2023-06-29T00:00:00",
          "2023-06-30T00:00:00",
          "2023-07-03T00:00:00",
          "2023-07-04T00:00:00",
          "2023-07-05T00:00:00",
          "2023-07-06T00:00:00",
          "2023-07-07T00:00:00"
         ],
         "xaxis": "x5",
         "y": [
          10635.650390625,
          10742.6298828125,
          10931.669921875,
          11001.099609375,
          11079.16015625,
          11079.16015625,
          11095.1103515625,
          10957.009765625,
          10852.26953125,
          11140.4296875,
          11364.41015625,
          11334.26953125,
          11313.3603515625,
          11512.41015625,
          11621.7099609375,
          11393.8095703125,
          11584.5498046875,
          11816.3203125,
          12200.8203125,
          12006.9501953125,
          11887.4501953125,
          12113.7900390625,
          11910.51953125,
          11789.580078125,
          11718.1201171875,
          11891.7900390625,
          11960.150390625,
          12070.58984375,
          11855.830078125,
          11787.26953125,
          11787.26953125,
          11492.2998046875,
          11507.0703125,
          11590.400390625,
          11394.9404296875,
          11466.98046875,
          11455.5400390625,
          11379.48046875,
          11462.98046875,
          11689.009765625,
          11675.740234375,
          11530.330078125,
          11576,
          11338.349609375,
          11138.8896484375,
          11188.83984375,
          11428.150390625,
          11434.0498046875,
          11717.2802734375,
          11630.509765625,
          11675.5400390625,
          11860.1103515625,
          11669.9599609375,
          11787.400390625,
          11823.9599609375,
          11768.83984375,
          11716.080078125,
          11926.240234375,
          12013.4697265625,
          12221.91015625,
          12189.4501953125,
          12126.330078125,
          11996.8603515625,
          12087.9599609375,
          12087.9599609375,
          12084.3603515625,
          12031.8798828125,
          11929.33984375,
          12166.26953125,
          12123.4697265625,
          12157.7197265625,
          12153.41015625,
          12157.23046875,
          12059.5595703125,
          12072.4599609375,
          12037.2001953125,
          11799.16015625,
          11854.349609375,
          12142.240234375,
          12226.580078125,
          12212.599609375,
          12080.509765625,
          12025.330078125,
          11966.400390625,
          12235.41015625,
          12256.919921875,
          12179.5498046875,
          12306.4404296875,
          12328.509765625,
          12284.740234375,
          12365.2099609375,
          12343.0498046875,
          12500.5703125,
          12688.83984375,
          12657.900390625,
          12720.7802734375,
          12560.25,
          12484.16015625,
          12698.08984375,
          12975.6904296875,
          12975.6904296875,
          13017.4296875,
          12935.2900390625,
          13100.98046875,
          13240.76953125,
          13229.4296875,
          13276.419921875,
          13104.900390625,
          13238.51953125,
          13259.1396484375,
          13461.919921875,
          13573.3203125,
          13626.48046875,
          13782.8203125,
          13689.5703125,
          13689.5703125,
          13667.2900390625,
          13502.2001953125,
          13630.6103515625,
          13492.51953125,
          13335.7802734375,
          13555.669921875,
          13591.75,
          13591.330078125,
          13787.919921875,
          13816.76953125,
          13816.76953125,
          13791.650390625,
          13679.0400390625,
          13660.7197265625
         ],
         "yaxis": "y5"
        },
        {
         "type": "scatter",
         "x": [
          "2023-01-09T00:00:00",
          "2023-01-10T00:00:00",
          "2023-01-11T00:00:00",
          "2023-01-12T00:00:00",
          "2023-01-13T00:00:00",
          "2023-01-16T00:00:00",
          "2023-01-17T00:00:00",
          "2023-01-18T00:00:00",
          "2023-01-19T00:00:00",
          "2023-01-20T00:00:00",
          "2023-01-23T00:00:00",
          "2023-01-24T00:00:00",
          "2023-01-25T00:00:00",
          "2023-01-26T00:00:00",
          "2023-01-27T00:00:00",
          "2023-01-30T00:00:00",
          "2023-01-31T00:00:00",
          "2023-02-01T00:00:00",
          "2023-02-02T00:00:00",
          "2023-02-03T00:00:00",
          "2023-02-06T00:00:00",
          "2023-02-07T00:00:00",
          "2023-02-08T00:00:00",
          "2023-02-09T00:00:00",
          "2023-02-10T00:00:00",
          "2023-02-13T00:00:00",
          "2023-02-14T00:00:00",
          "2023-02-15T00:00:00",
          "2023-02-16T00:00:00",
          "2023-02-17T00:00:00",
          "2023-02-20T00:00:00",
          "2023-02-21T00:00:00",
          "2023-02-22T00:00:00",
          "2023-02-23T00:00:00",
          "2023-02-24T00:00:00",
          "2023-02-27T00:00:00",
          "2023-02-28T00:00:00",
          "2023-03-01T00:00:00",
          "2023-03-02T00:00:00",
          "2023-03-03T00:00:00",
          "2023-03-06T00:00:00",
          "2023-03-07T00:00:00",
          "2023-03-08T00:00:00",
          "2023-03-09T00:00:00",
          "2023-03-10T00:00:00",
          "2023-03-13T00:00:00",
          "2023-03-14T00:00:00",
          "2023-03-15T00:00:00",
          "2023-03-16T00:00:00",
          "2023-03-17T00:00:00",
          "2023-03-20T00:00:00",
          "2023-03-21T00:00:00",
          "2023-03-22T00:00:00",
          "2023-03-23T00:00:00",
          "2023-03-24T00:00:00",
          "2023-03-27T00:00:00",
          "2023-03-28T00:00:00",
          "2023-03-29T00:00:00",
          "2023-03-30T00:00:00",
          "2023-03-31T00:00:00",
          "2023-04-03T00:00:00",
          "2023-04-04T00:00:00",
          "2023-04-05T00:00:00",
          "2023-04-06T00:00:00",
          "2023-04-07T00:00:00",
          "2023-04-10T00:00:00",
          "2023-04-11T00:00:00",
          "2023-04-12T00:00:00",
          "2023-04-13T00:00:00",
          "2023-04-14T00:00:00",
          "2023-04-17T00:00:00",
          "2023-04-18T00:00:00",
          "2023-04-19T00:00:00",
          "2023-04-20T00:00:00",
          "2023-04-21T00:00:00",
          "2023-04-24T00:00:00",
          "2023-04-25T00:00:00",
          "2023-04-26T00:00:00",
          "2023-04-27T00:00:00",
          "2023-04-28T00:00:00",
          "2023-05-01T00:00:00",
          "2023-05-02T00:00:00",
          "2023-05-03T00:00:00",
          "2023-05-04T00:00:00",
          "2023-05-05T00:00:00",
          "2023-05-08T00:00:00",
          "2023-05-09T00:00:00",
          "2023-05-10T00:00:00",
          "2023-05-11T00:00:00",
          "2023-05-12T00:00:00",
          "2023-05-15T00:00:00",
          "2023-05-16T00:00:00",
          "2023-05-17T00:00:00",
          "2023-05-18T00:00:00",
          "2023-05-19T00:00:00",
          "2023-05-22T00:00:00",
          "2023-05-23T00:00:00",
          "2023-05-24T00:00:00",
          "2023-05-25T00:00:00",
          "2023-05-26T00:00:00",
          "2023-05-29T00:00:00",
          "2023-05-30T00:00:00",
          "2023-05-31T00:00:00",
          "2023-06-01T00:00:00",
          "2023-06-02T00:00:00",
          "2023-06-05T00:00:00",
          "2023-06-06T00:00:00",
          "2023-06-07T00:00:00",
          "2023-06-08T00:00:00",
          "2023-06-09T00:00:00",
          "2023-06-12T00:00:00",
          "2023-06-13T00:00:00",
          "2023-06-14T00:00:00",
          "2023-06-15T00:00:00",
          "2023-06-16T00:00:00",
          "2023-06-19T00:00:00",
          "2023-06-20T00:00:00",
          "2023-06-21T00:00:00",
          "2023-06-22T00:00:00",
          "2023-06-23T00:00:00",
          "2023-06-26T00:00:00",
          "2023-06-27T00:00:00",
          "2023-06-28T00:00:00",
          "2023-06-29T00:00:00",
          "2023-06-30T00:00:00",
          "2023-07-03T00:00:00",
          "2023-07-04T00:00:00",
          "2023-07-05T00:00:00",
          "2023-07-06T00:00:00",
          "2023-07-07T00:00:00"
         ],
         "xaxis": "x6",
         "y": [
          null,
          26175.560546875,
          26446,
          26449.8203125,
          26119.51953125,
          25822.3203125,
          26138.6796875,
          26791.119140625,
          26405.23046875,
          26553.529296875,
          26906.0390625,
          27299.189453125,
          27395.009765625,
          27362.75,
          27382.560546875,
          27433.400390625,
          27327.109375,
          27346.880859375,
          27402.05078125,
          27509.4609375,
          27693.650390625,
          27685.470703125,
          27606.4609375,
          27584.349609375,
          27670.98046875,
          27427.3203125,
          27602.76953125,
          27501.859375,
          27696.439453125,
          27513.130859375,
          27531.939453125,
          27473.099609375,
          27104.3203125,
          27104.3203125,
          27453.48046875,
          27423.9609375,
          27445.560546875,
          27516.529296875,
          27498.869140625,
          27927.470703125,
          28237.779296875,
          28309.16015625,
          28444.189453125,
          28623.150390625,
          28143.970703125,
          27832.9609375,
          27222.0390625,
          27229.48046875,
          27010.609375,
          27333.7890625,
          26945.669921875,
          26945.669921875,
          27466.609375,
          27419.609375,
          27385.25,
          27476.869140625,
          27518.25,
          27883.779296875,
          27782.9296875,
          28041.48046875,
          28188.150390625,
          28287.419921875,
          27813.259765625,
          27472.630859375,
          27518.310546875,
          27633.66015625,
          27923.369140625,
          28082.69921875,
          28156.970703125,
          28493.470703125,
          28514.779296875,
          28658.830078125,
          28606.759765625,
          28657.5703125,
          28564.369140625,
          28593.51953125,
          28620.0703125,
          28416.470703125,
          28457.6796875,
          28856.439453125,
          29123.1796875,
          29157.94921875,
          29157.94921875,
          29157.94921875,
          29157.94921875,
          28949.880859375,
          29242.8203125,
          29122.1796875,
          29126.720703125,
          29388.30078125,
          29626.33984375,
          29842.990234375,
          30093.58984375,
          30573.9296875,
          30808.349609375,
          31086.8203125,
          30957.76953125,
          30682.6796875,
          30801.130859375,
          30916.310546875,
          31233.5390625,
          31328.16015625,
          30887.880859375,
          31148.009765625,
          31524.220703125,
          32217.4296875,
          32506.779296875,
          31913.740234375,
          31641.26953125,
          32265.169921875,
          32434,
          33018.6484375,
          33502.421875,
          33485.48828125,
          33706.078125,
          33370.421875,
          33388.91015625,
          33575.140625,
          33264.87890625,
          32781.5390625,
          32698.810546875,
          32538.330078125,
          33193.98828125,
          33234.140625,
          33189.0390625,
          33753.328125,
          33422.51953125,
          33338.69921875,
          32773.01953125,
          32388.419921875
         ],
         "yaxis": "y6"
        },
        {
         "type": "scatter",
         "x": [
          "2023-01-09T00:00:00",
          "2023-01-10T00:00:00",
          "2023-01-11T00:00:00",
          "2023-01-12T00:00:00",
          "2023-01-13T00:00:00",
          "2023-01-16T00:00:00",
          "2023-01-17T00:00:00",
          "2023-01-18T00:00:00",
          "2023-01-19T00:00:00",
          "2023-01-20T00:00:00",
          "2023-01-23T00:00:00",
          "2023-01-24T00:00:00",
          "2023-01-25T00:00:00",
          "2023-01-26T00:00:00",
          "2023-01-27T00:00:00",
          "2023-01-30T00:00:00",
          "2023-01-31T00:00:00",
          "2023-02-01T00:00:00",
          "2023-02-02T00:00:00",
          "2023-02-03T00:00:00",
          "2023-02-06T00:00:00",
          "2023-02-07T00:00:00",
          "2023-02-08T00:00:00",
          "2023-02-09T00:00:00",
          "2023-02-10T00:00:00",
          "2023-02-13T00:00:00",
          "2023-02-14T00:00:00",
          "2023-02-15T00:00:00",
          "2023-02-16T00:00:00",
          "2023-02-17T00:00:00",
          "2023-02-20T00:00:00",
          "2023-02-21T00:00:00",
          "2023-02-22T00:00:00",
          "2023-02-23T00:00:00",
          "2023-02-24T00:00:00",
          "2023-02-27T00:00:00",
          "2023-02-28T00:00:00",
          "2023-03-01T00:00:00",
          "2023-03-02T00:00:00",
          "2023-03-03T00:00:00",
          "2023-03-06T00:00:00",
          "2023-03-07T00:00:00",
          "2023-03-08T00:00:00",
          "2023-03-09T00:00:00",
          "2023-03-10T00:00:00",
          "2023-03-13T00:00:00",
          "2023-03-14T00:00:00",
          "2023-03-15T00:00:00",
          "2023-03-16T00:00:00",
          "2023-03-17T00:00:00",
          "2023-03-20T00:00:00",
          "2023-03-21T00:00:00",
          "2023-03-22T00:00:00",
          "2023-03-23T00:00:00",
          "2023-03-24T00:00:00",
          "2023-03-27T00:00:00",
          "2023-03-28T00:00:00",
          "2023-03-29T00:00:00",
          "2023-03-30T00:00:00",
          "2023-03-31T00:00:00",
          "2023-04-03T00:00:00",
          "2023-04-04T00:00:00",
          "2023-04-05T00:00:00",
          "2023-04-06T00:00:00",
          "2023-04-07T00:00:00",
          "2023-04-10T00:00:00",
          "2023-04-11T00:00:00",
          "2023-04-12T00:00:00",
          "2023-04-13T00:00:00",
          "2023-04-14T00:00:00",
          "2023-04-17T00:00:00",
          "2023-04-18T00:00:00",
          "2023-04-19T00:00:00",
          "2023-04-20T00:00:00",
          "2023-04-21T00:00:00",
          "2023-04-24T00:00:00",
          "2023-04-25T00:00:00",
          "2023-04-26T00:00:00",
          "2023-04-27T00:00:00",
          "2023-04-28T00:00:00",
          "2023-05-01T00:00:00",
          "2023-05-02T00:00:00",
          "2023-05-03T00:00:00",
          "2023-05-04T00:00:00",
          "2023-05-05T00:00:00",
          "2023-05-08T00:00:00",
          "2023-05-09T00:00:00",
          "2023-05-10T00:00:00",
          "2023-05-11T00:00:00",
          "2023-05-12T00:00:00",
          "2023-05-15T00:00:00",
          "2023-05-16T00:00:00",
          "2023-05-17T00:00:00",
          "2023-05-18T00:00:00",
          "2023-05-19T00:00:00",
          "2023-05-22T00:00:00",
          "2023-05-23T00:00:00",
          "2023-05-24T00:00:00",
          "2023-05-25T00:00:00",
          "2023-05-26T00:00:00",
          "2023-05-29T00:00:00",
          "2023-05-30T00:00:00",
          "2023-05-31T00:00:00",
          "2023-06-01T00:00:00",
          "2023-06-02T00:00:00",
          "2023-06-05T00:00:00",
          "2023-06-06T00:00:00",
          "2023-06-07T00:00:00",
          "2023-06-08T00:00:00",
          "2023-06-09T00:00:00",
          "2023-06-12T00:00:00",
          "2023-06-13T00:00:00",
          "2023-06-14T00:00:00",
          "2023-06-15T00:00:00",
          "2023-06-16T00:00:00",
          "2023-06-19T00:00:00",
          "2023-06-20T00:00:00",
          "2023-06-21T00:00:00",
          "2023-06-22T00:00:00",
          "2023-06-23T00:00:00",
          "2023-06-26T00:00:00",
          "2023-06-27T00:00:00",
          "2023-06-28T00:00:00",
          "2023-06-29T00:00:00",
          "2023-06-30T00:00:00",
          "2023-07-03T00:00:00",
          "2023-07-04T00:00:00",
          "2023-07-05T00:00:00",
          "2023-07-06T00:00:00",
          "2023-07-07T00:00:00"
         ],
         "xaxis": "x7",
         "y": [
          null,
          21331.4609375,
          21436.05078125,
          21514.099609375,
          21738.66015625,
          21746.720703125,
          21577.640625,
          21678,
          21650.98046875,
          22044.650390625,
          22044.650390625,
          22044.650390625,
          22044.650390625,
          22566.779296875,
          22688.900390625,
          22069.73046875,
          21842.330078125,
          22072.1796875,
          21958.359375,
          21660.470703125,
          21222.16015625,
          21298.69921875,
          21283.51953125,
          21624.359375,
          21190.419921875,
          21164.419921875,
          21113.759765625,
          20812.169921875,
          20987.669921875,
          20719.810546875,
          20886.9609375,
          20529.490234375,
          20423.83984375,
          20351.349609375,
          20010.0390625,
          19943.509765625,
          19785.939453125,
          20619.7109375,
          20429.4609375,
          20567.5390625,
          20603.189453125,
          20534.48046875,
          20051.25,
          19925.740234375,
          19319.919921875,
          19695.970703125,
          19247.9609375,
          19539.869140625,
          19203.91015625,
          19518.58984375,
          19000.7109375,
          19258.759765625,
          19591.4296875,
          20049.640625,
          19915.6796875,
          19567.689453125,
          19784.650390625,
          20192.400390625,
          20309.130859375,
          20400.109375,
          20409.1796875,
          20274.58984375,
          20274.58984375,
          20331.19921875,
          20331.19921875,
          20331.19921875,
          20485.240234375,
          20309.859375,
          20344.48046875,
          20438.810546875,
          20782.44921875,
          20650.509765625,
          20367.759765625,
          20396.970703125,
          20075.73046875,
          19959.939453125,
          19617.880859375,
          19757.26953125,
          19840.279296875,
          19894.5703125,
          19894.5703125,
          19933.810546875,
          19699.16015625,
          19948.73046875,
          20049.310546875,
          20297.029296875,
          19867.580078125,
          19762.19921875,
          19743.7890625,
          19627.240234375,
          19971.130859375,
          19978.25,
          19560.5703125,
          19727.25,
          19450.5703125,
          19678.169921875,
          19431.25,
          19115.9296875,
          18746.919921875,
          18746.919921875,
          18551.109375,
          18595.779296875,
          18234.26953125,
          18216.91015625,
          18949.939453125,
          19108.5,
          19099.279296875,
          19252,
          19299.1796875,
          19389.94921875,
          19404.310546875,
          19521.419921875,
          19408.419921875,
          19828.919921875,
          20040.369140625,
          19912.890625,
          19607.080078125,
          19218.349609375,
          19218.349609375,
          18889.970703125,
          18794.130859375,
          19148.130859375,
          19172.05078125,
          18934.359375,
          18916.4296875,
          19306.58984375,
          19415.6796875,
          19110.380859375,
          18533.05078125,
          18365.69921875
         ],
         "yaxis": "y7"
        },
        {
         "type": "scatter",
         "x": [
          "2023-01-09T00:00:00",
          "2023-01-10T00:00:00",
          "2023-01-11T00:00:00",
          "2023-01-12T00:00:00",
          "2023-01-13T00:00:00",
          "2023-01-16T00:00:00",
          "2023-01-17T00:00:00",
          "2023-01-18T00:00:00",
          "2023-01-19T00:00:00",
          "2023-01-20T00:00:00",
          "2023-01-23T00:00:00",
          "2023-01-24T00:00:00",
          "2023-01-25T00:00:00",
          "2023-01-26T00:00:00",
          "2023-01-27T00:00:00",
          "2023-01-30T00:00:00",
          "2023-01-31T00:00:00",
          "2023-02-01T00:00:00",
          "2023-02-02T00:00:00",
          "2023-02-03T00:00:00",
          "2023-02-06T00:00:00",
          "2023-02-07T00:00:00",
          "2023-02-08T00:00:00",
          "2023-02-09T00:00:00",
          "2023-02-10T00:00:00",
          "2023-02-13T00:00:00",
          "2023-02-14T00:00:00",
          "2023-02-15T00:00:00",
          "2023-02-16T00:00:00",
          "2023-02-17T00:00:00",
          "2023-02-20T00:00:00",
          "2023-02-21T00:00:00",
          "2023-02-22T00:00:00",
          "2023-02-23T00:00:00",
          "2023-02-24T00:00:00",
          "2023-02-27T00:00:00",
          "2023-02-28T00:00:00",
          "2023-03-01T00:00:00",
          "2023-03-02T00:00:00",
          "2023-03-03T00:00:00",
          "2023-03-06T00:00:00",
          "2023-03-07T00:00:00",
          "2023-03-08T00:00:00",
          "2023-03-09T00:00:00",
          "2023-03-10T00:00:00",
          "2023-03-13T00:00:00",
          "2023-03-14T00:00:00",
          "2023-03-15T00:00:00",
          "2023-03-16T00:00:00",
          "2023-03-17T00:00:00",
          "2023-03-20T00:00:00",
          "2023-03-21T00:00:00",
          "2023-03-22T00:00:00",
          "2023-03-23T00:00:00",
          "2023-03-24T00:00:00",
          "2023-03-27T00:00:00",
          "2023-03-28T00:00:00",
          "2023-03-29T00:00:00",
          "2023-03-30T00:00:00",
          "2023-03-31T00:00:00",
          "2023-04-03T00:00:00",
          "2023-04-04T00:00:00",
          "2023-04-05T00:00:00",
          "2023-04-06T00:00:00",
          "2023-04-07T00:00:00",
          "2023-04-10T00:00:00",
          "2023-04-11T00:00:00",
          "2023-04-12T00:00:00",
          "2023-04-13T00:00:00",
          "2023-04-14T00:00:00",
          "2023-04-17T00:00:00",
          "2023-04-18T00:00:00",
          "2023-04-19T00:00:00",
          "2023-04-20T00:00:00",
          "2023-04-21T00:00:00",
          "2023-04-24T00:00:00",
          "2023-04-25T00:00:00",
          "2023-04-26T00:00:00",
          "2023-04-27T00:00:00",
          "2023-04-28T00:00:00",
          "2023-05-01T00:00:00",
          "2023-05-02T00:00:00",
          "2023-05-03T00:00:00",
          "2023-05-04T00:00:00",
          "2023-05-05T00:00:00",
          "2023-05-08T00:00:00",
          "2023-05-09T00:00:00",
          "2023-05-10T00:00:00",
          "2023-05-11T00:00:00",
          "2023-05-12T00:00:00",
          "2023-05-15T00:00:00",
          "2023-05-16T00:00:00",
          "2023-05-17T00:00:00",
          "2023-05-18T00:00:00",
          "2023-05-19T00:00:00",
          "2023-05-22T00:00:00",
          "2023-05-23T00:00:00",
          "2023-05-24T00:00:00",
          "2023-05-25T00:00:00",
          "2023-05-26T00:00:00",
          "2023-05-29T00:00:00",
          "2023-05-30T00:00:00",
          "2023-05-31T00:00:00",
          "2023-06-01T00:00:00",
          "2023-06-02T00:00:00",
          "2023-06-05T00:00:00",
          "2023-06-06T00:00:00",
          "2023-06-07T00:00:00",
          "2023-06-08T00:00:00",
          "2023-06-09T00:00:00",
          "2023-06-12T00:00:00",
          "2023-06-13T00:00:00",
          "2023-06-14T00:00:00",
          "2023-06-15T00:00:00",
          "2023-06-16T00:00:00",
          "2023-06-19T00:00:00",
          "2023-06-20T00:00:00",
          "2023-06-21T00:00:00",
          "2023-06-22T00:00:00",
          "2023-06-23T00:00:00",
          "2023-06-26T00:00:00",
          "2023-06-27T00:00:00",
          "2023-06-28T00:00:00",
          "2023-06-29T00:00:00",
          "2023-06-30T00:00:00",
          "2023-07-03T00:00:00",
          "2023-07-04T00:00:00",
          "2023-07-05T00:00:00",
          "2023-07-06T00:00:00",
          "2023-07-07T00:00:00"
         ],
         "xaxis": "x8",
         "y": [
          31.028339385986328,
          31.41619300842285,
          31.734432220458984,
          31.46591567993164,
          31.913440704345703,
          31.913440704345703,
          31.21729278564453,
          30.908998489379883,
          31.52558708190918,
          32.311241149902344,
          32.66925811767578,
          32.60959243774414,
          32.67920684814453,
          33.10683822631836,
          33.04716873168945,
          31.823936462402344,
          31.625036239624023,
          32.33112716674805,
          31.694652557373047,
          30.918943405151367,
          30.45153045654297,
          30.710098266601562,
          30.2824649810791,
          30.849328994750977,
          29.97416877746582,
          30.471418380737305,
          30.192960739135742,
          29.954280853271484,
          29.97416877746582,
          29.36752700805664,
          29.36752700805664,
          29.02939796447754,
          28.780773162841797,
          28.621652603149414,
          27.756439208984375,
          28.124404907226562,
          27.806163787841797,
          28.95978355407715,
          29.486865997314453,
          29.447086334228516,
          29.1189022064209,
          28.59181785583496,
          28.283523559570312,
          27.239299774169922,
          27.219411849975586,
          27.38847541809082,
          27.56748390197754,
          27.179630279541016,
          27.527706146240234,
          27.458091735839844,
          27.438199996948242,
          27.826053619384766,
          27.915559768676758,
          28.79071807861328,
          28.671377182006836,
          28.084623336791992,
          29.23824119567871,
          29.248186111450195,
          29.74543571472168,
          29.36752700805664,
          29.23824119567871,
          29.108957290649414,
          28.770828247070312,
          29.128847122192383,
          29.128847122192383,
          29.02939796447754,
          29.049285888671875,
          28.25368881225586,
          28.910057067871094,
          28.55203628540039,
          29.32774543762207,
          29.20840835571289,
          28.850387573242188,
          28.66143226623535,
          28.243743896484375,
          27.955339431762695,
          27.199522018432617,
          27.647043228149414,
          28.03489875793457,
          28.174129486083984,
          28.064733505249023,
          27.53765106201172,
          27.40836524963379,
          28.1442928314209,
          28.512258529663086,
          28.731046676635742,
          28.283523559570312,
          28.084623336791992,
          28.38297462463379,
          27.637100219726562,
          28.88022232055664,
          28.581872940063477,
          28.283523559570312,
          27.895668029785156,
          27.74649429321289,
          28.194019317626953,
          27.3387508392334,
          26.791776657104492,
          26.244802474975586,
          26.682382583618164,
          26.682382583618164,
          25.896728515625,
          25.827112197875977,
          26.48348045349121,
          27.279081344604492,
          27.239299774169922,
          27.83599853515625,
          27.5,
          27.790000915527344,
          27.81999969482422,
          27.75,
          28.06999969482422,
          28.450000762939453,
          29.079999923706055,
          28.90999984741211,
          28.90999984741211,
          27.670000076293945,
          27.5,
          27.440000534057617,
          26.8700008392334,
          27.010000228881836,
          27.600000381469727,
          27.3700008392334,
          26.940000534057617,
          27.190000534057617,
          27.709999084472656,
          27.709999084472656,
          27.389999389648438,
          26.600000381469727,
          27.18000030517578
         ],
         "yaxis": "y8"
        }
       ],
       "layout": {
        "annotations": [
         {
          "font": {
           "size": 16
          },
          "showarrow": false,
          "text": "MIB (Italy)",
          "x": 0.10625,
          "xanchor": "center",
          "xref": "paper",
          "y": 1,
          "yanchor": "bottom",
          "yref": "paper"
         },
         {
          "font": {
           "size": 16
          },
          "showarrow": false,
          "text": "DE40 (Germany)",
          "x": 0.36875,
          "xanchor": "center",
          "xref": "paper",
          "y": 1,
          "yanchor": "bottom",
          "yref": "paper"
         },
         {
          "font": {
           "size": 16
          },
          "showarrow": false,
          "text": "FTSE100 (U.K.)",
          "x": 0.6312500000000001,
          "xanchor": "center",
          "xref": "paper",
          "y": 1,
          "yanchor": "bottom",
          "yref": "paper"
         },
         {
          "font": {
           "size": 16
          },
          "showarrow": false,
          "text": "S&P500 (U.S.)",
          "x": 0.89375,
          "xanchor": "center",
          "xref": "paper",
          "y": 1,
          "yanchor": "bottom",
          "yref": "paper"
         },
         {
          "font": {
           "size": 16
          },
          "showarrow": false,
          "text": "Nasdaq Composite (U.S.)",
          "x": 0.10625,
          "xanchor": "center",
          "xref": "paper",
          "y": 0.375,
          "yanchor": "bottom",
          "yref": "paper"
         },
         {
          "font": {
           "size": 16
          },
          "showarrow": false,
          "text": "Nikkei (Japan)",
          "x": 0.36875,
          "xanchor": "center",
          "xref": "paper",
          "y": 0.375,
          "yanchor": "bottom",
          "yref": "paper"
         },
         {
          "font": {
           "size": 16
          },
          "showarrow": false,
          "text": "Hang Seng (H.K.)",
          "x": 0.6312500000000001,
          "xanchor": "center",
          "xref": "paper",
          "y": 0.375,
          "yanchor": "bottom",
          "yref": "paper"
         },
         {
          "font": {
           "size": 16
          },
          "showarrow": false,
          "text": "'FIX' China large-cap ETF",
          "x": 0.89375,
          "xanchor": "center",
          "xref": "paper",
          "y": 0.375,
          "yanchor": "bottom",
          "yref": "paper"
         }
        ],
        "height": 600,
        "showlegend": false,
        "template": {
         "data": {
          "bar": [
           {
            "error_x": {
             "color": "#f2f5fa"
            },
            "error_y": {
             "color": "#f2f5fa"
            },
            "marker": {
             "line": {
              "color": "rgb(17,17,17)",
              "width": 0.5
             },
             "pattern": {
              "fillmode": "overlay",
              "size": 10,
              "solidity": 0.2
             }
            },
            "type": "bar"
           }
          ],
          "barpolar": [
           {
            "marker": {
             "line": {
              "color": "rgb(17,17,17)",
              "width": 0.5
             },
             "pattern": {
              "fillmode": "overlay",
              "size": 10,
              "solidity": 0.2
             }
            },
            "type": "barpolar"
           }
          ],
          "carpet": [
           {
            "aaxis": {
             "endlinecolor": "#A2B1C6",
             "gridcolor": "#506784",
             "linecolor": "#506784",
             "minorgridcolor": "#506784",
             "startlinecolor": "#A2B1C6"
            },
            "baxis": {
             "endlinecolor": "#A2B1C6",
             "gridcolor": "#506784",
             "linecolor": "#506784",
             "minorgridcolor": "#506784",
             "startlinecolor": "#A2B1C6"
            },
            "type": "carpet"
           }
          ],
          "choropleth": [
           {
            "colorbar": {
             "outlinewidth": 0,
             "ticks": ""
            },
            "type": "choropleth"
           }
          ],
          "contour": [
           {
            "colorbar": {
             "outlinewidth": 0,
             "ticks": ""
            },
            "colorscale": [
             [
              0,
              "#0d0887"
             ],
             [
              0.1111111111111111,
              "#46039f"
             ],
             [
              0.2222222222222222,
              "#7201a8"
             ],
             [
              0.3333333333333333,
              "#9c179e"
             ],
             [
              0.4444444444444444,
              "#bd3786"
             ],
             [
              0.5555555555555556,
              "#d8576b"
             ],
             [
              0.6666666666666666,
              "#ed7953"
             ],
             [
              0.7777777777777778,
              "#fb9f3a"
             ],
             [
              0.8888888888888888,
              "#fdca26"
             ],
             [
              1,
              "#f0f921"
             ]
            ],
            "type": "contour"
           }
          ],
          "contourcarpet": [
           {
            "colorbar": {
             "outlinewidth": 0,
             "ticks": ""
            },
            "type": "contourcarpet"
           }
          ],
          "heatmap": [
           {
            "colorbar": {
             "outlinewidth": 0,
             "ticks": ""
            },
            "colorscale": [
             [
              0,
              "#0d0887"
             ],
             [
              0.1111111111111111,
              "#46039f"
             ],
             [
              0.2222222222222222,
              "#7201a8"
             ],
             [
              0.3333333333333333,
              "#9c179e"
             ],
             [
              0.4444444444444444,
              "#bd3786"
             ],
             [
              0.5555555555555556,
              "#d8576b"
             ],
             [
              0.6666666666666666,
              "#ed7953"
             ],
             [
              0.7777777777777778,
              "#fb9f3a"
             ],
             [
              0.8888888888888888,
              "#fdca26"
             ],
             [
              1,
              "#f0f921"
             ]
            ],
            "type": "heatmap"
           }
          ],
          "heatmapgl": [
           {
            "colorbar": {
             "outlinewidth": 0,
             "ticks": ""
            },
            "colorscale": [
             [
              0,
              "#0d0887"
             ],
             [
              0.1111111111111111,
              "#46039f"
             ],
             [
              0.2222222222222222,
              "#7201a8"
             ],
             [
              0.3333333333333333,
              "#9c179e"
             ],
             [
              0.4444444444444444,
              "#bd3786"
             ],
             [
              0.5555555555555556,
              "#d8576b"
             ],
             [
              0.6666666666666666,
              "#ed7953"
             ],
             [
              0.7777777777777778,
              "#fb9f3a"
             ],
             [
              0.8888888888888888,
              "#fdca26"
             ],
             [
              1,
              "#f0f921"
             ]
            ],
            "type": "heatmapgl"
           }
          ],
          "histogram": [
           {
            "marker": {
             "pattern": {
              "fillmode": "overlay",
              "size": 10,
              "solidity": 0.2
             }
            },
            "type": "histogram"
           }
          ],
          "histogram2d": [
           {
            "colorbar": {
             "outlinewidth": 0,
             "ticks": ""
            },
            "colorscale": [
             [
              0,
              "#0d0887"
             ],
             [
              0.1111111111111111,
              "#46039f"
             ],
             [
              0.2222222222222222,
              "#7201a8"
             ],
             [
              0.3333333333333333,
              "#9c179e"
             ],
             [
              0.4444444444444444,
              "#bd3786"
             ],
             [
              0.5555555555555556,
              "#d8576b"
             ],
             [
              0.6666666666666666,
              "#ed7953"
             ],
             [
              0.7777777777777778,
              "#fb9f3a"
             ],
             [
              0.8888888888888888,
              "#fdca26"
             ],
             [
              1,
              "#f0f921"
             ]
            ],
            "type": "histogram2d"
           }
          ],
          "histogram2dcontour": [
           {
            "colorbar": {
             "outlinewidth": 0,
             "ticks": ""
            },
            "colorscale": [
             [
              0,
              "#0d0887"
             ],
             [
              0.1111111111111111,
              "#46039f"
             ],
             [
              0.2222222222222222,
              "#7201a8"
             ],
             [
              0.3333333333333333,
              "#9c179e"
             ],
             [
              0.4444444444444444,
              "#bd3786"
             ],
             [
              0.5555555555555556,
              "#d8576b"
             ],
             [
              0.6666666666666666,
              "#ed7953"
             ],
             [
              0.7777777777777778,
              "#fb9f3a"
             ],
             [
              0.8888888888888888,
              "#fdca26"
             ],
             [
              1,
              "#f0f921"
             ]
            ],
            "type": "histogram2dcontour"
           }
          ],
          "mesh3d": [
           {
            "colorbar": {
             "outlinewidth": 0,
             "ticks": ""
            },
            "type": "mesh3d"
           }
          ],
          "parcoords": [
           {
            "line": {
             "colorbar": {
              "outlinewidth": 0,
              "ticks": ""
             }
            },
            "type": "parcoords"
           }
          ],
          "pie": [
           {
            "automargin": true,
            "type": "pie"
           }
          ],
          "scatter": [
           {
            "marker": {
             "line": {
              "color": "#283442"
             }
            },
            "type": "scatter"
           }
          ],
          "scatter3d": [
           {
            "line": {
             "colorbar": {
              "outlinewidth": 0,
              "ticks": ""
             }
            },
            "marker": {
             "colorbar": {
              "outlinewidth": 0,
              "ticks": ""
             }
            },
            "type": "scatter3d"
           }
          ],
          "scattercarpet": [
           {
            "marker": {
             "colorbar": {
              "outlinewidth": 0,
              "ticks": ""
             }
            },
            "type": "scattercarpet"
           }
          ],
          "scattergeo": [
           {
            "marker": {
             "colorbar": {
              "outlinewidth": 0,
              "ticks": ""
             }
            },
            "type": "scattergeo"
           }
          ],
          "scattergl": [
           {
            "marker": {
             "line": {
              "color": "#283442"
             }
            },
            "type": "scattergl"
           }
          ],
          "scattermapbox": [
           {
            "marker": {
             "colorbar": {
              "outlinewidth": 0,
              "ticks": ""
             }
            },
            "type": "scattermapbox"
           }
          ],
          "scatterpolar": [
           {
            "marker": {
             "colorbar": {
              "outlinewidth": 0,
              "ticks": ""
             }
            },
            "type": "scatterpolar"
           }
          ],
          "scatterpolargl": [
           {
            "marker": {
             "colorbar": {
              "outlinewidth": 0,
              "ticks": ""
             }
            },
            "type": "scatterpolargl"
           }
          ],
          "scatterternary": [
           {
            "marker": {
             "colorbar": {
              "outlinewidth": 0,
              "ticks": ""
             }
            },
            "type": "scatterternary"
           }
          ],
          "surface": [
           {
            "colorbar": {
             "outlinewidth": 0,
             "ticks": ""
            },
            "colorscale": [
             [
              0,
              "#0d0887"
             ],
             [
              0.1111111111111111,
              "#46039f"
             ],
             [
              0.2222222222222222,
              "#7201a8"
             ],
             [
              0.3333333333333333,
              "#9c179e"
             ],
             [
              0.4444444444444444,
              "#bd3786"
             ],
             [
              0.5555555555555556,
              "#d8576b"
             ],
             [
              0.6666666666666666,
              "#ed7953"
             ],
             [
              0.7777777777777778,
              "#fb9f3a"
             ],
             [
              0.8888888888888888,
              "#fdca26"
             ],
             [
              1,
              "#f0f921"
             ]
            ],
            "type": "surface"
           }
          ],
          "table": [
           {
            "cells": {
             "fill": {
              "color": "#506784"
             },
             "line": {
              "color": "rgb(17,17,17)"
             }
            },
            "header": {
             "fill": {
              "color": "#2a3f5f"
             },
             "line": {
              "color": "rgb(17,17,17)"
             }
            },
            "type": "table"
           }
          ]
         },
         "layout": {
          "annotationdefaults": {
           "arrowcolor": "#f2f5fa",
           "arrowhead": 0,
           "arrowwidth": 1
          },
          "autotypenumbers": "strict",
          "coloraxis": {
           "colorbar": {
            "outlinewidth": 0,
            "ticks": ""
           }
          },
          "colorscale": {
           "diverging": [
            [
             0,
             "#8e0152"
            ],
            [
             0.1,
             "#c51b7d"
            ],
            [
             0.2,
             "#de77ae"
            ],
            [
             0.3,
             "#f1b6da"
            ],
            [
             0.4,
             "#fde0ef"
            ],
            [
             0.5,
             "#f7f7f7"
            ],
            [
             0.6,
             "#e6f5d0"
            ],
            [
             0.7,
             "#b8e186"
            ],
            [
             0.8,
             "#7fbc41"
            ],
            [
             0.9,
             "#4d9221"
            ],
            [
             1,
             "#276419"
            ]
           ],
           "sequential": [
            [
             0,
             "#0d0887"
            ],
            [
             0.1111111111111111,
             "#46039f"
            ],
            [
             0.2222222222222222,
             "#7201a8"
            ],
            [
             0.3333333333333333,
             "#9c179e"
            ],
            [
             0.4444444444444444,
             "#bd3786"
            ],
            [
             0.5555555555555556,
             "#d8576b"
            ],
            [
             0.6666666666666666,
             "#ed7953"
            ],
            [
             0.7777777777777778,
             "#fb9f3a"
            ],
            [
             0.8888888888888888,
             "#fdca26"
            ],
            [
             1,
             "#f0f921"
            ]
           ],
           "sequentialminus": [
            [
             0,
             "#0d0887"
            ],
            [
             0.1111111111111111,
             "#46039f"
            ],
            [
             0.2222222222222222,
             "#7201a8"
            ],
            [
             0.3333333333333333,
             "#9c179e"
            ],
            [
             0.4444444444444444,
             "#bd3786"
            ],
            [
             0.5555555555555556,
             "#d8576b"
            ],
            [
             0.6666666666666666,
             "#ed7953"
            ],
            [
             0.7777777777777778,
             "#fb9f3a"
            ],
            [
             0.8888888888888888,
             "#fdca26"
            ],
            [
             1,
             "#f0f921"
            ]
           ]
          },
          "colorway": [
           "#636efa",
           "#EF553B",
           "#00cc96",
           "#ab63fa",
           "#FFA15A",
           "#19d3f3",
           "#FF6692",
           "#B6E880",
           "#FF97FF",
           "#FECB52"
          ],
          "font": {
           "color": "#f2f5fa"
          },
          "geo": {
           "bgcolor": "rgb(17,17,17)",
           "lakecolor": "rgb(17,17,17)",
           "landcolor": "rgb(17,17,17)",
           "showlakes": true,
           "showland": true,
           "subunitcolor": "#506784"
          },
          "hoverlabel": {
           "align": "left"
          },
          "hovermode": "closest",
          "mapbox": {
           "style": "dark"
          },
          "paper_bgcolor": "rgb(17,17,17)",
          "plot_bgcolor": "rgb(17,17,17)",
          "polar": {
           "angularaxis": {
            "gridcolor": "#506784",
            "linecolor": "#506784",
            "ticks": ""
           },
           "bgcolor": "rgb(17,17,17)",
           "radialaxis": {
            "gridcolor": "#506784",
            "linecolor": "#506784",
            "ticks": ""
           }
          },
          "scene": {
           "xaxis": {
            "backgroundcolor": "rgb(17,17,17)",
            "gridcolor": "#506784",
            "gridwidth": 2,
            "linecolor": "#506784",
            "showbackground": true,
            "ticks": "",
            "zerolinecolor": "#C8D4E3"
           },
           "yaxis": {
            "backgroundcolor": "rgb(17,17,17)",
            "gridcolor": "#506784",
            "gridwidth": 2,
            "linecolor": "#506784",
            "showbackground": true,
            "ticks": "",
            "zerolinecolor": "#C8D4E3"
           },
           "zaxis": {
            "backgroundcolor": "rgb(17,17,17)",
            "gridcolor": "#506784",
            "gridwidth": 2,
            "linecolor": "#506784",
            "showbackground": true,
            "ticks": "",
            "zerolinecolor": "#C8D4E3"
           }
          },
          "shapedefaults": {
           "line": {
            "color": "#f2f5fa"
           }
          },
          "sliderdefaults": {
           "bgcolor": "#C8D4E3",
           "bordercolor": "rgb(17,17,17)",
           "borderwidth": 1,
           "tickwidth": 0
          },
          "ternary": {
           "aaxis": {
            "gridcolor": "#506784",
            "linecolor": "#506784",
            "ticks": ""
           },
           "baxis": {
            "gridcolor": "#506784",
            "linecolor": "#506784",
            "ticks": ""
           },
           "bgcolor": "rgb(17,17,17)",
           "caxis": {
            "gridcolor": "#506784",
            "linecolor": "#506784",
            "ticks": ""
           }
          },
          "title": {
           "x": 0.05
          },
          "updatemenudefaults": {
           "bgcolor": "#506784",
           "borderwidth": 0
          },
          "xaxis": {
           "automargin": true,
           "gridcolor": "#283442",
           "linecolor": "#506784",
           "ticks": "",
           "title": {
            "standoff": 15
           },
           "zerolinecolor": "#283442",
           "zerolinewidth": 2
          },
          "yaxis": {
           "automargin": true,
           "gridcolor": "#283442",
           "linecolor": "#506784",
           "ticks": "",
           "title": {
            "standoff": 15
           },
           "zerolinecolor": "#283442",
           "zerolinewidth": 2
          }
         }
        },
        "title": {
         "text": "<b>Equity Indexes over the last 6 months</b>"
        },
        "xaxis": {
         "anchor": "y",
         "domain": [
          0,
          0.2125
         ]
        },
        "xaxis2": {
         "anchor": "y2",
         "domain": [
          0.2625,
          0.475
         ]
        },
        "xaxis3": {
         "anchor": "y3",
         "domain": [
          0.525,
          0.7375
         ]
        },
        "xaxis4": {
         "anchor": "y4",
         "domain": [
          0.7875,
          1
         ]
        },
        "xaxis5": {
         "anchor": "y5",
         "domain": [
          0,
          0.2125
         ]
        },
        "xaxis6": {
         "anchor": "y6",
         "domain": [
          0.2625,
          0.475
         ]
        },
        "xaxis7": {
         "anchor": "y7",
         "domain": [
          0.525,
          0.7375
         ]
        },
        "xaxis8": {
         "anchor": "y8",
         "domain": [
          0.7875,
          1
         ]
        },
        "yaxis": {
         "anchor": "x",
         "domain": [
          0.625,
          1
         ]
        },
        "yaxis2": {
         "anchor": "x2",
         "domain": [
          0.625,
          1
         ]
        },
        "yaxis3": {
         "anchor": "x3",
         "domain": [
          0.625,
          1
         ]
        },
        "yaxis4": {
         "anchor": "x4",
         "domain": [
          0.625,
          1
         ]
        },
        "yaxis5": {
         "anchor": "x5",
         "domain": [
          0,
          0.375
         ]
        },
        "yaxis6": {
         "anchor": "x6",
         "domain": [
          0,
          0.375
         ]
        },
        "yaxis7": {
         "anchor": "x7",
         "domain": [
          0,
          0.375
         ]
        },
        "yaxis8": {
         "anchor": "x8",
         "domain": [
          0,
          0.375
         ]
        }
       }
      }
     },
     "metadata": {},
     "output_type": "display_data"
    },
    {
     "data": {
      "application/vnd.plotly.v1+json": {
       "config": {
        "plotlyServerURL": "https://plot.ly"
       },
       "data": [
        {
         "hovertemplate": "variable=MIB (Italy)<br>Date=%{x}<br>value=%{y}<extra></extra>",
         "legendgroup": "MIB (Italy)",
         "line": {
          "color": "#636efa",
          "dash": "solid"
         },
         "marker": {
          "symbol": "circle"
         },
         "mode": "lines",
         "name": "MIB (Italy)",
         "orientation": "v",
         "showlegend": true,
         "type": "scatter",
         "x": [
          "2023-01-09T00:00:00",
          "2023-01-10T00:00:00",
          "2023-01-11T00:00:00",
          "2023-01-12T00:00:00",
          "2023-01-13T00:00:00",
          "2023-01-16T00:00:00",
          "2023-01-17T00:00:00",
          "2023-01-18T00:00:00",
          "2023-01-19T00:00:00",
          "2023-01-20T00:00:00",
          "2023-01-23T00:00:00",
          "2023-01-24T00:00:00",
          "2023-01-25T00:00:00",
          "2023-01-26T00:00:00",
          "2023-01-27T00:00:00",
          "2023-01-30T00:00:00",
          "2023-01-31T00:00:00",
          "2023-02-01T00:00:00",
          "2023-02-02T00:00:00",
          "2023-02-03T00:00:00",
          "2023-02-06T00:00:00",
          "2023-02-07T00:00:00",
          "2023-02-08T00:00:00",
          "2023-02-09T00:00:00",
          "2023-02-10T00:00:00",
          "2023-02-13T00:00:00",
          "2023-02-14T00:00:00",
          "2023-02-15T00:00:00",
          "2023-02-16T00:00:00",
          "2023-02-17T00:00:00",
          "2023-02-20T00:00:00",
          "2023-02-21T00:00:00",
          "2023-02-22T00:00:00",
          "2023-02-23T00:00:00",
          "2023-02-24T00:00:00",
          "2023-02-27T00:00:00",
          "2023-02-28T00:00:00",
          "2023-03-01T00:00:00",
          "2023-03-02T00:00:00",
          "2023-03-03T00:00:00",
          "2023-03-06T00:00:00",
          "2023-03-07T00:00:00",
          "2023-03-08T00:00:00",
          "2023-03-09T00:00:00",
          "2023-03-10T00:00:00",
          "2023-03-13T00:00:00",
          "2023-03-14T00:00:00",
          "2023-03-15T00:00:00",
          "2023-03-16T00:00:00",
          "2023-03-17T00:00:00",
          "2023-03-20T00:00:00",
          "2023-03-21T00:00:00",
          "2023-03-22T00:00:00",
          "2023-03-23T00:00:00",
          "2023-03-24T00:00:00",
          "2023-03-27T00:00:00",
          "2023-03-28T00:00:00",
          "2023-03-29T00:00:00",
          "2023-03-30T00:00:00",
          "2023-03-31T00:00:00",
          "2023-04-03T00:00:00",
          "2023-04-04T00:00:00",
          "2023-04-05T00:00:00",
          "2023-04-06T00:00:00",
          "2023-04-07T00:00:00",
          "2023-04-10T00:00:00",
          "2023-04-11T00:00:00",
          "2023-04-12T00:00:00",
          "2023-04-13T00:00:00",
          "2023-04-14T00:00:00",
          "2023-04-17T00:00:00",
          "2023-04-18T00:00:00",
          "2023-04-19T00:00:00",
          "2023-04-20T00:00:00",
          "2023-04-21T00:00:00",
          "2023-04-24T00:00:00",
          "2023-04-25T00:00:00",
          "2023-04-26T00:00:00",
          "2023-04-27T00:00:00",
          "2023-04-28T00:00:00",
          "2023-05-01T00:00:00",
          "2023-05-02T00:00:00",
          "2023-05-03T00:00:00",
          "2023-05-04T00:00:00",
          "2023-05-05T00:00:00",
          "2023-05-08T00:00:00",
          "2023-05-09T00:00:00",
          "2023-05-10T00:00:00",
          "2023-05-11T00:00:00",
          "2023-05-12T00:00:00",
          "2023-05-15T00:00:00",
          "2023-05-16T00:00:00",
          "2023-05-17T00:00:00",
          "2023-05-18T00:00:00",
          "2023-05-19T00:00:00",
          "2023-05-22T00:00:00",
          "2023-05-23T00:00:00",
          "2023-05-24T00:00:00",
          "2023-05-25T00:00:00",
          "2023-05-26T00:00:00",
          "2023-05-29T00:00:00",
          "2023-05-30T00:00:00",
          "2023-05-31T00:00:00",
          "2023-06-01T00:00:00",
          "2023-06-02T00:00:00",
          "2023-06-05T00:00:00",
          "2023-06-06T00:00:00",
          "2023-06-07T00:00:00",
          "2023-06-08T00:00:00",
          "2023-06-09T00:00:00",
          "2023-06-12T00:00:00",
          "2023-06-13T00:00:00",
          "2023-06-14T00:00:00",
          "2023-06-15T00:00:00",
          "2023-06-16T00:00:00",
          "2023-06-19T00:00:00",
          "2023-06-20T00:00:00",
          "2023-06-21T00:00:00",
          "2023-06-22T00:00:00",
          "2023-06-23T00:00:00",
          "2023-06-26T00:00:00",
          "2023-06-27T00:00:00",
          "2023-06-28T00:00:00",
          "2023-06-29T00:00:00",
          "2023-06-30T00:00:00",
          "2023-07-03T00:00:00",
          "2023-07-04T00:00:00",
          "2023-07-05T00:00:00",
          "2023-07-06T00:00:00",
          "2023-07-07T00:00:00"
         ],
         "xaxis": "x",
         "y": [
          null,
          null,
          0.007149621907419027,
          0.014442803744145239,
          0.016345089000519366,
          0.02091130698010055,
          0.023995230630071217,
          0.026724269665501958,
          0.009065818258560707,
          0.01607355541596551,
          0.01781784331679397,
          0.02025474617636657,
          0.019906980566880027,
          0.03307592675696441,
          0.04135644658955331,
          0.037566553476006195,
          0.04754094476900027,
          0.05144309590082622,
          0.0662003565552039,
          0.06065013139934313,
          0.06328107801911415,
          0.06686431821736788,
          0.06841184984529677,
          0.08096117762184019,
          0.0723435824818856,
          0.07859508802627548,
          0.08074300373638867,
          0.0820513336220981,
          0.09360631161224686,
          0.08990160456054391,
          0.0843368001444766,
          0.0775011555951305,
          0.06623725488186888,
          0.0727102454860302,
          0.06194794198994235,
          0.07877729380999128,
          0.08001541348310333,
          0.07406573082902787,
          0.07709974701054464,
          0.09256462614295542,
          0.09701114976708788,
          0.09029790813426455,
          0.09568643286581996,
          0.08845917525992966,
          0.07285687305227542,
          0.03177826618022624,
          0.05506892923486495,
          0.007893072727176889,
          0.021606019474270433,
          0.0051120834884660175,
          0.020872697686839022,
          0.045810124455057166,
          0.044642010073123954,
          0.04309498589891195,
          0.020563769664610647,
          0.03265627963587984,
          0.03730072227725106,
          0.05275290279803692,
          0.06324407045106246,
          0.06667992863854456,
          0.06907434526886523,
          0.06346609531875955,
          0.057528496696745084,
          0.07036127575001366,
          0.07036127575001366,
          0.07036127575001366,
          0.08176074153868768,
          0.0854956747173703,
          0.08542328438868657,
          0.0942523296514392,
          0.0880621421746397,
          0.09493378512317738,
          0.0964743138649263,
          0.0854232843886864,
          0.08972141463988055,
          0.08216028388641042,
          0.07179333577406789,
          0.0664586162552133,
          0.0683013912579497,
          0.06531438802296256,
          0.06531438802296256,
          0.0486681288071875,
          0.05633673461013877,
          0.0501690671752695,
          0.07530969410959333,
          0.07812119755900879,
          0.07658863020923067,
          0.07223355735937136,
          0.06612655581716266,
          0.07523656261914095,
          0.07149974701640813,
          0.06980993690157736,
          0.06969963264555969,
          0.07116935660206672,
          0.08154274204648941,
          0.07391928042053524,
          0.06892716198861967,
          0.0447174134813934,
          0.04029672353223844,
          0.05178006728016815,
          0.04817983837736816,
          0.04663828185228569,
          0.026685884159863962,
          0.046638281852285676,
          0.06498194735132572,
          0.057156223592899603,
          0.0638360272555024,
          0.06453852113757115,
          0.07260026070048115,
          0.06844866666322313,
          0.07753763929604096,
          0.08321285825359362,
          0.09198943829231984,
          0.08921671006159054,
          0.0938934822653798,
          0.09000970293016536,
          0.08357555819591087,
          0.08477153550617607,
          0.07753763929604102,
          0.07021428177650153,
          0.07142633635714753,
          0.07720923805976052,
          0.08578518363988569,
          0.09625949878408156,
          0.10705039392789101,
          0.11467243583898162,
          0.11256102287173236,
          0.10666067540601443,
          0.08107024671721992,
          0.09087406947537378
         ],
         "yaxis": "y"
        },
        {
         "hovertemplate": "variable='FIX' China large-cap ETF<br>Date=%{x}<br>value=%{y}<extra></extra>",
         "legendgroup": "'FIX' China large-cap ETF",
         "line": {
          "color": "#EF553B",
          "dash": "solid"
         },
         "marker": {
          "symbol": "circle"
         },
         "mode": "lines",
         "name": "'FIX' China large-cap ETF",
         "orientation": "v",
         "showlegend": true,
         "type": "scatter",
         "x": [
          "2023-01-09T00:00:00",
          "2023-01-10T00:00:00",
          "2023-01-11T00:00:00",
          "2023-01-12T00:00:00",
          "2023-01-13T00:00:00",
          "2023-01-16T00:00:00",
          "2023-01-17T00:00:00",
          "2023-01-18T00:00:00",
          "2023-01-19T00:00:00",
          "2023-01-20T00:00:00",
          "2023-01-23T00:00:00",
          "2023-01-24T00:00:00",
          "2023-01-25T00:00:00",
          "2023-01-26T00:00:00",
          "2023-01-27T00:00:00",
          "2023-01-30T00:00:00",
          "2023-01-31T00:00:00",
          "2023-02-01T00:00:00",
          "2023-02-02T00:00:00",
          "2023-02-03T00:00:00",
          "2023-02-06T00:00:00",
          "2023-02-07T00:00:00",
          "2023-02-08T00:00:00",
          "2023-02-09T00:00:00",
          "2023-02-10T00:00:00",
          "2023-02-13T00:00:00",
          "2023-02-14T00:00:00",
          "2023-02-15T00:00:00",
          "2023-02-16T00:00:00",
          "2023-02-17T00:00:00",
          "2023-02-20T00:00:00",
          "2023-02-21T00:00:00",
          "2023-02-22T00:00:00",
          "2023-02-23T00:00:00",
          "2023-02-24T00:00:00",
          "2023-02-27T00:00:00",
          "2023-02-28T00:00:00",
          "2023-03-01T00:00:00",
          "2023-03-02T00:00:00",
          "2023-03-03T00:00:00",
          "2023-03-06T00:00:00",
          "2023-03-07T00:00:00",
          "2023-03-08T00:00:00",
          "2023-03-09T00:00:00",
          "2023-03-10T00:00:00",
          "2023-03-13T00:00:00",
          "2023-03-14T00:00:00",
          "2023-03-15T00:00:00",
          "2023-03-16T00:00:00",
          "2023-03-17T00:00:00",
          "2023-03-20T00:00:00",
          "2023-03-21T00:00:00",
          "2023-03-22T00:00:00",
          "2023-03-23T00:00:00",
          "2023-03-24T00:00:00",
          "2023-03-27T00:00:00",
          "2023-03-28T00:00:00",
          "2023-03-29T00:00:00",
          "2023-03-30T00:00:00",
          "2023-03-31T00:00:00",
          "2023-04-03T00:00:00",
          "2023-04-04T00:00:00",
          "2023-04-05T00:00:00",
          "2023-04-06T00:00:00",
          "2023-04-07T00:00:00",
          "2023-04-10T00:00:00",
          "2023-04-11T00:00:00",
          "2023-04-12T00:00:00",
          "2023-04-13T00:00:00",
          "2023-04-14T00:00:00",
          "2023-04-17T00:00:00",
          "2023-04-18T00:00:00",
          "2023-04-19T00:00:00",
          "2023-04-20T00:00:00",
          "2023-04-21T00:00:00",
          "2023-04-24T00:00:00",
          "2023-04-25T00:00:00",
          "2023-04-26T00:00:00",
          "2023-04-27T00:00:00",
          "2023-04-28T00:00:00",
          "2023-05-01T00:00:00",
          "2023-05-02T00:00:00",
          "2023-05-03T00:00:00",
          "2023-05-04T00:00:00",
          "2023-05-05T00:00:00",
          "2023-05-08T00:00:00",
          "2023-05-09T00:00:00",
          "2023-05-10T00:00:00",
          "2023-05-11T00:00:00",
          "2023-05-12T00:00:00",
          "2023-05-15T00:00:00",
          "2023-05-16T00:00:00",
          "2023-05-17T00:00:00",
          "2023-05-18T00:00:00",
          "2023-05-19T00:00:00",
          "2023-05-22T00:00:00",
          "2023-05-23T00:00:00",
          "2023-05-24T00:00:00",
          "2023-05-25T00:00:00",
          "2023-05-26T00:00:00",
          "2023-05-29T00:00:00",
          "2023-05-30T00:00:00",
          "2023-05-31T00:00:00",
          "2023-06-01T00:00:00",
          "2023-06-02T00:00:00",
          "2023-06-05T00:00:00",
          "2023-06-06T00:00:00",
          "2023-06-07T00:00:00",
          "2023-06-08T00:00:00",
          "2023-06-09T00:00:00",
          "2023-06-12T00:00:00",
          "2023-06-13T00:00:00",
          "2023-06-14T00:00:00",
          "2023-06-15T00:00:00",
          "2023-06-16T00:00:00",
          "2023-06-19T00:00:00",
          "2023-06-20T00:00:00",
          "2023-06-21T00:00:00",
          "2023-06-22T00:00:00",
          "2023-06-23T00:00:00",
          "2023-06-26T00:00:00",
          "2023-06-27T00:00:00",
          "2023-06-28T00:00:00",
          "2023-06-29T00:00:00",
          "2023-06-30T00:00:00",
          "2023-07-03T00:00:00",
          "2023-07-04T00:00:00",
          "2023-07-05T00:00:00",
          "2023-07-06T00:00:00",
          "2023-07-07T00:00:00"
         ],
         "xaxis": "x",
         "y": [
          null,
          0.012422500267067167,
          0.022501320701309648,
          0.014003957470364219,
          0.0281262991224853,
          0.0281262991224853,
          0.006071236598171305,
          -0.0038536058664216354,
          0.015898543794241733,
          0.040514232275055476,
          0.05153355636461198,
          0.0497055310228891,
          0.0518380388203457,
          0.06483889336145249,
          0.06303493579170263,
          0.02531776495446319,
          0.019048132339679193,
          0.041129494926807716,
          0.021247016987464937,
          -0.00353190937928273,
          -0.018764706432844655,
          -0.010309426352489536,
          -0.024332129124017887,
          -0.005785961084796884,
          -0.03456499062181191,
          -0.018111818636690476,
          -0.027292151520832704,
          -0.0352287129455823,
          -0.03456499062181203,
          -0.05501142025082152,
          -0.05501142025082152,
          -0.06659192119491161,
          -0.07519339493796784,
          -0.08073744521584943,
          -0.1114331037828102,
          -0.09826325917774799,
          -0.10964324551662953,
          -0.06899286709615282,
          -0.050956016848601085,
          -0.0523059914406142,
          -0.0635134369617784,
          -0.0817803726865789,
          -0.09262153189867217,
          -0.1302401854674575,
          -0.1309705709093944,
          -0.12477864088862545,
          -0.11826400192309258,
          -0.13243315465972666,
          -0.11970796690856562,
          -0.12224005520321624,
          -0.12296475769711186,
          -0.10892819825382366,
          -0.10571672945058336,
          -0.07484791436569349,
          -0.07900164623545405,
          -0.09967874627366725,
          -0.05942347817844081,
          -0.0590834021531057,
          -0.04222526175682813,
          -0.05501142025082176,
          -0.05942347817844075,
          -0.06385502313561618,
          -0.07553899490831935,
          -0.0631719674292129,
          -0.0631719674292129,
          -0.0665919211949118,
          -0.06590705977408608,
          -0.09367693413136773,
          -0.07071143061422709,
          -0.08317270358406846,
          -0.05636694940567179,
          -0.06044433541442131,
          -0.07277753367925695,
          -0.07934856507536214,
          -0.09402898254834514,
          -0.10429274414241413,
          -0.1317015603285088,
          -0.1153821740647977,
          -0.10145084232915762,
          -0.09649679785426075,
          -0.10038720790149491,
          -0.11934676282731407,
          -0.12405269274365627,
          -0.09755636792837671,
          -0.08456684197862742,
          -0.07692265680923124,
          -0.09262153189867275,
          -0.09967874627366756,
          -0.08911148026826861,
          -0.1157418796841655,
          -0.0717439485491028,
          -0.08212825702755307,
          -0.09262153189867274,
          -0.10642955160191526,
          -0.1117914601885138,
          -0.09579108610780258,
          -0.12659582023211224,
          -0.1468059613456994,
          -0.16743299214476923,
          -0.1508974413295346,
          -0.1508974413295346,
          -0.180784312034903,
          -0.18347616008120504,
          -0.15837980112722294,
          -0.12878080326722513,
          -0.13024018546745791,
          -0.10857086626578691,
          -0.12071495595178863,
          -0.11022468392541372,
          -0.10914578509867189,
          -0.11166512043187089,
          -0.10019958112247844,
          -0.08675277323512236,
          -0.06485031058258398,
          -0.0707134098740912,
          -0.0707134098740912,
          -0.11455216406819951,
          -0.12071495595178872,
          -0.12289913830388893,
          -0.14389050676381493,
          -0.13869378434582366,
          -0.11708517407984327,
          -0.12545340690919893,
          -0.1412887698181317,
          -0.13205168233824288,
          -0.11310763478902898,
          -0.11310763478902898,
          -0.12472299963306513,
          -0.15398973049569403,
          -0.13241954067336315
         ],
         "yaxis": "y"
        },
        {
         "hovertemplate": "variable=FTSE100 (U.K.)<br>Date=%{x}<br>value=%{y}<extra></extra>",
         "legendgroup": "FTSE100 (U.K.)",
         "line": {
          "color": "#00cc96",
          "dash": "solid"
         },
         "marker": {
          "symbol": "circle"
         },
         "mode": "lines",
         "name": "FTSE100 (U.K.)",
         "orientation": "v",
         "showlegend": true,
         "type": "scatter",
         "x": [
          "2023-01-09T00:00:00",
          "2023-01-10T00:00:00",
          "2023-01-11T00:00:00",
          "2023-01-12T00:00:00",
          "2023-01-13T00:00:00",
          "2023-01-16T00:00:00",
          "2023-01-17T00:00:00",
          "2023-01-18T00:00:00",
          "2023-01-19T00:00:00",
          "2023-01-20T00:00:00",
          "2023-01-23T00:00:00",
          "2023-01-24T00:00:00",
          "2023-01-25T00:00:00",
          "2023-01-26T00:00:00",
          "2023-01-27T00:00:00",
          "2023-01-30T00:00:00",
          "2023-01-31T00:00:00",
          "2023-02-01T00:00:00",
          "2023-02-02T00:00:00",
          "2023-02-03T00:00:00",
          "2023-02-06T00:00:00",
          "2023-02-07T00:00:00",
          "2023-02-08T00:00:00",
          "2023-02-09T00:00:00",
          "2023-02-10T00:00:00",
          "2023-02-13T00:00:00",
          "2023-02-14T00:00:00",
          "2023-02-15T00:00:00",
          "2023-02-16T00:00:00",
          "2023-02-17T00:00:00",
          "2023-02-20T00:00:00",
          "2023-02-21T00:00:00",
          "2023-02-22T00:00:00",
          "2023-02-23T00:00:00",
          "2023-02-24T00:00:00",
          "2023-02-27T00:00:00",
          "2023-02-28T00:00:00",
          "2023-03-01T00:00:00",
          "2023-03-02T00:00:00",
          "2023-03-03T00:00:00",
          "2023-03-06T00:00:00",
          "2023-03-07T00:00:00",
          "2023-03-08T00:00:00",
          "2023-03-09T00:00:00",
          "2023-03-10T00:00:00",
          "2023-03-13T00:00:00",
          "2023-03-14T00:00:00",
          "2023-03-15T00:00:00",
          "2023-03-16T00:00:00",
          "2023-03-17T00:00:00",
          "2023-03-20T00:00:00",
          "2023-03-21T00:00:00",
          "2023-03-22T00:00:00",
          "2023-03-23T00:00:00",
          "2023-03-24T00:00:00",
          "2023-03-27T00:00:00",
          "2023-03-28T00:00:00",
          "2023-03-29T00:00:00",
          "2023-03-30T00:00:00",
          "2023-03-31T00:00:00",
          "2023-04-03T00:00:00",
          "2023-04-04T00:00:00",
          "2023-04-05T00:00:00",
          "2023-04-06T00:00:00",
          "2023-04-07T00:00:00",
          "2023-04-10T00:00:00",
          "2023-04-11T00:00:00",
          "2023-04-12T00:00:00",
          "2023-04-13T00:00:00",
          "2023-04-14T00:00:00",
          "2023-04-17T00:00:00",
          "2023-04-18T00:00:00",
          "2023-04-19T00:00:00",
          "2023-04-20T00:00:00",
          "2023-04-21T00:00:00",
          "2023-04-24T00:00:00",
          "2023-04-25T00:00:00",
          "2023-04-26T00:00:00",
          "2023-04-27T00:00:00",
          "2023-04-28T00:00:00",
          "2023-05-01T00:00:00",
          "2023-05-02T00:00:00",
          "2023-05-03T00:00:00",
          "2023-05-04T00:00:00",
          "2023-05-05T00:00:00",
          "2023-05-08T00:00:00",
          "2023-05-09T00:00:00",
          "2023-05-10T00:00:00",
          "2023-05-11T00:00:00",
          "2023-05-12T00:00:00",
          "2023-05-15T00:00:00",
          "2023-05-16T00:00:00",
          "2023-05-17T00:00:00",
          "2023-05-18T00:00:00",
          "2023-05-19T00:00:00",
          "2023-05-22T00:00:00",
          "2023-05-23T00:00:00",
          "2023-05-24T00:00:00",
          "2023-05-25T00:00:00",
          "2023-05-26T00:00:00",
          "2023-05-29T00:00:00",
          "2023-05-30T00:00:00",
          "2023-05-31T00:00:00",
          "2023-06-01T00:00:00",
          "2023-06-02T00:00:00",
          "2023-06-05T00:00:00",
          "2023-06-06T00:00:00",
          "2023-06-07T00:00:00",
          "2023-06-08T00:00:00",
          "2023-06-09T00:00:00",
          "2023-06-12T00:00:00",
          "2023-06-13T00:00:00",
          "2023-06-14T00:00:00",
          "2023-06-15T00:00:00",
          "2023-06-16T00:00:00",
          "2023-06-19T00:00:00",
          "2023-06-20T00:00:00",
          "2023-06-21T00:00:00",
          "2023-06-22T00:00:00",
          "2023-06-23T00:00:00",
          "2023-06-26T00:00:00",
          "2023-06-27T00:00:00",
          "2023-06-28T00:00:00",
          "2023-06-29T00:00:00",
          "2023-06-30T00:00:00",
          "2023-07-03T00:00:00",
          "2023-07-04T00:00:00",
          "2023-07-05T00:00:00",
          "2023-07-06T00:00:00",
          "2023-07-07T00:00:00"
         ],
         "xaxis": "x",
         "y": [
          null,
          -0.003943077152684498,
          0.0000129577093552595,
          0.008905341842063548,
          0.015312804225681195,
          0.017350476356340766,
          0.016192047141664643,
          0.013603065618806124,
          0.0028955052827481977,
          0.005898528968407193,
          0.007711428912796327,
          0.004198348843185731,
          0.0025856845460769107,
          0.0046752242348306345,
          0.005203372946911732,
          0.007737082369533536,
          0.006040090724048323,
          0.004675224234830645,
          0.012261289578674207,
          0.02264169182888181,
          0.014368987232312502,
          0.017935551867860153,
          0.02053874440473642,
          0.023830636587290472,
          0.02019624736262523,
          0.028421143509857864,
          0.02921349706355995,
          0.03471761436516999,
          0.036553957172334645,
          0.03554251321049645,
          0.03677855655798867,
          0.03221379467294581,
          0.02627984206680388,
          0.023388127946274265,
          0.019714075356174927,
          0.0268471035258348,
          0.01940936058072936,
          0.024298181601642307,
          0.0279680616684179,
          0.02835822945749817,
          0.02617892494310519,
          0.024879207445884344,
          0.026191547837371723,
          0.01987903879533409,
          0.003037492760422412,
          -0.023086736534448947,
          -0.011430902319932485,
          -0.050497131285121066,
          -0.04161842576645796,
          -0.05173693521872336,
          -0.04244198985710927,
          -0.02473076295784474,
          -0.020678634076852463,
          -0.0295991662662671,
          -0.04222589768956322,
          -0.033312957241386026,
          -0.03164139804654134,
          -0.021009079330308968,
          -0.013620016130418742,
          -0.01213821428488896,
          -0.0067411918789250114,
          -0.011771416433023884,
          -0.00805837563479836,
          0.0021595321246213363,
          0.0021595321246213363,
          0.0021595321246213363,
          0.007839877761418129,
          0.01284928695899076,
          0.015223536297335834,
          0.018850578937102423,
          0.01981558500553572,
          0.023603048131049374,
          0.022261959399706793,
          0.022742966533949225,
          0.024197125983703455,
          0.023957031670098054,
          0.02128668942470132,
          0.01639583450912723,
          0.013717978796042255,
          0.018685445738378877,
          0.018685445738378877,
          0.006207325173629603,
          0.00818656964619658,
          -0.002890918193901101,
          0.006901783884058063,
          0.006901783884058063,
          0.0050616926860716765,
          0.002120741850101666,
          0.000737626808703602,
          0.0038373631910583236,
          0.006811824700544176,
          0.0033859163018038975,
          -0.00022005386129785465,
          0.0022499107806627718,
          0.004133892179789395,
          0.005949991152651888,
          0.004919992349090058,
          -0.012741157859388688,
          -0.020136927234218914,
          -0.01272803399866357,
          -0.01272803399866357,
          -0.026603497795486868,
          -0.03675844656947693,
          -0.030840041018293057,
          -0.015340578150947791,
          -0.016300617782167723,
          -0.012610055023813928,
          -0.013108375690951373,
          -0.01634006654545732,
          -0.021260277858809646,
          -0.020163305824324827,
          -0.016985088203939347,
          -0.0159453920254005,
          -0.012583874924637365,
          -0.010697895631412654,
          -0.017814921656489856,
          -0.020348297981391386,
          -0.021683474750453617,
          -0.02927921341475773,
          -0.034638804685515,
          -0.03575171481848497,
          -0.034692398685067724,
          -0.029479180087645496,
          -0.03332628870657174,
          -0.025354639913720618,
          -0.025912479246987016,
          -0.026922595552055,
          -0.0372957848701139,
          -0.0592493239056312,
          -0.06249613812923096
         ],
         "yaxis": "y"
        },
        {
         "hovertemplate": "variable=DE40 (Germany)<br>Date=%{x}<br>value=%{y}<extra></extra>",
         "legendgroup": "DE40 (Germany)",
         "line": {
          "color": "#ab63fa",
          "dash": "solid"
         },
         "marker": {
          "symbol": "circle"
         },
         "mode": "lines",
         "name": "DE40 (Germany)",
         "orientation": "v",
         "showlegend": true,
         "type": "scatter",
         "x": [
          "2023-01-09T00:00:00",
          "2023-01-10T00:00:00",
          "2023-01-11T00:00:00",
          "2023-01-12T00:00:00",
          "2023-01-13T00:00:00",
          "2023-01-16T00:00:00",
          "2023-01-17T00:00:00",
          "2023-01-18T00:00:00",
          "2023-01-19T00:00:00",
          "2023-01-20T00:00:00",
          "2023-01-23T00:00:00",
          "2023-01-24T00:00:00",
          "2023-01-25T00:00:00",
          "2023-01-26T00:00:00",
          "2023-01-27T00:00:00",
          "2023-01-30T00:00:00",
          "2023-01-31T00:00:00",
          "2023-02-01T00:00:00",
          "2023-02-02T00:00:00",
          "2023-02-03T00:00:00",
          "2023-02-06T00:00:00",
          "2023-02-07T00:00:00",
          "2023-02-08T00:00:00",
          "2023-02-09T00:00:00",
          "2023-02-10T00:00:00",
          "2023-02-13T00:00:00",
          "2023-02-14T00:00:00",
          "2023-02-15T00:00:00",
          "2023-02-16T00:00:00",
          "2023-02-17T00:00:00",
          "2023-02-20T00:00:00",
          "2023-02-21T00:00:00",
          "2023-02-22T00:00:00",
          "2023-02-23T00:00:00",
          "2023-02-24T00:00:00",
          "2023-02-27T00:00:00",
          "2023-02-28T00:00:00",
          "2023-03-01T00:00:00",
          "2023-03-02T00:00:00",
          "2023-03-03T00:00:00",
          "2023-03-06T00:00:00",
          "2023-03-07T00:00:00",
          "2023-03-08T00:00:00",
          "2023-03-09T00:00:00",
          "2023-03-10T00:00:00",
          "2023-03-13T00:00:00",
          "2023-03-14T00:00:00",
          "2023-03-15T00:00:00",
          "2023-03-16T00:00:00",
          "2023-03-17T00:00:00",
          "2023-03-20T00:00:00",
          "2023-03-21T00:00:00",
          "2023-03-22T00:00:00",
          "2023-03-23T00:00:00",
          "2023-03-24T00:00:00",
          "2023-03-27T00:00:00",
          "2023-03-28T00:00:00",
          "2023-03-29T00:00:00",
          "2023-03-30T00:00:00",
          "2023-03-31T00:00:00",
          "2023-04-03T00:00:00",
          "2023-04-04T00:00:00",
          "2023-04-05T00:00:00",
          "2023-04-06T00:00:00",
          "2023-04-07T00:00:00",
          "2023-04-10T00:00:00",
          "2023-04-11T00:00:00",
          "2023-04-12T00:00:00",
          "2023-04-13T00:00:00",
          "2023-04-14T00:00:00",
          "2023-04-17T00:00:00",
          "2023-04-18T00:00:00",
          "2023-04-19T00:00:00",
          "2023-04-20T00:00:00",
          "2023-04-21T00:00:00",
          "2023-04-24T00:00:00",
          "2023-04-25T00:00:00",
          "2023-04-26T00:00:00",
          "2023-04-27T00:00:00",
          "2023-04-28T00:00:00",
          "2023-05-01T00:00:00",
          "2023-05-02T00:00:00",
          "2023-05-03T00:00:00",
          "2023-05-04T00:00:00",
          "2023-05-05T00:00:00",
          "2023-05-08T00:00:00",
          "2023-05-09T00:00:00",
          "2023-05-10T00:00:00",
          "2023-05-11T00:00:00",
          "2023-05-12T00:00:00",
          "2023-05-15T00:00:00",
          "2023-05-16T00:00:00",
          "2023-05-17T00:00:00",
          "2023-05-18T00:00:00",
          "2023-05-19T00:00:00",
          "2023-05-22T00:00:00",
          "2023-05-23T00:00:00",
          "2023-05-24T00:00:00",
          "2023-05-25T00:00:00",
          "2023-05-26T00:00:00",
          "2023-05-29T00:00:00",
          "2023-05-30T00:00:00",
          "2023-05-31T00:00:00",
          "2023-06-01T00:00:00",
          "2023-06-02T00:00:00",
          "2023-06-05T00:00:00",
          "2023-06-06T00:00:00",
          "2023-06-07T00:00:00",
          "2023-06-08T00:00:00",
          "2023-06-09T00:00:00",
          "2023-06-12T00:00:00",
          "2023-06-13T00:00:00",
          "2023-06-14T00:00:00",
          "2023-06-15T00:00:00",
          "2023-06-16T00:00:00",
          "2023-06-19T00:00:00",
          "2023-06-20T00:00:00",
          "2023-06-21T00:00:00",
          "2023-06-22T00:00:00",
          "2023-06-23T00:00:00",
          "2023-06-26T00:00:00",
          "2023-06-27T00:00:00",
          "2023-06-28T00:00:00",
          "2023-06-29T00:00:00",
          "2023-06-30T00:00:00",
          "2023-07-03T00:00:00",
          "2023-07-04T00:00:00",
          "2023-07-05T00:00:00",
          "2023-07-06T00:00:00",
          "2023-07-07T00:00:00"
         ],
         "xaxis": "x",
         "y": [
          null,
          null,
          0.011662037457026157,
          0.019019857494891698,
          0.02089213508206326,
          0.024037050176616254,
          0.027534964790771378,
          0.0271878654192717,
          0.009817283004756667,
          0.017375543021597478,
          0.02198063818156303,
          0.021328907861774014,
          0.020568622942923803,
          0.023958388001418113,
          0.02509306647138675,
          0.02351094776259599,
          0.023655684182786286,
          0.027118070842693694,
          0.04852331542998678,
          0.04640873748893502,
          0.0379395354709989,
          0.03630713253845331,
          0.04224019458251897,
          0.049440382542521616,
          0.03546482794878911,
          0.041285293351231406,
          0.04019488267216651,
          0.04833949874715741,
          0.05009850839685326,
          0.04676859505382681,
          0.04648111055413452,
          0.04130349590371798,
          0.041450879979338356,
          0.04636096965850246,
          0.029026563788841806,
          0.040251453603287954,
          0.03919182054902754,
          0.03527138480311678,
          0.03674824785743115,
          0.05297521119456573,
          0.057790186081743515,
          0.05176386648345873,
          0.05640232275954668,
          0.05648803139982352,
          0.04327261437544073,
          0.01243506210401496,
          0.03054350851070288,
          -0.0026662185376585615,
          0.01294496906275579,
          -0.00043323003946123435,
          0.01068950417189981,
          0.028079327888477185,
          0.02945055709115698,
          0.02906926012610956,
          0.012285362584879285,
          0.023616693917049725,
          0.024564165824128487,
          0.03682266130841052,
          0.049374703411476026,
          0.0562084517021859,
          0.053137620020560786,
          0.05458384416488969,
          0.04923099954086331,
          0.05422616242946096,
          0.05422616242946096,
          0.05422616242946096,
          0.057891745150781486,
          0.06098049682867472,
          0.06262592096177402,
          0.06757504722193694,
          0.06643761573901888,
          0.07231910905828673,
          0.07310772541556247,
          0.06684536316832779,
          0.07225553047042692,
          0.07113978800533609,
          0.07165526992124942,
          0.06683021629044354,
          0.06712896927250703,
          0.0748161956414202,
          0.0748161956414202,
          0.062465728999305054,
          0.06805315971878859,
          0.0629297805488285,
          0.07724000665683729,
          0.07672678412774753,
          0.0768929095405738,
          0.07317253995308613,
          0.06930754250094365,
          0.07427847000417466,
          0.07449334954820502,
          0.07327942868631686,
          0.0766308546387255,
          0.08983751029438423,
          0.09674406558738534,
          0.09358156175527893,
          0.08918768180942914,
          0.06976337591710936,
          0.06670798186351805,
          0.0786768641918818,
          0.07672054011427183,
          0.0739698757247624,
          0.05845686894645058,
          0.07049093462013646,
          0.08287604762836666,
          0.07741981090806153,
          0.07920667371594954,
          0.07721118847487494,
          0.07905155910762252,
          0.07653932430754526,
          0.08577750865259567,
          0.09399379538673044,
          0.09891739066810198,
          0.09764933253440856,
          0.10178498426212204,
          0.09217586189580293,
          0.08661268618515001,
          0.0811238322875671,
          0.07893899434879353,
          0.06899364702938156,
          0.0679266899787588,
          0.0700619318982339,
          0.07648666761192206,
          0.07634368457464101,
          0.0888805707159119,
          0.08473147697670155,
          0.0821243868640238,
          0.07577038368713122,
          0.049770159937593705,
          0.054579400531981334
         ],
         "yaxis": "y"
        },
        {
         "hovertemplate": "variable=S&P500 (U.S.)<br>Date=%{x}<br>value=%{y}<extra></extra>",
         "legendgroup": "S&P500 (U.S.)",
         "line": {
          "color": "#FFA15A",
          "dash": "solid"
         },
         "marker": {
          "symbol": "circle"
         },
         "mode": "lines",
         "name": "S&P500 (U.S.)",
         "orientation": "v",
         "showlegend": true,
         "type": "scatter",
         "x": [
          "2023-01-09T00:00:00",
          "2023-01-10T00:00:00",
          "2023-01-11T00:00:00",
          "2023-01-12T00:00:00",
          "2023-01-13T00:00:00",
          "2023-01-16T00:00:00",
          "2023-01-17T00:00:00",
          "2023-01-18T00:00:00",
          "2023-01-19T00:00:00",
          "2023-01-20T00:00:00",
          "2023-01-23T00:00:00",
          "2023-01-24T00:00:00",
          "2023-01-25T00:00:00",
          "2023-01-26T00:00:00",
          "2023-01-27T00:00:00",
          "2023-01-30T00:00:00",
          "2023-01-31T00:00:00",
          "2023-02-01T00:00:00",
          "2023-02-02T00:00:00",
          "2023-02-03T00:00:00",
          "2023-02-06T00:00:00",
          "2023-02-07T00:00:00",
          "2023-02-08T00:00:00",
          "2023-02-09T00:00:00",
          "2023-02-10T00:00:00",
          "2023-02-13T00:00:00",
          "2023-02-14T00:00:00",
          "2023-02-15T00:00:00",
          "2023-02-16T00:00:00",
          "2023-02-17T00:00:00",
          "2023-02-20T00:00:00",
          "2023-02-21T00:00:00",
          "2023-02-22T00:00:00",
          "2023-02-23T00:00:00",
          "2023-02-24T00:00:00",
          "2023-02-27T00:00:00",
          "2023-02-28T00:00:00",
          "2023-03-01T00:00:00",
          "2023-03-02T00:00:00",
          "2023-03-03T00:00:00",
          "2023-03-06T00:00:00",
          "2023-03-07T00:00:00",
          "2023-03-08T00:00:00",
          "2023-03-09T00:00:00",
          "2023-03-10T00:00:00",
          "2023-03-13T00:00:00",
          "2023-03-14T00:00:00",
          "2023-03-15T00:00:00",
          "2023-03-16T00:00:00",
          "2023-03-17T00:00:00",
          "2023-03-20T00:00:00",
          "2023-03-21T00:00:00",
          "2023-03-22T00:00:00",
          "2023-03-23T00:00:00",
          "2023-03-24T00:00:00",
          "2023-03-27T00:00:00",
          "2023-03-28T00:00:00",
          "2023-03-29T00:00:00",
          "2023-03-30T00:00:00",
          "2023-03-31T00:00:00",
          "2023-04-03T00:00:00",
          "2023-04-04T00:00:00",
          "2023-04-05T00:00:00",
          "2023-04-06T00:00:00",
          "2023-04-07T00:00:00",
          "2023-04-10T00:00:00",
          "2023-04-11T00:00:00",
          "2023-04-12T00:00:00",
          "2023-04-13T00:00:00",
          "2023-04-14T00:00:00",
          "2023-04-17T00:00:00",
          "2023-04-18T00:00:00",
          "2023-04-19T00:00:00",
          "2023-04-20T00:00:00",
          "2023-04-21T00:00:00",
          "2023-04-24T00:00:00",
          "2023-04-25T00:00:00",
          "2023-04-26T00:00:00",
          "2023-04-27T00:00:00",
          "2023-04-28T00:00:00",
          "2023-05-01T00:00:00",
          "2023-05-02T00:00:00",
          "2023-05-03T00:00:00",
          "2023-05-04T00:00:00",
          "2023-05-05T00:00:00",
          "2023-05-08T00:00:00",
          "2023-05-09T00:00:00",
          "2023-05-10T00:00:00",
          "2023-05-11T00:00:00",
          "2023-05-12T00:00:00",
          "2023-05-15T00:00:00",
          "2023-05-16T00:00:00",
          "2023-05-17T00:00:00",
          "2023-05-18T00:00:00",
          "2023-05-19T00:00:00",
          "2023-05-22T00:00:00",
          "2023-05-23T00:00:00",
          "2023-05-24T00:00:00",
          "2023-05-25T00:00:00",
          "2023-05-26T00:00:00",
          "2023-05-29T00:00:00",
          "2023-05-30T00:00:00",
          "2023-05-31T00:00:00",
          "2023-06-01T00:00:00",
          "2023-06-02T00:00:00",
          "2023-06-05T00:00:00",
          "2023-06-06T00:00:00",
          "2023-06-07T00:00:00",
          "2023-06-08T00:00:00",
          "2023-06-09T00:00:00",
          "2023-06-12T00:00:00",
          "2023-06-13T00:00:00",
          "2023-06-14T00:00:00",
          "2023-06-15T00:00:00",
          "2023-06-16T00:00:00",
          "2023-06-19T00:00:00",
          "2023-06-20T00:00:00",
          "2023-06-21T00:00:00",
          "2023-06-22T00:00:00",
          "2023-06-23T00:00:00",
          "2023-06-26T00:00:00",
          "2023-06-27T00:00:00",
          "2023-06-28T00:00:00",
          "2023-06-29T00:00:00",
          "2023-06-30T00:00:00",
          "2023-07-03T00:00:00",
          "2023-07-04T00:00:00",
          "2023-07-05T00:00:00",
          "2023-07-06T00:00:00",
          "2023-07-07T00:00:00"
         ],
         "xaxis": "x",
         "y": [
          null,
          0.006953997970593733,
          0.01972156916288741,
          0.02313165407493014,
          0.027120546219586192,
          0.027120546219586192,
          0.02508799078858988,
          0.009403023810845207,
          0.0017353519090327792,
          0.02047702546138474,
          0.03228834141271329,
          0.03157658504842147,
          0.03139484347495581,
          0.04234255150407011,
          0.04483428552577397,
          0.031780716210481307,
          0.04631702062690084,
          0.056715076923785565,
          0.07130746155063994,
          0.060898868913354484,
          0.054739475719415225,
          0.0675298397568123,
          0.05638726674440095,
          0.04751825691336356,
          0.04971111262258069,
          0.061094682573735834,
          0.060814228718242075,
          0.06358356625131877,
          0.04969887704643716,
          0.046927634874154425,
          0.046927634874154425,
          0.026682850900682727,
          0.025108055415039344,
          0.03042333367827707,
          0.019829869058502887,
          0.022898161598055165,
          0.019857541767107453,
          0.01512107756361462,
          0.022674671294810593,
          0.03869342047129365,
          0.03938035125014195,
          0.0239347607708794,
          0.025348554906482672,
          0.006716696961000319,
          -0.007867272475066321,
          -0.00937817431580509,
          0.0069642139195585755,
          -0.00004115000979502178,
          0.0173684262392367,
          0.006287804965282997,
          0.01516667460122385,
          0.02806532211978295,
          0.011465073479940066,
          0.014445157349122488,
          0.020069120433425694,
          0.021714719997192777,
          0.02013963670880489,
          0.03427650748385169,
          0.03997550668333434,
          0.054308834465370895,
          0.05800085703117372,
          0.05218701728601119,
          0.04969153562888977,
          0.05326430876169302,
          0.05326430876169302,
          0.0542601157787031,
          0.054218762445719576,
          0.05007530612225819,
          0.06325081662008974,
          0.06117929903551175,
          0.0644800026181265,
          0.06533485742159248,
          0.06525059187365286,
          0.059280256685341724,
          0.06018303794264261,
          0.06103425472091492,
          0.04509707090233847,
          0.041248487398993595,
          0.06062568080168995,
          0.06884501211493342,
          0.06845883106642263,
          0.056804924385850844,
          0.04978201633095787,
          0.04253710287589513,
          0.060843269257774925,
          0.06129529574265699,
          0.056705356793597395,
          0.06117929903551183,
          0.05948123414580507,
          0.057896672556366026,
          0.06085047023668296,
          0.0544523625547655,
          0.06627305117683707,
          0.07567377424056423,
          0.07422686035988879,
          0.07438188303969118,
          0.06309641427140689,
          0.05575090159310168,
          0.06447035767211357,
          0.07743503860375435,
          0.07743503860375435,
          0.07745164173442012,
          0.07132428354820602,
          0.08113049863405984,
          0.09556031102416725,
          0.09355471953350954,
          0.09590584976736011,
          0.09208655584093949,
          0.09825612744846274,
          0.09940352847151326,
          0.10868150345326742,
          0.11559007417917633,
          0.11640916415930291,
          0.12851374465289292,
          0.12483536818514183,
          0.12483536818514183,
          0.12008901434990579,
          0.1148299279829806,
          0.11853385837031512,
          0.11084557031381297,
          0.1063486359506808,
          0.11773936947486155,
          0.11738523008647173,
          0.12184879820096173,
          0.13404314846284754,
          0.1352131415555212,
          0.1352131415555212,
          0.13324288345790847,
          0.1252888222820137,
          0.12241960948628022
         ],
         "yaxis": "y"
        },
        {
         "hovertemplate": "variable=Hang Seng (H.K.)<br>Date=%{x}<br>value=%{y}<extra></extra>",
         "legendgroup": "Hang Seng (H.K.)",
         "line": {
          "color": "#19d3f3",
          "dash": "solid"
         },
         "marker": {
          "symbol": "circle"
         },
         "mode": "lines",
         "name": "Hang Seng (H.K.)",
         "orientation": "v",
         "showlegend": true,
         "type": "scatter",
         "x": [
          "2023-01-09T00:00:00",
          "2023-01-10T00:00:00",
          "2023-01-11T00:00:00",
          "2023-01-12T00:00:00",
          "2023-01-13T00:00:00",
          "2023-01-16T00:00:00",
          "2023-01-17T00:00:00",
          "2023-01-18T00:00:00",
          "2023-01-19T00:00:00",
          "2023-01-20T00:00:00",
          "2023-01-23T00:00:00",
          "2023-01-24T00:00:00",
          "2023-01-25T00:00:00",
          "2023-01-26T00:00:00",
          "2023-01-27T00:00:00",
          "2023-01-30T00:00:00",
          "2023-01-31T00:00:00",
          "2023-02-01T00:00:00",
          "2023-02-02T00:00:00",
          "2023-02-03T00:00:00",
          "2023-02-06T00:00:00",
          "2023-02-07T00:00:00",
          "2023-02-08T00:00:00",
          "2023-02-09T00:00:00",
          "2023-02-10T00:00:00",
          "2023-02-13T00:00:00",
          "2023-02-14T00:00:00",
          "2023-02-15T00:00:00",
          "2023-02-16T00:00:00",
          "2023-02-17T00:00:00",
          "2023-02-20T00:00:00",
          "2023-02-21T00:00:00",
          "2023-02-22T00:00:00",
          "2023-02-23T00:00:00",
          "2023-02-24T00:00:00",
          "2023-02-27T00:00:00",
          "2023-02-28T00:00:00",
          "2023-03-01T00:00:00",
          "2023-03-02T00:00:00",
          "2023-03-03T00:00:00",
          "2023-03-06T00:00:00",
          "2023-03-07T00:00:00",
          "2023-03-08T00:00:00",
          "2023-03-09T00:00:00",
          "2023-03-10T00:00:00",
          "2023-03-13T00:00:00",
          "2023-03-14T00:00:00",
          "2023-03-15T00:00:00",
          "2023-03-16T00:00:00",
          "2023-03-17T00:00:00",
          "2023-03-20T00:00:00",
          "2023-03-21T00:00:00",
          "2023-03-22T00:00:00",
          "2023-03-23T00:00:00",
          "2023-03-24T00:00:00",
          "2023-03-27T00:00:00",
          "2023-03-28T00:00:00",
          "2023-03-29T00:00:00",
          "2023-03-30T00:00:00",
          "2023-03-31T00:00:00",
          "2023-04-03T00:00:00",
          "2023-04-04T00:00:00",
          "2023-04-05T00:00:00",
          "2023-04-06T00:00:00",
          "2023-04-07T00:00:00",
          "2023-04-10T00:00:00",
          "2023-04-11T00:00:00",
          "2023-04-12T00:00:00",
          "2023-04-13T00:00:00",
          "2023-04-14T00:00:00",
          "2023-04-17T00:00:00",
          "2023-04-18T00:00:00",
          "2023-04-19T00:00:00",
          "2023-04-20T00:00:00",
          "2023-04-21T00:00:00",
          "2023-04-24T00:00:00",
          "2023-04-25T00:00:00",
          "2023-04-26T00:00:00",
          "2023-04-27T00:00:00",
          "2023-04-28T00:00:00",
          "2023-05-01T00:00:00",
          "2023-05-02T00:00:00",
          "2023-05-03T00:00:00",
          "2023-05-04T00:00:00",
          "2023-05-05T00:00:00",
          "2023-05-08T00:00:00",
          "2023-05-09T00:00:00",
          "2023-05-10T00:00:00",
          "2023-05-11T00:00:00",
          "2023-05-12T00:00:00",
          "2023-05-15T00:00:00",
          "2023-05-16T00:00:00",
          "2023-05-17T00:00:00",
          "2023-05-18T00:00:00",
          "2023-05-19T00:00:00",
          "2023-05-22T00:00:00",
          "2023-05-23T00:00:00",
          "2023-05-24T00:00:00",
          "2023-05-25T00:00:00",
          "2023-05-26T00:00:00",
          "2023-05-29T00:00:00",
          "2023-05-30T00:00:00",
          "2023-05-31T00:00:00",
          "2023-06-01T00:00:00",
          "2023-06-02T00:00:00",
          "2023-06-05T00:00:00",
          "2023-06-06T00:00:00",
          "2023-06-07T00:00:00",
          "2023-06-08T00:00:00",
          "2023-06-09T00:00:00",
          "2023-06-12T00:00:00",
          "2023-06-13T00:00:00",
          "2023-06-14T00:00:00",
          "2023-06-15T00:00:00",
          "2023-06-16T00:00:00",
          "2023-06-19T00:00:00",
          "2023-06-20T00:00:00",
          "2023-06-21T00:00:00",
          "2023-06-22T00:00:00",
          "2023-06-23T00:00:00",
          "2023-06-26T00:00:00",
          "2023-06-27T00:00:00",
          "2023-06-28T00:00:00",
          "2023-06-29T00:00:00",
          "2023-06-30T00:00:00",
          "2023-07-03T00:00:00",
          "2023-07-04T00:00:00",
          "2023-07-05T00:00:00",
          "2023-07-06T00:00:00",
          "2023-07-07T00:00:00"
         ],
         "xaxis": "x",
         "y": [
          null,
          null,
          0.004891098315231669,
          0.008525493693421413,
          0.018909227161559582,
          0.01927995161230693,
          0.011474600010871156,
          0.016114899108568267,
          0.014867718378257578,
          0.032886937502582196,
          0.032886937502582196,
          0.032886937502582196,
          0.032886937502582196,
          0.05629585995156679,
          0.06169281304176885,
          0.034023985346779265,
          0.02366681145973165,
          0.03413495556731769,
          0.028964881865977656,
          0.015305950497944292,
          -0.005137096153463458,
          -0.0015370209766846269,
          -0.002249979981104739,
          0.01363740581668857,
          -0.006633833217889587,
          -0.007861556111506449,
          -0.010258072748258159,
          -0.024645114279702146,
          -0.016247903577000778,
          -0.029092748426098734,
          -0.021057936595969207,
          -0.03832062184128482,
          -0.04348018394774371,
          -0.04703579272444442,
          -0.06394892154232824,
          -0.06727925691011417,
          -0.07521146547531918,
          -0.03393556234438894,
          -0.04320499963323426,
          -0.03646896299161701,
          -0.034737130652443375,
          -0.03807757498955006,
          -0.06189152633607653,
          -0.06817064726366262,
          -0.0990463383396949,
          -0.07976894029703513,
          -0.1027778924863559,
          -0.08772607269252279,
          -0.10506911001455525,
          -0.08881568552076276,
          -0.11570662605541898,
          -0.1022170122965649,
          -0.08509081251675424,
          -0.061971792633197596,
          -0.06867567680872201,
          -0.0863033136048529,
          -0.07527661802955447,
          -0.054876706951576974,
          -0.049112441336833984,
          -0.04464275992958503,
          -0.04419823796619258,
          -0.05081465214288353,
          -0.05081465214288353,
          -0.04802640874302134,
          -0.04802640874302134,
          -0.04802640874302134,
          -0.040478384023947156,
          -0.049076570645767016,
          -0.047373377222760735,
          -0.04274745106567704,
          -0.026074179326917322,
          -0.032443017195960114,
          -0.046229775235835366,
          -0.04479662740613894,
          -0.06067137612785436,
          -0.06645578481684483,
          -0.08374158318735532,
          -0.07666152113013101,
          -0.07246884306389281,
          -0.06973617640259076,
          -0.06973617640259076,
          -0.06776570980440398,
          -0.0796070191122395,
          -0.06701751662558127,
          -0.061988255813174395,
          -0.04970848700141827,
          -0.07109376085188118,
          -0.07641203966281893,
          -0.07734405824448881,
          -0.08326461306130657,
          -0.06589524854995038,
          -0.06553884048818735,
          -0.08666720102260154,
          -0.07818209361729792,
          -0.09230663067098167,
          -0.08067312675953074,
          -0.09330042746006376,
          -0.10966101977735004,
          -0.12915355419583532,
          -0.12915355419583532,
          -0.13965343043755898,
          -0.1372483868388151,
          -0.15688025743653103,
          -0.15783273011155546,
          -0.11838228584741163,
          -0.11004976004917644,
          -0.11053242109222533,
          -0.10256807084412772,
          -0.10012043051578104,
          -0.09542817197403501,
          -0.09468778775906103,
          -0.08867070204627399,
          -0.09447603378217126,
          -0.07304154811134506,
          -0.06243432604710818,
          -0.06881573016653438,
          -0.08429229280005233,
          -0.10431749082854971,
          -0.10431749082854971,
          -0.12155189169257408,
          -0.12663838952112583,
          -0.10797791667660775,
          -0.10672949227162697,
          -0.11920479435279731,
          -0.12015218220309822,
          -0.09973654197109068,
          -0.09410205134432166,
          -0.10995133438446708,
          -0.1406273554287865,
          -0.14969827029680652
         ],
         "yaxis": "y"
        },
        {
         "hovertemplate": "variable=Nasdaq Composite (U.S.)<br>Date=%{x}<br>value=%{y}<extra></extra>",
         "legendgroup": "Nasdaq Composite (U.S.)",
         "line": {
          "color": "#FF6692",
          "dash": "solid"
         },
         "marker": {
          "symbol": "circle"
         },
         "mode": "lines",
         "name": "Nasdaq Composite (U.S.)",
         "orientation": "v",
         "showlegend": true,
         "type": "scatter",
         "x": [
          "2023-01-09T00:00:00",
          "2023-01-10T00:00:00",
          "2023-01-11T00:00:00",
          "2023-01-12T00:00:00",
          "2023-01-13T00:00:00",
          "2023-01-16T00:00:00",
          "2023-01-17T00:00:00",
          "2023-01-18T00:00:00",
          "2023-01-19T00:00:00",
          "2023-01-20T00:00:00",
          "2023-01-23T00:00:00",
          "2023-01-24T00:00:00",
          "2023-01-25T00:00:00",
          "2023-01-26T00:00:00",
          "2023-01-27T00:00:00",
          "2023-01-30T00:00:00",
          "2023-01-31T00:00:00",
          "2023-02-01T00:00:00",
          "2023-02-02T00:00:00",
          "2023-02-03T00:00:00",
          "2023-02-06T00:00:00",
          "2023-02-07T00:00:00",
          "2023-02-08T00:00:00",
          "2023-02-09T00:00:00",
          "2023-02-10T00:00:00",
          "2023-02-13T00:00:00",
          "2023-02-14T00:00:00",
          "2023-02-15T00:00:00",
          "2023-02-16T00:00:00",
          "2023-02-17T00:00:00",
          "2023-02-20T00:00:00",
          "2023-02-21T00:00:00",
          "2023-02-22T00:00:00",
          "2023-02-23T00:00:00",
          "2023-02-24T00:00:00",
          "2023-02-27T00:00:00",
          "2023-02-28T00:00:00",
          "2023-03-01T00:00:00",
          "2023-03-02T00:00:00",
          "2023-03-03T00:00:00",
          "2023-03-06T00:00:00",
          "2023-03-07T00:00:00",
          "2023-03-08T00:00:00",
          "2023-03-09T00:00:00",
          "2023-03-10T00:00:00",
          "2023-03-13T00:00:00",
          "2023-03-14T00:00:00",
          "2023-03-15T00:00:00",
          "2023-03-16T00:00:00",
          "2023-03-17T00:00:00",
          "2023-03-20T00:00:00",
          "2023-03-21T00:00:00",
          "2023-03-22T00:00:00",
          "2023-03-23T00:00:00",
          "2023-03-24T00:00:00",
          "2023-03-27T00:00:00",
          "2023-03-28T00:00:00",
          "2023-03-29T00:00:00",
          "2023-03-30T00:00:00",
          "2023-03-31T00:00:00",
          "2023-04-03T00:00:00",
          "2023-04-04T00:00:00",
          "2023-04-05T00:00:00",
          "2023-04-06T00:00:00",
          "2023-04-07T00:00:00",
          "2023-04-10T00:00:00",
          "2023-04-11T00:00:00",
          "2023-04-12T00:00:00",
          "2023-04-13T00:00:00",
          "2023-04-14T00:00:00",
          "2023-04-17T00:00:00",
          "2023-04-18T00:00:00",
          "2023-04-19T00:00:00",
          "2023-04-20T00:00:00",
          "2023-04-21T00:00:00",
          "2023-04-24T00:00:00",
          "2023-04-25T00:00:00",
          "2023-04-26T00:00:00",
          "2023-04-27T00:00:00",
          "2023-04-28T00:00:00",
          "2023-05-01T00:00:00",
          "2023-05-02T00:00:00",
          "2023-05-03T00:00:00",
          "2023-05-04T00:00:00",
          "2023-05-05T00:00:00",
          "2023-05-08T00:00:00",
          "2023-05-09T00:00:00",
          "2023-05-10T00:00:00",
          "2023-05-11T00:00:00",
          "2023-05-12T00:00:00",
          "2023-05-15T00:00:00",
          "2023-05-16T00:00:00",
          "2023-05-17T00:00:00",
          "2023-05-18T00:00:00",
          "2023-05-19T00:00:00",
          "2023-05-22T00:00:00",
          "2023-05-23T00:00:00",
          "2023-05-24T00:00:00",
          "2023-05-25T00:00:00",
          "2023-05-26T00:00:00",
          "2023-05-29T00:00:00",
          "2023-05-30T00:00:00",
          "2023-05-31T00:00:00",
          "2023-06-01T00:00:00",
          "2023-06-02T00:00:00",
          "2023-06-05T00:00:00",
          "2023-06-06T00:00:00",
          "2023-06-07T00:00:00",
          "2023-06-08T00:00:00",
          "2023-06-09T00:00:00",
          "2023-06-12T00:00:00",
          "2023-06-13T00:00:00",
          "2023-06-14T00:00:00",
          "2023-06-15T00:00:00",
          "2023-06-16T00:00:00",
          "2023-06-19T00:00:00",
          "2023-06-20T00:00:00",
          "2023-06-21T00:00:00",
          "2023-06-22T00:00:00",
          "2023-06-23T00:00:00",
          "2023-06-26T00:00:00",
          "2023-06-27T00:00:00",
          "2023-06-28T00:00:00",
          "2023-06-29T00:00:00",
          "2023-06-30T00:00:00",
          "2023-07-03T00:00:00",
          "2023-07-04T00:00:00",
          "2023-07-05T00:00:00",
          "2023-07-06T00:00:00",
          "2023-07-07T00:00:00"
         ],
         "xaxis": "x",
         "y": [
          null,
          0.010008324692010259,
          0.027452471396128976,
          0.03378362983161203,
          0.040854277814650154,
          0.040854277814650154,
          0.0422928999382328,
          0.02976781023171992,
          0.020162629040584364,
          0.04636920288486404,
          0.06627495347637824,
          0.06361923577564015,
          0.06177275685166576,
          0.07921399507432322,
          0.08866329484518688,
          0.0688585853043095,
          0.08546069447900508,
          0.10527005077238225,
          0.13729158574901912,
          0.1212740626097249,
          0.11127163573468432,
          0.13013287385933786,
          0.11321040138811395,
          0.103004494672418,
          0.09692476926682335,
          0.11163664687510848,
          0.11736872045112301,
          0.1265603000352539,
          0.10860813384979362,
          0.10280849334733191,
          0.10280849334733191,
          0.07746562643856034,
          0.07875005377442927,
          0.08596560051008466,
          0.06895783246581941,
          0.07526003933826605,
          0.0742618567314704,
          0.06760017218711042,
          0.07491115082062065,
          0.09443746162027933,
          0.09330160245836501,
          0.08076935917645016,
          0.08472238686990463,
          0.06397914815662596,
          0.04623095458008146,
          0.050705236540563955,
          0.07186804166033788,
          0.07238412621414628,
          0.09685309617941157,
          0.08942019506470103,
          0.09328445604838978,
          0.10896909558324525,
          0.09280641289392604,
          0.10281959504041426,
          0.10591637548723971,
          0.10124374502943748,
          0.09675066142011583,
          0.11452943178980134,
          0.12181689503574342,
          0.13901865300049981,
          0.13635923708912964,
          0.13116752551292307,
          0.12043337572590257,
          0.1279983102073209,
          0.1279983102073209,
          0.1277004811735275,
          0.12334818155446603,
          0.11478929630638772,
          0.13445572766119698,
          0.1309316182807973,
          0.13375273400756654,
          0.13339819924275603,
          0.13371249063395196,
          0.1256460682983092,
          0.12671521974973637,
          0.12379026846176647,
          0.10381675328025622,
          0.10848325341687938,
          0.13247869945720553,
          0.13940067429400557,
          0.1382565712223175,
          0.1273817882981747,
          0.12280366248014556,
          0.11789115263947275,
          0.14012261706513074,
          0.14187906662190197,
          0.13554669729105023,
          0.1459111350517914,
          0.1477028449327929,
          0.14414625834728728,
          0.15067527863176652,
          0.14888153334966758,
          0.1615626658081891,
          0.1765112522153527,
          0.1740699545806009,
          0.17902529582271523,
          0.1663254628412825,
          0.1602490507879842,
          0.1772399736892134,
          0.19886603748427162,
          0.19886603748427162,
          0.2020776021982978,
          0.19574763573849843,
          0.20847546988983315,
          0.2190890680562033,
          0.21823226721764444,
          0.2217779210484988,
          0.2087746334192157,
          0.21891912391607887,
          0.22047549696850632,
          0.23565335065478404,
          0.24389452181923293,
          0.2478033904440297,
          0.25921130927476843,
          0.25242264938721287,
          0.25242264938721287,
          0.2507937871510257,
          0.23864104713628262,
          0.24810642225849058,
          0.2379238206137962,
          0.22623906665653265,
          0.24259330176180022,
          0.24525138856874198,
          0.24522049274135035,
          0.25958123836552216,
          0.26167143539001453,
          0.26167143539001453,
          0.2598517624331913,
          0.2516531346897649,
          0.25031293891634304
         ],
         "yaxis": "y"
        },
        {
         "hovertemplate": "variable=Nikkei (Japan)<br>Date=%{x}<br>value=%{y}<extra></extra>",
         "legendgroup": "Nikkei (Japan)",
         "line": {
          "color": "#B6E880",
          "dash": "solid"
         },
         "marker": {
          "symbol": "circle"
         },
         "mode": "lines",
         "name": "Nikkei (Japan)",
         "orientation": "v",
         "showlegend": true,
         "type": "scatter",
         "x": [
          "2023-01-09T00:00:00",
          "2023-01-10T00:00:00",
          "2023-01-11T00:00:00",
          "2023-01-12T00:00:00",
          "2023-01-13T00:00:00",
          "2023-01-16T00:00:00",
          "2023-01-17T00:00:00",
          "2023-01-18T00:00:00",
          "2023-01-19T00:00:00",
          "2023-01-20T00:00:00",
          "2023-01-23T00:00:00",
          "2023-01-24T00:00:00",
          "2023-01-25T00:00:00",
          "2023-01-26T00:00:00",
          "2023-01-27T00:00:00",
          "2023-01-30T00:00:00",
          "2023-01-31T00:00:00",
          "2023-02-01T00:00:00",
          "2023-02-02T00:00:00",
          "2023-02-03T00:00:00",
          "2023-02-06T00:00:00",
          "2023-02-07T00:00:00",
          "2023-02-08T00:00:00",
          "2023-02-09T00:00:00",
          "2023-02-10T00:00:00",
          "2023-02-13T00:00:00",
          "2023-02-14T00:00:00",
          "2023-02-15T00:00:00",
          "2023-02-16T00:00:00",
          "2023-02-17T00:00:00",
          "2023-02-20T00:00:00",
          "2023-02-21T00:00:00",
          "2023-02-22T00:00:00",
          "2023-02-23T00:00:00",
          "2023-02-24T00:00:00",
          "2023-02-27T00:00:00",
          "2023-02-28T00:00:00",
          "2023-03-01T00:00:00",
          "2023-03-02T00:00:00",
          "2023-03-03T00:00:00",
          "2023-03-06T00:00:00",
          "2023-03-07T00:00:00",
          "2023-03-08T00:00:00",
          "2023-03-09T00:00:00",
          "2023-03-10T00:00:00",
          "2023-03-13T00:00:00",
          "2023-03-14T00:00:00",
          "2023-03-15T00:00:00",
          "2023-03-16T00:00:00",
          "2023-03-17T00:00:00",
          "2023-03-20T00:00:00",
          "2023-03-21T00:00:00",
          "2023-03-22T00:00:00",
          "2023-03-23T00:00:00",
          "2023-03-24T00:00:00",
          "2023-03-27T00:00:00",
          "2023-03-28T00:00:00",
          "2023-03-29T00:00:00",
          "2023-03-30T00:00:00",
          "2023-03-31T00:00:00",
          "2023-04-03T00:00:00",
          "2023-04-04T00:00:00",
          "2023-04-05T00:00:00",
          "2023-04-06T00:00:00",
          "2023-04-07T00:00:00",
          "2023-04-10T00:00:00",
          "2023-04-11T00:00:00",
          "2023-04-12T00:00:00",
          "2023-04-13T00:00:00",
          "2023-04-14T00:00:00",
          "2023-04-17T00:00:00",
          "2023-04-18T00:00:00",
          "2023-04-19T00:00:00",
          "2023-04-20T00:00:00",
          "2023-04-21T00:00:00",
          "2023-04-24T00:00:00",
          "2023-04-25T00:00:00",
          "2023-04-26T00:00:00",
          "2023-04-27T00:00:00",
          "2023-04-28T00:00:00",
          "2023-05-01T00:00:00",
          "2023-05-02T00:00:00",
          "2023-05-03T00:00:00",
          "2023-05-04T00:00:00",
          "2023-05-05T00:00:00",
          "2023-05-08T00:00:00",
          "2023-05-09T00:00:00",
          "2023-05-10T00:00:00",
          "2023-05-11T00:00:00",
          "2023-05-12T00:00:00",
          "2023-05-15T00:00:00",
          "2023-05-16T00:00:00",
          "2023-05-17T00:00:00",
          "2023-05-18T00:00:00",
          "2023-05-19T00:00:00",
          "2023-05-22T00:00:00",
          "2023-05-23T00:00:00",
          "2023-05-24T00:00:00",
          "2023-05-25T00:00:00",
          "2023-05-26T00:00:00",
          "2023-05-29T00:00:00",
          "2023-05-30T00:00:00",
          "2023-05-31T00:00:00",
          "2023-06-01T00:00:00",
          "2023-06-02T00:00:00",
          "2023-06-05T00:00:00",
          "2023-06-06T00:00:00",
          "2023-06-07T00:00:00",
          "2023-06-08T00:00:00",
          "2023-06-09T00:00:00",
          "2023-06-12T00:00:00",
          "2023-06-13T00:00:00",
          "2023-06-14T00:00:00",
          "2023-06-15T00:00:00",
          "2023-06-16T00:00:00",
          "2023-06-19T00:00:00",
          "2023-06-20T00:00:00",
          "2023-06-21T00:00:00",
          "2023-06-22T00:00:00",
          "2023-06-23T00:00:00",
          "2023-06-26T00:00:00",
          "2023-06-27T00:00:00",
          "2023-06-28T00:00:00",
          "2023-06-29T00:00:00",
          "2023-06-30T00:00:00",
          "2023-07-03T00:00:00",
          "2023-07-04T00:00:00",
          "2023-07-05T00:00:00",
          "2023-07-06T00:00:00",
          "2023-07-07T00:00:00"
         ],
         "xaxis": "x",
         "y": [
          null,
          null,
          0.010278746253945429,
          0.010423192922286089,
          -0.002143262310475496,
          -0.013586925569513625,
          -0.001409974237216411,
          0.023244285369368255,
          0.008735942463941352,
          0.014336497175274004,
          0.027524589995333606,
          0.04203083950773936,
          0.04553469958435171,
          0.044356427518608604,
          0.04508016248483017,
          0.046935091503963064,
          0.04305305499387466,
          0.043776305122577595,
          0.04579168474353649,
          0.049703807716591095,
          0.056376987260634406,
          0.05608158034922323,
          0.05322366538558193,
          0.05242239687407003,
          0.05555805565068485,
          0.046713436444679624,
          0.053089941143307284,
          0.04942744414250473,
          0.05647769345230966,
          0.049837204627226905,
          0.050520593507474426,
          0.04838115802315308,
          0.03486696442423383,
          0.03486696442423383,
          0.04766678107008387,
          0.04659094614262502,
          0.047378254284062706,
          0.04996071756532884,
          0.04931870978721012,
          0.0647846455484197,
          0.07583460085610985,
          0.07835926082815846,
          0.08311773068390169,
          0.08938967273139535,
          0.07250697515053696,
          0.0613947917274904,
          0.03920073298886028,
          0.03947405525278928,
          0.03140355675782688,
          0.043297459594757275,
          0.028996441762972586,
          0.028996441762972586,
          0.04814489050280484,
          0.04643225616367796,
          0.0451783753985948,
          0.048518356691019705,
          0.050023249046241045,
          0.06321896066677599,
          0.05959562019813917,
          0.06885868734947485,
          0.07407551884107257,
          0.07759100820885625,
          0.06068670508838983,
          0.04836409573292529,
          0.05002544928820379,
          0.05420842864856955,
          0.06463776995912324,
          0.07032752868097497,
          0.07296877915971799,
          0.08484879101096761,
          0.08559635280219444,
          0.09063542896476316,
          0.08881687345900795,
          0.09059147066952425,
          0.08733393500460142,
          0.08835393045333667,
          0.08928205900560758,
          0.08214275951334005,
          0.0835918885571482,
          0.09750700078136369,
          0.10670823805197245,
          0.10790140421149862,
          0.10790140421149862,
          0.10790140421149862,
          0.10790140421149862,
          0.10073991673693147,
          0.11080791226538082,
          0.10667390055244193,
          0.10682981819565059,
          0.11577049065721419,
          0.12383765334515784,
          0.13112380736107132,
          0.13948601519285608,
          0.15532150294736013,
          0.16295957257373345,
          0.1719577733186291,
          0.16779783068130194,
          0.15887214394303256,
          0.16272523363829353,
          0.16645772217294766,
          0.17666631552020623,
          0.17969120669419641,
          0.16553772989221938,
          0.17392417935734533,
          0.18592998970044053,
          0.20768142886543423,
          0.21662248945235504,
          0.19821047352359966,
          0.18963609446317936,
          0.20916214593908897,
          0.21438108341649714,
          0.2322463341412304,
          0.2467915591133133,
          0.2462859874640055,
          0.25285200900704347,
          0.24284376314610556,
          0.24339764171738903,
          0.2489597589040588,
          0.23967598103147553,
          0.22503935159883767,
          0.22251253064764343,
          0.21759260954370746,
          0.23754261177957955,
          0.23875150774883538,
          0.2373935008107911,
          0.25425285168720846,
          0.24440373836858303,
          0.24189268904645966,
          0.22477942974196857,
          0.21297477721281333
         ],
         "yaxis": "y"
        }
       ],
       "layout": {
        "height": 600,
        "legend": {
         "title": {
          "text": ""
         },
         "tracegroupgap": 0
        },
        "margin": {
         "t": 60
        },
        "showlegend": true,
        "template": {
         "data": {
          "bar": [
           {
            "error_x": {
             "color": "#f2f5fa"
            },
            "error_y": {
             "color": "#f2f5fa"
            },
            "marker": {
             "line": {
              "color": "rgb(17,17,17)",
              "width": 0.5
             },
             "pattern": {
              "fillmode": "overlay",
              "size": 10,
              "solidity": 0.2
             }
            },
            "type": "bar"
           }
          ],
          "barpolar": [
           {
            "marker": {
             "line": {
              "color": "rgb(17,17,17)",
              "width": 0.5
             },
             "pattern": {
              "fillmode": "overlay",
              "size": 10,
              "solidity": 0.2
             }
            },
            "type": "barpolar"
           }
          ],
          "carpet": [
           {
            "aaxis": {
             "endlinecolor": "#A2B1C6",
             "gridcolor": "#506784",
             "linecolor": "#506784",
             "minorgridcolor": "#506784",
             "startlinecolor": "#A2B1C6"
            },
            "baxis": {
             "endlinecolor": "#A2B1C6",
             "gridcolor": "#506784",
             "linecolor": "#506784",
             "minorgridcolor": "#506784",
             "startlinecolor": "#A2B1C6"
            },
            "type": "carpet"
           }
          ],
          "choropleth": [
           {
            "colorbar": {
             "outlinewidth": 0,
             "ticks": ""
            },
            "type": "choropleth"
           }
          ],
          "contour": [
           {
            "colorbar": {
             "outlinewidth": 0,
             "ticks": ""
            },
            "colorscale": [
             [
              0,
              "#0d0887"
             ],
             [
              0.1111111111111111,
              "#46039f"
             ],
             [
              0.2222222222222222,
              "#7201a8"
             ],
             [
              0.3333333333333333,
              "#9c179e"
             ],
             [
              0.4444444444444444,
              "#bd3786"
             ],
             [
              0.5555555555555556,
              "#d8576b"
             ],
             [
              0.6666666666666666,
              "#ed7953"
             ],
             [
              0.7777777777777778,
              "#fb9f3a"
             ],
             [
              0.8888888888888888,
              "#fdca26"
             ],
             [
              1,
              "#f0f921"
             ]
            ],
            "type": "contour"
           }
          ],
          "contourcarpet": [
           {
            "colorbar": {
             "outlinewidth": 0,
             "ticks": ""
            },
            "type": "contourcarpet"
           }
          ],
          "heatmap": [
           {
            "colorbar": {
             "outlinewidth": 0,
             "ticks": ""
            },
            "colorscale": [
             [
              0,
              "#0d0887"
             ],
             [
              0.1111111111111111,
              "#46039f"
             ],
             [
              0.2222222222222222,
              "#7201a8"
             ],
             [
              0.3333333333333333,
              "#9c179e"
             ],
             [
              0.4444444444444444,
              "#bd3786"
             ],
             [
              0.5555555555555556,
              "#d8576b"
             ],
             [
              0.6666666666666666,
              "#ed7953"
             ],
             [
              0.7777777777777778,
              "#fb9f3a"
             ],
             [
              0.8888888888888888,
              "#fdca26"
             ],
             [
              1,
              "#f0f921"
             ]
            ],
            "type": "heatmap"
           }
          ],
          "heatmapgl": [
           {
            "colorbar": {
             "outlinewidth": 0,
             "ticks": ""
            },
            "colorscale": [
             [
              0,
              "#0d0887"
             ],
             [
              0.1111111111111111,
              "#46039f"
             ],
             [
              0.2222222222222222,
              "#7201a8"
             ],
             [
              0.3333333333333333,
              "#9c179e"
             ],
             [
              0.4444444444444444,
              "#bd3786"
             ],
             [
              0.5555555555555556,
              "#d8576b"
             ],
             [
              0.6666666666666666,
              "#ed7953"
             ],
             [
              0.7777777777777778,
              "#fb9f3a"
             ],
             [
              0.8888888888888888,
              "#fdca26"
             ],
             [
              1,
              "#f0f921"
             ]
            ],
            "type": "heatmapgl"
           }
          ],
          "histogram": [
           {
            "marker": {
             "pattern": {
              "fillmode": "overlay",
              "size": 10,
              "solidity": 0.2
             }
            },
            "type": "histogram"
           }
          ],
          "histogram2d": [
           {
            "colorbar": {
             "outlinewidth": 0,
             "ticks": ""
            },
            "colorscale": [
             [
              0,
              "#0d0887"
             ],
             [
              0.1111111111111111,
              "#46039f"
             ],
             [
              0.2222222222222222,
              "#7201a8"
             ],
             [
              0.3333333333333333,
              "#9c179e"
             ],
             [
              0.4444444444444444,
              "#bd3786"
             ],
             [
              0.5555555555555556,
              "#d8576b"
             ],
             [
              0.6666666666666666,
              "#ed7953"
             ],
             [
              0.7777777777777778,
              "#fb9f3a"
             ],
             [
              0.8888888888888888,
              "#fdca26"
             ],
             [
              1,
              "#f0f921"
             ]
            ],
            "type": "histogram2d"
           }
          ],
          "histogram2dcontour": [
           {
            "colorbar": {
             "outlinewidth": 0,
             "ticks": ""
            },
            "colorscale": [
             [
              0,
              "#0d0887"
             ],
             [
              0.1111111111111111,
              "#46039f"
             ],
             [
              0.2222222222222222,
              "#7201a8"
             ],
             [
              0.3333333333333333,
              "#9c179e"
             ],
             [
              0.4444444444444444,
              "#bd3786"
             ],
             [
              0.5555555555555556,
              "#d8576b"
             ],
             [
              0.6666666666666666,
              "#ed7953"
             ],
             [
              0.7777777777777778,
              "#fb9f3a"
             ],
             [
              0.8888888888888888,
              "#fdca26"
             ],
             [
              1,
              "#f0f921"
             ]
            ],
            "type": "histogram2dcontour"
           }
          ],
          "mesh3d": [
           {
            "colorbar": {
             "outlinewidth": 0,
             "ticks": ""
            },
            "type": "mesh3d"
           }
          ],
          "parcoords": [
           {
            "line": {
             "colorbar": {
              "outlinewidth": 0,
              "ticks": ""
             }
            },
            "type": "parcoords"
           }
          ],
          "pie": [
           {
            "automargin": true,
            "type": "pie"
           }
          ],
          "scatter": [
           {
            "marker": {
             "line": {
              "color": "#283442"
             }
            },
            "type": "scatter"
           }
          ],
          "scatter3d": [
           {
            "line": {
             "colorbar": {
              "outlinewidth": 0,
              "ticks": ""
             }
            },
            "marker": {
             "colorbar": {
              "outlinewidth": 0,
              "ticks": ""
             }
            },
            "type": "scatter3d"
           }
          ],
          "scattercarpet": [
           {
            "marker": {
             "colorbar": {
              "outlinewidth": 0,
              "ticks": ""
             }
            },
            "type": "scattercarpet"
           }
          ],
          "scattergeo": [
           {
            "marker": {
             "colorbar": {
              "outlinewidth": 0,
              "ticks": ""
             }
            },
            "type": "scattergeo"
           }
          ],
          "scattergl": [
           {
            "marker": {
             "line": {
              "color": "#283442"
             }
            },
            "type": "scattergl"
           }
          ],
          "scattermapbox": [
           {
            "marker": {
             "colorbar": {
              "outlinewidth": 0,
              "ticks": ""
             }
            },
            "type": "scattermapbox"
           }
          ],
          "scatterpolar": [
           {
            "marker": {
             "colorbar": {
              "outlinewidth": 0,
              "ticks": ""
             }
            },
            "type": "scatterpolar"
           }
          ],
          "scatterpolargl": [
           {
            "marker": {
             "colorbar": {
              "outlinewidth": 0,
              "ticks": ""
             }
            },
            "type": "scatterpolargl"
           }
          ],
          "scatterternary": [
           {
            "marker": {
             "colorbar": {
              "outlinewidth": 0,
              "ticks": ""
             }
            },
            "type": "scatterternary"
           }
          ],
          "surface": [
           {
            "colorbar": {
             "outlinewidth": 0,
             "ticks": ""
            },
            "colorscale": [
             [
              0,
              "#0d0887"
             ],
             [
              0.1111111111111111,
              "#46039f"
             ],
             [
              0.2222222222222222,
              "#7201a8"
             ],
             [
              0.3333333333333333,
              "#9c179e"
             ],
             [
              0.4444444444444444,
              "#bd3786"
             ],
             [
              0.5555555555555556,
              "#d8576b"
             ],
             [
              0.6666666666666666,
              "#ed7953"
             ],
             [
              0.7777777777777778,
              "#fb9f3a"
             ],
             [
              0.8888888888888888,
              "#fdca26"
             ],
             [
              1,
              "#f0f921"
             ]
            ],
            "type": "surface"
           }
          ],
          "table": [
           {
            "cells": {
             "fill": {
              "color": "#506784"
             },
             "line": {
              "color": "rgb(17,17,17)"
             }
            },
            "header": {
             "fill": {
              "color": "#2a3f5f"
             },
             "line": {
              "color": "rgb(17,17,17)"
             }
            },
            "type": "table"
           }
          ]
         },
         "layout": {
          "annotationdefaults": {
           "arrowcolor": "#f2f5fa",
           "arrowhead": 0,
           "arrowwidth": 1
          },
          "autotypenumbers": "strict",
          "coloraxis": {
           "colorbar": {
            "outlinewidth": 0,
            "ticks": ""
           }
          },
          "colorscale": {
           "diverging": [
            [
             0,
             "#8e0152"
            ],
            [
             0.1,
             "#c51b7d"
            ],
            [
             0.2,
             "#de77ae"
            ],
            [
             0.3,
             "#f1b6da"
            ],
            [
             0.4,
             "#fde0ef"
            ],
            [
             0.5,
             "#f7f7f7"
            ],
            [
             0.6,
             "#e6f5d0"
            ],
            [
             0.7,
             "#b8e186"
            ],
            [
             0.8,
             "#7fbc41"
            ],
            [
             0.9,
             "#4d9221"
            ],
            [
             1,
             "#276419"
            ]
           ],
           "sequential": [
            [
             0,
             "#0d0887"
            ],
            [
             0.1111111111111111,
             "#46039f"
            ],
            [
             0.2222222222222222,
             "#7201a8"
            ],
            [
             0.3333333333333333,
             "#9c179e"
            ],
            [
             0.4444444444444444,
             "#bd3786"
            ],
            [
             0.5555555555555556,
             "#d8576b"
            ],
            [
             0.6666666666666666,
             "#ed7953"
            ],
            [
             0.7777777777777778,
             "#fb9f3a"
            ],
            [
             0.8888888888888888,
             "#fdca26"
            ],
            [
             1,
             "#f0f921"
            ]
           ],
           "sequentialminus": [
            [
             0,
             "#0d0887"
            ],
            [
             0.1111111111111111,
             "#46039f"
            ],
            [
             0.2222222222222222,
             "#7201a8"
            ],
            [
             0.3333333333333333,
             "#9c179e"
            ],
            [
             0.4444444444444444,
             "#bd3786"
            ],
            [
             0.5555555555555556,
             "#d8576b"
            ],
            [
             0.6666666666666666,
             "#ed7953"
            ],
            [
             0.7777777777777778,
             "#fb9f3a"
            ],
            [
             0.8888888888888888,
             "#fdca26"
            ],
            [
             1,
             "#f0f921"
            ]
           ]
          },
          "colorway": [
           "#636efa",
           "#EF553B",
           "#00cc96",
           "#ab63fa",
           "#FFA15A",
           "#19d3f3",
           "#FF6692",
           "#B6E880",
           "#FF97FF",
           "#FECB52"
          ],
          "font": {
           "color": "#f2f5fa"
          },
          "geo": {
           "bgcolor": "rgb(17,17,17)",
           "lakecolor": "rgb(17,17,17)",
           "landcolor": "rgb(17,17,17)",
           "showlakes": true,
           "showland": true,
           "subunitcolor": "#506784"
          },
          "hoverlabel": {
           "align": "left"
          },
          "hovermode": "closest",
          "mapbox": {
           "style": "dark"
          },
          "paper_bgcolor": "rgb(17,17,17)",
          "plot_bgcolor": "rgb(17,17,17)",
          "polar": {
           "angularaxis": {
            "gridcolor": "#506784",
            "linecolor": "#506784",
            "ticks": ""
           },
           "bgcolor": "rgb(17,17,17)",
           "radialaxis": {
            "gridcolor": "#506784",
            "linecolor": "#506784",
            "ticks": ""
           }
          },
          "scene": {
           "xaxis": {
            "backgroundcolor": "rgb(17,17,17)",
            "gridcolor": "#506784",
            "gridwidth": 2,
            "linecolor": "#506784",
            "showbackground": true,
            "ticks": "",
            "zerolinecolor": "#C8D4E3"
           },
           "yaxis": {
            "backgroundcolor": "rgb(17,17,17)",
            "gridcolor": "#506784",
            "gridwidth": 2,
            "linecolor": "#506784",
            "showbackground": true,
            "ticks": "",
            "zerolinecolor": "#C8D4E3"
           },
           "zaxis": {
            "backgroundcolor": "rgb(17,17,17)",
            "gridcolor": "#506784",
            "gridwidth": 2,
            "linecolor": "#506784",
            "showbackground": true,
            "ticks": "",
            "zerolinecolor": "#C8D4E3"
           }
          },
          "shapedefaults": {
           "line": {
            "color": "#f2f5fa"
           }
          },
          "sliderdefaults": {
           "bgcolor": "#C8D4E3",
           "bordercolor": "rgb(17,17,17)",
           "borderwidth": 1,
           "tickwidth": 0
          },
          "ternary": {
           "aaxis": {
            "gridcolor": "#506784",
            "linecolor": "#506784",
            "ticks": ""
           },
           "baxis": {
            "gridcolor": "#506784",
            "linecolor": "#506784",
            "ticks": ""
           },
           "bgcolor": "rgb(17,17,17)",
           "caxis": {
            "gridcolor": "#506784",
            "linecolor": "#506784",
            "ticks": ""
           }
          },
          "title": {
           "x": 0.05
          },
          "updatemenudefaults": {
           "bgcolor": "#506784",
           "borderwidth": 0
          },
          "xaxis": {
           "automargin": true,
           "gridcolor": "#283442",
           "linecolor": "#506784",
           "ticks": "",
           "title": {
            "standoff": 15
           },
           "zerolinecolor": "#283442",
           "zerolinewidth": 2
          },
          "yaxis": {
           "automargin": true,
           "gridcolor": "#283442",
           "linecolor": "#506784",
           "ticks": "",
           "title": {
            "standoff": 15
           },
           "zerolinecolor": "#283442",
           "zerolinewidth": 2
          }
         }
        },
        "title": {
         "text": "<b>Cumulative Returns of Equity Indexes over the last 6 months</b>"
        },
        "xaxis": {
         "anchor": "y",
         "domain": [
          0,
          1
         ],
         "title": {
          "text": ""
         }
        },
        "yaxis": {
         "anchor": "x",
         "domain": [
          0,
          1
         ],
         "title": {
          "text": "Cumulative log returns"
         }
        }
       }
      }
     },
     "metadata": {},
     "output_type": "display_data"
    },
    {
     "data": {
      "application/vnd.plotly.v1+json": {
       "config": {
        "plotlyServerURL": "https://plot.ly"
       },
       "data": [
        {
         "type": "scatter",
         "x": [
          "2023-01-09T00:00:00",
          "2023-01-10T00:00:00",
          "2023-01-11T00:00:00",
          "2023-01-12T00:00:00",
          "2023-01-13T00:00:00",
          "2023-01-16T00:00:00",
          "2023-01-17T00:00:00",
          "2023-01-18T00:00:00",
          "2023-01-19T00:00:00",
          "2023-01-20T00:00:00",
          "2023-01-23T00:00:00",
          "2023-01-24T00:00:00",
          "2023-01-25T00:00:00",
          "2023-01-26T00:00:00",
          "2023-01-27T00:00:00",
          "2023-01-30T00:00:00",
          "2023-01-31T00:00:00",
          "2023-02-01T00:00:00",
          "2023-02-02T00:00:00",
          "2023-02-03T00:00:00",
          "2023-02-06T00:00:00",
          "2023-02-07T00:00:00",
          "2023-02-08T00:00:00",
          "2023-02-09T00:00:00",
          "2023-02-10T00:00:00",
          "2023-02-13T00:00:00",
          "2023-02-14T00:00:00",
          "2023-02-15T00:00:00",
          "2023-02-16T00:00:00",
          "2023-02-17T00:00:00",
          "2023-02-21T00:00:00",
          "2023-02-22T00:00:00",
          "2023-02-23T00:00:00",
          "2023-02-24T00:00:00",
          "2023-02-27T00:00:00",
          "2023-02-28T00:00:00",
          "2023-03-01T00:00:00",
          "2023-03-02T00:00:00",
          "2023-03-03T00:00:00",
          "2023-03-06T00:00:00",
          "2023-03-07T00:00:00",
          "2023-03-08T00:00:00",
          "2023-03-09T00:00:00",
          "2023-03-10T00:00:00",
          "2023-03-13T00:00:00",
          "2023-03-14T00:00:00",
          "2023-03-15T00:00:00",
          "2023-03-16T00:00:00",
          "2023-03-17T00:00:00",
          "2023-03-20T00:00:00",
          "2023-03-21T00:00:00",
          "2023-03-22T00:00:00",
          "2023-03-23T00:00:00",
          "2023-03-24T00:00:00",
          "2023-03-27T00:00:00",
          "2023-03-28T00:00:00",
          "2023-03-29T00:00:00",
          "2023-03-30T00:00:00",
          "2023-03-31T00:00:00",
          "2023-04-03T00:00:00",
          "2023-04-04T00:00:00",
          "2023-04-05T00:00:00",
          "2023-04-06T00:00:00",
          "2023-04-10T00:00:00",
          "2023-04-11T00:00:00",
          "2023-04-12T00:00:00",
          "2023-04-13T00:00:00",
          "2023-04-14T00:00:00",
          "2023-04-17T00:00:00",
          "2023-04-18T00:00:00",
          "2023-04-19T00:00:00",
          "2023-04-20T00:00:00",
          "2023-04-21T00:00:00",
          "2023-04-24T00:00:00",
          "2023-04-25T00:00:00",
          "2023-04-26T00:00:00",
          "2023-04-27T00:00:00",
          "2023-04-28T00:00:00",
          "2023-05-01T00:00:00",
          "2023-05-02T00:00:00",
          "2023-05-03T00:00:00",
          "2023-05-04T00:00:00",
          "2023-05-05T00:00:00",
          "2023-05-08T00:00:00",
          "2023-05-09T00:00:00",
          "2023-05-10T00:00:00",
          "2023-05-11T00:00:00",
          "2023-05-12T00:00:00",
          "2023-05-15T00:00:00",
          "2023-05-16T00:00:00",
          "2023-05-17T00:00:00",
          "2023-05-18T00:00:00",
          "2023-05-19T00:00:00",
          "2023-05-22T00:00:00",
          "2023-05-23T00:00:00",
          "2023-05-24T00:00:00",
          "2023-05-25T00:00:00",
          "2023-05-26T00:00:00",
          "2023-05-30T00:00:00",
          "2023-05-31T00:00:00",
          "2023-06-01T00:00:00",
          "2023-06-02T00:00:00",
          "2023-06-05T00:00:00",
          "2023-06-06T00:00:00",
          "2023-06-07T00:00:00",
          "2023-06-08T00:00:00",
          "2023-06-09T00:00:00",
          "2023-06-12T00:00:00",
          "2023-06-13T00:00:00",
          "2023-06-14T00:00:00",
          "2023-06-15T00:00:00",
          "2023-06-16T00:00:00",
          "2023-06-20T00:00:00",
          "2023-06-21T00:00:00",
          "2023-06-22T00:00:00",
          "2023-06-23T00:00:00",
          "2023-06-26T00:00:00",
          "2023-06-27T00:00:00",
          "2023-06-28T00:00:00",
          "2023-06-29T00:00:00",
          "2023-06-30T00:00:00",
          "2023-07-03T00:00:00",
          "2023-07-05T00:00:00",
          "2023-07-06T00:00:00",
          "2023-07-07T00:00:00"
         ],
         "xaxis": "x",
         "y": [
          1872.699951171875,
          1871.5999755859375,
          1874.5999755859375,
          1895.5,
          1918.4000244140625,
          1912.4000244140625,
          1907.199951171875,
          1904.4000244140625,
          1922.0999755859375,
          1926.4000244140625,
          1927.0999755859375,
          1933.9000244140625,
          1941.199951171875,
          1929.0999755859375,
          1928.5999755859375,
          1922.9000244140625,
          1929.5,
          1927.800048828125,
          1916.300048828125,
          1862.9000244140625,
          1866.199951171875,
          1871.699951171875,
          1877.4000244140625,
          1866.199951171875,
          1862.800048828125,
          1851.9000244140625,
          1854,
          1834.199951171875,
          1842,
          1840.4000244140625,
          1833,
          1832,
          1818,
          1808.800048828125,
          1817,
          1828.9000244140625,
          1837.699951171875,
          1833.5,
          1847.699951171875,
          1847.9000244140625,
          1813.9000244140625,
          1812.699951171875,
          1829.300048828125,
          1862,
          1911.699951171875,
          1906.199951171875,
          1926.5999755859375,
          1919,
          1969.800048828125,
          1979.199951171875,
          1938,
          1946.800048828125,
          1993.800048828125,
          1982.0999755859375,
          1952.4000244140625,
          1972.4000244140625,
          1966.0999755859375,
          1980.300048828125,
          1969,
          1983.9000244140625,
          2022.199951171875,
          2020.9000244140625,
          2011.9000244140625,
          1989.0999755859375,
          2004.800048828125,
          2010.9000244140625,
          2041.300048828125,
          2002.199951171875,
          1994.199951171875,
          2007.4000244140625,
          1995.199951171875,
          2007.5999755859375,
          1979.5,
          1989.0999755859375,
          1994,
          1985.699951171875,
          1989.9000244140625,
          1990.0999755859375,
          1983.4000244140625,
          2014.300048828125,
          2028.5999755859375,
          2048,
          2017.4000244140625,
          2026.300048828125,
          2036.199951171875,
          2030.5,
          2014.699951171875,
          2014.5,
          2018,
          1988.4000244140625,
          1980.699951171875,
          1956.5,
          1978.699951171875,
          1974.800048828125,
          1972.4000244140625,
          1962.800048828125,
          1943.0999755859375,
          1944.0999755859375,
          1958,
          1963.9000244140625,
          1978,
          1952.4000244140625,
          1958,
          1965.5,
          1942.699951171875,
          1963.5999755859375,
          1962.199951171875,
          1955.300048828125,
          1944.5999755859375,
          1955.300048828125,
          1957.800048828125,
          1958.4000244140625,
          1935.5,
          1933.300048828125,
          1912.699951171875,
          1919.0999755859375,
          1923.699951171875,
          1914,
          1912.300048828125,
          1909.199951171875,
          1921.0999755859375,
          1921.699951171875,
          1919.5999755859375,
          1908.699951171875,
          1930.5
         ],
         "yaxis": "y"
        },
        {
         "type": "scatter",
         "x": [
          "2023-01-09T00:00:00",
          "2023-01-10T00:00:00",
          "2023-01-11T00:00:00",
          "2023-01-12T00:00:00",
          "2023-01-13T00:00:00",
          "2023-01-16T00:00:00",
          "2023-01-17T00:00:00",
          "2023-01-18T00:00:00",
          "2023-01-19T00:00:00",
          "2023-01-20T00:00:00",
          "2023-01-23T00:00:00",
          "2023-01-24T00:00:00",
          "2023-01-25T00:00:00",
          "2023-01-26T00:00:00",
          "2023-01-27T00:00:00",
          "2023-01-30T00:00:00",
          "2023-01-31T00:00:00",
          "2023-02-01T00:00:00",
          "2023-02-02T00:00:00",
          "2023-02-03T00:00:00",
          "2023-02-06T00:00:00",
          "2023-02-07T00:00:00",
          "2023-02-08T00:00:00",
          "2023-02-09T00:00:00",
          "2023-02-10T00:00:00",
          "2023-02-13T00:00:00",
          "2023-02-14T00:00:00",
          "2023-02-15T00:00:00",
          "2023-02-16T00:00:00",
          "2023-02-17T00:00:00",
          "2023-02-21T00:00:00",
          "2023-02-22T00:00:00",
          "2023-02-23T00:00:00",
          "2023-02-24T00:00:00",
          "2023-02-27T00:00:00",
          "2023-02-28T00:00:00",
          "2023-03-01T00:00:00",
          "2023-03-02T00:00:00",
          "2023-03-03T00:00:00",
          "2023-03-06T00:00:00",
          "2023-03-07T00:00:00",
          "2023-03-08T00:00:00",
          "2023-03-09T00:00:00",
          "2023-03-10T00:00:00",
          "2023-03-13T00:00:00",
          "2023-03-14T00:00:00",
          "2023-03-15T00:00:00",
          "2023-03-16T00:00:00",
          "2023-03-17T00:00:00",
          "2023-03-20T00:00:00",
          "2023-03-21T00:00:00",
          "2023-03-22T00:00:00",
          "2023-03-23T00:00:00",
          "2023-03-24T00:00:00",
          "2023-03-27T00:00:00",
          "2023-03-28T00:00:00",
          "2023-03-29T00:00:00",
          "2023-03-30T00:00:00",
          "2023-03-31T00:00:00",
          "2023-04-03T00:00:00",
          "2023-04-04T00:00:00",
          "2023-04-05T00:00:00",
          "2023-04-06T00:00:00",
          "2023-04-10T00:00:00",
          "2023-04-11T00:00:00",
          "2023-04-12T00:00:00",
          "2023-04-13T00:00:00",
          "2023-04-14T00:00:00",
          "2023-04-17T00:00:00",
          "2023-04-18T00:00:00",
          "2023-04-19T00:00:00",
          "2023-04-20T00:00:00",
          "2023-04-21T00:00:00",
          "2023-04-24T00:00:00",
          "2023-04-25T00:00:00",
          "2023-04-26T00:00:00",
          "2023-04-27T00:00:00",
          "2023-04-28T00:00:00",
          "2023-05-01T00:00:00",
          "2023-05-02T00:00:00",
          "2023-05-03T00:00:00",
          "2023-05-04T00:00:00",
          "2023-05-05T00:00:00",
          "2023-05-08T00:00:00",
          "2023-05-09T00:00:00",
          "2023-05-10T00:00:00",
          "2023-05-11T00:00:00",
          "2023-05-12T00:00:00",
          "2023-05-15T00:00:00",
          "2023-05-16T00:00:00",
          "2023-05-17T00:00:00",
          "2023-05-18T00:00:00",
          "2023-05-19T00:00:00",
          "2023-05-22T00:00:00",
          "2023-05-23T00:00:00",
          "2023-05-24T00:00:00",
          "2023-05-25T00:00:00",
          "2023-05-26T00:00:00",
          "2023-05-30T00:00:00",
          "2023-05-31T00:00:00",
          "2023-06-01T00:00:00",
          "2023-06-02T00:00:00",
          "2023-06-05T00:00:00",
          "2023-06-06T00:00:00",
          "2023-06-07T00:00:00",
          "2023-06-08T00:00:00",
          "2023-06-09T00:00:00",
          "2023-06-12T00:00:00",
          "2023-06-13T00:00:00",
          "2023-06-14T00:00:00",
          "2023-06-15T00:00:00",
          "2023-06-16T00:00:00",
          "2023-06-20T00:00:00",
          "2023-06-21T00:00:00",
          "2023-06-22T00:00:00",
          "2023-06-23T00:00:00",
          "2023-06-26T00:00:00",
          "2023-06-27T00:00:00",
          "2023-06-28T00:00:00",
          "2023-06-29T00:00:00",
          "2023-06-30T00:00:00",
          "2023-07-03T00:00:00",
          "2023-07-05T00:00:00",
          "2023-07-06T00:00:00",
          "2023-07-07T00:00:00"
         ],
         "xaxis": "x2",
         "y": [
          1086.300048828125,
          1076.5999755859375,
          1073.800048828125,
          1074.5999755859375,
          1063.699951171875,
          1053.5,
          1037.5,
          1034.5,
          1032,
          1038.0999755859375,
          1046.699951171875,
          1057.699951171875,
          1037,
          1013.5999755859375,
          1007.4000244140625,
          1011.4000244140625,
          1012,
          992.5999755859375,
          1023.5,
          971.7999877929688,
          966.0999755859375,
          977.7000122070312,
          978.7000122070312,
          957.9000244140625,
          945.5999755859375,
          953.2999877929688,
          933.0999755859375,
          911.7000122070312,
          925.0999755859375,
          915.5,
          942.7000122070312,
          947.4000244140625,
          939.5999755859375,
          902,
          941.5999755859375,
          955.2000122070312,
          961.5,
          962.9000244140625,
          977.2000122070312,
          976.0999755859375,
          933.4000244140625,
          938.0999755859375,
          946.7999877929688,
          959.7000122070312,
          1002.5,
          994.9000244140625,
          967.9000244140625,
          974.7000122070312,
          976.7000122070312,
          994.9000244140625,
          974.7999877929688,
          985.0999755859375,
          991,
          982,
          975.2000122070312,
          961.5,
          963.5999755859375,
          985.2000122070312,
          994.0999755859375,
          986.9000244140625,
          1018.7000122070312,
          997.5,
          1006.9000244140625,
          993.0999755859375,
          995.5999755859375,
          1018,
          1056.0999755859375,
          1044.5999755859375,
          1050.4000244140625,
          1087.9000244140625,
          1096.699951171875,
          1098.699951171875,
          1129.800048828125,
          1088.800048828125,
          1089.300048828125,
          1097.0999755859375,
          1091.300048828125,
          1088.199951171875,
          1062.800048828125,
          1076.4000244140625,
          1059.9000244140625,
          1048.4000244140625,
          1066.4000244140625,
          1088.800048828125,
          1117.0999755859375,
          1122.199951171875,
          1108.0999755859375,
          1070.0999755859375,
          1077.800048828125,
          1070,
          1085.699951171875,
          1061.300048828125,
          1078.800048828125,
          1080.4000244140625,
          1060.699951171875,
          1032.5999755859375,
          1029.4000244140625,
          1031.199951171875,
          1030,
          1007.0999755859375,
          1018.2000122070312,
          1011.5999755859375,
          1044.5,
          1046.800048828125,
          1032.699951171875,
          1022,
          1020.9000244140625,
          1003.4000244140625,
          990,
          988.0999755859375,
          1000,
          995.4000244140625,
          976.0999755859375,
          957.0999755859375,
          934.5999755859375,
          931.7999877929688,
          936.7000122070312,
          936.5999755859375,
          923.4000244140625,
          897.7999877929688,
          904.5,
          909.2999877929688,
          918.0999755859375,
          904.5,
          916.7000122070312
         ],
         "yaxis": "y2"
        },
        {
         "type": "scatter",
         "x": [
          "2023-01-09T00:00:00",
          "2023-01-10T00:00:00",
          "2023-01-11T00:00:00",
          "2023-01-12T00:00:00",
          "2023-01-13T00:00:00",
          "2023-01-16T00:00:00",
          "2023-01-17T00:00:00",
          "2023-01-18T00:00:00",
          "2023-01-19T00:00:00",
          "2023-01-20T00:00:00",
          "2023-01-23T00:00:00",
          "2023-01-24T00:00:00",
          "2023-01-25T00:00:00",
          "2023-01-26T00:00:00",
          "2023-01-27T00:00:00",
          "2023-01-30T00:00:00",
          "2023-01-31T00:00:00",
          "2023-02-01T00:00:00",
          "2023-02-02T00:00:00",
          "2023-02-03T00:00:00",
          "2023-02-06T00:00:00",
          "2023-02-07T00:00:00",
          "2023-02-08T00:00:00",
          "2023-02-09T00:00:00",
          "2023-02-10T00:00:00",
          "2023-02-13T00:00:00",
          "2023-02-14T00:00:00",
          "2023-02-15T00:00:00",
          "2023-02-16T00:00:00",
          "2023-02-17T00:00:00",
          "2023-02-21T00:00:00",
          "2023-02-22T00:00:00",
          "2023-02-23T00:00:00",
          "2023-02-24T00:00:00",
          "2023-02-27T00:00:00",
          "2023-02-28T00:00:00",
          "2023-03-01T00:00:00",
          "2023-03-02T00:00:00",
          "2023-03-03T00:00:00",
          "2023-03-06T00:00:00",
          "2023-03-07T00:00:00",
          "2023-03-08T00:00:00",
          "2023-03-09T00:00:00",
          "2023-03-10T00:00:00",
          "2023-03-13T00:00:00",
          "2023-03-14T00:00:00",
          "2023-03-15T00:00:00",
          "2023-03-16T00:00:00",
          "2023-03-17T00:00:00",
          "2023-03-20T00:00:00",
          "2023-03-21T00:00:00",
          "2023-03-22T00:00:00",
          "2023-03-23T00:00:00",
          "2023-03-24T00:00:00",
          "2023-03-27T00:00:00",
          "2023-03-28T00:00:00",
          "2023-03-29T00:00:00",
          "2023-03-30T00:00:00",
          "2023-03-31T00:00:00",
          "2023-04-03T00:00:00",
          "2023-04-04T00:00:00",
          "2023-04-05T00:00:00",
          "2023-04-06T00:00:00",
          "2023-04-10T00:00:00",
          "2023-04-11T00:00:00",
          "2023-04-12T00:00:00",
          "2023-04-13T00:00:00",
          "2023-04-14T00:00:00",
          "2023-04-17T00:00:00",
          "2023-04-18T00:00:00",
          "2023-04-19T00:00:00",
          "2023-04-20T00:00:00",
          "2023-04-21T00:00:00",
          "2023-04-24T00:00:00",
          "2023-04-25T00:00:00",
          "2023-04-26T00:00:00",
          "2023-04-27T00:00:00",
          "2023-04-28T00:00:00",
          "2023-05-01T00:00:00",
          "2023-05-02T00:00:00",
          "2023-05-03T00:00:00",
          "2023-05-04T00:00:00",
          "2023-05-05T00:00:00",
          "2023-05-08T00:00:00",
          "2023-05-09T00:00:00",
          "2023-05-10T00:00:00",
          "2023-05-11T00:00:00",
          "2023-05-12T00:00:00",
          "2023-05-15T00:00:00",
          "2023-05-16T00:00:00",
          "2023-05-17T00:00:00",
          "2023-05-18T00:00:00",
          "2023-05-19T00:00:00",
          "2023-05-22T00:00:00",
          "2023-05-23T00:00:00",
          "2023-05-24T00:00:00",
          "2023-05-25T00:00:00",
          "2023-05-26T00:00:00",
          "2023-05-30T00:00:00",
          "2023-05-31T00:00:00",
          "2023-06-01T00:00:00",
          "2023-06-02T00:00:00",
          "2023-06-05T00:00:00",
          "2023-06-06T00:00:00",
          "2023-06-07T00:00:00",
          "2023-06-08T00:00:00",
          "2023-06-09T00:00:00",
          "2023-06-12T00:00:00",
          "2023-06-13T00:00:00",
          "2023-06-14T00:00:00",
          "2023-06-15T00:00:00",
          "2023-06-16T00:00:00",
          "2023-06-20T00:00:00",
          "2023-06-21T00:00:00",
          "2023-06-22T00:00:00",
          "2023-06-23T00:00:00",
          "2023-06-26T00:00:00",
          "2023-06-27T00:00:00",
          "2023-06-28T00:00:00",
          "2023-06-29T00:00:00",
          "2023-06-30T00:00:00",
          "2023-07-03T00:00:00",
          "2023-07-05T00:00:00",
          "2023-07-06T00:00:00",
          "2023-07-07T00:00:00"
         ],
         "xaxis": "x3",
         "y": [
          79.6500015258789,
          80.0999984741211,
          82.66999816894531,
          84.02999877929688,
          85.27999877929688,
          84.23999786376953,
          85.91999816894531,
          84.9800033569336,
          86.16000366210938,
          87.62999725341797,
          88.19000244140625,
          86.12999725341797,
          86.12000274658203,
          87.47000122070312,
          86.66000366210938,
          84.9000015258789,
          84.48999786376953,
          82.83999633789062,
          82.16999816894531,
          79.94000244140625,
          80.98999786376953,
          83.69000244140625,
          85.08999633789062,
          84.5,
          86.38999938964844,
          86.61000061035156,
          85.58000183105469,
          85.37999725341797,
          85.13999938964844,
          83,
          83.05000305175781,
          80.5999984741211,
          82.20999908447266,
          83.16000366210938,
          82.44999694824219,
          83.88999938964844,
          84.30999755859375,
          84.75,
          85.83000183105469,
          86.18000030517578,
          83.29000091552734,
          82.66000366210938,
          81.58999633789062,
          82.77999877929688,
          80.7699966430664,
          77.44999694824219,
          73.69000244140625,
          74.69999694824219,
          72.97000122070312,
          73.79000091552734,
          75.31999969482422,
          76.69000244140625,
          75.91000366210938,
          74.98999786376953,
          78.12000274658203,
          78.6500015258789,
          78.27999877929688,
          79.2699966430664,
          79.7699966430664,
          84.93000030517578,
          84.94000244140625,
          84.98999786376953,
          85.12000274658203,
          84.18000030517578,
          85.61000061035156,
          87.33000183105469,
          86.08999633789062,
          86.30999755859375,
          84.76000213623047,
          84.7699966430664,
          83.12000274658203,
          81.0999984741211,
          81.66000366210938,
          82.7300033569336,
          80.7699966430664,
          77.69000244140625,
          78.37000274658203,
          79.54000091552734,
          79.30999755859375,
          75.31999969482422,
          72.33000183105469,
          72.5,
          75.30000305175781,
          77.01000213623047,
          77.44000244140625,
          76.41000366210938,
          74.9800033569336,
          74.16999816894531,
          75.2300033569336,
          74.91000366210938,
          76.95999908447266,
          75.86000061035156,
          75.58000183105469,
          75.98999786376953,
          76.83999633789062,
          78.36000061035156,
          76.26000213623047,
          76.94999694824219,
          73.54000091552734,
          72.66000366210938,
          74.27999877929688,
          76.12999725341797,
          76.70999908447266,
          76.29000091552734,
          76.94999694824219,
          75.95999908447266,
          74.79000091552734,
          71.83999633789062,
          74.29000091552734,
          73.19999694824219,
          75.66999816894531,
          76.61000061035156,
          75.9000015258789,
          77.12000274658203,
          74.13999938964844,
          73.8499984741211,
          74.18000030517578,
          72.26000213623047,
          74.02999877929688,
          74.33999633789062,
          74.9000015258789,
          74.6500015258789,
          76.6500015258789,
          76.5199966430664,
          78.29000091552734
         ],
         "yaxis": "y3"
        },
        {
         "type": "scatter",
         "x": [
          "2023-01-09T00:00:00",
          "2023-01-10T00:00:00",
          "2023-01-11T00:00:00",
          "2023-01-12T00:00:00",
          "2023-01-13T00:00:00",
          "2023-01-16T00:00:00",
          "2023-01-17T00:00:00",
          "2023-01-18T00:00:00",
          "2023-01-19T00:00:00",
          "2023-01-20T00:00:00",
          "2023-01-23T00:00:00",
          "2023-01-24T00:00:00",
          "2023-01-25T00:00:00",
          "2023-01-26T00:00:00",
          "2023-01-27T00:00:00",
          "2023-01-30T00:00:00",
          "2023-01-31T00:00:00",
          "2023-02-01T00:00:00",
          "2023-02-02T00:00:00",
          "2023-02-03T00:00:00",
          "2023-02-06T00:00:00",
          "2023-02-07T00:00:00",
          "2023-02-08T00:00:00",
          "2023-02-09T00:00:00",
          "2023-02-10T00:00:00",
          "2023-02-13T00:00:00",
          "2023-02-14T00:00:00",
          "2023-02-15T00:00:00",
          "2023-02-16T00:00:00",
          "2023-02-17T00:00:00",
          "2023-02-21T00:00:00",
          "2023-02-22T00:00:00",
          "2023-02-23T00:00:00",
          "2023-02-24T00:00:00",
          "2023-02-27T00:00:00",
          "2023-02-28T00:00:00",
          "2023-03-01T00:00:00",
          "2023-03-02T00:00:00",
          "2023-03-03T00:00:00",
          "2023-03-06T00:00:00",
          "2023-03-07T00:00:00",
          "2023-03-08T00:00:00",
          "2023-03-09T00:00:00",
          "2023-03-10T00:00:00",
          "2023-03-13T00:00:00",
          "2023-03-14T00:00:00",
          "2023-03-15T00:00:00",
          "2023-03-16T00:00:00",
          "2023-03-17T00:00:00",
          "2023-03-20T00:00:00",
          "2023-03-21T00:00:00",
          "2023-03-22T00:00:00",
          "2023-03-23T00:00:00",
          "2023-03-24T00:00:00",
          "2023-03-27T00:00:00",
          "2023-03-28T00:00:00",
          "2023-03-29T00:00:00",
          "2023-03-30T00:00:00",
          "2023-03-31T00:00:00",
          "2023-04-03T00:00:00",
          "2023-04-04T00:00:00",
          "2023-04-05T00:00:00",
          "2023-04-06T00:00:00",
          "2023-04-10T00:00:00",
          "2023-04-11T00:00:00",
          "2023-04-12T00:00:00",
          "2023-04-13T00:00:00",
          "2023-04-14T00:00:00",
          "2023-04-17T00:00:00",
          "2023-04-18T00:00:00",
          "2023-04-19T00:00:00",
          "2023-04-20T00:00:00",
          "2023-04-21T00:00:00",
          "2023-04-24T00:00:00",
          "2023-04-25T00:00:00",
          "2023-04-26T00:00:00",
          "2023-04-27T00:00:00",
          "2023-04-28T00:00:00",
          "2023-05-01T00:00:00",
          "2023-05-02T00:00:00",
          "2023-05-03T00:00:00",
          "2023-05-04T00:00:00",
          "2023-05-05T00:00:00",
          "2023-05-08T00:00:00",
          "2023-05-09T00:00:00",
          "2023-05-10T00:00:00",
          "2023-05-11T00:00:00",
          "2023-05-12T00:00:00",
          "2023-05-15T00:00:00",
          "2023-05-16T00:00:00",
          "2023-05-17T00:00:00",
          "2023-05-18T00:00:00",
          "2023-05-19T00:00:00",
          "2023-05-22T00:00:00",
          "2023-05-23T00:00:00",
          "2023-05-24T00:00:00",
          "2023-05-25T00:00:00",
          "2023-05-26T00:00:00",
          "2023-05-30T00:00:00",
          "2023-05-31T00:00:00",
          "2023-06-01T00:00:00",
          "2023-06-02T00:00:00",
          "2023-06-05T00:00:00",
          "2023-06-06T00:00:00",
          "2023-06-07T00:00:00",
          "2023-06-08T00:00:00",
          "2023-06-09T00:00:00",
          "2023-06-12T00:00:00",
          "2023-06-13T00:00:00",
          "2023-06-14T00:00:00",
          "2023-06-15T00:00:00",
          "2023-06-16T00:00:00",
          "2023-06-20T00:00:00",
          "2023-06-21T00:00:00",
          "2023-06-22T00:00:00",
          "2023-06-23T00:00:00",
          "2023-06-26T00:00:00",
          "2023-06-27T00:00:00",
          "2023-06-28T00:00:00",
          "2023-06-29T00:00:00",
          "2023-06-30T00:00:00",
          "2023-07-03T00:00:00",
          "2023-07-05T00:00:00",
          "2023-07-06T00:00:00",
          "2023-07-07T00:00:00"
         ],
         "xaxis": "x4",
         "y": [
          3.9100000858306885,
          3.6389999389648438,
          3.6710000038146973,
          3.694999933242798,
          3.4189999103546143,
          3.625,
          3.5859999656677246,
          3.311000108718872,
          3.2750000953674316,
          3.1740000247955322,
          3.447000026702881,
          3.257999897003174,
          3.066999912261963,
          2.944000005722046,
          3.1089999675750732,
          2.677000045776367,
          2.684000015258789,
          2.4679999351501465,
          2.4560000896453857,
          2.4100000858306885,
          2.4570000171661377,
          2.5840001106262207,
          2.3959999084472656,
          2.430000066757202,
          2.5139999389648438,
          2.4049999713897705,
          2.566999912261963,
          2.4709999561309814,
          2.3889999389648438,
          2.2750000953674316,
          2.072999954223633,
          2.1740000247955322,
          2.313999891281128,
          2.4509999752044678,
          2.7309999465942383,
          2.746999979019165,
          2.811000108718872,
          2.765000104904175,
          3.009000062942505,
          2.572000026702881,
          2.687000036239624,
          2.5510001182556152,
          2.5429999828338623,
          2.430000066757202,
          2.6059999465942383,
          2.572999954223633,
          2.438999891281128,
          2.5139999389648438,
          2.3380000591278076,
          2.2230000495910645,
          2.3480000495910645,
          2.1710000038146973,
          2.1540000438690186,
          2.2160000801086426,
          2.0880000591278076,
          2.0299999713897705,
          1.9910000562667847,
          2.1040000915527344,
          2.2160000801086426,
          2.0969998836517334,
          2.1059999465942383,
          2.1549999713897705,
          2.010999917984009,
          2.171999931335449,
          2.186000108718872,
          2.0929999351501465,
          2.006999969482422,
          2.114000082015991,
          2.2750000953674316,
          2.365999937057495,
          2.2219998836517334,
          2.249000072479248,
          2.2330000400543213,
          2.2730000019073486,
          2.306999921798706,
          2.117000102996826,
          2.3550000190734863,
          2.4100000858306885,
          2.318000078201294,
          2.2139999866485596,
          2.1700000762939453,
          2.1010000705718994,
          2.13700008392334,
          2.23799991607666,
          2.2669999599456787,
          2.190999984741211,
          2.190000057220459,
          2.2660000324249268,
          2.375,
          2.375999927520752,
          2.365000009536743,
          2.5920000076293945,
          2.5850000381469727,
          2.4000000953674316,
          2.321000099182129,
          2.3980000019073486,
          2.306999921798706,
          2.180999994277954,
          2.3269999027252197,
          2.2660000324249268,
          2.1579999923706055,
          2.171999931335449,
          2.244999885559082,
          2.26200008392334,
          2.3289999961853027,
          2.3519999980926514,
          2.253999948501587,
          2.2660000324249268,
          2.3399999141693115,
          2.3420000076293945,
          2.5329999923706055,
          2.631999969482422,
          2.492000102996826,
          2.5969998836517334,
          2.6080000400543213,
          2.7290000915527344,
          2.7909998893737793,
          2.763000011444092,
          2.6029999256134033,
          2.7009999752044678,
          2.7980000972747803,
          2.7090001106262207,
          2.6570000648498535,
          2.6089999675750732,
          2.562999963760376
         ],
         "yaxis": "y4"
        },
        {
         "type": "scatter",
         "x": [
          "2023-01-09T00:00:00",
          "2023-01-10T00:00:00",
          "2023-01-11T00:00:00",
          "2023-01-12T00:00:00",
          "2023-01-13T00:00:00",
          "2023-01-16T00:00:00",
          "2023-01-17T00:00:00",
          "2023-01-18T00:00:00",
          "2023-01-19T00:00:00",
          "2023-01-20T00:00:00",
          "2023-01-23T00:00:00",
          "2023-01-24T00:00:00",
          "2023-01-25T00:00:00",
          "2023-01-26T00:00:00",
          "2023-01-27T00:00:00",
          "2023-01-30T00:00:00",
          "2023-01-31T00:00:00",
          "2023-02-01T00:00:00",
          "2023-02-02T00:00:00",
          "2023-02-03T00:00:00",
          "2023-02-06T00:00:00",
          "2023-02-07T00:00:00",
          "2023-02-08T00:00:00",
          "2023-02-09T00:00:00",
          "2023-02-10T00:00:00",
          "2023-02-13T00:00:00",
          "2023-02-14T00:00:00",
          "2023-02-15T00:00:00",
          "2023-02-16T00:00:00",
          "2023-02-17T00:00:00",
          "2023-02-21T00:00:00",
          "2023-02-22T00:00:00",
          "2023-02-23T00:00:00",
          "2023-02-24T00:00:00",
          "2023-02-27T00:00:00",
          "2023-02-28T00:00:00",
          "2023-03-01T00:00:00",
          "2023-03-02T00:00:00",
          "2023-03-03T00:00:00",
          "2023-03-06T00:00:00",
          "2023-03-07T00:00:00",
          "2023-03-08T00:00:00",
          "2023-03-09T00:00:00",
          "2023-03-10T00:00:00",
          "2023-03-13T00:00:00",
          "2023-03-14T00:00:00",
          "2023-03-15T00:00:00",
          "2023-03-16T00:00:00",
          "2023-03-17T00:00:00",
          "2023-03-20T00:00:00",
          "2023-03-21T00:00:00",
          "2023-03-22T00:00:00",
          "2023-03-23T00:00:00",
          "2023-03-24T00:00:00",
          "2023-03-27T00:00:00",
          "2023-03-28T00:00:00",
          "2023-03-29T00:00:00",
          "2023-03-30T00:00:00",
          "2023-03-31T00:00:00",
          "2023-04-03T00:00:00",
          "2023-04-04T00:00:00",
          "2023-04-05T00:00:00",
          "2023-04-06T00:00:00",
          "2023-04-10T00:00:00",
          "2023-04-11T00:00:00",
          "2023-04-12T00:00:00",
          "2023-04-13T00:00:00",
          "2023-04-14T00:00:00",
          "2023-04-17T00:00:00",
          "2023-04-18T00:00:00",
          "2023-04-19T00:00:00",
          "2023-04-20T00:00:00",
          "2023-04-21T00:00:00",
          "2023-04-24T00:00:00",
          "2023-04-25T00:00:00",
          "2023-04-26T00:00:00",
          "2023-04-27T00:00:00",
          "2023-04-28T00:00:00",
          "2023-05-01T00:00:00",
          "2023-05-02T00:00:00",
          "2023-05-03T00:00:00",
          "2023-05-04T00:00:00",
          "2023-05-05T00:00:00",
          "2023-05-08T00:00:00",
          "2023-05-09T00:00:00",
          "2023-05-10T00:00:00",
          "2023-05-11T00:00:00",
          "2023-05-12T00:00:00",
          "2023-05-15T00:00:00",
          "2023-05-16T00:00:00",
          "2023-05-17T00:00:00",
          "2023-05-18T00:00:00",
          "2023-05-19T00:00:00",
          "2023-05-22T00:00:00",
          "2023-05-23T00:00:00",
          "2023-05-24T00:00:00",
          "2023-05-25T00:00:00",
          "2023-05-26T00:00:00",
          "2023-05-30T00:00:00",
          "2023-05-31T00:00:00",
          "2023-06-01T00:00:00",
          "2023-06-02T00:00:00",
          "2023-06-05T00:00:00",
          "2023-06-06T00:00:00",
          "2023-06-07T00:00:00",
          "2023-06-08T00:00:00",
          "2023-06-09T00:00:00",
          "2023-06-12T00:00:00",
          "2023-06-13T00:00:00",
          "2023-06-14T00:00:00",
          "2023-06-15T00:00:00",
          "2023-06-16T00:00:00",
          "2023-06-20T00:00:00",
          "2023-06-21T00:00:00",
          "2023-06-22T00:00:00",
          "2023-06-23T00:00:00",
          "2023-06-26T00:00:00",
          "2023-06-27T00:00:00",
          "2023-06-28T00:00:00",
          "2023-06-29T00:00:00",
          "2023-06-30T00:00:00",
          "2023-07-03T00:00:00",
          "2023-07-05T00:00:00",
          "2023-07-06T00:00:00",
          "2023-07-07T00:00:00"
         ],
         "xaxis": "x5",
         "y": [
          741.5,
          731,
          740,
          742.75,
          743.75,
          743.75,
          751.75,
          742.5,
          734.5,
          741.5,
          720,
          734.5,
          741.25,
          752.5,
          750,
          752.5,
          761.25,
          759.75,
          761,
          756.75,
          750.25,
          749.75,
          764.75,
          757.25,
          786,
          792,
          786,
          769.25,
          765,
          765.5,
          750.5,
          736.5,
          738.25,
          708.25,
          696,
          691.5,
          697,
          701.25,
          695.75,
          682.5,
          684.75,
          674.5,
          653.5,
          666.75,
          672.25,
          686.5,
          702.75,
          699,
          710.5,
          700.75,
          683.25,
          663.5,
          662,
          688.5,
          698,
          699.75,
          704.75,
          692.25,
          692.25,
          693.5,
          691.5,
          682,
          675.5,
          678.5,
          674,
          679.5,
          667,
          682.5,
          696.5,
          698,
          681.75,
          667.75,
          661.75,
          643.5,
          638.75,
          627.25,
          614.75,
          619.75,
          603.75,
          595.5,
          626.25,
          631.5,
          647,
          641,
          630.5,
          628.25,
          614.25,
          624.5,
          660.75,
          647.5,
          625.5,
          611.75,
          605,
          606.25,
          622.25,
          606.25,
          604.25,
          616,
          591,
          594.25,
          610.75,
          619,
          624,
          627.75,
          616.75,
          626.25,
          630.25,
          633.75,
          636.25,
          630.25,
          661.5,
          688,
          695.75,
          734.5,
          739,
          733.25,
          724.25,
          685,
          655.75,
          653,
          636.25,
          628.5,
          662,
          647,
          651.75
         ],
         "yaxis": "y5"
        },
        {
         "type": "scatter",
         "x": [
          "2023-01-09T00:00:00",
          "2023-01-10T00:00:00",
          "2023-01-11T00:00:00",
          "2023-01-12T00:00:00",
          "2023-01-13T00:00:00",
          "2023-01-16T00:00:00",
          "2023-01-17T00:00:00",
          "2023-01-18T00:00:00",
          "2023-01-19T00:00:00",
          "2023-01-20T00:00:00",
          "2023-01-23T00:00:00",
          "2023-01-24T00:00:00",
          "2023-01-25T00:00:00",
          "2023-01-26T00:00:00",
          "2023-01-27T00:00:00",
          "2023-01-30T00:00:00",
          "2023-01-31T00:00:00",
          "2023-02-01T00:00:00",
          "2023-02-02T00:00:00",
          "2023-02-03T00:00:00",
          "2023-02-06T00:00:00",
          "2023-02-07T00:00:00",
          "2023-02-08T00:00:00",
          "2023-02-09T00:00:00",
          "2023-02-10T00:00:00",
          "2023-02-13T00:00:00",
          "2023-02-14T00:00:00",
          "2023-02-15T00:00:00",
          "2023-02-16T00:00:00",
          "2023-02-17T00:00:00",
          "2023-02-21T00:00:00",
          "2023-02-22T00:00:00",
          "2023-02-23T00:00:00",
          "2023-02-24T00:00:00",
          "2023-02-27T00:00:00",
          "2023-02-28T00:00:00",
          "2023-03-01T00:00:00",
          "2023-03-02T00:00:00",
          "2023-03-03T00:00:00",
          "2023-03-06T00:00:00",
          "2023-03-07T00:00:00",
          "2023-03-08T00:00:00",
          "2023-03-09T00:00:00",
          "2023-03-10T00:00:00",
          "2023-03-13T00:00:00",
          "2023-03-14T00:00:00",
          "2023-03-15T00:00:00",
          "2023-03-16T00:00:00",
          "2023-03-17T00:00:00",
          "2023-03-20T00:00:00",
          "2023-03-21T00:00:00",
          "2023-03-22T00:00:00",
          "2023-03-23T00:00:00",
          "2023-03-24T00:00:00",
          "2023-03-27T00:00:00",
          "2023-03-28T00:00:00",
          "2023-03-29T00:00:00",
          "2023-03-30T00:00:00",
          "2023-03-31T00:00:00",
          "2023-04-03T00:00:00",
          "2023-04-04T00:00:00",
          "2023-04-05T00:00:00",
          "2023-04-06T00:00:00",
          "2023-04-10T00:00:00",
          "2023-04-11T00:00:00",
          "2023-04-12T00:00:00",
          "2023-04-13T00:00:00",
          "2023-04-14T00:00:00",
          "2023-04-17T00:00:00",
          "2023-04-18T00:00:00",
          "2023-04-19T00:00:00",
          "2023-04-20T00:00:00",
          "2023-04-21T00:00:00",
          "2023-04-24T00:00:00",
          "2023-04-25T00:00:00",
          "2023-04-26T00:00:00",
          "2023-04-27T00:00:00",
          "2023-04-28T00:00:00",
          "2023-05-01T00:00:00",
          "2023-05-02T00:00:00",
          "2023-05-03T00:00:00",
          "2023-05-04T00:00:00",
          "2023-05-05T00:00:00",
          "2023-05-08T00:00:00",
          "2023-05-09T00:00:00",
          "2023-05-10T00:00:00",
          "2023-05-11T00:00:00",
          "2023-05-12T00:00:00",
          "2023-05-15T00:00:00",
          "2023-05-16T00:00:00",
          "2023-05-17T00:00:00",
          "2023-05-18T00:00:00",
          "2023-05-19T00:00:00",
          "2023-05-22T00:00:00",
          "2023-05-23T00:00:00",
          "2023-05-24T00:00:00",
          "2023-05-25T00:00:00",
          "2023-05-26T00:00:00",
          "2023-05-30T00:00:00",
          "2023-05-31T00:00:00",
          "2023-06-01T00:00:00",
          "2023-06-02T00:00:00",
          "2023-06-05T00:00:00",
          "2023-06-06T00:00:00",
          "2023-06-07T00:00:00",
          "2023-06-08T00:00:00",
          "2023-06-09T00:00:00",
          "2023-06-12T00:00:00",
          "2023-06-13T00:00:00",
          "2023-06-14T00:00:00",
          "2023-06-15T00:00:00",
          "2023-06-16T00:00:00",
          "2023-06-20T00:00:00",
          "2023-06-21T00:00:00",
          "2023-06-22T00:00:00",
          "2023-06-23T00:00:00",
          "2023-06-26T00:00:00",
          "2023-06-27T00:00:00",
          "2023-06-28T00:00:00",
          "2023-06-29T00:00:00",
          "2023-06-30T00:00:00",
          "2023-07-03T00:00:00",
          "2023-07-05T00:00:00",
          "2023-07-06T00:00:00",
          "2023-07-07T00:00:00"
         ],
         "xaxis": "x6",
         "y": [
          652.75,
          655,
          656,
          671,
          675,
          675,
          685.25,
          681.25,
          677.25,
          676.25,
          666.25,
          677,
          674.75,
          682.5,
          683,
          683.75,
          679.75,
          681,
          675.25,
          677.5,
          679,
          674,
          678.5,
          670.75,
          680.5,
          685,
          682.25,
          676.25,
          676,
          677.75,
          680.5,
          674,
          660.25,
          650,
          642.75,
          629.5,
          640.5,
          637.75,
          645.25,
          644.5,
          642,
          634.5,
          618.5,
          624.25,
          624.5,
          627.5,
          626.5,
          632.75,
          634.25,
          633,
          630,
          633.5,
          631.75,
          643,
          648.25,
          647.25,
          650.5,
          649.5,
          660.5,
          657.75,
          653.75,
          652.75,
          643.5,
          654,
          651,
          656,
          652.25,
          666.25,
          676.5,
          677.5,
          672.25,
          663.75,
          663.25,
          651.25,
          646.5,
          641.5,
          627,
          636,
          639.5,
          638,
          645.25,
          646.5,
          653.25,
          656.5,
          642.25,
          645.5,
          632.5,
          633.25,
          592.5,
          581.25,
          561.5,
          555.25,
          554.5,
          571,
          577.5,
          587.25,
          590.75,
          604,
          594,
          594,
          592.5,
          609,
          597.5,
          608,
          604.25,
          610.25,
          604.25,
          617.25,
          612.5,
          607.75,
          623.25,
          640.25,
          643.75,
          671,
          660.5,
          630.75,
          637.25,
          623,
          590,
          581,
          554.5,
          557.25,
          548.25,
          566.75,
          496.5
         ],
         "yaxis": "y6"
        }
       ],
       "layout": {
        "annotations": [
         {
          "font": {
           "size": 16
          },
          "showarrow": false,
          "text": "Gold",
          "x": 0.225,
          "xanchor": "center",
          "xref": "paper",
          "y": 1,
          "yanchor": "bottom",
          "yref": "paper"
         },
         {
          "font": {
           "size": 16
          },
          "showarrow": false,
          "text": "Platinum",
          "x": 0.775,
          "xanchor": "center",
          "xref": "paper",
          "y": 1,
          "yanchor": "bottom",
          "yref": "paper"
         },
         {
          "font": {
           "size": 16
          },
          "showarrow": false,
          "text": "Brent",
          "x": 0.225,
          "xanchor": "center",
          "xref": "paper",
          "y": 0.6111111111111112,
          "yanchor": "bottom",
          "yref": "paper"
         },
         {
          "font": {
           "size": 16
          },
          "showarrow": false,
          "text": "Natural Gas",
          "x": 0.775,
          "xanchor": "center",
          "xref": "paper",
          "y": 0.6111111111111112,
          "yanchor": "bottom",
          "yref": "paper"
         },
         {
          "font": {
           "size": 16
          },
          "showarrow": false,
          "text": "Wheat",
          "x": 0.225,
          "xanchor": "center",
          "xref": "paper",
          "y": 0.22222222222222224,
          "yanchor": "bottom",
          "yref": "paper"
         },
         {
          "font": {
           "size": 16
          },
          "showarrow": false,
          "text": "Corn",
          "x": 0.775,
          "xanchor": "center",
          "xref": "paper",
          "y": 0.22222222222222224,
          "yanchor": "bottom",
          "yref": "paper"
         }
        ],
        "height": 800,
        "showlegend": false,
        "template": {
         "data": {
          "bar": [
           {
            "error_x": {
             "color": "#f2f5fa"
            },
            "error_y": {
             "color": "#f2f5fa"
            },
            "marker": {
             "line": {
              "color": "rgb(17,17,17)",
              "width": 0.5
             },
             "pattern": {
              "fillmode": "overlay",
              "size": 10,
              "solidity": 0.2
             }
            },
            "type": "bar"
           }
          ],
          "barpolar": [
           {
            "marker": {
             "line": {
              "color": "rgb(17,17,17)",
              "width": 0.5
             },
             "pattern": {
              "fillmode": "overlay",
              "size": 10,
              "solidity": 0.2
             }
            },
            "type": "barpolar"
           }
          ],
          "carpet": [
           {
            "aaxis": {
             "endlinecolor": "#A2B1C6",
             "gridcolor": "#506784",
             "linecolor": "#506784",
             "minorgridcolor": "#506784",
             "startlinecolor": "#A2B1C6"
            },
            "baxis": {
             "endlinecolor": "#A2B1C6",
             "gridcolor": "#506784",
             "linecolor": "#506784",
             "minorgridcolor": "#506784",
             "startlinecolor": "#A2B1C6"
            },
            "type": "carpet"
           }
          ],
          "choropleth": [
           {
            "colorbar": {
             "outlinewidth": 0,
             "ticks": ""
            },
            "type": "choropleth"
           }
          ],
          "contour": [
           {
            "colorbar": {
             "outlinewidth": 0,
             "ticks": ""
            },
            "colorscale": [
             [
              0,
              "#0d0887"
             ],
             [
              0.1111111111111111,
              "#46039f"
             ],
             [
              0.2222222222222222,
              "#7201a8"
             ],
             [
              0.3333333333333333,
              "#9c179e"
             ],
             [
              0.4444444444444444,
              "#bd3786"
             ],
             [
              0.5555555555555556,
              "#d8576b"
             ],
             [
              0.6666666666666666,
              "#ed7953"
             ],
             [
              0.7777777777777778,
              "#fb9f3a"
             ],
             [
              0.8888888888888888,
              "#fdca26"
             ],
             [
              1,
              "#f0f921"
             ]
            ],
            "type": "contour"
           }
          ],
          "contourcarpet": [
           {
            "colorbar": {
             "outlinewidth": 0,
             "ticks": ""
            },
            "type": "contourcarpet"
           }
          ],
          "heatmap": [
           {
            "colorbar": {
             "outlinewidth": 0,
             "ticks": ""
            },
            "colorscale": [
             [
              0,
              "#0d0887"
             ],
             [
              0.1111111111111111,
              "#46039f"
             ],
             [
              0.2222222222222222,
              "#7201a8"
             ],
             [
              0.3333333333333333,
              "#9c179e"
             ],
             [
              0.4444444444444444,
              "#bd3786"
             ],
             [
              0.5555555555555556,
              "#d8576b"
             ],
             [
              0.6666666666666666,
              "#ed7953"
             ],
             [
              0.7777777777777778,
              "#fb9f3a"
             ],
             [
              0.8888888888888888,
              "#fdca26"
             ],
             [
              1,
              "#f0f921"
             ]
            ],
            "type": "heatmap"
           }
          ],
          "heatmapgl": [
           {
            "colorbar": {
             "outlinewidth": 0,
             "ticks": ""
            },
            "colorscale": [
             [
              0,
              "#0d0887"
             ],
             [
              0.1111111111111111,
              "#46039f"
             ],
             [
              0.2222222222222222,
              "#7201a8"
             ],
             [
              0.3333333333333333,
              "#9c179e"
             ],
             [
              0.4444444444444444,
              "#bd3786"
             ],
             [
              0.5555555555555556,
              "#d8576b"
             ],
             [
              0.6666666666666666,
              "#ed7953"
             ],
             [
              0.7777777777777778,
              "#fb9f3a"
             ],
             [
              0.8888888888888888,
              "#fdca26"
             ],
             [
              1,
              "#f0f921"
             ]
            ],
            "type": "heatmapgl"
           }
          ],
          "histogram": [
           {
            "marker": {
             "pattern": {
              "fillmode": "overlay",
              "size": 10,
              "solidity": 0.2
             }
            },
            "type": "histogram"
           }
          ],
          "histogram2d": [
           {
            "colorbar": {
             "outlinewidth": 0,
             "ticks": ""
            },
            "colorscale": [
             [
              0,
              "#0d0887"
             ],
             [
              0.1111111111111111,
              "#46039f"
             ],
             [
              0.2222222222222222,
              "#7201a8"
             ],
             [
              0.3333333333333333,
              "#9c179e"
             ],
             [
              0.4444444444444444,
              "#bd3786"
             ],
             [
              0.5555555555555556,
              "#d8576b"
             ],
             [
              0.6666666666666666,
              "#ed7953"
             ],
             [
              0.7777777777777778,
              "#fb9f3a"
             ],
             [
              0.8888888888888888,
              "#fdca26"
             ],
             [
              1,
              "#f0f921"
             ]
            ],
            "type": "histogram2d"
           }
          ],
          "histogram2dcontour": [
           {
            "colorbar": {
             "outlinewidth": 0,
             "ticks": ""
            },
            "colorscale": [
             [
              0,
              "#0d0887"
             ],
             [
              0.1111111111111111,
              "#46039f"
             ],
             [
              0.2222222222222222,
              "#7201a8"
             ],
             [
              0.3333333333333333,
              "#9c179e"
             ],
             [
              0.4444444444444444,
              "#bd3786"
             ],
             [
              0.5555555555555556,
              "#d8576b"
             ],
             [
              0.6666666666666666,
              "#ed7953"
             ],
             [
              0.7777777777777778,
              "#fb9f3a"
             ],
             [
              0.8888888888888888,
              "#fdca26"
             ],
             [
              1,
              "#f0f921"
             ]
            ],
            "type": "histogram2dcontour"
           }
          ],
          "mesh3d": [
           {
            "colorbar": {
             "outlinewidth": 0,
             "ticks": ""
            },
            "type": "mesh3d"
           }
          ],
          "parcoords": [
           {
            "line": {
             "colorbar": {
              "outlinewidth": 0,
              "ticks": ""
             }
            },
            "type": "parcoords"
           }
          ],
          "pie": [
           {
            "automargin": true,
            "type": "pie"
           }
          ],
          "scatter": [
           {
            "marker": {
             "line": {
              "color": "#283442"
             }
            },
            "type": "scatter"
           }
          ],
          "scatter3d": [
           {
            "line": {
             "colorbar": {
              "outlinewidth": 0,
              "ticks": ""
             }
            },
            "marker": {
             "colorbar": {
              "outlinewidth": 0,
              "ticks": ""
             }
            },
            "type": "scatter3d"
           }
          ],
          "scattercarpet": [
           {
            "marker": {
             "colorbar": {
              "outlinewidth": 0,
              "ticks": ""
             }
            },
            "type": "scattercarpet"
           }
          ],
          "scattergeo": [
           {
            "marker": {
             "colorbar": {
              "outlinewidth": 0,
              "ticks": ""
             }
            },
            "type": "scattergeo"
           }
          ],
          "scattergl": [
           {
            "marker": {
             "line": {
              "color": "#283442"
             }
            },
            "type": "scattergl"
           }
          ],
          "scattermapbox": [
           {
            "marker": {
             "colorbar": {
              "outlinewidth": 0,
              "ticks": ""
             }
            },
            "type": "scattermapbox"
           }
          ],
          "scatterpolar": [
           {
            "marker": {
             "colorbar": {
              "outlinewidth": 0,
              "ticks": ""
             }
            },
            "type": "scatterpolar"
           }
          ],
          "scatterpolargl": [
           {
            "marker": {
             "colorbar": {
              "outlinewidth": 0,
              "ticks": ""
             }
            },
            "type": "scatterpolargl"
           }
          ],
          "scatterternary": [
           {
            "marker": {
             "colorbar": {
              "outlinewidth": 0,
              "ticks": ""
             }
            },
            "type": "scatterternary"
           }
          ],
          "surface": [
           {
            "colorbar": {
             "outlinewidth": 0,
             "ticks": ""
            },
            "colorscale": [
             [
              0,
              "#0d0887"
             ],
             [
              0.1111111111111111,
              "#46039f"
             ],
             [
              0.2222222222222222,
              "#7201a8"
             ],
             [
              0.3333333333333333,
              "#9c179e"
             ],
             [
              0.4444444444444444,
              "#bd3786"
             ],
             [
              0.5555555555555556,
              "#d8576b"
             ],
             [
              0.6666666666666666,
              "#ed7953"
             ],
             [
              0.7777777777777778,
              "#fb9f3a"
             ],
             [
              0.8888888888888888,
              "#fdca26"
             ],
             [
              1,
              "#f0f921"
             ]
            ],
            "type": "surface"
           }
          ],
          "table": [
           {
            "cells": {
             "fill": {
              "color": "#506784"
             },
             "line": {
              "color": "rgb(17,17,17)"
             }
            },
            "header": {
             "fill": {
              "color": "#2a3f5f"
             },
             "line": {
              "color": "rgb(17,17,17)"
             }
            },
            "type": "table"
           }
          ]
         },
         "layout": {
          "annotationdefaults": {
           "arrowcolor": "#f2f5fa",
           "arrowhead": 0,
           "arrowwidth": 1
          },
          "autotypenumbers": "strict",
          "coloraxis": {
           "colorbar": {
            "outlinewidth": 0,
            "ticks": ""
           }
          },
          "colorscale": {
           "diverging": [
            [
             0,
             "#8e0152"
            ],
            [
             0.1,
             "#c51b7d"
            ],
            [
             0.2,
             "#de77ae"
            ],
            [
             0.3,
             "#f1b6da"
            ],
            [
             0.4,
             "#fde0ef"
            ],
            [
             0.5,
             "#f7f7f7"
            ],
            [
             0.6,
             "#e6f5d0"
            ],
            [
             0.7,
             "#b8e186"
            ],
            [
             0.8,
             "#7fbc41"
            ],
            [
             0.9,
             "#4d9221"
            ],
            [
             1,
             "#276419"
            ]
           ],
           "sequential": [
            [
             0,
             "#0d0887"
            ],
            [
             0.1111111111111111,
             "#46039f"
            ],
            [
             0.2222222222222222,
             "#7201a8"
            ],
            [
             0.3333333333333333,
             "#9c179e"
            ],
            [
             0.4444444444444444,
             "#bd3786"
            ],
            [
             0.5555555555555556,
             "#d8576b"
            ],
            [
             0.6666666666666666,
             "#ed7953"
            ],
            [
             0.7777777777777778,
             "#fb9f3a"
            ],
            [
             0.8888888888888888,
             "#fdca26"
            ],
            [
             1,
             "#f0f921"
            ]
           ],
           "sequentialminus": [
            [
             0,
             "#0d0887"
            ],
            [
             0.1111111111111111,
             "#46039f"
            ],
            [
             0.2222222222222222,
             "#7201a8"
            ],
            [
             0.3333333333333333,
             "#9c179e"
            ],
            [
             0.4444444444444444,
             "#bd3786"
            ],
            [
             0.5555555555555556,
             "#d8576b"
            ],
            [
             0.6666666666666666,
             "#ed7953"
            ],
            [
             0.7777777777777778,
             "#fb9f3a"
            ],
            [
             0.8888888888888888,
             "#fdca26"
            ],
            [
             1,
             "#f0f921"
            ]
           ]
          },
          "colorway": [
           "#636efa",
           "#EF553B",
           "#00cc96",
           "#ab63fa",
           "#FFA15A",
           "#19d3f3",
           "#FF6692",
           "#B6E880",
           "#FF97FF",
           "#FECB52"
          ],
          "font": {
           "color": "#f2f5fa"
          },
          "geo": {
           "bgcolor": "rgb(17,17,17)",
           "lakecolor": "rgb(17,17,17)",
           "landcolor": "rgb(17,17,17)",
           "showlakes": true,
           "showland": true,
           "subunitcolor": "#506784"
          },
          "hoverlabel": {
           "align": "left"
          },
          "hovermode": "closest",
          "mapbox": {
           "style": "dark"
          },
          "paper_bgcolor": "rgb(17,17,17)",
          "plot_bgcolor": "rgb(17,17,17)",
          "polar": {
           "angularaxis": {
            "gridcolor": "#506784",
            "linecolor": "#506784",
            "ticks": ""
           },
           "bgcolor": "rgb(17,17,17)",
           "radialaxis": {
            "gridcolor": "#506784",
            "linecolor": "#506784",
            "ticks": ""
           }
          },
          "scene": {
           "xaxis": {
            "backgroundcolor": "rgb(17,17,17)",
            "gridcolor": "#506784",
            "gridwidth": 2,
            "linecolor": "#506784",
            "showbackground": true,
            "ticks": "",
            "zerolinecolor": "#C8D4E3"
           },
           "yaxis": {
            "backgroundcolor": "rgb(17,17,17)",
            "gridcolor": "#506784",
            "gridwidth": 2,
            "linecolor": "#506784",
            "showbackground": true,
            "ticks": "",
            "zerolinecolor": "#C8D4E3"
           },
           "zaxis": {
            "backgroundcolor": "rgb(17,17,17)",
            "gridcolor": "#506784",
            "gridwidth": 2,
            "linecolor": "#506784",
            "showbackground": true,
            "ticks": "",
            "zerolinecolor": "#C8D4E3"
           }
          },
          "shapedefaults": {
           "line": {
            "color": "#f2f5fa"
           }
          },
          "sliderdefaults": {
           "bgcolor": "#C8D4E3",
           "bordercolor": "rgb(17,17,17)",
           "borderwidth": 1,
           "tickwidth": 0
          },
          "ternary": {
           "aaxis": {
            "gridcolor": "#506784",
            "linecolor": "#506784",
            "ticks": ""
           },
           "baxis": {
            "gridcolor": "#506784",
            "linecolor": "#506784",
            "ticks": ""
           },
           "bgcolor": "rgb(17,17,17)",
           "caxis": {
            "gridcolor": "#506784",
            "linecolor": "#506784",
            "ticks": ""
           }
          },
          "title": {
           "x": 0.05
          },
          "updatemenudefaults": {
           "bgcolor": "#506784",
           "borderwidth": 0
          },
          "xaxis": {
           "automargin": true,
           "gridcolor": "#283442",
           "linecolor": "#506784",
           "ticks": "",
           "title": {
            "standoff": 15
           },
           "zerolinecolor": "#283442",
           "zerolinewidth": 2
          },
          "yaxis": {
           "automargin": true,
           "gridcolor": "#283442",
           "linecolor": "#506784",
           "ticks": "",
           "title": {
            "standoff": 15
           },
           "zerolinecolor": "#283442",
           "zerolinewidth": 2
          }
         }
        },
        "title": {
         "text": "<b>Commodity Futures over the last 6 months</b>"
        },
        "xaxis": {
         "anchor": "y",
         "domain": [
          0,
          0.45
         ]
        },
        "xaxis2": {
         "anchor": "y2",
         "domain": [
          0.55,
          1
         ]
        },
        "xaxis3": {
         "anchor": "y3",
         "domain": [
          0,
          0.45
         ]
        },
        "xaxis4": {
         "anchor": "y4",
         "domain": [
          0.55,
          1
         ]
        },
        "xaxis5": {
         "anchor": "y5",
         "domain": [
          0,
          0.45
         ]
        },
        "xaxis6": {
         "anchor": "y6",
         "domain": [
          0.55,
          1
         ]
        },
        "yaxis": {
         "anchor": "x",
         "domain": [
          0.7777777777777778,
          1
         ]
        },
        "yaxis2": {
         "anchor": "x2",
         "domain": [
          0.7777777777777778,
          1
         ]
        },
        "yaxis3": {
         "anchor": "x3",
         "domain": [
          0.3888888888888889,
          0.6111111111111112
         ]
        },
        "yaxis4": {
         "anchor": "x4",
         "domain": [
          0.3888888888888889,
          0.6111111111111112
         ]
        },
        "yaxis5": {
         "anchor": "x5",
         "domain": [
          0,
          0.22222222222222224
         ]
        },
        "yaxis6": {
         "anchor": "x6",
         "domain": [
          0,
          0.22222222222222224
         ]
        }
       }
      }
     },
     "metadata": {},
     "output_type": "display_data"
    },
    {
     "data": {
      "application/vnd.plotly.v1+json": {
       "config": {
        "plotlyServerURL": "https://plot.ly"
       },
       "data": [
        {
         "type": "scatter",
         "x": [
          "2023-01-09T00:00:00",
          "2023-01-10T00:00:00",
          "2023-01-11T00:00:00",
          "2023-01-12T00:00:00",
          "2023-01-13T00:00:00",
          "2023-01-16T00:00:00",
          "2023-01-17T00:00:00",
          "2023-01-18T00:00:00",
          "2023-01-19T00:00:00",
          "2023-01-20T00:00:00",
          "2023-01-23T00:00:00",
          "2023-01-24T00:00:00",
          "2023-01-25T00:00:00",
          "2023-01-26T00:00:00",
          "2023-01-27T00:00:00",
          "2023-01-30T00:00:00",
          "2023-01-31T00:00:00",
          "2023-02-01T00:00:00",
          "2023-02-02T00:00:00",
          "2023-02-03T00:00:00",
          "2023-02-06T00:00:00",
          "2023-02-07T00:00:00",
          "2023-02-08T00:00:00",
          "2023-02-09T00:00:00",
          "2023-02-10T00:00:00",
          "2023-02-13T00:00:00",
          "2023-02-14T00:00:00",
          "2023-02-15T00:00:00",
          "2023-02-16T00:00:00",
          "2023-02-17T00:00:00",
          "2023-02-20T00:00:00",
          "2023-02-21T00:00:00",
          "2023-02-22T00:00:00",
          "2023-02-23T00:00:00",
          "2023-02-24T00:00:00",
          "2023-02-27T00:00:00",
          "2023-02-28T00:00:00",
          "2023-03-01T00:00:00",
          "2023-03-02T00:00:00",
          "2023-03-03T00:00:00",
          "2023-03-06T00:00:00",
          "2023-03-07T00:00:00",
          "2023-03-08T00:00:00",
          "2023-03-09T00:00:00",
          "2023-03-10T00:00:00",
          "2023-03-13T00:00:00",
          "2023-03-14T00:00:00",
          "2023-03-15T00:00:00",
          "2023-03-16T00:00:00",
          "2023-03-17T00:00:00",
          "2023-03-20T00:00:00",
          "2023-03-21T00:00:00",
          "2023-03-22T00:00:00",
          "2023-03-23T00:00:00",
          "2023-03-24T00:00:00",
          "2023-03-27T00:00:00",
          "2023-03-28T00:00:00",
          "2023-03-29T00:00:00",
          "2023-03-30T00:00:00",
          "2023-03-31T00:00:00",
          "2023-04-03T00:00:00",
          "2023-04-04T00:00:00",
          "2023-04-05T00:00:00",
          "2023-04-06T00:00:00",
          "2023-04-07T00:00:00",
          "2023-04-10T00:00:00",
          "2023-04-11T00:00:00",
          "2023-04-12T00:00:00",
          "2023-04-13T00:00:00",
          "2023-04-14T00:00:00",
          "2023-04-17T00:00:00",
          "2023-04-18T00:00:00",
          "2023-04-19T00:00:00",
          "2023-04-20T00:00:00",
          "2023-04-21T00:00:00",
          "2023-04-24T00:00:00",
          "2023-04-25T00:00:00",
          "2023-04-26T00:00:00",
          "2023-04-27T00:00:00",
          "2023-04-28T00:00:00",
          "2023-05-01T00:00:00",
          "2023-05-02T00:00:00",
          "2023-05-03T00:00:00",
          "2023-05-04T00:00:00",
          "2023-05-05T00:00:00",
          "2023-05-08T00:00:00",
          "2023-05-09T00:00:00",
          "2023-05-10T00:00:00",
          "2023-05-11T00:00:00",
          "2023-05-12T00:00:00",
          "2023-05-15T00:00:00",
          "2023-05-16T00:00:00",
          "2023-05-17T00:00:00",
          "2023-05-18T00:00:00",
          "2023-05-19T00:00:00",
          "2023-05-22T00:00:00",
          "2023-05-23T00:00:00",
          "2023-05-24T00:00:00",
          "2023-05-25T00:00:00",
          "2023-05-26T00:00:00",
          "2023-05-29T00:00:00",
          "2023-05-30T00:00:00",
          "2023-05-31T00:00:00",
          "2023-06-01T00:00:00",
          "2023-06-02T00:00:00",
          "2023-06-05T00:00:00",
          "2023-06-06T00:00:00",
          "2023-06-07T00:00:00",
          "2023-06-08T00:00:00",
          "2023-06-09T00:00:00",
          "2023-06-12T00:00:00",
          "2023-06-13T00:00:00",
          "2023-06-14T00:00:00",
          "2023-06-15T00:00:00",
          "2023-06-16T00:00:00",
          "2023-06-19T00:00:00",
          "2023-06-20T00:00:00",
          "2023-06-21T00:00:00",
          "2023-06-22T00:00:00",
          "2023-06-23T00:00:00",
          "2023-06-26T00:00:00",
          "2023-06-27T00:00:00",
          "2023-06-28T00:00:00",
          "2023-06-29T00:00:00",
          "2023-06-30T00:00:00",
          "2023-07-03T00:00:00",
          "2023-07-04T00:00:00",
          "2023-07-05T00:00:00",
          "2023-07-06T00:00:00",
          "2023-07-07T00:00:00",
          "2023-07-09T00:00:00"
         ],
         "xaxis": "x",
         "y": [
          1.0656323432922363,
          1.073318362236023,
          1.0738946199417114,
          1.0766000747680664,
          1.0860239267349243,
          1.082461953163147,
          1.0830129384994507,
          1.0793308019638062,
          1.0797853469848633,
          1.083388328552246,
          1.086507797241211,
          1.0874292850494385,
          1.088814616203308,
          1.0922038555145264,
          1.0894432067871094,
          1.0871455669403076,
          1.0850694179534912,
          1.0860947370529175,
          1.1012852191925049,
          1.0905125141143799,
          1.079086184501648,
          1.0730764865875244,
          1.0729728937149048,
          1.0715816020965576,
          1.0742292404174805,
          1.0677714347839355,
          1.0730419158935547,
          1.0735719203948975,
          1.0691757202148438,
          1.0665756464004517,
          1.0684444904327393,
          1.068261981010437,
          1.065200924873352,
          1.0605803728103638,
          1.0598047971725464,
          1.0554758310317993,
          1.0611205101013184,
          1.0577309131622314,
          1.066894292831421,
          1.0599732398986816,
          1.0626201629638672,
          1.0688328742980957,
          1.05507493019104,
          1.0549525022506714,
          1.0584698915481567,
          1.0683646202087402,
          1.0725010633468628,
          1.0727657079696655,
          1.0583354234695435,
          1.0614134073257446,
          1.0678855180740356,
          1.071914792060852,
          1.0774236917495728,
          1.0870392322540283,
          1.0835057497024536,
          1.077818512916565,
          1.0807071924209595,
          1.0839520692825317,
          1.0843634605407715,
          1.0904649496078491,
          1.0803335905075073,
          1.091226577758789,
          1.0960105657577515,
          1.090334177017212,
          1.0920130014419556,
          1.0913575887680054,
          1.086932897567749,
          1.0917507410049438,
          1.0999890565872192,
          1.1054610013961792,
          1.098659634590149,
          1.0925379991531372,
          1.0975382328033447,
          1.095218300819397,
          1.0970927476882935,
          1.0992271900177002,
          1.1059499979019165,
          1.0978394746780396,
          1.1047282218933105,
          1.1032048463821411,
          1.1010911464691162,
          1.0969241857528687,
          1.1010911464691162,
          1.1068925857543945,
          1.102292776107788,
          1.10186767578125,
          1.0996140241622925,
          1.096467137336731,
          1.098406195640564,
          1.0912145376205444,
          1.0852696895599365,
          1.0873701572418213,
          1.0865668058395386,
          1.0838346481323242,
          1.0775396823883057,
          1.0822745561599731,
          1.0811045169830322,
          1.076971173286438,
          1.0757315158843994,
          1.0724436044692993,
          1.0723055601119995,
          1.0707669258117676,
          1.073306918144226,
          1.0695186853408813,
          1.0760787725448608,
          1.0698620080947876,
          1.0711798667907715,
          1.0698047876358032,
          1.0707440376281738,
          1.078271746635437,
          1.0750954151153564,
          1.0762988328933716,
          1.078934907913208,
          1.084304690361023,
          1.0945948362350464,
          1.0942115783691406,
          1.0924304723739624,
          1.0920368432998657,
          1.0992635488510132,
          1.0958904027938843,
          1.0906671285629272,
          1.091048002243042,
          1.0957223176956177,
          1.0915838479995728,
          1.0868029594421387,
          1.0907504558563232,
          1.091309905052185,
          1.0884946584701538,
          1.0856584310531616,
          1.0890636444091797,
          1.0890636444091797
         ],
         "yaxis": "y"
        },
        {
         "type": "scatter",
         "x": [
          "2023-01-09T00:00:00",
          "2023-01-10T00:00:00",
          "2023-01-11T00:00:00",
          "2023-01-12T00:00:00",
          "2023-01-13T00:00:00",
          "2023-01-16T00:00:00",
          "2023-01-17T00:00:00",
          "2023-01-18T00:00:00",
          "2023-01-19T00:00:00",
          "2023-01-20T00:00:00",
          "2023-01-23T00:00:00",
          "2023-01-24T00:00:00",
          "2023-01-25T00:00:00",
          "2023-01-26T00:00:00",
          "2023-01-27T00:00:00",
          "2023-01-30T00:00:00",
          "2023-01-31T00:00:00",
          "2023-02-01T00:00:00",
          "2023-02-02T00:00:00",
          "2023-02-03T00:00:00",
          "2023-02-06T00:00:00",
          "2023-02-07T00:00:00",
          "2023-02-08T00:00:00",
          "2023-02-09T00:00:00",
          "2023-02-10T00:00:00",
          "2023-02-13T00:00:00",
          "2023-02-14T00:00:00",
          "2023-02-15T00:00:00",
          "2023-02-16T00:00:00",
          "2023-02-17T00:00:00",
          "2023-02-20T00:00:00",
          "2023-02-21T00:00:00",
          "2023-02-22T00:00:00",
          "2023-02-23T00:00:00",
          "2023-02-24T00:00:00",
          "2023-02-27T00:00:00",
          "2023-02-28T00:00:00",
          "2023-03-01T00:00:00",
          "2023-03-02T00:00:00",
          "2023-03-03T00:00:00",
          "2023-03-06T00:00:00",
          "2023-03-07T00:00:00",
          "2023-03-08T00:00:00",
          "2023-03-09T00:00:00",
          "2023-03-10T00:00:00",
          "2023-03-13T00:00:00",
          "2023-03-14T00:00:00",
          "2023-03-15T00:00:00",
          "2023-03-16T00:00:00",
          "2023-03-17T00:00:00",
          "2023-03-20T00:00:00",
          "2023-03-21T00:00:00",
          "2023-03-22T00:00:00",
          "2023-03-23T00:00:00",
          "2023-03-24T00:00:00",
          "2023-03-27T00:00:00",
          "2023-03-28T00:00:00",
          "2023-03-29T00:00:00",
          "2023-03-30T00:00:00",
          "2023-03-31T00:00:00",
          "2023-04-03T00:00:00",
          "2023-04-04T00:00:00",
          "2023-04-05T00:00:00",
          "2023-04-06T00:00:00",
          "2023-04-07T00:00:00",
          "2023-04-10T00:00:00",
          "2023-04-11T00:00:00",
          "2023-04-12T00:00:00",
          "2023-04-13T00:00:00",
          "2023-04-14T00:00:00",
          "2023-04-17T00:00:00",
          "2023-04-18T00:00:00",
          "2023-04-19T00:00:00",
          "2023-04-20T00:00:00",
          "2023-04-21T00:00:00",
          "2023-04-24T00:00:00",
          "2023-04-25T00:00:00",
          "2023-04-26T00:00:00",
          "2023-04-27T00:00:00",
          "2023-04-28T00:00:00",
          "2023-05-01T00:00:00",
          "2023-05-02T00:00:00",
          "2023-05-03T00:00:00",
          "2023-05-04T00:00:00",
          "2023-05-05T00:00:00",
          "2023-05-08T00:00:00",
          "2023-05-09T00:00:00",
          "2023-05-10T00:00:00",
          "2023-05-11T00:00:00",
          "2023-05-12T00:00:00",
          "2023-05-15T00:00:00",
          "2023-05-16T00:00:00",
          "2023-05-17T00:00:00",
          "2023-05-18T00:00:00",
          "2023-05-19T00:00:00",
          "2023-05-22T00:00:00",
          "2023-05-23T00:00:00",
          "2023-05-24T00:00:00",
          "2023-05-25T00:00:00",
          "2023-05-26T00:00:00",
          "2023-05-29T00:00:00",
          "2023-05-30T00:00:00",
          "2023-05-31T00:00:00",
          "2023-06-01T00:00:00",
          "2023-06-02T00:00:00",
          "2023-06-05T00:00:00",
          "2023-06-06T00:00:00",
          "2023-06-07T00:00:00",
          "2023-06-08T00:00:00",
          "2023-06-09T00:00:00",
          "2023-06-12T00:00:00",
          "2023-06-13T00:00:00",
          "2023-06-14T00:00:00",
          "2023-06-15T00:00:00",
          "2023-06-16T00:00:00",
          "2023-06-19T00:00:00",
          "2023-06-20T00:00:00",
          "2023-06-21T00:00:00",
          "2023-06-22T00:00:00",
          "2023-06-23T00:00:00",
          "2023-06-26T00:00:00",
          "2023-06-27T00:00:00",
          "2023-06-28T00:00:00",
          "2023-06-29T00:00:00",
          "2023-06-30T00:00:00",
          "2023-07-03T00:00:00",
          "2023-07-04T00:00:00",
          "2023-07-05T00:00:00",
          "2023-07-06T00:00:00",
          "2023-07-07T00:00:00",
          "2023-07-09T00:00:00"
         ],
         "xaxis": "x2",
         "y": [
          0.9876099824905396,
          0.9884399771690369,
          0.9904599785804749,
          1.0019999742507935,
          1.0069700479507446,
          1.0030299425125122,
          1.00232994556427,
          0.9946399927139282,
          0.9889199733734131,
          0.9920499920845032,
          0.9993799924850464,
          1.0019999742507935,
          1.0042200088500977,
          1.0017000436782837,
          1.0023399591445923,
          1.0010199546813965,
          1.0039700269699097,
          0.9952999949455261,
          0.9990500211715698,
          0.9959499835968018,
          0.9995200037956238,
          0.9954299926757812,
          0.9888899922370911,
          0.9867500066757202,
          0.9904999732971191,
          0.9858999848365784,
          0.9858099818229675,
          0.9893100261688232,
          0.987089991569519,
          0.9882100224494934,
          0.9884700179100037,
          0.9861800074577332,
          0.9879599809646606,
          0.9876099824905396,
          0.9894599914550781,
          0.9921000003814697,
          0.9926400184631348,
          0.9963200092315674,
          1.0022599697113037,
          0.9982500076293945,
          0.995419979095459,
          0.9943900108337402,
          0.9939000010490417,
          0.9924799799919128,
          0.9873999953269958,
          0.9811400175094604,
          0.978600025177002,
          0.9810199737548828,
          0.985509991645813,
          0.9862099885940552,
          0.9895700216293335,
          0.995959997177124,
          0.9927899837493896,
          0.9962800145149231,
          0.9930800199508667,
          0.9897000193595886,
          0.9888299703598022,
          0.9975100159645081,
          0.9956700205802917,
          0.9959999918937683,
          0.9911199808120728,
          0.9956600069999695,
          0.992330014705658,
          0.9882299900054932,
          0.9876099824905396,
          0.9872000217437744,
          0.987820029258728,
          0.9858199954032898,
          0.9850999712944031,
          0.9825299978256226,
          0.9829000234603882,
          0.981660008430481,
          0.9833300113677979,
          0.983020007610321,
          0.978659987449646,
          0.9803599715232849,
          0.9807599782943726,
          0.9790899753570557,
          0.9839400053024292,
          0.9861199855804443,
          0.9853000044822693,
          0.9826700091362,
          0.9825000166893005,
          0.9777500033378601,
          0.9758599996566772,
          0.9818000197410583,
          0.9785400032997131,
          0.9760199785232544,
          0.9766899943351746,
          0.9756500124931335,
          0.9748799800872803,
          0.9736199975013733,
          0.9740999937057495,
          0.9736999869346619,
          0.9749299883842468,
          0.972029983997345,
          0.9710000157356262,
          0.970740020275116,
          0.9726200103759766,
          0.9705899953842163,
          0.9710999727249146,
          0.9683700203895569,
          0.9721999764442444,
          0.9730100035667419,
          0.9743800163269043,
          0.9731000065803528,
          0.9703699946403503,
          0.970329999923706,
          0.9738199710845947,
          0.9691299796104431,
          0.9713000059127808,
          0.9776899814605713,
          0.9766200184822083,
          0.9759699702262878,
          0.9760000109672546,
          0.9785000085830688,
          0.9785799980163574,
          0.9802299737930298,
          0.9808800220489502,
          0.9804999828338623,
          0.9768999814987183,
          0.9771999716758728,
          0.979200005531311,
          0.9787600040435791,
          0.9771599769592285,
          0.9764000177383423,
          0.9778000116348267,
          0.975820004940033,
          0.9753000140190125,
          0.9749100208282471,
          0.9749100208282471
         ],
         "yaxis": "y2"
        },
        {
         "type": "scatter",
         "x": [
          "2023-01-09T00:00:00",
          "2023-01-10T00:00:00",
          "2023-01-11T00:00:00",
          "2023-01-12T00:00:00",
          "2023-01-13T00:00:00",
          "2023-01-16T00:00:00",
          "2023-01-17T00:00:00",
          "2023-01-18T00:00:00",
          "2023-01-19T00:00:00",
          "2023-01-20T00:00:00",
          "2023-01-23T00:00:00",
          "2023-01-24T00:00:00",
          "2023-01-25T00:00:00",
          "2023-01-26T00:00:00",
          "2023-01-27T00:00:00",
          "2023-01-30T00:00:00",
          "2023-01-31T00:00:00",
          "2023-02-01T00:00:00",
          "2023-02-02T00:00:00",
          "2023-02-03T00:00:00",
          "2023-02-06T00:00:00",
          "2023-02-07T00:00:00",
          "2023-02-08T00:00:00",
          "2023-02-09T00:00:00",
          "2023-02-10T00:00:00",
          "2023-02-13T00:00:00",
          "2023-02-14T00:00:00",
          "2023-02-15T00:00:00",
          "2023-02-16T00:00:00",
          "2023-02-17T00:00:00",
          "2023-02-20T00:00:00",
          "2023-02-21T00:00:00",
          "2023-02-22T00:00:00",
          "2023-02-23T00:00:00",
          "2023-02-24T00:00:00",
          "2023-02-27T00:00:00",
          "2023-02-28T00:00:00",
          "2023-03-01T00:00:00",
          "2023-03-02T00:00:00",
          "2023-03-03T00:00:00",
          "2023-03-06T00:00:00",
          "2023-03-07T00:00:00",
          "2023-03-08T00:00:00",
          "2023-03-09T00:00:00",
          "2023-03-10T00:00:00",
          "2023-03-13T00:00:00",
          "2023-03-14T00:00:00",
          "2023-03-15T00:00:00",
          "2023-03-16T00:00:00",
          "2023-03-17T00:00:00",
          "2023-03-20T00:00:00",
          "2023-03-21T00:00:00",
          "2023-03-22T00:00:00",
          "2023-03-23T00:00:00",
          "2023-03-24T00:00:00",
          "2023-03-27T00:00:00",
          "2023-03-28T00:00:00",
          "2023-03-29T00:00:00",
          "2023-03-30T00:00:00",
          "2023-03-31T00:00:00",
          "2023-04-03T00:00:00",
          "2023-04-04T00:00:00",
          "2023-04-05T00:00:00",
          "2023-04-06T00:00:00",
          "2023-04-07T00:00:00",
          "2023-04-10T00:00:00",
          "2023-04-11T00:00:00",
          "2023-04-12T00:00:00",
          "2023-04-13T00:00:00",
          "2023-04-14T00:00:00",
          "2023-04-17T00:00:00",
          "2023-04-18T00:00:00",
          "2023-04-19T00:00:00",
          "2023-04-20T00:00:00",
          "2023-04-21T00:00:00",
          "2023-04-24T00:00:00",
          "2023-04-25T00:00:00",
          "2023-04-26T00:00:00",
          "2023-04-27T00:00:00",
          "2023-04-28T00:00:00",
          "2023-05-01T00:00:00",
          "2023-05-02T00:00:00",
          "2023-05-03T00:00:00",
          "2023-05-04T00:00:00",
          "2023-05-05T00:00:00",
          "2023-05-08T00:00:00",
          "2023-05-09T00:00:00",
          "2023-05-10T00:00:00",
          "2023-05-11T00:00:00",
          "2023-05-12T00:00:00",
          "2023-05-15T00:00:00",
          "2023-05-16T00:00:00",
          "2023-05-17T00:00:00",
          "2023-05-18T00:00:00",
          "2023-05-19T00:00:00",
          "2023-05-22T00:00:00",
          "2023-05-23T00:00:00",
          "2023-05-24T00:00:00",
          "2023-05-25T00:00:00",
          "2023-05-26T00:00:00",
          "2023-05-29T00:00:00",
          "2023-05-30T00:00:00",
          "2023-05-31T00:00:00",
          "2023-06-01T00:00:00",
          "2023-06-02T00:00:00",
          "2023-06-05T00:00:00",
          "2023-06-06T00:00:00",
          "2023-06-07T00:00:00",
          "2023-06-08T00:00:00",
          "2023-06-09T00:00:00",
          "2023-06-12T00:00:00",
          "2023-06-13T00:00:00",
          "2023-06-14T00:00:00",
          "2023-06-15T00:00:00",
          "2023-06-16T00:00:00",
          "2023-06-19T00:00:00",
          "2023-06-20T00:00:00",
          "2023-06-21T00:00:00",
          "2023-06-22T00:00:00",
          "2023-06-23T00:00:00",
          "2023-06-26T00:00:00",
          "2023-06-27T00:00:00",
          "2023-06-28T00:00:00",
          "2023-06-29T00:00:00",
          "2023-06-30T00:00:00",
          "2023-07-03T00:00:00",
          "2023-07-04T00:00:00",
          "2023-07-05T00:00:00",
          "2023-07-06T00:00:00",
          "2023-07-07T00:00:00",
          "2023-07-09T00:00:00"
         ],
         "xaxis": "x3",
         "y": [
          140.5070037841797,
          141.3730010986328,
          141.8520050048828,
          141.99200439453125,
          140.27499389648438,
          138.5780029296875,
          138.9600067138672,
          138.4010009765625,
          138.79299926757812,
          139.0679931640625,
          140.64999389648438,
          141.9720001220703,
          141.79200744628906,
          141.13999938964844,
          141.39300537109375,
          141.16200256347656,
          141.56900024414062,
          141.3000030517578,
          141.63699340820312,
          140.3800048828125,
          142.43699645996094,
          142.27999877929688,
          140.59800720214844,
          140.78700256347656,
          141.24000549316406,
          140.45899963378906,
          141.99400329589844,
          142.7689971923828,
          143.15199279785156,
          142.99099731445312,
          143.50399780273438,
          143.5,
          143.7949981689453,
          143.0989990234375,
          142.66400146484375,
          143.9499969482422,
          144.60899353027344,
          144.2050018310547,
          145.29299926757812,
          144.89599609375,
          144.5240020751953,
          145.31100463867188,
          144.91799926757812,
          144.75900268554688,
          144.35499572753906,
          143.66000366210938,
          142.7429962158203,
          144.16900634765625,
          140.6750030517578,
          141.552001953125,
          141.2530059814453,
          140.83900451660156,
          142.5850067138672,
          142.58700561523438,
          141.78399658203125,
          141.02099609375,
          141.8179931640625,
          142.03799438476562,
          143.7550048828125,
          145.24099731445312,
          144.04600524902344,
          144.3179931640625,
          144.00999450683594,
          142.7220001220703,
          143.7570037841797,
          144.1529998779297,
          145.06199645996094,
          145.84300231933594,
          146.3509979248047,
          146.41900634765625,
          147.1300048828125,
          146.8730010986328,
          147.10800170898438,
          147.51499938964844,
          146.96099853515625,
          147.24200439453125,
          148.24000549316406,
          146.78500366210938,
          147.37899780273438,
          147.51199340820312,
          150.19700622558594,
          150.8820037841797,
          150.2565460205078,
          148.91600036621094,
          147.8939971923828,
          148.96299743652344,
          148.51800537109375,
          148.33099365234375,
          147.2899932861328,
          146.76246643066406,
          147.39500427246094,
          147.92300415039062,
          148.22900390625,
          149.14300537109375,
          149.3699951171875,
          149.01300048828125,
          149.91000366210938,
          149.25799560546875,
          149.8179931640625,
          150.1490020751953,
          151.0489959716797,
          150.37100219726562,
          150.01199340820312,
          148.76300048828125,
          149.29400634765625,
          149.97900390625,
          149.29400634765625,
          149.25599670410156,
          149.78799438476562,
          149.72000122070312,
          149.82000732421875,
          150.09100341796875,
          151.23199462890625,
          151.76499938964844,
          153.52699279785156,
          155.17999267578125,
          155.0070037841797,
          154.33599853515625,
          155.73699951171875,
          156.6999969482422,
          156.54800415039062,
          156.51199340820312,
          157.63800048828125,
          157.60800170898438,
          157.34800720214844,
          157.49200439453125,
          157.7740020751953,
          157.13999938964844,
          156.84300231933594,
          156.75999450683594,
          156.75999450683594
         ],
         "yaxis": "y3"
        },
        {
         "type": "scatter",
         "x": [
          "2023-01-09T00:00:00",
          "2023-01-10T00:00:00",
          "2023-01-11T00:00:00",
          "2023-01-12T00:00:00",
          "2023-01-13T00:00:00",
          "2023-01-16T00:00:00",
          "2023-01-17T00:00:00",
          "2023-01-18T00:00:00",
          "2023-01-19T00:00:00",
          "2023-01-20T00:00:00",
          "2023-01-23T00:00:00",
          "2023-01-24T00:00:00",
          "2023-01-25T00:00:00",
          "2023-01-26T00:00:00",
          "2023-01-27T00:00:00",
          "2023-01-30T00:00:00",
          "2023-01-31T00:00:00",
          "2023-02-01T00:00:00",
          "2023-02-02T00:00:00",
          "2023-02-03T00:00:00",
          "2023-02-06T00:00:00",
          "2023-02-07T00:00:00",
          "2023-02-08T00:00:00",
          "2023-02-09T00:00:00",
          "2023-02-10T00:00:00",
          "2023-02-13T00:00:00",
          "2023-02-14T00:00:00",
          "2023-02-15T00:00:00",
          "2023-02-16T00:00:00",
          "2023-02-17T00:00:00",
          "2023-02-20T00:00:00",
          "2023-02-21T00:00:00",
          "2023-02-22T00:00:00",
          "2023-02-23T00:00:00",
          "2023-02-24T00:00:00",
          "2023-02-27T00:00:00",
          "2023-02-28T00:00:00",
          "2023-03-01T00:00:00",
          "2023-03-02T00:00:00",
          "2023-03-03T00:00:00",
          "2023-03-06T00:00:00",
          "2023-03-07T00:00:00",
          "2023-03-08T00:00:00",
          "2023-03-09T00:00:00",
          "2023-03-10T00:00:00",
          "2023-03-13T00:00:00",
          "2023-03-14T00:00:00",
          "2023-03-15T00:00:00",
          "2023-03-16T00:00:00",
          "2023-03-17T00:00:00",
          "2023-03-20T00:00:00",
          "2023-03-21T00:00:00",
          "2023-03-22T00:00:00",
          "2023-03-23T00:00:00",
          "2023-03-24T00:00:00",
          "2023-03-27T00:00:00",
          "2023-03-28T00:00:00",
          "2023-03-29T00:00:00",
          "2023-03-30T00:00:00",
          "2023-03-31T00:00:00",
          "2023-04-03T00:00:00",
          "2023-04-04T00:00:00",
          "2023-04-05T00:00:00",
          "2023-04-06T00:00:00",
          "2023-04-07T00:00:00",
          "2023-04-10T00:00:00",
          "2023-04-11T00:00:00",
          "2023-04-12T00:00:00",
          "2023-04-13T00:00:00",
          "2023-04-14T00:00:00",
          "2023-04-17T00:00:00",
          "2023-04-18T00:00:00",
          "2023-04-19T00:00:00",
          "2023-04-20T00:00:00",
          "2023-04-21T00:00:00",
          "2023-04-24T00:00:00",
          "2023-04-25T00:00:00",
          "2023-04-26T00:00:00",
          "2023-04-27T00:00:00",
          "2023-04-28T00:00:00",
          "2023-05-01T00:00:00",
          "2023-05-02T00:00:00",
          "2023-05-03T00:00:00",
          "2023-05-04T00:00:00",
          "2023-05-05T00:00:00",
          "2023-05-08T00:00:00",
          "2023-05-09T00:00:00",
          "2023-05-10T00:00:00",
          "2023-05-11T00:00:00",
          "2023-05-12T00:00:00",
          "2023-05-15T00:00:00",
          "2023-05-16T00:00:00",
          "2023-05-17T00:00:00",
          "2023-05-18T00:00:00",
          "2023-05-19T00:00:00",
          "2023-05-22T00:00:00",
          "2023-05-23T00:00:00",
          "2023-05-24T00:00:00",
          "2023-05-25T00:00:00",
          "2023-05-26T00:00:00",
          "2023-05-29T00:00:00",
          "2023-05-30T00:00:00",
          "2023-05-31T00:00:00",
          "2023-06-01T00:00:00",
          "2023-06-02T00:00:00",
          "2023-06-05T00:00:00",
          "2023-06-06T00:00:00",
          "2023-06-07T00:00:00",
          "2023-06-08T00:00:00",
          "2023-06-09T00:00:00",
          "2023-06-12T00:00:00",
          "2023-06-13T00:00:00",
          "2023-06-14T00:00:00",
          "2023-06-15T00:00:00",
          "2023-06-16T00:00:00",
          "2023-06-19T00:00:00",
          "2023-06-20T00:00:00",
          "2023-06-21T00:00:00",
          "2023-06-22T00:00:00",
          "2023-06-23T00:00:00",
          "2023-06-26T00:00:00",
          "2023-06-27T00:00:00",
          "2023-06-28T00:00:00",
          "2023-06-29T00:00:00",
          "2023-06-30T00:00:00",
          "2023-07-03T00:00:00",
          "2023-07-04T00:00:00",
          "2023-07-05T00:00:00",
          "2023-07-06T00:00:00",
          "2023-07-07T00:00:00",
          "2023-07-09T00:00:00"
         ],
         "xaxis": "x4",
         "y": [
          0.8794400095939636,
          0.880649983882904,
          0.8834800124168396,
          0.8852900266647339,
          0.8888300061225891,
          0.8852699995040894,
          0.8870900273323059,
          0.8781999945640564,
          0.8744300007820129,
          0.8741199970245361,
          0.8756899833679199,
          0.8781300187110901,
          0.882860004901886,
          0.879859983921051,
          0.8773900270462036,
          0.8766599893569946,
          0.8785099983215332,
          0.882319986820221,
          0.8889999985694885,
          0.8920599818229675,
          0.8958200216293335,
          0.8920199871063232,
          0.890030026435852,
          0.8875600099563599,
          0.8866000175476074,
          0.885890007019043,
          0.8829399943351746,
          0.8817700147628784,
          0.8881199955940247,
          0.8905900120735168,
          0.8881099820137024,
          0.887179970741272,
          0.8795999884605408,
          0.8802700042724609,
          0.8817999958992004,
          0.8829900026321411,
          0.8795400261878967,
          0.8788300156593323,
          0.8869900107383728,
          0.8868499994277954,
          0.8833500146865845,
          0.8882899880409241,
          0.8917199969291687,
          0.8901799917221069,
          0.8877300024032593,
          0.88441002368927,
          0.8811299800872803,
          0.8827499747276306,
          0.8766099810600281,
          0.8762800097465515,
          0.8761299848556519,
          0.8732200264930725,
          0.8810099959373474,
          0.8850700259208679,
          0.8819199800491333,
          0.8794999718666077,
          0.8787400126457214,
          0.879010021686554,
          0.8806399703025818,
          0.8802400231361389,
          0.8791599869728088,
          0.8780500292778015,
          0.8766099810600281,
          0.8748300075531006,
          0.8778700232505798,
          0.877810001373291,
          0.8770300149917603,
          0.8781300187110901,
          0.8802499771118164,
          0.8822299838066101,
          0.8857499957084656,
          0.8827400207519531,
          0.8831700086593628,
          0.8811299800872803,
          0.8814399838447571,
          0.8829699754714966,
          0.8845999836921692,
          0.8841500282287598,
          0.8856300115585327,
          0.8826799988746643,
          0.8767799735069275,
          0.8785200119018555,
          0.8824700117111206,
          0.8805999755859375,
          0.8761000037193298,
          0.8723300099372864,
          0.8717700242996216,
          0.8684399724006653,
          0.8697999715805054,
          0.8721100091934204,
          0.8715800046920776,
          0.8679999709129333,
          0.8702399730682373,
          0.8682100176811218,
          0.8680700063705444,
          0.8684800267219543,
          0.869350016117096,
          0.8672699928283691,
          0.8694300055503845,
          0.8705099821090698,
          0.8684300184249878,
          0.8670099973678589,
          0.864579975605011,
          0.8589000105857849,
          0.8590199947357178,
          0.8605599999427795,
          0.86149001121521,
          0.8607100248336792,
          0.8603600263595581,
          0.8583800196647644,
          0.8544899821281433,
          0.8596600294113159,
          0.8555700182914734,
          0.8554099798202515,
          0.8560500144958496,
          0.8525999784469604,
          0.8537600040435791,
          0.8553100228309631,
          0.8607000112533569,
          0.8593999743461609,
          0.8567500114440918,
          0.8579699993133545,
          0.8596600294113159,
          0.8632500171661377,
          0.8614799976348877,
          0.8592600226402283,
          0.8597300052642822,
          0.8553799986839294,
          0.8543999791145325,
          0.8546000123023987,
          0.8546000123023987
         ],
         "yaxis": "y4"
        },
        {
         "type": "scatter",
         "x": [
          "2023-01-09T00:00:00",
          "2023-01-10T00:00:00",
          "2023-01-11T00:00:00",
          "2023-01-12T00:00:00",
          "2023-01-13T00:00:00",
          "2023-01-16T00:00:00",
          "2023-01-17T00:00:00",
          "2023-01-18T00:00:00",
          "2023-01-19T00:00:00",
          "2023-01-20T00:00:00",
          "2023-01-23T00:00:00",
          "2023-01-24T00:00:00",
          "2023-01-25T00:00:00",
          "2023-01-26T00:00:00",
          "2023-01-27T00:00:00",
          "2023-01-30T00:00:00",
          "2023-01-31T00:00:00",
          "2023-02-01T00:00:00",
          "2023-02-02T00:00:00",
          "2023-02-03T00:00:00",
          "2023-02-06T00:00:00",
          "2023-02-07T00:00:00",
          "2023-02-08T00:00:00",
          "2023-02-09T00:00:00",
          "2023-02-10T00:00:00",
          "2023-02-13T00:00:00",
          "2023-02-14T00:00:00",
          "2023-02-15T00:00:00",
          "2023-02-16T00:00:00",
          "2023-02-17T00:00:00",
          "2023-02-20T00:00:00",
          "2023-02-21T00:00:00",
          "2023-02-22T00:00:00",
          "2023-02-23T00:00:00",
          "2023-02-24T00:00:00",
          "2023-02-27T00:00:00",
          "2023-02-28T00:00:00",
          "2023-03-01T00:00:00",
          "2023-03-02T00:00:00",
          "2023-03-03T00:00:00",
          "2023-03-06T00:00:00",
          "2023-03-07T00:00:00",
          "2023-03-08T00:00:00",
          "2023-03-09T00:00:00",
          "2023-03-10T00:00:00",
          "2023-03-13T00:00:00",
          "2023-03-14T00:00:00",
          "2023-03-15T00:00:00",
          "2023-03-16T00:00:00",
          "2023-03-17T00:00:00",
          "2023-03-20T00:00:00",
          "2023-03-21T00:00:00",
          "2023-03-22T00:00:00",
          "2023-03-23T00:00:00",
          "2023-03-24T00:00:00",
          "2023-03-27T00:00:00",
          "2023-03-28T00:00:00",
          "2023-03-29T00:00:00",
          "2023-03-30T00:00:00",
          "2023-03-31T00:00:00",
          "2023-04-03T00:00:00",
          "2023-04-04T00:00:00",
          "2023-04-05T00:00:00",
          "2023-04-06T00:00:00",
          "2023-04-07T00:00:00",
          "2023-04-10T00:00:00",
          "2023-04-11T00:00:00",
          "2023-04-12T00:00:00",
          "2023-04-13T00:00:00",
          "2023-04-14T00:00:00",
          "2023-04-17T00:00:00",
          "2023-04-18T00:00:00",
          "2023-04-19T00:00:00",
          "2023-04-20T00:00:00",
          "2023-04-21T00:00:00",
          "2023-04-24T00:00:00",
          "2023-04-25T00:00:00",
          "2023-04-26T00:00:00",
          "2023-04-27T00:00:00",
          "2023-04-28T00:00:00",
          "2023-05-01T00:00:00",
          "2023-05-02T00:00:00",
          "2023-05-03T00:00:00",
          "2023-05-04T00:00:00",
          "2023-05-05T00:00:00",
          "2023-05-08T00:00:00",
          "2023-05-09T00:00:00",
          "2023-05-10T00:00:00",
          "2023-05-11T00:00:00",
          "2023-05-12T00:00:00",
          "2023-05-15T00:00:00",
          "2023-05-16T00:00:00",
          "2023-05-17T00:00:00",
          "2023-05-18T00:00:00",
          "2023-05-19T00:00:00",
          "2023-05-22T00:00:00",
          "2023-05-23T00:00:00",
          "2023-05-24T00:00:00",
          "2023-05-25T00:00:00",
          "2023-05-26T00:00:00",
          "2023-05-29T00:00:00",
          "2023-05-30T00:00:00",
          "2023-05-31T00:00:00",
          "2023-06-01T00:00:00",
          "2023-06-02T00:00:00",
          "2023-06-05T00:00:00",
          "2023-06-06T00:00:00",
          "2023-06-07T00:00:00",
          "2023-06-08T00:00:00",
          "2023-06-09T00:00:00",
          "2023-06-12T00:00:00",
          "2023-06-13T00:00:00",
          "2023-06-14T00:00:00",
          "2023-06-15T00:00:00",
          "2023-06-16T00:00:00",
          "2023-06-19T00:00:00",
          "2023-06-20T00:00:00",
          "2023-06-21T00:00:00",
          "2023-06-22T00:00:00",
          "2023-06-23T00:00:00",
          "2023-06-26T00:00:00",
          "2023-06-27T00:00:00",
          "2023-06-28T00:00:00",
          "2023-06-29T00:00:00",
          "2023-06-30T00:00:00",
          "2023-07-03T00:00:00",
          "2023-07-04T00:00:00",
          "2023-07-05T00:00:00",
          "2023-07-06T00:00:00",
          "2023-07-07T00:00:00",
          "2023-07-09T00:00:00"
         ],
         "xaxis": "x5",
         "y": [
          1.2116365432739258,
          1.2184869050979614,
          1.2154507637023926,
          1.2159533500671387,
          1.2217769622802734,
          1.2226732969284058,
          1.2207776308059692,
          1.228471040725708,
          1.2347661256790161,
          1.2393262386322021,
          1.240633249282837,
          1.2379761934280396,
          1.232923984527588,
          1.2412492036819458,
          1.2415266036987305,
          1.2400301694869995,
          1.2353609800338745,
          1.2308903932571411,
          1.2390038967132568,
          1.222299575805664,
          1.2045146226882935,
          1.2026747465133667,
          1.2054582834243774,
          1.2071462869644165,
          1.2116806507110596,
          1.2052258253097534,
          1.215214490890503,
          1.2174336910247803,
          1.2039779424667358,
          1.197533130645752,
          1.2029786109924316,
          1.2039200067520142,
          1.2109322547912598,
          1.204993486404419,
          1.2017786502838135,
          1.1952428817749023,
          1.2061562538146973,
          1.2033549547195435,
          1.2029930353164673,
          1.1951572895050049,
          1.2028483152389526,
          1.2026457786560059,
          1.1827740669250488,
          1.1850166320800781,
          1.192250370979309,
          1.2079336643218994,
          1.2171372175216675,
          1.215214490890503,
          1.20692777633667,
          1.2110495567321777,
          1.2187690734863281,
          1.2276264429092407,
          1.2225087881088257,
          1.227973222732544,
          1.228154182434082,
          1.2246003150939941,
          1.229755163192749,
          1.2330456972122192,
          1.2313603162765503,
          1.2387275695800781,
          1.228697419166565,
          1.2423131465911865,
          1.249843716621399,
          1.2463078498840332,
          1.243900179862976,
          1.2431625127792358,
          1.239218831062317,
          1.2431007623672485,
          1.2492660284042358,
          1.2525300979614258,
          1.2400178909301758,
          1.2375471591949463,
          1.2425447702407837,
          1.2428845167160034,
          1.2440905570983887,
          1.2449734210968018,
          1.25,
          1.2414803504943848,
          1.2471472024917603,
          1.249750018119812,
          1.2557607889175415,
          1.2485953569412231,
          1.2476606369018555,
          1.256897211074829,
          1.2583364248275757,
          1.2630568742752075,
          1.2612725496292114,
          1.2624667882919312,
          1.2626996040344238,
          1.2508130073547363,
          1.2450973987579346,
          1.2525207996368408,
          1.2484394311904907,
          1.2482805252075195,
          1.2412338256835938,
          1.2461059093475342,
          1.243440866470337,
          1.2417269945144653,
          1.2371032238006592,
          1.2318304777145386,
          1.2346898317337036,
          1.234933853149414,
          1.241187572479248,
          1.244694471359253,
          1.2525991201400757,
          1.2430236339569092,
          1.2433171272277832,
          1.2428536415100098,
          1.2445859909057617,
          1.2559500932693481,
          1.25809907913208,
          1.2515331506729126,
          1.2606843709945679,
          1.26708984375,
          1.278576135635376,
          1.2830382585525513,
          1.2794759273529053,
          1.276535987854004,
          1.2772045135498047,
          1.2747135162353516,
          1.2729610204696655,
          1.2711971998214722,
          1.2744698524475098,
          1.2642544507980347,
          1.2614636421203613,
          1.2693254947662354,
          1.269293189048767,
          1.2717629671096802,
          1.2704542875289917,
          1.2742749452590942,
          1.2742749452590942
         ],
         "yaxis": "y5"
        },
        {
         "type": "scatter",
         "x": [
          "2023-01-09T00:00:00",
          "2023-01-10T00:00:00",
          "2023-01-11T00:00:00",
          "2023-01-12T00:00:00",
          "2023-01-13T00:00:00",
          "2023-01-16T00:00:00",
          "2023-01-17T00:00:00",
          "2023-01-18T00:00:00",
          "2023-01-19T00:00:00",
          "2023-01-20T00:00:00",
          "2023-01-23T00:00:00",
          "2023-01-24T00:00:00",
          "2023-01-25T00:00:00",
          "2023-01-26T00:00:00",
          "2023-01-27T00:00:00",
          "2023-01-30T00:00:00",
          "2023-01-31T00:00:00",
          "2023-02-01T00:00:00",
          "2023-02-02T00:00:00",
          "2023-02-03T00:00:00",
          "2023-02-06T00:00:00",
          "2023-02-07T00:00:00",
          "2023-02-08T00:00:00",
          "2023-02-09T00:00:00",
          "2023-02-10T00:00:00",
          "2023-02-13T00:00:00",
          "2023-02-14T00:00:00",
          "2023-02-15T00:00:00",
          "2023-02-16T00:00:00",
          "2023-02-17T00:00:00",
          "2023-02-20T00:00:00",
          "2023-02-21T00:00:00",
          "2023-02-22T00:00:00",
          "2023-02-23T00:00:00",
          "2023-02-24T00:00:00",
          "2023-02-27T00:00:00",
          "2023-02-28T00:00:00",
          "2023-03-01T00:00:00",
          "2023-03-02T00:00:00",
          "2023-03-03T00:00:00",
          "2023-03-06T00:00:00",
          "2023-03-07T00:00:00",
          "2023-03-08T00:00:00",
          "2023-03-09T00:00:00",
          "2023-03-10T00:00:00",
          "2023-03-13T00:00:00",
          "2023-03-14T00:00:00",
          "2023-03-15T00:00:00",
          "2023-03-16T00:00:00",
          "2023-03-17T00:00:00",
          "2023-03-20T00:00:00",
          "2023-03-21T00:00:00",
          "2023-03-22T00:00:00",
          "2023-03-23T00:00:00",
          "2023-03-24T00:00:00",
          "2023-03-27T00:00:00",
          "2023-03-28T00:00:00",
          "2023-03-29T00:00:00",
          "2023-03-30T00:00:00",
          "2023-03-31T00:00:00",
          "2023-04-03T00:00:00",
          "2023-04-04T00:00:00",
          "2023-04-05T00:00:00",
          "2023-04-06T00:00:00",
          "2023-04-07T00:00:00",
          "2023-04-10T00:00:00",
          "2023-04-11T00:00:00",
          "2023-04-12T00:00:00",
          "2023-04-13T00:00:00",
          "2023-04-14T00:00:00",
          "2023-04-17T00:00:00",
          "2023-04-18T00:00:00",
          "2023-04-19T00:00:00",
          "2023-04-20T00:00:00",
          "2023-04-21T00:00:00",
          "2023-04-24T00:00:00",
          "2023-04-25T00:00:00",
          "2023-04-26T00:00:00",
          "2023-04-27T00:00:00",
          "2023-04-28T00:00:00",
          "2023-05-01T00:00:00",
          "2023-05-02T00:00:00",
          "2023-05-03T00:00:00",
          "2023-05-04T00:00:00",
          "2023-05-05T00:00:00",
          "2023-05-08T00:00:00",
          "2023-05-09T00:00:00",
          "2023-05-10T00:00:00",
          "2023-05-11T00:00:00",
          "2023-05-12T00:00:00",
          "2023-05-15T00:00:00",
          "2023-05-16T00:00:00",
          "2023-05-17T00:00:00",
          "2023-05-18T00:00:00",
          "2023-05-19T00:00:00",
          "2023-05-22T00:00:00",
          "2023-05-23T00:00:00",
          "2023-05-24T00:00:00",
          "2023-05-25T00:00:00",
          "2023-05-26T00:00:00",
          "2023-05-29T00:00:00",
          "2023-05-30T00:00:00",
          "2023-05-31T00:00:00",
          "2023-06-01T00:00:00",
          "2023-06-02T00:00:00",
          "2023-06-05T00:00:00",
          "2023-06-06T00:00:00",
          "2023-06-07T00:00:00",
          "2023-06-08T00:00:00",
          "2023-06-09T00:00:00",
          "2023-06-12T00:00:00",
          "2023-06-13T00:00:00",
          "2023-06-14T00:00:00",
          "2023-06-15T00:00:00",
          "2023-06-16T00:00:00",
          "2023-06-19T00:00:00",
          "2023-06-20T00:00:00",
          "2023-06-21T00:00:00",
          "2023-06-22T00:00:00",
          "2023-06-23T00:00:00",
          "2023-06-26T00:00:00",
          "2023-06-27T00:00:00",
          "2023-06-28T00:00:00",
          "2023-06-29T00:00:00",
          "2023-06-30T00:00:00",
          "2023-07-03T00:00:00",
          "2023-07-04T00:00:00",
          "2023-07-05T00:00:00",
          "2023-07-06T00:00:00",
          "2023-07-07T00:00:00",
          "2023-07-09T00:00:00"
         ],
         "xaxis": "x6",
         "y": [
          131.86199951171875,
          131.72900390625,
          132.1009979248047,
          131.90199279785156,
          129.1719970703125,
          128.0260009765625,
          128.3209991455078,
          128.281005859375,
          128.53900146484375,
          128.3699951171875,
          129.35400390625,
          130.5970001220703,
          130.23899841308594,
          129.23699951171875,
          129.8000030517578,
          129.85400390625,
          130.47900390625,
          130.11000061035156,
          128.6219940185547,
          128.74600219726562,
          132.00900268554688,
          132.6230010986328,
          131.04200744628906,
          131.38699340820312,
          131.5189971923828,
          131.55099487304688,
          132.33700561523438,
          132.99099731445312,
          133.9029998779297,
          134.07400512695312,
          134.3070068359375,
          134.33599853515625,
          134.9759979248047,
          134.9320068359375,
          134.6280059814453,
          136.39500427246094,
          136.31700134277344,
          136.34800720214844,
          136.19400024414062,
          136.7050018310547,
          135.86000061035156,
          135.99899291992188,
          137.39100646972656,
          137.2259979248047,
          136.39500427246094,
          134.97999572753906,
          133.11399841308594,
          134.39700317382812,
          132.9290008544922,
          133.3679962158203,
          132.28399658203125,
          131.39199829101562,
          132.34800720214844,
          131.1790008544922,
          130.86500549316406,
          130.8459930419922,
          131.23300170898438,
          131.04600524902344,
          132.5760040283203,
          133.2010040283203,
          133.3470001220703,
          132.2989959716797,
          131.48500061035156,
          130.9340057373047,
          131.66900634765625,
          132.0970001220703,
          133.468994140625,
          133.593994140625,
          133.0850067138672,
          132.48699951171875,
          133.9709930419922,
          134.4250030517578,
          134.04400634765625,
          134.70399475097656,
          133.99600219726562,
          133.96099853515625,
          134.08399963378906,
          133.71099853515625,
          133.46499633789062,
          133.802001953125,
          136.38600158691406,
          137.52099609375,
          136.46600341796875,
          134.54400634765625,
          134.1790008544922,
          135.19900512695312,
          135.072998046875,
          135.28799438476562,
          134.08700561523438,
          134.4980010986328,
          135.82200622558594,
          136.0449981689453,
          136.42999267578125,
          137.61399841308594,
          138.6199951171875,
          137.69200134277344,
          138.6719970703125,
          138.59800720214844,
          139.2830047607422,
          140.01699829101562,
          140.87100219726562,
          140.4409942626953,
          139.79200744628906,
          139.1269989013672,
          138.7480010986328,
          140.20700073242188,
          139.38299560546875,
          139.52699279785156,
          139.8990020751953,
          138.86300659179688,
          139.37100219726562,
          139.4600067138672,
          140.177001953125,
          139.9770050048828,
          140.26800537109375,
          141.86700439453125,
          141.8990020751953,
          141.3350067138672,
          141.68800354003906,
          143.02999877929688,
          143.54100036621094,
          143.4600067138672,
          143.8820037841797,
          144.38900756835938,
          144.77999877929688,
          144.3979949951172,
          144.58399963378906,
          144.406005859375,
          144.48899841308594,
          143.9510040283203,
          143.9510040283203
         ],
         "yaxis": "y6"
        },
        {
         "type": "scatter",
         "x": [
          "2023-01-09T00:00:00",
          "2023-01-10T00:00:00",
          "2023-01-11T00:00:00",
          "2023-01-12T00:00:00",
          "2023-01-13T00:00:00",
          "2023-01-16T00:00:00",
          "2023-01-17T00:00:00",
          "2023-01-18T00:00:00",
          "2023-01-19T00:00:00",
          "2023-01-20T00:00:00",
          "2023-01-23T00:00:00",
          "2023-01-24T00:00:00",
          "2023-01-25T00:00:00",
          "2023-01-26T00:00:00",
          "2023-01-27T00:00:00",
          "2023-01-30T00:00:00",
          "2023-01-31T00:00:00",
          "2023-02-01T00:00:00",
          "2023-02-02T00:00:00",
          "2023-02-03T00:00:00",
          "2023-02-06T00:00:00",
          "2023-02-07T00:00:00",
          "2023-02-08T00:00:00",
          "2023-02-09T00:00:00",
          "2023-02-10T00:00:00",
          "2023-02-13T00:00:00",
          "2023-02-14T00:00:00",
          "2023-02-15T00:00:00",
          "2023-02-16T00:00:00",
          "2023-02-17T00:00:00",
          "2023-02-20T00:00:00",
          "2023-02-21T00:00:00",
          "2023-02-22T00:00:00",
          "2023-02-23T00:00:00",
          "2023-02-24T00:00:00",
          "2023-02-27T00:00:00",
          "2023-02-28T00:00:00",
          "2023-03-01T00:00:00",
          "2023-03-02T00:00:00",
          "2023-03-03T00:00:00",
          "2023-03-06T00:00:00",
          "2023-03-07T00:00:00",
          "2023-03-08T00:00:00",
          "2023-03-09T00:00:00",
          "2023-03-10T00:00:00",
          "2023-03-13T00:00:00",
          "2023-03-14T00:00:00",
          "2023-03-15T00:00:00",
          "2023-03-16T00:00:00",
          "2023-03-17T00:00:00",
          "2023-03-20T00:00:00",
          "2023-03-21T00:00:00",
          "2023-03-22T00:00:00",
          "2023-03-23T00:00:00",
          "2023-03-24T00:00:00",
          "2023-03-27T00:00:00",
          "2023-03-28T00:00:00",
          "2023-03-29T00:00:00",
          "2023-03-30T00:00:00",
          "2023-03-31T00:00:00",
          "2023-04-03T00:00:00",
          "2023-04-04T00:00:00",
          "2023-04-05T00:00:00",
          "2023-04-06T00:00:00",
          "2023-04-07T00:00:00",
          "2023-04-10T00:00:00",
          "2023-04-11T00:00:00",
          "2023-04-12T00:00:00",
          "2023-04-13T00:00:00",
          "2023-04-14T00:00:00",
          "2023-04-17T00:00:00",
          "2023-04-18T00:00:00",
          "2023-04-19T00:00:00",
          "2023-04-20T00:00:00",
          "2023-04-21T00:00:00",
          "2023-04-24T00:00:00",
          "2023-04-25T00:00:00",
          "2023-04-26T00:00:00",
          "2023-04-27T00:00:00",
          "2023-04-28T00:00:00",
          "2023-05-01T00:00:00",
          "2023-05-02T00:00:00",
          "2023-05-03T00:00:00",
          "2023-05-04T00:00:00",
          "2023-05-05T00:00:00",
          "2023-05-08T00:00:00",
          "2023-05-09T00:00:00",
          "2023-05-10T00:00:00",
          "2023-05-11T00:00:00",
          "2023-05-12T00:00:00",
          "2023-05-15T00:00:00",
          "2023-05-16T00:00:00",
          "2023-05-17T00:00:00",
          "2023-05-18T00:00:00",
          "2023-05-19T00:00:00",
          "2023-05-22T00:00:00",
          "2023-05-23T00:00:00",
          "2023-05-24T00:00:00",
          "2023-05-25T00:00:00",
          "2023-05-26T00:00:00",
          "2023-05-29T00:00:00",
          "2023-05-30T00:00:00",
          "2023-05-31T00:00:00",
          "2023-06-01T00:00:00",
          "2023-06-02T00:00:00",
          "2023-06-05T00:00:00",
          "2023-06-06T00:00:00",
          "2023-06-07T00:00:00",
          "2023-06-08T00:00:00",
          "2023-06-09T00:00:00",
          "2023-06-12T00:00:00",
          "2023-06-13T00:00:00",
          "2023-06-14T00:00:00",
          "2023-06-15T00:00:00",
          "2023-06-16T00:00:00",
          "2023-06-19T00:00:00",
          "2023-06-20T00:00:00",
          "2023-06-21T00:00:00",
          "2023-06-22T00:00:00",
          "2023-06-23T00:00:00",
          "2023-06-26T00:00:00",
          "2023-06-27T00:00:00",
          "2023-06-28T00:00:00",
          "2023-06-29T00:00:00",
          "2023-06-30T00:00:00",
          "2023-07-03T00:00:00",
          "2023-07-04T00:00:00",
          "2023-07-05T00:00:00",
          "2023-07-06T00:00:00",
          "2023-07-07T00:00:00",
          "2023-07-09T00:00:00"
         ],
         "xaxis": "x7",
         "y": [
          0.9268699884414673,
          0.920930027961731,
          0.9222400188446045,
          0.9309200048446655,
          0.9272000193595886,
          0.9267200231552124,
          0.9253900051116943,
          0.9219200015068054,
          0.91593998670578,
          0.9154999852180481,
          0.9198899865150452,
          0.9216700196266174,
          0.9222999811172485,
          0.9169700145721436,
          0.920199990272522,
          0.9208599925041199,
          0.925279974937439,
          0.9162499904632568,
          0.907260000705719,
          0.9132000207901001,
          0.9263299703598022,
          0.927869975566864,
          0.9216499924659729,
          0.9209100008010864,
          0.9219740033149719,
          0.9237899780273438,
          0.9186199903488159,
          0.92153000831604,
          0.9233599901199341,
          0.9264600276947021,
          0.92535001039505,
          0.9231799840927124,
          0.9275000095367432,
          0.9312400221824646,
          0.9336900115013123,
          0.9400299787521362,
          0.9355999827384949,
          0.941868007183075,
          0.9394699931144714,
          0.9418699741363525,
          0.9368000030517578,
          0.9306899905204773,
          0.9422299861907959,
          0.9408699870109558,
          0.9328500032424927,
          0.91839998960495,
          0.9124910235404968,
          0.9144999980926514,
          0.9310299754142761,
          0.9291700124740601,
          0.9267399907112122,
          0.9291999936103821,
          0.9214699864387512,
          0.9165199995040894,
          0.9164000153541565,
          0.9199000000953674,
          0.9150199890136719,
          0.9204000234603882,
          0.9180999994277954,
          0.9133800268173218,
          0.9175099730491638,
          0.9127100110054016,
          0.9053999781608582,
          0.9063599705696106,
          0.9043999910354614,
          0.9042699933052063,
          0.908810019493103,
          0.902899980545044,
          0.8957729935646057,
          0.8889999985694885,
          0.8948000073432922,
          0.8985099792480469,
          0.8959000110626221,
          0.8977000117301941,
          0.8923199772834778,
          0.891700029373169,
          0.8870900273323059,
          0.8918200135231018,
          0.8908100128173828,
          0.8938800096511841,
          0.8948000073432922,
          0.8958699703216553,
          0.8922500014305115,
          0.8834199905395508,
          0.885200023651123,
          0.8911700248718262,
          0.8899099826812744,
          0.8901600241661072,
          0.8892899751663208,
          0.8939999938011169,
          0.8983799815177917,
          0.8954600095748901,
          0.8963500261306763,
          0.8987420201301575,
          0.9048699736595154,
          0.8981900215148926,
          0.8982999920845032,
          0.9013100266456604,
          0.9039999842643738,
          0.9050499796867371,
          0.9056900143623352,
          0.9044600129127502,
          0.9057999849319458,
          0.9098899960517883,
          0.9055899977684021,
          0.9097200036048889,
          0.9059000015258789,
          0.9071300029754639,
          0.9095399975776672,
          0.8986999988555908,
          0.9031999707221985,
          0.90829998254776,
          0.9052600264549255,
          0.9000800251960754,
          0.8916400074958801,
          0.8942000269889832,
          0.8957800269126892,
          0.8976699709892273,
          0.892300009727478,
          0.8948799967765808,
          0.8957800269126892,
          0.895609974861145,
          0.893750011920929,
          0.8966599702835083,
          0.8991400003433228,
          0.8949999809265137,
          0.895799994468689,
          0.8966400027275085,
          0.8985199928283691,
          0.8952800035476685,
          0.8952800035476685
         ],
         "yaxis": "y7"
        },
        {
         "type": "scatter",
         "x": [
          "2023-01-09T00:00:00",
          "2023-01-10T00:00:00",
          "2023-01-11T00:00:00",
          "2023-01-12T00:00:00",
          "2023-01-13T00:00:00",
          "2023-01-16T00:00:00",
          "2023-01-17T00:00:00",
          "2023-01-18T00:00:00",
          "2023-01-19T00:00:00",
          "2023-01-20T00:00:00",
          "2023-01-23T00:00:00",
          "2023-01-24T00:00:00",
          "2023-01-25T00:00:00",
          "2023-01-26T00:00:00",
          "2023-01-27T00:00:00",
          "2023-01-30T00:00:00",
          "2023-01-31T00:00:00",
          "2023-02-01T00:00:00",
          "2023-02-02T00:00:00",
          "2023-02-03T00:00:00",
          "2023-02-06T00:00:00",
          "2023-02-07T00:00:00",
          "2023-02-08T00:00:00",
          "2023-02-09T00:00:00",
          "2023-02-10T00:00:00",
          "2023-02-13T00:00:00",
          "2023-02-14T00:00:00",
          "2023-02-15T00:00:00",
          "2023-02-16T00:00:00",
          "2023-02-17T00:00:00",
          "2023-02-20T00:00:00",
          "2023-02-21T00:00:00",
          "2023-02-22T00:00:00",
          "2023-02-23T00:00:00",
          "2023-02-24T00:00:00",
          "2023-02-27T00:00:00",
          "2023-02-28T00:00:00",
          "2023-03-01T00:00:00",
          "2023-03-02T00:00:00",
          "2023-03-03T00:00:00",
          "2023-03-06T00:00:00",
          "2023-03-07T00:00:00",
          "2023-03-08T00:00:00",
          "2023-03-09T00:00:00",
          "2023-03-10T00:00:00",
          "2023-03-13T00:00:00",
          "2023-03-14T00:00:00",
          "2023-03-15T00:00:00",
          "2023-03-16T00:00:00",
          "2023-03-17T00:00:00",
          "2023-03-20T00:00:00",
          "2023-03-21T00:00:00",
          "2023-03-22T00:00:00",
          "2023-03-23T00:00:00",
          "2023-03-24T00:00:00",
          "2023-03-27T00:00:00",
          "2023-03-28T00:00:00",
          "2023-03-29T00:00:00",
          "2023-03-30T00:00:00",
          "2023-03-31T00:00:00",
          "2023-04-03T00:00:00",
          "2023-04-04T00:00:00",
          "2023-04-05T00:00:00",
          "2023-04-06T00:00:00",
          "2023-04-07T00:00:00",
          "2023-04-10T00:00:00",
          "2023-04-11T00:00:00",
          "2023-04-12T00:00:00",
          "2023-04-13T00:00:00",
          "2023-04-14T00:00:00",
          "2023-04-17T00:00:00",
          "2023-04-18T00:00:00",
          "2023-04-19T00:00:00",
          "2023-04-20T00:00:00",
          "2023-04-21T00:00:00",
          "2023-04-24T00:00:00",
          "2023-04-25T00:00:00",
          "2023-04-26T00:00:00",
          "2023-04-27T00:00:00",
          "2023-04-28T00:00:00",
          "2023-05-01T00:00:00",
          "2023-05-02T00:00:00",
          "2023-05-03T00:00:00",
          "2023-05-04T00:00:00",
          "2023-05-05T00:00:00",
          "2023-05-08T00:00:00",
          "2023-05-09T00:00:00",
          "2023-05-10T00:00:00",
          "2023-05-11T00:00:00",
          "2023-05-12T00:00:00",
          "2023-05-15T00:00:00",
          "2023-05-16T00:00:00",
          "2023-05-17T00:00:00",
          "2023-05-18T00:00:00",
          "2023-05-19T00:00:00",
          "2023-05-22T00:00:00",
          "2023-05-23T00:00:00",
          "2023-05-24T00:00:00",
          "2023-05-25T00:00:00",
          "2023-05-26T00:00:00",
          "2023-05-29T00:00:00",
          "2023-05-30T00:00:00",
          "2023-05-31T00:00:00",
          "2023-06-01T00:00:00",
          "2023-06-02T00:00:00",
          "2023-06-05T00:00:00",
          "2023-06-06T00:00:00",
          "2023-06-07T00:00:00",
          "2023-06-08T00:00:00",
          "2023-06-09T00:00:00",
          "2023-06-12T00:00:00",
          "2023-06-13T00:00:00",
          "2023-06-14T00:00:00",
          "2023-06-15T00:00:00",
          "2023-06-16T00:00:00",
          "2023-06-19T00:00:00",
          "2023-06-20T00:00:00",
          "2023-06-21T00:00:00",
          "2023-06-22T00:00:00",
          "2023-06-23T00:00:00",
          "2023-06-26T00:00:00",
          "2023-06-27T00:00:00",
          "2023-06-28T00:00:00",
          "2023-06-29T00:00:00",
          "2023-06-30T00:00:00",
          "2023-07-03T00:00:00",
          "2023-07-04T00:00:00",
          "2023-07-05T00:00:00",
          "2023-07-06T00:00:00",
          "2023-07-07T00:00:00",
          "2023-07-09T00:00:00"
         ],
         "xaxis": "x8",
         "y": [
          1.4505399465560913,
          1.447240948677063,
          1.4503259658813477,
          1.4469690322875977,
          1.43517005443573,
          1.434000015258789,
          1.4354619979858398,
          1.43094003200531,
          1.4400919675827026,
          1.4463410377502441,
          1.4321099519729614,
          1.4226200580596924,
          1.419100046157837,
          1.4068260192871094,
          1.4056990146636963,
          1.4068700075149536,
          1.4168119430541992,
          1.4181580543518066,
          1.3995800018310547,
          1.4134900569915771,
          1.4449199438095093,
          1.451841950416565,
          1.4358329772949219,
          1.4430010318756104,
          1.4410500526428223,
          1.4464499950408936,
          1.4347200393676758,
          1.4311100244522095,
          1.4478280544281006,
          1.4572160243988037,
          1.4557299613952637,
          1.4473869800567627,
          1.4573220014572144,
          1.4678000211715698,
          1.468400001525879,
          1.4846299886703491,
          1.4830189943313599,
          1.4857100248336792,
          1.4793339967727661,
          1.48478102684021,
          1.4804699420928955,
          1.485200047492981,
          1.5172200202941895,
          1.5165300369262695,
          1.5172200202941895,
          1.5073399543762207,
          1.5016820430755615,
          1.4949699640274048,
          1.5109620094299316,
          1.5007350444793701,
          1.4895999431610107,
          1.4887820482254028,
          1.4974770545959473,
          1.4926899671554565,
          1.4966479539871216,
          1.502560019493103,
          1.501479983329773,
          1.4910000562667847,
          1.4964499473571777,
          1.488800048828125,
          1.5017499923706055,
          1.473078966140747,
          1.4797099828720093,
          1.4888299703598022,
          1.4979000091552734,
          1.4984639883041382,
          1.5041439533233643,
          1.5028549432754517,
          1.4927599430084229,
          1.4740569591522217,
          1.491379976272583,
          1.4924479722976685,
          1.4846270084381104,
          1.4913100004196167,
          1.4829800128936768,
          1.4939899444580078,
          1.4916900396347046,
          1.5068409442901611,
          1.5132299661636353,
          1.5082050561904907,
          1.5123100280761719,
          1.5099350214004517,
          1.498576045036316,
          1.505679965019226,
          1.4934070110321045,
          1.4819899797439575,
          1.4747099876403809,
          1.4777799844741821,
          1.4745099544525146,
          1.4925600290298462,
          1.5044599771499634,
          1.4918689727783203,
          1.5019999742507935,
          1.5024900436401367,
          1.5082999467849731,
          1.5012760162353516,
          1.5038299560546875,
          1.5120400190353394,
          1.5278600454330444,
          1.5388200283050537,
          1.532099962234497,
          1.5317449569702148,
          1.5342600345611572,
          1.5369479656219482,
          1.5202200412750244,
          1.5151519775390625,
          1.5120600461959839,
          1.4972100257873535,
          1.501816987991333,
          1.4897359609603882,
          1.4825799465179443,
          1.480800986289978,
          1.4772599935531616,
          1.4712599515914917,
          1.4534250497817993,
          1.454334020614624,
          1.4595600366592407,
          1.4730099439620972,
          1.4708689451217651,
          1.4791369438171387,
          1.4968899488449097,
          1.4982399940490723,
          1.4966919422149658,
          1.5150099992752075,
          1.510640025138855,
          1.5018800497055054,
          1.498329997062683,
          1.4941649436950684,
          1.5022000074386597,
          1.5086599588394165,
          1.4945000410079956
         ],
         "yaxis": "y8"
        },
        {
         "type": "scatter",
         "x": [
          "2023-01-09T00:00:00",
          "2023-01-10T00:00:00",
          "2023-01-11T00:00:00",
          "2023-01-12T00:00:00",
          "2023-01-13T00:00:00",
          "2023-01-16T00:00:00",
          "2023-01-17T00:00:00",
          "2023-01-18T00:00:00",
          "2023-01-19T00:00:00",
          "2023-01-20T00:00:00",
          "2023-01-23T00:00:00",
          "2023-01-24T00:00:00",
          "2023-01-25T00:00:00",
          "2023-01-26T00:00:00",
          "2023-01-27T00:00:00",
          "2023-01-30T00:00:00",
          "2023-01-31T00:00:00",
          "2023-02-01T00:00:00",
          "2023-02-02T00:00:00",
          "2023-02-03T00:00:00",
          "2023-02-06T00:00:00",
          "2023-02-07T00:00:00",
          "2023-02-08T00:00:00",
          "2023-02-09T00:00:00",
          "2023-02-10T00:00:00",
          "2023-02-13T00:00:00",
          "2023-02-14T00:00:00",
          "2023-02-15T00:00:00",
          "2023-02-16T00:00:00",
          "2023-02-17T00:00:00",
          "2023-02-20T00:00:00",
          "2023-02-21T00:00:00",
          "2023-02-22T00:00:00",
          "2023-02-23T00:00:00",
          "2023-02-24T00:00:00",
          "2023-02-27T00:00:00",
          "2023-02-28T00:00:00",
          "2023-03-01T00:00:00",
          "2023-03-02T00:00:00",
          "2023-03-03T00:00:00",
          "2023-03-06T00:00:00",
          "2023-03-07T00:00:00",
          "2023-03-08T00:00:00",
          "2023-03-09T00:00:00",
          "2023-03-10T00:00:00",
          "2023-03-13T00:00:00",
          "2023-03-14T00:00:00",
          "2023-03-15T00:00:00",
          "2023-03-16T00:00:00",
          "2023-03-17T00:00:00",
          "2023-03-20T00:00:00",
          "2023-03-21T00:00:00",
          "2023-03-22T00:00:00",
          "2023-03-23T00:00:00",
          "2023-03-24T00:00:00",
          "2023-03-27T00:00:00",
          "2023-03-28T00:00:00",
          "2023-03-29T00:00:00",
          "2023-03-30T00:00:00",
          "2023-03-31T00:00:00",
          "2023-04-03T00:00:00",
          "2023-04-04T00:00:00",
          "2023-04-05T00:00:00",
          "2023-04-06T00:00:00",
          "2023-04-07T00:00:00",
          "2023-04-10T00:00:00",
          "2023-04-11T00:00:00",
          "2023-04-12T00:00:00",
          "2023-04-13T00:00:00",
          "2023-04-14T00:00:00",
          "2023-04-17T00:00:00",
          "2023-04-18T00:00:00",
          "2023-04-19T00:00:00",
          "2023-04-20T00:00:00",
          "2023-04-21T00:00:00",
          "2023-04-24T00:00:00",
          "2023-04-25T00:00:00",
          "2023-04-26T00:00:00",
          "2023-04-27T00:00:00",
          "2023-04-28T00:00:00",
          "2023-05-01T00:00:00",
          "2023-05-02T00:00:00",
          "2023-05-03T00:00:00",
          "2023-05-04T00:00:00",
          "2023-05-05T00:00:00",
          "2023-05-08T00:00:00",
          "2023-05-09T00:00:00",
          "2023-05-10T00:00:00",
          "2023-05-11T00:00:00",
          "2023-05-12T00:00:00",
          "2023-05-15T00:00:00",
          "2023-05-16T00:00:00",
          "2023-05-17T00:00:00",
          "2023-05-18T00:00:00",
          "2023-05-19T00:00:00",
          "2023-05-22T00:00:00",
          "2023-05-23T00:00:00",
          "2023-05-24T00:00:00",
          "2023-05-25T00:00:00",
          "2023-05-26T00:00:00",
          "2023-05-29T00:00:00",
          "2023-05-30T00:00:00",
          "2023-05-31T00:00:00",
          "2023-06-01T00:00:00",
          "2023-06-02T00:00:00",
          "2023-06-05T00:00:00",
          "2023-06-06T00:00:00",
          "2023-06-07T00:00:00",
          "2023-06-08T00:00:00",
          "2023-06-09T00:00:00",
          "2023-06-12T00:00:00",
          "2023-06-13T00:00:00",
          "2023-06-14T00:00:00",
          "2023-06-15T00:00:00",
          "2023-06-16T00:00:00",
          "2023-06-19T00:00:00",
          "2023-06-20T00:00:00",
          "2023-06-21T00:00:00",
          "2023-06-22T00:00:00",
          "2023-06-23T00:00:00",
          "2023-06-26T00:00:00",
          "2023-06-27T00:00:00",
          "2023-06-28T00:00:00",
          "2023-06-29T00:00:00",
          "2023-06-30T00:00:00",
          "2023-07-03T00:00:00",
          "2023-07-04T00:00:00",
          "2023-07-05T00:00:00",
          "2023-07-06T00:00:00",
          "2023-07-07T00:00:00",
          "2023-07-09T00:00:00"
         ],
         "xaxis": "x9",
         "y": [
          1.3435200452804565,
          1.3393700122833252,
          1.3432899713516235,
          1.343000054359436,
          1.3375999927520752,
          1.3396199941635132,
          1.3397799730300903,
          1.3389999866485596,
          1.3495800495147705,
          1.3463799953460693,
          1.3371000289916992,
          1.3370100259780884,
          1.3374799489974976,
          1.3380199670791626,
          1.3316099643707275,
          1.3303200006484985,
          1.338379979133606,
          1.3306000232696533,
          1.3274999856948853,
          1.3316600322723389,
          1.3399699926376343,
          1.344099998474121,
          1.3390100002288818,
          1.344499945640564,
          1.3448699712753296,
          1.3357399702072144,
          1.3333100080490112,
          1.3340599536895752,
          1.3390599489212036,
          1.3473000526428223,
          1.3481999635696411,
          1.3452999591827393,
          1.3534899950027466,
          1.3545399904251099,
          1.3543200492858887,
          1.3593699932098389,
          1.3573999404907227,
          1.3645199537277222,
          1.3589600324630737,
          1.3594800233840942,
          1.3602999448776245,
          1.3616199493408203,
          1.3747999668121338,
          1.3799400329589844,
          1.3831000328063965,
          1.3763799667358398,
          1.373520016670227,
          1.3688900470733643,
          1.3764899969100952,
          1.3719099760055542,
          1.3709800243377686,
          1.3671000003814697,
          1.3708800077438354,
          1.3716700077056885,
          1.3717000484466553,
          1.3727400302886963,
          1.3654099702835083,
          1.3593300580978394,
          1.3563100099563599,
          1.3521900177001953,
          1.3501800298690796,
          1.343369960784912,
          1.3437999486923218,
          1.3454300165176392,
          1.3494999408721924,
          1.3503999710083008,
          1.3503400087356567,
          1.346250057220459,
          1.343999981880188,
          1.3339999914169312,
          1.3365000486373901,
          1.3392000198364258,
          1.3390899896621704,
          1.3467999696731567,
          1.348080039024353,
          1.3538399934768677,
          1.353369951248169,
          1.361840009689331,
          1.363070011138916,
          1.359969973564148,
          1.3559099435806274,
          1.3552000522613525,
          1.3619500398635864,
          1.3631900548934937,
          1.3523000478744507,
          1.3380000591278076,
          1.3372399806976318,
          1.337499976158142,
          1.3372100591659546,
          1.3493000268936157,
          1.3553999662399292,
          1.346500039100647,
          1.3477200269699097,
          1.3466700315475464,
          1.349769949913025,
          1.3487999439239502,
          1.3502899408340454,
          1.3499399423599243,
          1.3588500022888184,
          1.3643200397491455,
          1.3609000444412231,
          1.3601000308990479,
          1.359969973564148,
          1.356600046157837,
          1.3443000316619873,
          1.342829942703247,
          1.3447999954223633,
          1.339859962463379,
          1.3371599912643433,
          1.3361999988555908,
          1.3336800336837769,
          1.336300015449524,
          1.331470012664795,
          1.3326400518417358,
          1.3221900463104248,
          1.3198000192642212,
          1.3209500312805176,
          1.3225599527359009,
          1.316100001335144,
          1.3145899772644043,
          1.3164700269699097,
          1.315000057220459,
          1.3197699785232544,
          1.3251800537109375,
          1.3250000476837158,
          1.3250000476837158,
          1.3248000144958496,
          1.322350025177002,
          1.3285900354385376,
          1.3365399837493896,
          1.3271000385284424
         ],
         "yaxis": "y9"
        }
       ],
       "layout": {
        "annotations": [
         {
          "font": {
           "size": 16
          },
          "showarrow": false,
          "text": "EUR/USD",
          "x": 0.14444444444444446,
          "xanchor": "center",
          "xref": "paper",
          "y": 1,
          "yanchor": "bottom",
          "yref": "paper"
         },
         {
          "font": {
           "size": 16
          },
          "showarrow": false,
          "text": "EUR/CHF",
          "x": 0.5,
          "xanchor": "center",
          "xref": "paper",
          "y": 1,
          "yanchor": "bottom",
          "yref": "paper"
         },
         {
          "font": {
           "size": 16
          },
          "showarrow": false,
          "text": "EUR/JPY",
          "x": 0.8555555555555556,
          "xanchor": "center",
          "xref": "paper",
          "y": 1,
          "yanchor": "bottom",
          "yref": "paper"
         },
         {
          "font": {
           "size": 16
          },
          "showarrow": false,
          "text": "EUR/GBP",
          "x": 0.14444444444444446,
          "xanchor": "center",
          "xref": "paper",
          "y": 0.6111111111111112,
          "yanchor": "bottom",
          "yref": "paper"
         },
         {
          "font": {
           "size": 16
          },
          "showarrow": false,
          "text": "GBP/USD",
          "x": 0.5,
          "xanchor": "center",
          "xref": "paper",
          "y": 0.6111111111111112,
          "yanchor": "bottom",
          "yref": "paper"
         },
         {
          "font": {
           "size": 16
          },
          "showarrow": false,
          "text": "USD/JPY",
          "x": 0.8555555555555556,
          "xanchor": "center",
          "xref": "paper",
          "y": 0.6111111111111112,
          "yanchor": "bottom",
          "yref": "paper"
         },
         {
          "font": {
           "size": 16
          },
          "showarrow": false,
          "text": "USD/CHF",
          "x": 0.14444444444444446,
          "xanchor": "center",
          "xref": "paper",
          "y": 0.22222222222222224,
          "yanchor": "bottom",
          "yref": "paper"
         },
         {
          "font": {
           "size": 16
          },
          "showarrow": false,
          "text": "USD/AUD",
          "x": 0.5,
          "xanchor": "center",
          "xref": "paper",
          "y": 0.22222222222222224,
          "yanchor": "bottom",
          "yref": "paper"
         },
         {
          "font": {
           "size": 16
          },
          "showarrow": false,
          "text": "USD/CAD",
          "x": 0.8555555555555556,
          "xanchor": "center",
          "xref": "paper",
          "y": 0.22222222222222224,
          "yanchor": "bottom",
          "yref": "paper"
         }
        ],
        "height": 800,
        "showlegend": false,
        "template": {
         "data": {
          "bar": [
           {
            "error_x": {
             "color": "#f2f5fa"
            },
            "error_y": {
             "color": "#f2f5fa"
            },
            "marker": {
             "line": {
              "color": "rgb(17,17,17)",
              "width": 0.5
             },
             "pattern": {
              "fillmode": "overlay",
              "size": 10,
              "solidity": 0.2
             }
            },
            "type": "bar"
           }
          ],
          "barpolar": [
           {
            "marker": {
             "line": {
              "color": "rgb(17,17,17)",
              "width": 0.5
             },
             "pattern": {
              "fillmode": "overlay",
              "size": 10,
              "solidity": 0.2
             }
            },
            "type": "barpolar"
           }
          ],
          "carpet": [
           {
            "aaxis": {
             "endlinecolor": "#A2B1C6",
             "gridcolor": "#506784",
             "linecolor": "#506784",
             "minorgridcolor": "#506784",
             "startlinecolor": "#A2B1C6"
            },
            "baxis": {
             "endlinecolor": "#A2B1C6",
             "gridcolor": "#506784",
             "linecolor": "#506784",
             "minorgridcolor": "#506784",
             "startlinecolor": "#A2B1C6"
            },
            "type": "carpet"
           }
          ],
          "choropleth": [
           {
            "colorbar": {
             "outlinewidth": 0,
             "ticks": ""
            },
            "type": "choropleth"
           }
          ],
          "contour": [
           {
            "colorbar": {
             "outlinewidth": 0,
             "ticks": ""
            },
            "colorscale": [
             [
              0,
              "#0d0887"
             ],
             [
              0.1111111111111111,
              "#46039f"
             ],
             [
              0.2222222222222222,
              "#7201a8"
             ],
             [
              0.3333333333333333,
              "#9c179e"
             ],
             [
              0.4444444444444444,
              "#bd3786"
             ],
             [
              0.5555555555555556,
              "#d8576b"
             ],
             [
              0.6666666666666666,
              "#ed7953"
             ],
             [
              0.7777777777777778,
              "#fb9f3a"
             ],
             [
              0.8888888888888888,
              "#fdca26"
             ],
             [
              1,
              "#f0f921"
             ]
            ],
            "type": "contour"
           }
          ],
          "contourcarpet": [
           {
            "colorbar": {
             "outlinewidth": 0,
             "ticks": ""
            },
            "type": "contourcarpet"
           }
          ],
          "heatmap": [
           {
            "colorbar": {
             "outlinewidth": 0,
             "ticks": ""
            },
            "colorscale": [
             [
              0,
              "#0d0887"
             ],
             [
              0.1111111111111111,
              "#46039f"
             ],
             [
              0.2222222222222222,
              "#7201a8"
             ],
             [
              0.3333333333333333,
              "#9c179e"
             ],
             [
              0.4444444444444444,
              "#bd3786"
             ],
             [
              0.5555555555555556,
              "#d8576b"
             ],
             [
              0.6666666666666666,
              "#ed7953"
             ],
             [
              0.7777777777777778,
              "#fb9f3a"
             ],
             [
              0.8888888888888888,
              "#fdca26"
             ],
             [
              1,
              "#f0f921"
             ]
            ],
            "type": "heatmap"
           }
          ],
          "heatmapgl": [
           {
            "colorbar": {
             "outlinewidth": 0,
             "ticks": ""
            },
            "colorscale": [
             [
              0,
              "#0d0887"
             ],
             [
              0.1111111111111111,
              "#46039f"
             ],
             [
              0.2222222222222222,
              "#7201a8"
             ],
             [
              0.3333333333333333,
              "#9c179e"
             ],
             [
              0.4444444444444444,
              "#bd3786"
             ],
             [
              0.5555555555555556,
              "#d8576b"
             ],
             [
              0.6666666666666666,
              "#ed7953"
             ],
             [
              0.7777777777777778,
              "#fb9f3a"
             ],
             [
              0.8888888888888888,
              "#fdca26"
             ],
             [
              1,
              "#f0f921"
             ]
            ],
            "type": "heatmapgl"
           }
          ],
          "histogram": [
           {
            "marker": {
             "pattern": {
              "fillmode": "overlay",
              "size": 10,
              "solidity": 0.2
             }
            },
            "type": "histogram"
           }
          ],
          "histogram2d": [
           {
            "colorbar": {
             "outlinewidth": 0,
             "ticks": ""
            },
            "colorscale": [
             [
              0,
              "#0d0887"
             ],
             [
              0.1111111111111111,
              "#46039f"
             ],
             [
              0.2222222222222222,
              "#7201a8"
             ],
             [
              0.3333333333333333,
              "#9c179e"
             ],
             [
              0.4444444444444444,
              "#bd3786"
             ],
             [
              0.5555555555555556,
              "#d8576b"
             ],
             [
              0.6666666666666666,
              "#ed7953"
             ],
             [
              0.7777777777777778,
              "#fb9f3a"
             ],
             [
              0.8888888888888888,
              "#fdca26"
             ],
             [
              1,
              "#f0f921"
             ]
            ],
            "type": "histogram2d"
           }
          ],
          "histogram2dcontour": [
           {
            "colorbar": {
             "outlinewidth": 0,
             "ticks": ""
            },
            "colorscale": [
             [
              0,
              "#0d0887"
             ],
             [
              0.1111111111111111,
              "#46039f"
             ],
             [
              0.2222222222222222,
              "#7201a8"
             ],
             [
              0.3333333333333333,
              "#9c179e"
             ],
             [
              0.4444444444444444,
              "#bd3786"
             ],
             [
              0.5555555555555556,
              "#d8576b"
             ],
             [
              0.6666666666666666,
              "#ed7953"
             ],
             [
              0.7777777777777778,
              "#fb9f3a"
             ],
             [
              0.8888888888888888,
              "#fdca26"
             ],
             [
              1,
              "#f0f921"
             ]
            ],
            "type": "histogram2dcontour"
           }
          ],
          "mesh3d": [
           {
            "colorbar": {
             "outlinewidth": 0,
             "ticks": ""
            },
            "type": "mesh3d"
           }
          ],
          "parcoords": [
           {
            "line": {
             "colorbar": {
              "outlinewidth": 0,
              "ticks": ""
             }
            },
            "type": "parcoords"
           }
          ],
          "pie": [
           {
            "automargin": true,
            "type": "pie"
           }
          ],
          "scatter": [
           {
            "marker": {
             "line": {
              "color": "#283442"
             }
            },
            "type": "scatter"
           }
          ],
          "scatter3d": [
           {
            "line": {
             "colorbar": {
              "outlinewidth": 0,
              "ticks": ""
             }
            },
            "marker": {
             "colorbar": {
              "outlinewidth": 0,
              "ticks": ""
             }
            },
            "type": "scatter3d"
           }
          ],
          "scattercarpet": [
           {
            "marker": {
             "colorbar": {
              "outlinewidth": 0,
              "ticks": ""
             }
            },
            "type": "scattercarpet"
           }
          ],
          "scattergeo": [
           {
            "marker": {
             "colorbar": {
              "outlinewidth": 0,
              "ticks": ""
             }
            },
            "type": "scattergeo"
           }
          ],
          "scattergl": [
           {
            "marker": {
             "line": {
              "color": "#283442"
             }
            },
            "type": "scattergl"
           }
          ],
          "scattermapbox": [
           {
            "marker": {
             "colorbar": {
              "outlinewidth": 0,
              "ticks": ""
             }
            },
            "type": "scattermapbox"
           }
          ],
          "scatterpolar": [
           {
            "marker": {
             "colorbar": {
              "outlinewidth": 0,
              "ticks": ""
             }
            },
            "type": "scatterpolar"
           }
          ],
          "scatterpolargl": [
           {
            "marker": {
             "colorbar": {
              "outlinewidth": 0,
              "ticks": ""
             }
            },
            "type": "scatterpolargl"
           }
          ],
          "scatterternary": [
           {
            "marker": {
             "colorbar": {
              "outlinewidth": 0,
              "ticks": ""
             }
            },
            "type": "scatterternary"
           }
          ],
          "surface": [
           {
            "colorbar": {
             "outlinewidth": 0,
             "ticks": ""
            },
            "colorscale": [
             [
              0,
              "#0d0887"
             ],
             [
              0.1111111111111111,
              "#46039f"
             ],
             [
              0.2222222222222222,
              "#7201a8"
             ],
             [
              0.3333333333333333,
              "#9c179e"
             ],
             [
              0.4444444444444444,
              "#bd3786"
             ],
             [
              0.5555555555555556,
              "#d8576b"
             ],
             [
              0.6666666666666666,
              "#ed7953"
             ],
             [
              0.7777777777777778,
              "#fb9f3a"
             ],
             [
              0.8888888888888888,
              "#fdca26"
             ],
             [
              1,
              "#f0f921"
             ]
            ],
            "type": "surface"
           }
          ],
          "table": [
           {
            "cells": {
             "fill": {
              "color": "#506784"
             },
             "line": {
              "color": "rgb(17,17,17)"
             }
            },
            "header": {
             "fill": {
              "color": "#2a3f5f"
             },
             "line": {
              "color": "rgb(17,17,17)"
             }
            },
            "type": "table"
           }
          ]
         },
         "layout": {
          "annotationdefaults": {
           "arrowcolor": "#f2f5fa",
           "arrowhead": 0,
           "arrowwidth": 1
          },
          "autotypenumbers": "strict",
          "coloraxis": {
           "colorbar": {
            "outlinewidth": 0,
            "ticks": ""
           }
          },
          "colorscale": {
           "diverging": [
            [
             0,
             "#8e0152"
            ],
            [
             0.1,
             "#c51b7d"
            ],
            [
             0.2,
             "#de77ae"
            ],
            [
             0.3,
             "#f1b6da"
            ],
            [
             0.4,
             "#fde0ef"
            ],
            [
             0.5,
             "#f7f7f7"
            ],
            [
             0.6,
             "#e6f5d0"
            ],
            [
             0.7,
             "#b8e186"
            ],
            [
             0.8,
             "#7fbc41"
            ],
            [
             0.9,
             "#4d9221"
            ],
            [
             1,
             "#276419"
            ]
           ],
           "sequential": [
            [
             0,
             "#0d0887"
            ],
            [
             0.1111111111111111,
             "#46039f"
            ],
            [
             0.2222222222222222,
             "#7201a8"
            ],
            [
             0.3333333333333333,
             "#9c179e"
            ],
            [
             0.4444444444444444,
             "#bd3786"
            ],
            [
             0.5555555555555556,
             "#d8576b"
            ],
            [
             0.6666666666666666,
             "#ed7953"
            ],
            [
             0.7777777777777778,
             "#fb9f3a"
            ],
            [
             0.8888888888888888,
             "#fdca26"
            ],
            [
             1,
             "#f0f921"
            ]
           ],
           "sequentialminus": [
            [
             0,
             "#0d0887"
            ],
            [
             0.1111111111111111,
             "#46039f"
            ],
            [
             0.2222222222222222,
             "#7201a8"
            ],
            [
             0.3333333333333333,
             "#9c179e"
            ],
            [
             0.4444444444444444,
             "#bd3786"
            ],
            [
             0.5555555555555556,
             "#d8576b"
            ],
            [
             0.6666666666666666,
             "#ed7953"
            ],
            [
             0.7777777777777778,
             "#fb9f3a"
            ],
            [
             0.8888888888888888,
             "#fdca26"
            ],
            [
             1,
             "#f0f921"
            ]
           ]
          },
          "colorway": [
           "#636efa",
           "#EF553B",
           "#00cc96",
           "#ab63fa",
           "#FFA15A",
           "#19d3f3",
           "#FF6692",
           "#B6E880",
           "#FF97FF",
           "#FECB52"
          ],
          "font": {
           "color": "#f2f5fa"
          },
          "geo": {
           "bgcolor": "rgb(17,17,17)",
           "lakecolor": "rgb(17,17,17)",
           "landcolor": "rgb(17,17,17)",
           "showlakes": true,
           "showland": true,
           "subunitcolor": "#506784"
          },
          "hoverlabel": {
           "align": "left"
          },
          "hovermode": "closest",
          "mapbox": {
           "style": "dark"
          },
          "paper_bgcolor": "rgb(17,17,17)",
          "plot_bgcolor": "rgb(17,17,17)",
          "polar": {
           "angularaxis": {
            "gridcolor": "#506784",
            "linecolor": "#506784",
            "ticks": ""
           },
           "bgcolor": "rgb(17,17,17)",
           "radialaxis": {
            "gridcolor": "#506784",
            "linecolor": "#506784",
            "ticks": ""
           }
          },
          "scene": {
           "xaxis": {
            "backgroundcolor": "rgb(17,17,17)",
            "gridcolor": "#506784",
            "gridwidth": 2,
            "linecolor": "#506784",
            "showbackground": true,
            "ticks": "",
            "zerolinecolor": "#C8D4E3"
           },
           "yaxis": {
            "backgroundcolor": "rgb(17,17,17)",
            "gridcolor": "#506784",
            "gridwidth": 2,
            "linecolor": "#506784",
            "showbackground": true,
            "ticks": "",
            "zerolinecolor": "#C8D4E3"
           },
           "zaxis": {
            "backgroundcolor": "rgb(17,17,17)",
            "gridcolor": "#506784",
            "gridwidth": 2,
            "linecolor": "#506784",
            "showbackground": true,
            "ticks": "",
            "zerolinecolor": "#C8D4E3"
           }
          },
          "shapedefaults": {
           "line": {
            "color": "#f2f5fa"
           }
          },
          "sliderdefaults": {
           "bgcolor": "#C8D4E3",
           "bordercolor": "rgb(17,17,17)",
           "borderwidth": 1,
           "tickwidth": 0
          },
          "ternary": {
           "aaxis": {
            "gridcolor": "#506784",
            "linecolor": "#506784",
            "ticks": ""
           },
           "baxis": {
            "gridcolor": "#506784",
            "linecolor": "#506784",
            "ticks": ""
           },
           "bgcolor": "rgb(17,17,17)",
           "caxis": {
            "gridcolor": "#506784",
            "linecolor": "#506784",
            "ticks": ""
           }
          },
          "title": {
           "x": 0.05
          },
          "updatemenudefaults": {
           "bgcolor": "#506784",
           "borderwidth": 0
          },
          "xaxis": {
           "automargin": true,
           "gridcolor": "#283442",
           "linecolor": "#506784",
           "ticks": "",
           "title": {
            "standoff": 15
           },
           "zerolinecolor": "#283442",
           "zerolinewidth": 2
          },
          "yaxis": {
           "automargin": true,
           "gridcolor": "#283442",
           "linecolor": "#506784",
           "ticks": "",
           "title": {
            "standoff": 15
           },
           "zerolinecolor": "#283442",
           "zerolinewidth": 2
          }
         }
        },
        "title": {
         "text": "<b>FX Pairs over the last 6 months</b>"
        },
        "xaxis": {
         "anchor": "y",
         "domain": [
          0,
          0.2888888888888889
         ]
        },
        "xaxis2": {
         "anchor": "y2",
         "domain": [
          0.35555555555555557,
          0.6444444444444445
         ]
        },
        "xaxis3": {
         "anchor": "y3",
         "domain": [
          0.7111111111111111,
          1
         ]
        },
        "xaxis4": {
         "anchor": "y4",
         "domain": [
          0,
          0.2888888888888889
         ]
        },
        "xaxis5": {
         "anchor": "y5",
         "domain": [
          0.35555555555555557,
          0.6444444444444445
         ]
        },
        "xaxis6": {
         "anchor": "y6",
         "domain": [
          0.7111111111111111,
          1
         ]
        },
        "xaxis7": {
         "anchor": "y7",
         "domain": [
          0,
          0.2888888888888889
         ]
        },
        "xaxis8": {
         "anchor": "y8",
         "domain": [
          0.35555555555555557,
          0.6444444444444445
         ]
        },
        "xaxis9": {
         "anchor": "y9",
         "domain": [
          0.7111111111111111,
          1
         ]
        },
        "yaxis": {
         "anchor": "x",
         "domain": [
          0.7777777777777778,
          1
         ]
        },
        "yaxis2": {
         "anchor": "x2",
         "domain": [
          0.7777777777777778,
          1
         ]
        },
        "yaxis3": {
         "anchor": "x3",
         "domain": [
          0.7777777777777778,
          1
         ]
        },
        "yaxis4": {
         "anchor": "x4",
         "domain": [
          0.3888888888888889,
          0.6111111111111112
         ]
        },
        "yaxis5": {
         "anchor": "x5",
         "domain": [
          0.3888888888888889,
          0.6111111111111112
         ]
        },
        "yaxis6": {
         "anchor": "x6",
         "domain": [
          0.3888888888888889,
          0.6111111111111112
         ]
        },
        "yaxis7": {
         "anchor": "x7",
         "domain": [
          0,
          0.22222222222222224
         ]
        },
        "yaxis8": {
         "anchor": "x8",
         "domain": [
          0,
          0.22222222222222224
         ]
        },
        "yaxis9": {
         "anchor": "x9",
         "domain": [
          0,
          0.22222222222222224
         ]
        }
       }
      }
     },
     "metadata": {},
     "output_type": "display_data"
    }
   ],
   "source": [
    "# Show the bond plot\n",
    "yc_fig.show()\n",
    "\n",
    "# Show the spread plot\n",
    "spread_fig.show()\n",
    "\n",
    "# Show the equity indexes plot\n",
    "eq_indexes_fig.show()\n",
    "\n",
    "# Show the equity index cumulative returns plot\n",
    "cum_ret_fig.show()\n",
    "\n",
    "# Show the commodity futures plot\n",
    "futures_dash.show()\n",
    "\n",
    "# Show the FX plot\n",
    "FX_fig.show()"
   ]
  },
  {
   "cell_type": "code",
   "execution_count": null,
   "id": "699e78da",
   "metadata": {},
   "outputs": [],
   "source": []
  }
 ],
 "metadata": {
  "interpreter": {
   "hash": "04e587905b8bc50ee3ef9ea9ad2184de4f0abb87b05c2439fd966be1908608ad"
  },
  "kernelspec": {
   "display_name": "Python 3 (ipykernel)",
   "language": "python",
   "name": "python3"
  },
  "language_info": {
   "codemirror_mode": {
    "name": "ipython",
    "version": 3
   },
   "file_extension": ".py",
   "mimetype": "text/x-python",
   "name": "python",
   "nbconvert_exporter": "python",
   "pygments_lexer": "ipython3",
   "version": "3.10.8"
  }
 },
 "nbformat": 4,
 "nbformat_minor": 5
}
