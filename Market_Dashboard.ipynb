{
 "cells": [
  {
   "attachments": {},
   "cell_type": "markdown",
   "id": "a7ee249b-80dd-46c0-b849-3f4b61f9998c",
   "metadata": {
    "tags": []
   },
   "source": [
    "# Market Breakdown"
   ]
  },
  {
   "attachments": {},
   "cell_type": "markdown",
   "id": "2d7a705e-3d0a-4a8e-809b-f9841af08d8c",
   "metadata": {
    "tags": []
   },
   "source": [
    "## Code"
   ]
  },
  {
   "attachments": {},
   "cell_type": "markdown",
   "id": "20d1cd57-1b2f-43fd-9a05-c7cb60c75c36",
   "metadata": {
    "tags": []
   },
   "source": [
    "### Prep"
   ]
  },
  {
   "attachments": {},
   "cell_type": "markdown",
   "id": "1c0d70c0-3001-428a-83cb-1883e8f9c23d",
   "metadata": {
    "tags": []
   },
   "source": [
    "Imports"
   ]
  },
  {
   "cell_type": "code",
   "execution_count": 1,
   "id": "13679472-7cc2-465b-b79b-dd09ffe527f1",
   "metadata": {
    "tags": []
   },
   "outputs": [],
   "source": [
    "# Structure packages\n",
    "import pandas as pd\n",
    "import pandas_datareader as pdr\n",
    "import numpy as np\n",
    "import datetime as dt\n",
    "\n",
    "# Data\n",
    "import yfinance as yf\n",
    "import investpy\n",
    "\n",
    "# Graphing packages\n",
    "import plotly.express as px\n",
    "from plotly.subplots import make_subplots\n",
    "import plotly.graph_objects as go\n",
    "import plotly.io as pio\n",
    "\n",
    "# Notebook packages\n",
    "from IPython.display import display, HTML"
   ]
  },
  {
   "attachments": {},
   "cell_type": "markdown",
   "id": "ef966e04-d7fc-4840-9201-84e46d40ac43",
   "metadata": {
    "tags": []
   },
   "source": [
    "Definitions"
   ]
  },
  {
   "cell_type": "code",
   "execution_count": 2,
   "id": "4223e818-f9b3-44ea-ad09-c0ac2b2b5b8b",
   "metadata": {
    "tags": []
   },
   "outputs": [],
   "source": [
    "# Setting dates\n",
    "no_of_days = 180\n",
    "today = dt.datetime.now()\n",
    "time_delta = today - dt.timedelta(days=no_of_days)\n",
    "\n",
    "today = str(today.strftime(\"%Y-%m-%d\"))\n",
    "time_delta = str(time_delta.strftime(\"%Y-%m-%d\"))\n",
    "\n",
    "# Adjusting Display settings\n",
    "css = \"\"\"\n",
    ".output {\n",
    "    flex-direction: row;\n",
    "}\n",
    "\"\"\"\n",
    "\n",
    "HTML(\"<style>{}</style>\".format(css))\n",
    "\n",
    "# Setting the plotly theme to 'dark'\n",
    "pio.templates.default = \"plotly_dark\""
   ]
  },
  {
   "attachments": {},
   "cell_type": "markdown",
   "id": "ac6ea2b6",
   "metadata": {},
   "source": [
    "<br>\n",
    "Assets"
   ]
  },
  {
   "cell_type": "code",
   "execution_count": 3,
   "id": "fc04952b",
   "metadata": {},
   "outputs": [],
   "source": [
    "# Yield Curves\n",
    "countries = [\n",
    "    \"united-states\",\n",
    "    \"china\",\n",
    "    \"united-kingdom\",\n",
    "    \"japan\",\n",
    "    \"germany\",\n",
    "    \"italy\",\n",
    "]\n",
    "\n",
    "# Equity Indexes\n",
    "equity_indexes = {\n",
    "    \"MIB (Italy)\": \"FTSEMIB.MI\",\n",
    "    \"DE40 (Germany)\": \"^GDAXI\",\n",
    "    \"FTSE100 (U.K.)\": \"^FTSE\",\n",
    "    \"S&P500 (U.S.)\": \"^GSPC\",\n",
    "    \"Nasdaq Composite (U.S.)\": \"^IXIC\",\n",
    "    \"Nikkei (Japan)\": \"^N225\",\n",
    "    \"Hang Seng (H.K.)\": \"^HSI\",\n",
    "    \"'FIX' China large-cap ETF\": \"FXI\"\n",
    "}\n",
    "\n",
    "# Commodity Futures\n",
    "list_of_futures = [\n",
    "    \"GC=F\",  # Gold futures\n",
    "    \"PL=F\",  # Platinum futures\n",
    "    \"BZ=F\",  # Brent futures\n",
    "    \"NG=F\",  # Natural gas futures\n",
    "    \"ZW=F\",  # Wheat futures\n",
    "    \"ZC=F\",  # Corn futures\n",
    "]\n",
    "\n",
    "# Currencies\n",
    "FX_pairs = {\n",
    "    \"EUR/USD\": \"EURUSD=X\",\n",
    "    \"EUR/CHF\": \"EURCHF=X\",\n",
    "    \"EUR/JPY\": \"EURJPY=X\",\n",
    "    \"EUR/GBP\": \"EURGBP=X\",\n",
    "    \"GBP/USD\": \"GBPUSD=X\",\n",
    "    \"USD/JPY\": \"USDJPY=X\",\n",
    "    \"USD/CHF\": \"USDCHF=X\",\n",
    "    \"USD/AUD\": \"USDAUD=X\",\n",
    "    \"USD/CAD\": \"USDCAD=X\",\n",
    "}"
   ]
  },
  {
   "attachments": {},
   "cell_type": "markdown",
   "id": "0079d33b-9d6d-4c03-9fe3-5ff4604daf4e",
   "metadata": {
    "tags": []
   },
   "source": [
    "### Government Bonds"
   ]
  },
  {
   "cell_type": "code",
   "execution_count": 4,
   "id": "63a1a20b-8755-4902-a5ec-0e28fc808045",
   "metadata": {},
   "outputs": [],
   "source": [
    "def get_yield_curves(country):\n",
    "    \"\"\"\n",
    "    This function obtains the yield curve data for a given country, converts the data from str to float, and calculates the\n",
    "    yield curve 1 month ago and 6 months ago.\n",
    "    \"\"\"\n",
    "\n",
    "    # Download the data\n",
    "    table = pd.read_html(f\"http://www.worldgovernmentbonds.com/country/{country}/\")[0]\n",
    "\n",
    "    # Extract the relevant series\n",
    "    table = table[\n",
    "        [\n",
    "            (\"ResidualMaturity\", \"ResidualMaturity\"),\n",
    "            (\"Yield\", \"Last\"),\n",
    "            (\"Yield\", \"Chg 1M\"),\n",
    "            (\"Yield\", \"Chg 6M\"),\n",
    "        ]\n",
    "    ]\n",
    "\n",
    "    # Make all \"n.a.\" strings actual NaN values\n",
    "    table = table.replace(\"n.a.\", np.nan)\n",
    "\n",
    "    # Convert the \"Last\" series to float\n",
    "    table.loc[:, (\"Yield\", \"Last\")] = pd.to_numeric(table.loc[:, (\"Yield\", \"Last\")].str.strip(\"%\"))\n",
    "\n",
    "    # Convert the Chg 1M and Chg 6M series to floats\n",
    "    for col in [(\"Yield\", \"Chg 1M\"), (\"Yield\", \"Chg 6M\")]:\n",
    "        table.loc[:, col] = pd.to_numeric(\n",
    "            table.loc[:, col].str.replace(\"[-+]\", \"\", regex=True).str.replace(\" bp\", \"\", regex=False)\n",
    "        )\n",
    "\n",
    "    # Divide the Chg series by 100\n",
    "    table.loc[:, [(\"Yield\", \"Chg 1M\"), (\"Yield\", \"Chg 6M\")]] /= 100\n",
    "\n",
    "    # Create old yield curves, to be plotted against the latest one\n",
    "    table.loc[:, (\"1mo ago\")] = (\n",
    "        table.loc[:, (\"Yield\", \"Last\")] - table.loc[:, (\"Yield\", \"Chg 1M\")]\n",
    "    )\n",
    "    table.loc[:, (\"6mo ago\")] = (\n",
    "        table.loc[:, (\"Yield\", \"Last\")] - table.loc[:, (\"Yield\", \"Chg 6M\")]\n",
    "    )\n",
    "\n",
    "    # Drop the original Chg 1M and Chg 6M columns\n",
    "    table.drop(columns=[(\"Yield\", \"Chg 1M\"), (\"Yield\", \"Chg 6M\")], inplace=True)\n",
    "\n",
    "    # Rename the columns\n",
    "    table.columns = [\"ResidualMaturity\", \"Last\", \"1mo ago\", \"6mo ago\"]\n",
    "\n",
    "    # Return the results\n",
    "    return table"
   ]
  },
  {
   "cell_type": "code",
   "execution_count": 5,
   "id": "4e40f594-e97b-4fb5-a628-250446d2d8dc",
   "metadata": {},
   "outputs": [],
   "source": [
    "# Process the names\n",
    "yield_curves = {\n",
    "    curve.replace(\"-\", \" \").title(): get_yield_curves(curve) for curve in countries\n",
    "}\n",
    "\n",
    "# Generate the subplot space\n",
    "yc_fig = make_subplots(\n",
    "    rows=2,\n",
    "    cols=3,\n",
    "    shared_xaxes=False,\n",
    "    subplot_titles=[name for name in yield_curves.keys()],\n",
    ")\n",
    "\n",
    "# Define the colors to use for each series\n",
    "colors = [\"#ef553b\", \"#6a76f9\", \"#00cc96\"]\n",
    "\n",
    "# Add traces for each series in each subplot\n",
    "for i, (name, df) in enumerate(yield_curves.items()):\n",
    "    for j, col in enumerate([\"Last\", \"1mo ago\", \"6mo ago\"]):\n",
    "        mode = \"lines+markers\" if col == \"Last\" else \"lines\"\n",
    "        line_style = \"dash\" if col != \"Last\" else None\n",
    "        yc_fig.add_trace(\n",
    "            go.Scatter(\n",
    "                x=df[\"ResidualMaturity\"],\n",
    "                y=df[col],\n",
    "                name=col,\n",
    "                mode=mode,\n",
    "                line=dict(color=colors[j], dash=line_style),\n",
    "            ),\n",
    "            row=i // 3 + 1,\n",
    "            col=i % 3 + 1,\n",
    "        )\n",
    "\n",
    "\n",
    "# Update the layout\n",
    "yc_fig.update_layout(\n",
    "    title=\"<b>Yield Curves over the last 6 months</b>\",\n",
    "    yaxis=dict(title=\"\"),\n",
    "    height=800,\n",
    "    legend=dict(orientation=\"h\", y=1.125, x=0.75),\n",
    "    xaxis=dict(tickangle=90),  # This makes the x-axis labels vertical\n",
    ")\n",
    "\n",
    "# Format legend\n",
    "labels_to_show_in_legend = [\"Last\", \"1mo ago\", \"6mo ago\"]\n",
    "for i, trace in enumerate(yc_fig[\"data\"]):\n",
    "    if i >= 3:\n",
    "        trace[\"showlegend\"] = False\n",
    "    elif not trace[\"name\"] in labels_to_show_in_legend:\n",
    "        trace[\"showlegend\"] = False"
   ]
  },
  {
   "cell_type": "code",
   "execution_count": 6,
   "id": "003ecef4-90b3-4cc0-88a0-c6310222833c",
   "metadata": {},
   "outputs": [],
   "source": [
    "# Calculate the Italy-German spreads\n",
    "it_de_spreads = yield_curves[\"Italy\"].copy()\n",
    "it_de_spreads.iloc[:, 1:] -= yield_curves[\"Germany\"].iloc[:, 1:]\n",
    "\n",
    "# Create a list of traces for each series\n",
    "traces = []\n",
    "for i, col in enumerate([\"Last\", \"1mo ago\", \"6mo ago\"]):\n",
    "    if col == \"Last\":\n",
    "        trace = go.Scatter(\n",
    "            x=it_de_spreads[\"ResidualMaturity\"],\n",
    "            y=it_de_spreads[col],\n",
    "            name=col,\n",
    "            line=dict(color=colors[i], width=2),\n",
    "            mode=\"lines+markers\",\n",
    "        )\n",
    "    else:\n",
    "        trace = go.Scatter(\n",
    "            x=it_de_spreads[\"ResidualMaturity\"],\n",
    "            y=it_de_spreads[col],\n",
    "            name=col,\n",
    "            line=dict(color=colors[i], dash=\"dash\"),\n",
    "            mode=\"lines\",\n",
    "        )\n",
    "    traces.append(trace)\n",
    "\n",
    "# Create the figure\n",
    "spread_fig = go.Figure(data=traces)\n",
    "\n",
    "# Update the layout\n",
    "spread_fig.update_layout(\n",
    "    title=\"<b>Spread between Italian and German Yield Curves over the last 6 months</b>\",\n",
    "    yaxis_title=r\"$y_t^{\\text{IT}} - y_t^{\\text{DE}}$\",\n",
    "    height=500,\n",
    ")\n",
    "\n",
    "# Save the plot to an HTML file\n",
    "spread_fig.write_html(\"spread_fig.html\", auto_open=False)"
   ]
  },
  {
   "attachments": {},
   "cell_type": "markdown",
   "id": "ea959673-c32a-4ed5-9dd7-c708023312ee",
   "metadata": {},
   "source": [
    "<br>\n",
    "\n",
    "### Main Equity Indexes"
   ]
  },
  {
   "cell_type": "code",
   "execution_count": 7,
   "id": "968709fd-249b-48f5-a192-0ee583e49674",
   "metadata": {
    "tags": []
   },
   "outputs": [
    {
     "name": "stdout",
     "output_type": "stream",
     "text": [
      "[*********************100%***********************]  8 of 8 completed\n"
     ]
    }
   ],
   "source": [
    "# Download the equity prices\n",
    "index_prices = yf.download(list(equity_indexes.values()), start=time_delta)[\"Adj Close\"]\n",
    "\n",
    "# Forward fill any missing values\n",
    "index_prices.ffill(inplace=True)"
   ]
  },
  {
   "cell_type": "code",
   "execution_count": 8,
   "id": "42f2801a-db39-472c-ac95-23e8cb3fe7b3",
   "metadata": {
    "tags": []
   },
   "outputs": [],
   "source": [
    "# Define the subplot titles\n",
    "subplot_titles = list(equity_indexes.keys())\n",
    "\n",
    "# Create the subplot figure\n",
    "eq_indexes_fig = make_subplots(rows=2, cols=4, subplot_titles=subplot_titles)\n",
    "\n",
    "# Add traces for each index\n",
    "for i, index in enumerate(list(equity_indexes.values())):\n",
    "    row = i // 4 + 1\n",
    "    col = i % 4 + 1\n",
    "    eq_indexes_fig.add_trace(\n",
    "        go.Scatter(x=index_prices.index, y=index_prices[index]), row=row, col=col\n",
    "    )\n",
    "\n",
    "# Update the layout\n",
    "eq_indexes_fig.update_layout(\n",
    "    height=600,\n",
    "    title_text=f\"<b>Equity Indexes over the last {no_of_days//30} months</b>\",\n",
    "    showlegend=False,\n",
    ")\n",
    "\n",
    "# Save the plot to an HTML file\n",
    "eq_indexes_fig.write_html(\"equity_indexes.html\", auto_open=False)"
   ]
  },
  {
   "cell_type": "code",
   "execution_count": 9,
   "id": "9c384c8c-b09f-4404-86c0-68520aa8f384",
   "metadata": {},
   "outputs": [],
   "source": [
    "# Calculate the cumulative returns for each index\n",
    "index_cum_rets = np.log1p(index_prices.pct_change()).cumsum()\n",
    "index_cum_rets.columns = list(equity_indexes.keys())\n",
    "\n",
    "# Plot the results\n",
    "cum_ret_fig = px.line(index_cum_rets, render_mode=\"svg\").update_layout(\n",
    "    height=600,\n",
    "    title_text=f\"<b>Cumulative Returns of Equity Indexes over the last {no_of_days // 30} months</b>\",\n",
    "    showlegend=True,\n",
    "    legend=dict(title_text=\"\"),\n",
    "    yaxis_title=\"Cumulative log returns\",\n",
    "    xaxis_title=\"\",\n",
    ")"
   ]
  },
  {
   "attachments": {},
   "cell_type": "markdown",
   "id": "e0b62a00-9c4e-4bb6-8e52-8f77d7239b00",
   "metadata": {},
   "source": [
    "<br>\n",
    "\n",
    "### Commodity Futures"
   ]
  },
  {
   "cell_type": "code",
   "execution_count": 10,
   "id": "b7da8f51-66fd-4550-a939-58221c58789b",
   "metadata": {
    "tags": []
   },
   "outputs": [
    {
     "name": "stdout",
     "output_type": "stream",
     "text": [
      "[*********************100%***********************]  6 of 6 completed\n"
     ]
    }
   ],
   "source": [
    "# Download the commodity futures prices\n",
    "futures_prices = yf.download(list_of_futures, start=time_delta)[\"Adj Close\"]\n",
    "\n",
    "# Forward-fill any missing values\n",
    "futures_prices.ffill(inplace=True)"
   ]
  },
  {
   "cell_type": "code",
   "execution_count": 11,
   "id": "15f97d84-4acc-4ac6-9ff9-cbc719c1cbd3",
   "metadata": {
    "tags": []
   },
   "outputs": [],
   "source": [
    "# Create subplots\n",
    "futures_dash = make_subplots(\n",
    "    rows=3,\n",
    "    cols=2,\n",
    "    subplot_titles=(\"Gold\", \"Platinum\", \"Brent\", \"Natural Gas\", \"Wheat\", \"Corn\"),\n",
    ")\n",
    "\n",
    "# Add traces for commodity\n",
    "for i, com in enumerate(list_of_futures):\n",
    "    row = i // 2 + 1\n",
    "    col = i % 2 + 1\n",
    "    futures_dash.add_trace(\n",
    "        go.Scatter(x=futures_prices.index, y=futures_prices[com]), row=row, col=col\n",
    "    )\n",
    "\n",
    "# Update layout\n",
    "futures_dash.update_layout(\n",
    "    height=800,\n",
    "    title_text=f\"<b>Commodity Futures over the last {no_of_days//30} months</b>\",\n",
    "    showlegend=False,\n",
    ")\n",
    "\n",
    "# Save the plot to an HTML file\n",
    "futures_dash.write_html(\"futures_dash.html\", auto_open=False)"
   ]
  },
  {
   "attachments": {},
   "cell_type": "markdown",
   "id": "7277f002",
   "metadata": {},
   "source": [
    "<br>\n",
    "\n",
    "### Currencies"
   ]
  },
  {
   "cell_type": "code",
   "execution_count": 12,
   "id": "e74ec365",
   "metadata": {},
   "outputs": [
    {
     "name": "stdout",
     "output_type": "stream",
     "text": [
      "[*********************100%***********************]  9 of 9 completed\n"
     ]
    }
   ],
   "source": [
    "# Download the historical data\n",
    "FX_prices = yf.download(list(FX_pairs.values()), start=time_delta)[\"Adj Close\"]\n",
    "\n",
    "# Forward-fill any missing values\n",
    "FX_prices.ffill(inplace=True)"
   ]
  },
  {
   "cell_type": "code",
   "execution_count": 13,
   "id": "a8d7585f",
   "metadata": {},
   "outputs": [],
   "source": [
    "# Define the subplot titles\n",
    "subplot_titles = list(FX_pairs.keys())\n",
    "\n",
    "# Create the subplot figure\n",
    "FX_fig = make_subplots(rows=3, cols=3, subplot_titles=subplot_titles)\n",
    "\n",
    "# Add traces for each FX pair\n",
    "for i, pair in enumerate(list(FX_pairs.values())):\n",
    "    row = i // 3 + 1\n",
    "    col = i % 3 + 1\n",
    "    FX_fig.add_trace(go.Scatter(x=FX_prices.index, y=FX_prices[pair]), row=row, col=col)\n",
    "\n",
    "# Update the layout\n",
    "FX_fig.update_layout(\n",
    "    height=800,\n",
    "    title_text=f\"<b>FX Pairs over the last {no_of_days//30} months</b>\",\n",
    "    showlegend=False,\n",
    ")\n",
    "\n",
    "# Save the plot to an HTML file\n",
    "FX_fig.write_html(\"FX_pairs.html\", auto_open=False)\n",
    "\n",
    "# Note: if X/Y falls, it means it takes fewer Y to buy X – the value of X is falling and/or the value of Y is rising."
   ]
  },
  {
   "attachments": {},
   "cell_type": "markdown",
   "id": "ce4b8c96-41b1-4da7-bedc-f77c5468affb",
   "metadata": {},
   "source": [
    "<br>\n",
    "\n",
    "## Dashboard"
   ]
  },
  {
   "cell_type": "code",
   "execution_count": 14,
   "id": "8da51666-70a8-4ac0-b4ee-b6e2fb367693",
   "metadata": {},
   "outputs": [
    {
     "data": {
      "application/vnd.plotly.v1+json": {
       "config": {
        "plotlyServerURL": "https://plot.ly"
       },
       "data": [
        {
         "line": {
          "color": "#ef553b"
         },
         "mode": "lines+markers",
         "name": "Last",
         "type": "scatter",
         "x": [
          "1 month",
          "2 months",
          "3 months",
          "4 months",
          "6 months",
          "1 year",
          "2 years",
          "3 years",
          "5 years",
          "7 years",
          "10 years",
          "20 years",
          "30 years"
         ],
         "xaxis": "x",
         "y": [
          5.196,
          5.295,
          5.37,
          5.412,
          5.517,
          5.48,
          5.061,
          4.754,
          4.407,
          4.24,
          4.053,
          4.228,
          4.005
         ],
         "yaxis": "y"
        },
        {
         "line": {
          "color": "#6a76f9",
          "dash": "dash"
         },
         "mode": "lines",
         "name": "1mo ago",
         "type": "scatter",
         "x": [
          "1 month",
          "2 months",
          "3 months",
          "4 months",
          "6 months",
          "1 year",
          "2 years",
          "3 years",
          "5 years",
          "7 years",
          "10 years",
          "20 years",
          "30 years"
         ],
         "xaxis": "x",
         "y": [
          5.088,
          5.294,
          5.317,
          5.403,
          5.429,
          5.219,
          4.509,
          4.148999999999999,
          3.837,
          3.7700000000000005,
          3.666,
          4.0169999999999995,
          3.862
         ],
         "yaxis": "y"
        },
        {
         "line": {
          "color": "#00cc96",
          "dash": "dash"
         },
         "mode": "lines",
         "name": "6mo ago",
         "type": "scatter",
         "x": [
          "1 month",
          "2 months",
          "3 months",
          "4 months",
          "6 months",
          "1 year",
          "2 years",
          "3 years",
          "5 years",
          "7 years",
          "10 years",
          "20 years",
          "30 years"
         ],
         "xaxis": "x",
         "y": [
          4.212,
          null,
          4.62,
          null,
          4.828,
          4.7170000000000005,
          4.264,
          3.9909999999999997,
          3.71,
          3.6450000000000005,
          3.565,
          3.8569999999999998,
          3.687
         ],
         "yaxis": "y"
        },
        {
         "line": {
          "color": "#ef553b"
         },
         "mode": "lines+markers",
         "name": "Last",
         "showlegend": false,
         "type": "scatter",
         "x": [
          "1 year",
          "2 years",
          "3 years",
          "5 years",
          "7 years",
          "10 years",
          "15 years",
          "20 years",
          "30 years"
         ],
         "xaxis": "x2",
         "y": [
          1.806,
          2.087,
          2.224,
          2.411,
          2.619,
          2.7,
          2.771,
          3.089,
          3.036
         ],
         "yaxis": "y2"
        },
        {
         "line": {
          "color": "#6a76f9",
          "dash": "dash"
         },
         "mode": "lines",
         "name": "1mo ago",
         "showlegend": false,
         "type": "scatter",
         "x": [
          "1 year",
          "2 years",
          "3 years",
          "5 years",
          "7 years",
          "10 years",
          "15 years",
          "20 years",
          "30 years"
         ],
         "xaxis": "x2",
         "y": [
          1.725,
          2.087,
          2.221,
          2.3970000000000002,
          2.5940000000000003,
          2.677,
          2.6959999999999997,
          3.04,
          2.979
         ],
         "yaxis": "y2"
        },
        {
         "line": {
          "color": "#00cc96",
          "dash": "dash"
         },
         "mode": "lines",
         "name": "6mo ago",
         "showlegend": false,
         "type": "scatter",
         "x": [
          "1 year",
          "2 years",
          "3 years",
          "5 years",
          "7 years",
          "10 years",
          "15 years",
          "20 years",
          "30 years"
         ],
         "xaxis": "x2",
         "y": [
          1.53,
          1.8550000000000002,
          2.0140000000000002,
          2.198,
          2.4280000000000004,
          2.5050000000000003,
          2.601,
          2.905,
          2.841
         ],
         "yaxis": "y2"
        },
        {
         "line": {
          "color": "#ef553b"
         },
         "mode": "lines+markers",
         "name": "Last",
         "showlegend": false,
         "type": "scatter",
         "x": [
          "1 month",
          "3 months",
          "6 months",
          "1 year",
          "2 years",
          "3 years",
          "4 years",
          "5 years",
          "6 years",
          "7 years",
          "8 years",
          "9 years",
          "10 years",
          "12 years",
          "15 years",
          "20 years",
          "25 years",
          "30 years",
          "40 years",
          "50 years"
         ],
         "xaxis": "x3",
         "y": [
          5.04,
          5.361,
          5.773,
          5.612,
          5.581,
          5.373,
          5.21,
          4.985,
          5.031,
          4.752,
          4.692,
          4.645,
          4.718,
          4.75,
          4.86,
          4.831,
          4.728,
          4.703,
          4.273,
          4.152
         ],
         "yaxis": "y3"
        },
        {
         "line": {
          "color": "#6a76f9",
          "dash": "dash"
         },
         "mode": "lines",
         "name": "1mo ago",
         "showlegend": false,
         "type": "scatter",
         "x": [
          "1 month",
          "3 months",
          "6 months",
          "1 year",
          "2 years",
          "3 years",
          "4 years",
          "5 years",
          "6 years",
          "7 years",
          "8 years",
          "9 years",
          "10 years",
          "12 years",
          "15 years",
          "20 years",
          "25 years",
          "30 years",
          "40 years",
          "50 years"
         ],
         "xaxis": "x3",
         "y": [
          4.394,
          4.826,
          5.063,
          4.871,
          4.524000000000001,
          4.436,
          4.337,
          4.228000000000001,
          4.308,
          4.157,
          4.178,
          4.148999999999999,
          4.193,
          4.358,
          4.487,
          4.509,
          4.515,
          4.525,
          4.215999999999999,
          4.079
         ],
         "yaxis": "y3"
        },
        {
         "line": {
          "color": "#00cc96",
          "dash": "dash"
         },
         "mode": "lines",
         "name": "6mo ago",
         "showlegend": false,
         "type": "scatter",
         "x": [
          "1 month",
          "3 months",
          "6 months",
          "1 year",
          "2 years",
          "3 years",
          "4 years",
          "5 years",
          "6 years",
          "7 years",
          "8 years",
          "9 years",
          "10 years",
          "12 years",
          "15 years",
          "20 years",
          "25 years",
          "30 years",
          "40 years",
          "50 years"
         ],
         "xaxis": "x3",
         "y": [
          3.075,
          3.55,
          4.019,
          3.348,
          3.4100000000000006,
          3.3440000000000003,
          3.4539999999999997,
          3.4370000000000003,
          3.444,
          3.5,
          3.443,
          3.4859999999999998,
          3.471,
          3.6420000000000003,
          3.8670000000000004,
          3.9240000000000004,
          3.9379999999999997,
          3.869,
          3.537,
          3.5330000000000004
         ],
         "yaxis": "y3"
        },
        {
         "line": {
          "color": "#ef553b"
         },
         "mode": "lines+markers",
         "name": "Last",
         "showlegend": false,
         "type": "scatter",
         "x": [
          "1 month",
          "3 months",
          "6 months",
          "9 months",
          "1 year",
          "2 years",
          "3 years",
          "4 years",
          "5 years",
          "6 years",
          "7 years",
          "8 years",
          "9 years",
          "10 years",
          "15 years",
          "20 years",
          "30 years",
          "40 years"
         ],
         "xaxis": "x4",
         "y": [
          -0.112,
          -0.224,
          -0.227,
          -0.234,
          -0.124,
          -0.061,
          -0.047,
          0.005,
          0.067,
          0.141,
          0.21,
          0.289,
          0.343,
          0.417,
          0.76,
          0.998,
          1.238,
          1.377
         ],
         "yaxis": "y4"
        },
        {
         "line": {
          "color": "#6a76f9",
          "dash": "dash"
         },
         "mode": "lines",
         "name": "1mo ago",
         "showlegend": false,
         "type": "scatter",
         "x": [
          "1 month",
          "3 months",
          "6 months",
          "9 months",
          "1 year",
          "2 years",
          "3 years",
          "4 years",
          "5 years",
          "6 years",
          "7 years",
          "8 years",
          "9 years",
          "10 years",
          "15 years",
          "20 years",
          "30 years",
          "40 years"
         ],
         "xaxis": "x4",
         "y": [
          -0.187,
          -0.261,
          -0.272,
          -0.311,
          -0.139,
          -0.067,
          -0.059,
          -0.003,
          0.058,
          0.13699999999999998,
          0.206,
          0.27699999999999997,
          0.325,
          0.416,
          0.739,
          0.973,
          1.2,
          1.335
         ],
         "yaxis": "y4"
        },
        {
         "line": {
          "color": "#00cc96",
          "dash": "dash"
         },
         "mode": "lines",
         "name": "6mo ago",
         "showlegend": false,
         "type": "scatter",
         "x": [
          "1 month",
          "3 months",
          "6 months",
          "9 months",
          "1 year",
          "2 years",
          "3 years",
          "4 years",
          "5 years",
          "6 years",
          "7 years",
          "8 years",
          "9 years",
          "10 years",
          "15 years",
          "20 years",
          "30 years",
          "40 years"
         ],
         "xaxis": "x4",
         "y": [
          -0.129,
          -0.326,
          -0.33899999999999997,
          -0.361,
          -0.235,
          -0.138,
          -0.13,
          -0.13,
          -0.059,
          -0.063,
          -0.023999999999999994,
          0.06399999999999997,
          0.22800000000000004,
          0.33599999999999997,
          0.47500000000000003,
          0.716,
          0.8959999999999999,
          1.053
         ],
         "yaxis": "y4"
        },
        {
         "line": {
          "color": "#ef553b"
         },
         "mode": "lines+markers",
         "name": "Last",
         "showlegend": false,
         "type": "scatter",
         "x": [
          "1 month",
          "3 months",
          "6 months",
          "9 months",
          "1 year",
          "2 years",
          "3 years",
          "4 years",
          "5 years",
          "6 years",
          "7 years",
          "8 years",
          "9 years",
          "10 years",
          "15 years",
          "20 years",
          "25 years",
          "30 years"
         ],
         "xaxis": "x5",
         "y": [
          3.242,
          3.385,
          3.599,
          3.66,
          3.661,
          3.358,
          3.092,
          2.887,
          2.786,
          2.676,
          2.632,
          2.595,
          2.584,
          2.626,
          2.698,
          2.697,
          2.599,
          2.599
         ],
         "yaxis": "y5"
        },
        {
         "line": {
          "color": "#6a76f9",
          "dash": "dash"
         },
         "mode": "lines",
         "name": "1mo ago",
         "showlegend": false,
         "type": "scatter",
         "x": [
          "1 month",
          "3 months",
          "6 months",
          "9 months",
          "1 year",
          "2 years",
          "3 years",
          "4 years",
          "5 years",
          "6 years",
          "7 years",
          "8 years",
          "9 years",
          "10 years",
          "15 years",
          "20 years",
          "25 years",
          "30 years"
         ],
         "xaxis": "x5",
         "y": [
          2.958,
          3.061,
          3.261,
          3.333,
          3.316,
          2.891,
          2.654,
          2.447,
          2.371,
          2.319,
          2.291,
          2.286,
          2.2880000000000003,
          2.367,
          2.554,
          2.573,
          2.503,
          2.531
         ],
         "yaxis": "y5"
        },
        {
         "line": {
          "color": "#00cc96",
          "dash": "dash"
         },
         "mode": "lines",
         "name": "6mo ago",
         "showlegend": false,
         "type": "scatter",
         "x": [
          "1 month",
          "3 months",
          "6 months",
          "9 months",
          "1 year",
          "2 years",
          "3 years",
          "4 years",
          "5 years",
          "6 years",
          "7 years",
          "8 years",
          "9 years",
          "10 years",
          "15 years",
          "20 years",
          "25 years",
          "30 years"
         ],
         "xaxis": "x5",
         "y": [
          1.788,
          2.112,
          2.435,
          2.583,
          2.757,
          2.549,
          2.448,
          2.295,
          2.223,
          2.2110000000000003,
          2.186,
          2.152,
          2.15,
          2.195,
          2.289,
          2.228,
          2.1580000000000004,
          2.063
         ],
         "yaxis": "y5"
        },
        {
         "line": {
          "color": "#ef553b"
         },
         "mode": "lines+markers",
         "name": "Last",
         "showlegend": false,
         "type": "scatter",
         "x": [
          "1 month",
          "3 months",
          "6 months",
          "9 months",
          "1 year",
          "2 years",
          "3 years",
          "4 years",
          "5 years",
          "6 years",
          "7 years",
          "8 years",
          "9 years",
          "10 years",
          "15 years",
          "20 years",
          "25 years",
          "30 years",
          "50 years"
         ],
         "xaxis": "x6",
         "y": [
          3.584,
          3.629,
          3.672,
          3.89,
          3.908,
          3.971,
          3.909,
          3.921,
          3.934,
          3.994,
          4.102,
          4.148,
          4.22,
          4.341,
          4.476,
          4.615,
          4.527,
          4.679,
          4.339
         ],
         "yaxis": "y6"
        },
        {
         "line": {
          "color": "#6a76f9",
          "dash": "dash"
         },
         "mode": "lines",
         "name": "1mo ago",
         "showlegend": false,
         "type": "scatter",
         "x": [
          "1 month",
          "3 months",
          "6 months",
          "9 months",
          "1 year",
          "2 years",
          "3 years",
          "4 years",
          "5 years",
          "6 years",
          "7 years",
          "8 years",
          "9 years",
          "10 years",
          "15 years",
          "20 years",
          "25 years",
          "30 years",
          "50 years"
         ],
         "xaxis": "x6",
         "y": [
          3.15,
          3.24,
          3.5260000000000002,
          3.5380000000000003,
          3.559,
          3.475,
          3.449,
          3.5359999999999996,
          3.555,
          3.6790000000000003,
          3.9370000000000003,
          3.913,
          4.011,
          4.1530000000000005,
          4.375,
          4.569,
          4.496,
          4.453,
          4.29
         ],
         "yaxis": "y6"
        },
        {
         "line": {
          "color": "#00cc96",
          "dash": "dash"
         },
         "mode": "lines",
         "name": "6mo ago",
         "showlegend": false,
         "type": "scatter",
         "x": [
          "1 month",
          "3 months",
          "6 months",
          "9 months",
          "1 year",
          "2 years",
          "3 years",
          "4 years",
          "5 years",
          "6 years",
          "7 years",
          "8 years",
          "9 years",
          "10 years",
          "15 years",
          "20 years",
          "25 years",
          "30 years",
          "50 years"
         ],
         "xaxis": "x6",
         "y": [
          1.8120000000000003,
          1.727,
          2.4050000000000002,
          2.758,
          3.036,
          3.064,
          3.231,
          3.3859999999999997,
          3.62,
          3.6820000000000004,
          3.8160000000000003,
          4.0409999999999995,
          4.1339999999999995,
          4.238,
          4.322,
          4.4430000000000005,
          4.372,
          4.268000000000001,
          4.096
         ],
         "yaxis": "y6"
        }
       ],
       "layout": {
        "annotations": [
         {
          "font": {
           "size": 16
          },
          "showarrow": false,
          "text": "United States",
          "x": 0.14444444444444446,
          "xanchor": "center",
          "xref": "paper",
          "y": 1,
          "yanchor": "bottom",
          "yref": "paper"
         },
         {
          "font": {
           "size": 16
          },
          "showarrow": false,
          "text": "China",
          "x": 0.5,
          "xanchor": "center",
          "xref": "paper",
          "y": 1,
          "yanchor": "bottom",
          "yref": "paper"
         },
         {
          "font": {
           "size": 16
          },
          "showarrow": false,
          "text": "United Kingdom",
          "x": 0.8555555555555556,
          "xanchor": "center",
          "xref": "paper",
          "y": 1,
          "yanchor": "bottom",
          "yref": "paper"
         },
         {
          "font": {
           "size": 16
          },
          "showarrow": false,
          "text": "Japan",
          "x": 0.14444444444444446,
          "xanchor": "center",
          "xref": "paper",
          "y": 0.375,
          "yanchor": "bottom",
          "yref": "paper"
         },
         {
          "font": {
           "size": 16
          },
          "showarrow": false,
          "text": "Germany",
          "x": 0.5,
          "xanchor": "center",
          "xref": "paper",
          "y": 0.375,
          "yanchor": "bottom",
          "yref": "paper"
         },
         {
          "font": {
           "size": 16
          },
          "showarrow": false,
          "text": "Italy",
          "x": 0.8555555555555556,
          "xanchor": "center",
          "xref": "paper",
          "y": 0.375,
          "yanchor": "bottom",
          "yref": "paper"
         }
        ],
        "height": 800,
        "legend": {
         "orientation": "h",
         "x": 0.75,
         "y": 1.125
        },
        "template": {
         "data": {
          "bar": [
           {
            "error_x": {
             "color": "#f2f5fa"
            },
            "error_y": {
             "color": "#f2f5fa"
            },
            "marker": {
             "line": {
              "color": "rgb(17,17,17)",
              "width": 0.5
             },
             "pattern": {
              "fillmode": "overlay",
              "size": 10,
              "solidity": 0.2
             }
            },
            "type": "bar"
           }
          ],
          "barpolar": [
           {
            "marker": {
             "line": {
              "color": "rgb(17,17,17)",
              "width": 0.5
             },
             "pattern": {
              "fillmode": "overlay",
              "size": 10,
              "solidity": 0.2
             }
            },
            "type": "barpolar"
           }
          ],
          "carpet": [
           {
            "aaxis": {
             "endlinecolor": "#A2B1C6",
             "gridcolor": "#506784",
             "linecolor": "#506784",
             "minorgridcolor": "#506784",
             "startlinecolor": "#A2B1C6"
            },
            "baxis": {
             "endlinecolor": "#A2B1C6",
             "gridcolor": "#506784",
             "linecolor": "#506784",
             "minorgridcolor": "#506784",
             "startlinecolor": "#A2B1C6"
            },
            "type": "carpet"
           }
          ],
          "choropleth": [
           {
            "colorbar": {
             "outlinewidth": 0,
             "ticks": ""
            },
            "type": "choropleth"
           }
          ],
          "contour": [
           {
            "colorbar": {
             "outlinewidth": 0,
             "ticks": ""
            },
            "colorscale": [
             [
              0,
              "#0d0887"
             ],
             [
              0.1111111111111111,
              "#46039f"
             ],
             [
              0.2222222222222222,
              "#7201a8"
             ],
             [
              0.3333333333333333,
              "#9c179e"
             ],
             [
              0.4444444444444444,
              "#bd3786"
             ],
             [
              0.5555555555555556,
              "#d8576b"
             ],
             [
              0.6666666666666666,
              "#ed7953"
             ],
             [
              0.7777777777777778,
              "#fb9f3a"
             ],
             [
              0.8888888888888888,
              "#fdca26"
             ],
             [
              1,
              "#f0f921"
             ]
            ],
            "type": "contour"
           }
          ],
          "contourcarpet": [
           {
            "colorbar": {
             "outlinewidth": 0,
             "ticks": ""
            },
            "type": "contourcarpet"
           }
          ],
          "heatmap": [
           {
            "colorbar": {
             "outlinewidth": 0,
             "ticks": ""
            },
            "colorscale": [
             [
              0,
              "#0d0887"
             ],
             [
              0.1111111111111111,
              "#46039f"
             ],
             [
              0.2222222222222222,
              "#7201a8"
             ],
             [
              0.3333333333333333,
              "#9c179e"
             ],
             [
              0.4444444444444444,
              "#bd3786"
             ],
             [
              0.5555555555555556,
              "#d8576b"
             ],
             [
              0.6666666666666666,
              "#ed7953"
             ],
             [
              0.7777777777777778,
              "#fb9f3a"
             ],
             [
              0.8888888888888888,
              "#fdca26"
             ],
             [
              1,
              "#f0f921"
             ]
            ],
            "type": "heatmap"
           }
          ],
          "heatmapgl": [
           {
            "colorbar": {
             "outlinewidth": 0,
             "ticks": ""
            },
            "colorscale": [
             [
              0,
              "#0d0887"
             ],
             [
              0.1111111111111111,
              "#46039f"
             ],
             [
              0.2222222222222222,
              "#7201a8"
             ],
             [
              0.3333333333333333,
              "#9c179e"
             ],
             [
              0.4444444444444444,
              "#bd3786"
             ],
             [
              0.5555555555555556,
              "#d8576b"
             ],
             [
              0.6666666666666666,
              "#ed7953"
             ],
             [
              0.7777777777777778,
              "#fb9f3a"
             ],
             [
              0.8888888888888888,
              "#fdca26"
             ],
             [
              1,
              "#f0f921"
             ]
            ],
            "type": "heatmapgl"
           }
          ],
          "histogram": [
           {
            "marker": {
             "pattern": {
              "fillmode": "overlay",
              "size": 10,
              "solidity": 0.2
             }
            },
            "type": "histogram"
           }
          ],
          "histogram2d": [
           {
            "colorbar": {
             "outlinewidth": 0,
             "ticks": ""
            },
            "colorscale": [
             [
              0,
              "#0d0887"
             ],
             [
              0.1111111111111111,
              "#46039f"
             ],
             [
              0.2222222222222222,
              "#7201a8"
             ],
             [
              0.3333333333333333,
              "#9c179e"
             ],
             [
              0.4444444444444444,
              "#bd3786"
             ],
             [
              0.5555555555555556,
              "#d8576b"
             ],
             [
              0.6666666666666666,
              "#ed7953"
             ],
             [
              0.7777777777777778,
              "#fb9f3a"
             ],
             [
              0.8888888888888888,
              "#fdca26"
             ],
             [
              1,
              "#f0f921"
             ]
            ],
            "type": "histogram2d"
           }
          ],
          "histogram2dcontour": [
           {
            "colorbar": {
             "outlinewidth": 0,
             "ticks": ""
            },
            "colorscale": [
             [
              0,
              "#0d0887"
             ],
             [
              0.1111111111111111,
              "#46039f"
             ],
             [
              0.2222222222222222,
              "#7201a8"
             ],
             [
              0.3333333333333333,
              "#9c179e"
             ],
             [
              0.4444444444444444,
              "#bd3786"
             ],
             [
              0.5555555555555556,
              "#d8576b"
             ],
             [
              0.6666666666666666,
              "#ed7953"
             ],
             [
              0.7777777777777778,
              "#fb9f3a"
             ],
             [
              0.8888888888888888,
              "#fdca26"
             ],
             [
              1,
              "#f0f921"
             ]
            ],
            "type": "histogram2dcontour"
           }
          ],
          "mesh3d": [
           {
            "colorbar": {
             "outlinewidth": 0,
             "ticks": ""
            },
            "type": "mesh3d"
           }
          ],
          "parcoords": [
           {
            "line": {
             "colorbar": {
              "outlinewidth": 0,
              "ticks": ""
             }
            },
            "type": "parcoords"
           }
          ],
          "pie": [
           {
            "automargin": true,
            "type": "pie"
           }
          ],
          "scatter": [
           {
            "marker": {
             "line": {
              "color": "#283442"
             }
            },
            "type": "scatter"
           }
          ],
          "scatter3d": [
           {
            "line": {
             "colorbar": {
              "outlinewidth": 0,
              "ticks": ""
             }
            },
            "marker": {
             "colorbar": {
              "outlinewidth": 0,
              "ticks": ""
             }
            },
            "type": "scatter3d"
           }
          ],
          "scattercarpet": [
           {
            "marker": {
             "colorbar": {
              "outlinewidth": 0,
              "ticks": ""
             }
            },
            "type": "scattercarpet"
           }
          ],
          "scattergeo": [
           {
            "marker": {
             "colorbar": {
              "outlinewidth": 0,
              "ticks": ""
             }
            },
            "type": "scattergeo"
           }
          ],
          "scattergl": [
           {
            "marker": {
             "line": {
              "color": "#283442"
             }
            },
            "type": "scattergl"
           }
          ],
          "scattermapbox": [
           {
            "marker": {
             "colorbar": {
              "outlinewidth": 0,
              "ticks": ""
             }
            },
            "type": "scattermapbox"
           }
          ],
          "scatterpolar": [
           {
            "marker": {
             "colorbar": {
              "outlinewidth": 0,
              "ticks": ""
             }
            },
            "type": "scatterpolar"
           }
          ],
          "scatterpolargl": [
           {
            "marker": {
             "colorbar": {
              "outlinewidth": 0,
              "ticks": ""
             }
            },
            "type": "scatterpolargl"
           }
          ],
          "scatterternary": [
           {
            "marker": {
             "colorbar": {
              "outlinewidth": 0,
              "ticks": ""
             }
            },
            "type": "scatterternary"
           }
          ],
          "surface": [
           {
            "colorbar": {
             "outlinewidth": 0,
             "ticks": ""
            },
            "colorscale": [
             [
              0,
              "#0d0887"
             ],
             [
              0.1111111111111111,
              "#46039f"
             ],
             [
              0.2222222222222222,
              "#7201a8"
             ],
             [
              0.3333333333333333,
              "#9c179e"
             ],
             [
              0.4444444444444444,
              "#bd3786"
             ],
             [
              0.5555555555555556,
              "#d8576b"
             ],
             [
              0.6666666666666666,
              "#ed7953"
             ],
             [
              0.7777777777777778,
              "#fb9f3a"
             ],
             [
              0.8888888888888888,
              "#fdca26"
             ],
             [
              1,
              "#f0f921"
             ]
            ],
            "type": "surface"
           }
          ],
          "table": [
           {
            "cells": {
             "fill": {
              "color": "#506784"
             },
             "line": {
              "color": "rgb(17,17,17)"
             }
            },
            "header": {
             "fill": {
              "color": "#2a3f5f"
             },
             "line": {
              "color": "rgb(17,17,17)"
             }
            },
            "type": "table"
           }
          ]
         },
         "layout": {
          "annotationdefaults": {
           "arrowcolor": "#f2f5fa",
           "arrowhead": 0,
           "arrowwidth": 1
          },
          "autotypenumbers": "strict",
          "coloraxis": {
           "colorbar": {
            "outlinewidth": 0,
            "ticks": ""
           }
          },
          "colorscale": {
           "diverging": [
            [
             0,
             "#8e0152"
            ],
            [
             0.1,
             "#c51b7d"
            ],
            [
             0.2,
             "#de77ae"
            ],
            [
             0.3,
             "#f1b6da"
            ],
            [
             0.4,
             "#fde0ef"
            ],
            [
             0.5,
             "#f7f7f7"
            ],
            [
             0.6,
             "#e6f5d0"
            ],
            [
             0.7,
             "#b8e186"
            ],
            [
             0.8,
             "#7fbc41"
            ],
            [
             0.9,
             "#4d9221"
            ],
            [
             1,
             "#276419"
            ]
           ],
           "sequential": [
            [
             0,
             "#0d0887"
            ],
            [
             0.1111111111111111,
             "#46039f"
            ],
            [
             0.2222222222222222,
             "#7201a8"
            ],
            [
             0.3333333333333333,
             "#9c179e"
            ],
            [
             0.4444444444444444,
             "#bd3786"
            ],
            [
             0.5555555555555556,
             "#d8576b"
            ],
            [
             0.6666666666666666,
             "#ed7953"
            ],
            [
             0.7777777777777778,
             "#fb9f3a"
            ],
            [
             0.8888888888888888,
             "#fdca26"
            ],
            [
             1,
             "#f0f921"
            ]
           ],
           "sequentialminus": [
            [
             0,
             "#0d0887"
            ],
            [
             0.1111111111111111,
             "#46039f"
            ],
            [
             0.2222222222222222,
             "#7201a8"
            ],
            [
             0.3333333333333333,
             "#9c179e"
            ],
            [
             0.4444444444444444,
             "#bd3786"
            ],
            [
             0.5555555555555556,
             "#d8576b"
            ],
            [
             0.6666666666666666,
             "#ed7953"
            ],
            [
             0.7777777777777778,
             "#fb9f3a"
            ],
            [
             0.8888888888888888,
             "#fdca26"
            ],
            [
             1,
             "#f0f921"
            ]
           ]
          },
          "colorway": [
           "#636efa",
           "#EF553B",
           "#00cc96",
           "#ab63fa",
           "#FFA15A",
           "#19d3f3",
           "#FF6692",
           "#B6E880",
           "#FF97FF",
           "#FECB52"
          ],
          "font": {
           "color": "#f2f5fa"
          },
          "geo": {
           "bgcolor": "rgb(17,17,17)",
           "lakecolor": "rgb(17,17,17)",
           "landcolor": "rgb(17,17,17)",
           "showlakes": true,
           "showland": true,
           "subunitcolor": "#506784"
          },
          "hoverlabel": {
           "align": "left"
          },
          "hovermode": "closest",
          "mapbox": {
           "style": "dark"
          },
          "paper_bgcolor": "rgb(17,17,17)",
          "plot_bgcolor": "rgb(17,17,17)",
          "polar": {
           "angularaxis": {
            "gridcolor": "#506784",
            "linecolor": "#506784",
            "ticks": ""
           },
           "bgcolor": "rgb(17,17,17)",
           "radialaxis": {
            "gridcolor": "#506784",
            "linecolor": "#506784",
            "ticks": ""
           }
          },
          "scene": {
           "xaxis": {
            "backgroundcolor": "rgb(17,17,17)",
            "gridcolor": "#506784",
            "gridwidth": 2,
            "linecolor": "#506784",
            "showbackground": true,
            "ticks": "",
            "zerolinecolor": "#C8D4E3"
           },
           "yaxis": {
            "backgroundcolor": "rgb(17,17,17)",
            "gridcolor": "#506784",
            "gridwidth": 2,
            "linecolor": "#506784",
            "showbackground": true,
            "ticks": "",
            "zerolinecolor": "#C8D4E3"
           },
           "zaxis": {
            "backgroundcolor": "rgb(17,17,17)",
            "gridcolor": "#506784",
            "gridwidth": 2,
            "linecolor": "#506784",
            "showbackground": true,
            "ticks": "",
            "zerolinecolor": "#C8D4E3"
           }
          },
          "shapedefaults": {
           "line": {
            "color": "#f2f5fa"
           }
          },
          "sliderdefaults": {
           "bgcolor": "#C8D4E3",
           "bordercolor": "rgb(17,17,17)",
           "borderwidth": 1,
           "tickwidth": 0
          },
          "ternary": {
           "aaxis": {
            "gridcolor": "#506784",
            "linecolor": "#506784",
            "ticks": ""
           },
           "baxis": {
            "gridcolor": "#506784",
            "linecolor": "#506784",
            "ticks": ""
           },
           "bgcolor": "rgb(17,17,17)",
           "caxis": {
            "gridcolor": "#506784",
            "linecolor": "#506784",
            "ticks": ""
           }
          },
          "title": {
           "x": 0.05
          },
          "updatemenudefaults": {
           "bgcolor": "#506784",
           "borderwidth": 0
          },
          "xaxis": {
           "automargin": true,
           "gridcolor": "#283442",
           "linecolor": "#506784",
           "ticks": "",
           "title": {
            "standoff": 15
           },
           "zerolinecolor": "#283442",
           "zerolinewidth": 2
          },
          "yaxis": {
           "automargin": true,
           "gridcolor": "#283442",
           "linecolor": "#506784",
           "ticks": "",
           "title": {
            "standoff": 15
           },
           "zerolinecolor": "#283442",
           "zerolinewidth": 2
          }
         }
        },
        "title": {
         "text": "<b>Yield Curves over the last 6 months</b>"
        },
        "xaxis": {
         "anchor": "y",
         "domain": [
          0,
          0.2888888888888889
         ],
         "tickangle": 90
        },
        "xaxis2": {
         "anchor": "y2",
         "domain": [
          0.35555555555555557,
          0.6444444444444445
         ]
        },
        "xaxis3": {
         "anchor": "y3",
         "domain": [
          0.7111111111111111,
          1
         ]
        },
        "xaxis4": {
         "anchor": "y4",
         "domain": [
          0,
          0.2888888888888889
         ]
        },
        "xaxis5": {
         "anchor": "y5",
         "domain": [
          0.35555555555555557,
          0.6444444444444445
         ]
        },
        "xaxis6": {
         "anchor": "y6",
         "domain": [
          0.7111111111111111,
          1
         ]
        },
        "yaxis": {
         "anchor": "x",
         "domain": [
          0.625,
          1
         ],
         "title": {
          "text": ""
         }
        },
        "yaxis2": {
         "anchor": "x2",
         "domain": [
          0.625,
          1
         ]
        },
        "yaxis3": {
         "anchor": "x3",
         "domain": [
          0.625,
          1
         ]
        },
        "yaxis4": {
         "anchor": "x4",
         "domain": [
          0,
          0.375
         ]
        },
        "yaxis5": {
         "anchor": "x5",
         "domain": [
          0,
          0.375
         ]
        },
        "yaxis6": {
         "anchor": "x6",
         "domain": [
          0,
          0.375
         ]
        }
       }
      }
     },
     "metadata": {},
     "output_type": "display_data"
    },
    {
     "data": {
      "application/vnd.plotly.v1+json": {
       "config": {
        "plotlyServerURL": "https://plot.ly"
       },
       "data": [
        {
         "line": {
          "color": "#ef553b",
          "width": 2
         },
         "mode": "lines+markers",
         "name": "Last",
         "type": "scatter",
         "x": [
          "1 month",
          "3 months",
          "6 months",
          "9 months",
          "1 year",
          "2 years",
          "3 years",
          "4 years",
          "5 years",
          "6 years",
          "7 years",
          "8 years",
          "9 years",
          "10 years",
          "15 years",
          "20 years",
          "25 years",
          "30 years",
          "50 years"
         ],
         "y": [
          0.3420000000000001,
          0.24400000000000022,
          0.07299999999999995,
          0.22999999999999998,
          0.2469999999999999,
          0.613,
          0.8169999999999997,
          1.0339999999999998,
          1.1480000000000001,
          1.318,
          1.4700000000000002,
          1.5529999999999995,
          1.6359999999999997,
          1.7150000000000003,
          1.778,
          1.9180000000000001,
          1.928,
          2.08,
          null
         ]
        },
        {
         "line": {
          "color": "#6a76f9",
          "dash": "dash"
         },
         "mode": "lines",
         "name": "1mo ago",
         "type": "scatter",
         "x": [
          "1 month",
          "3 months",
          "6 months",
          "9 months",
          "1 year",
          "2 years",
          "3 years",
          "4 years",
          "5 years",
          "6 years",
          "7 years",
          "8 years",
          "9 years",
          "10 years",
          "15 years",
          "20 years",
          "25 years",
          "30 years",
          "50 years"
         ],
         "y": [
          0.19199999999999973,
          0.17900000000000027,
          0.2650000000000001,
          0.20500000000000007,
          0.24300000000000033,
          0.5840000000000001,
          0.7949999999999999,
          1.0889999999999995,
          1.1840000000000002,
          1.3600000000000003,
          1.6460000000000004,
          1.6269999999999998,
          1.7229999999999999,
          1.7860000000000005,
          1.8210000000000002,
          1.996,
          1.9930000000000003,
          1.9220000000000002,
          null
         ]
        },
        {
         "line": {
          "color": "#00cc96",
          "dash": "dash"
         },
         "mode": "lines",
         "name": "6mo ago",
         "type": "scatter",
         "x": [
          "1 month",
          "3 months",
          "6 months",
          "9 months",
          "1 year",
          "2 years",
          "3 years",
          "4 years",
          "5 years",
          "6 years",
          "7 years",
          "8 years",
          "9 years",
          "10 years",
          "15 years",
          "20 years",
          "25 years",
          "30 years",
          "50 years"
         ],
         "y": [
          0.024000000000000243,
          -0.385,
          -0.029999999999999805,
          0.17499999999999982,
          0.2789999999999999,
          0.5150000000000001,
          0.7829999999999999,
          1.0909999999999997,
          1.3970000000000002,
          1.471,
          1.6300000000000003,
          1.8889999999999993,
          1.9839999999999995,
          2.0430000000000006,
          2.033,
          2.2150000000000003,
          2.2139999999999995,
          2.2050000000000005,
          null
         ]
        }
       ],
       "layout": {
        "height": 500,
        "template": {
         "data": {
          "bar": [
           {
            "error_x": {
             "color": "#f2f5fa"
            },
            "error_y": {
             "color": "#f2f5fa"
            },
            "marker": {
             "line": {
              "color": "rgb(17,17,17)",
              "width": 0.5
             },
             "pattern": {
              "fillmode": "overlay",
              "size": 10,
              "solidity": 0.2
             }
            },
            "type": "bar"
           }
          ],
          "barpolar": [
           {
            "marker": {
             "line": {
              "color": "rgb(17,17,17)",
              "width": 0.5
             },
             "pattern": {
              "fillmode": "overlay",
              "size": 10,
              "solidity": 0.2
             }
            },
            "type": "barpolar"
           }
          ],
          "carpet": [
           {
            "aaxis": {
             "endlinecolor": "#A2B1C6",
             "gridcolor": "#506784",
             "linecolor": "#506784",
             "minorgridcolor": "#506784",
             "startlinecolor": "#A2B1C6"
            },
            "baxis": {
             "endlinecolor": "#A2B1C6",
             "gridcolor": "#506784",
             "linecolor": "#506784",
             "minorgridcolor": "#506784",
             "startlinecolor": "#A2B1C6"
            },
            "type": "carpet"
           }
          ],
          "choropleth": [
           {
            "colorbar": {
             "outlinewidth": 0,
             "ticks": ""
            },
            "type": "choropleth"
           }
          ],
          "contour": [
           {
            "colorbar": {
             "outlinewidth": 0,
             "ticks": ""
            },
            "colorscale": [
             [
              0,
              "#0d0887"
             ],
             [
              0.1111111111111111,
              "#46039f"
             ],
             [
              0.2222222222222222,
              "#7201a8"
             ],
             [
              0.3333333333333333,
              "#9c179e"
             ],
             [
              0.4444444444444444,
              "#bd3786"
             ],
             [
              0.5555555555555556,
              "#d8576b"
             ],
             [
              0.6666666666666666,
              "#ed7953"
             ],
             [
              0.7777777777777778,
              "#fb9f3a"
             ],
             [
              0.8888888888888888,
              "#fdca26"
             ],
             [
              1,
              "#f0f921"
             ]
            ],
            "type": "contour"
           }
          ],
          "contourcarpet": [
           {
            "colorbar": {
             "outlinewidth": 0,
             "ticks": ""
            },
            "type": "contourcarpet"
           }
          ],
          "heatmap": [
           {
            "colorbar": {
             "outlinewidth": 0,
             "ticks": ""
            },
            "colorscale": [
             [
              0,
              "#0d0887"
             ],
             [
              0.1111111111111111,
              "#46039f"
             ],
             [
              0.2222222222222222,
              "#7201a8"
             ],
             [
              0.3333333333333333,
              "#9c179e"
             ],
             [
              0.4444444444444444,
              "#bd3786"
             ],
             [
              0.5555555555555556,
              "#d8576b"
             ],
             [
              0.6666666666666666,
              "#ed7953"
             ],
             [
              0.7777777777777778,
              "#fb9f3a"
             ],
             [
              0.8888888888888888,
              "#fdca26"
             ],
             [
              1,
              "#f0f921"
             ]
            ],
            "type": "heatmap"
           }
          ],
          "heatmapgl": [
           {
            "colorbar": {
             "outlinewidth": 0,
             "ticks": ""
            },
            "colorscale": [
             [
              0,
              "#0d0887"
             ],
             [
              0.1111111111111111,
              "#46039f"
             ],
             [
              0.2222222222222222,
              "#7201a8"
             ],
             [
              0.3333333333333333,
              "#9c179e"
             ],
             [
              0.4444444444444444,
              "#bd3786"
             ],
             [
              0.5555555555555556,
              "#d8576b"
             ],
             [
              0.6666666666666666,
              "#ed7953"
             ],
             [
              0.7777777777777778,
              "#fb9f3a"
             ],
             [
              0.8888888888888888,
              "#fdca26"
             ],
             [
              1,
              "#f0f921"
             ]
            ],
            "type": "heatmapgl"
           }
          ],
          "histogram": [
           {
            "marker": {
             "pattern": {
              "fillmode": "overlay",
              "size": 10,
              "solidity": 0.2
             }
            },
            "type": "histogram"
           }
          ],
          "histogram2d": [
           {
            "colorbar": {
             "outlinewidth": 0,
             "ticks": ""
            },
            "colorscale": [
             [
              0,
              "#0d0887"
             ],
             [
              0.1111111111111111,
              "#46039f"
             ],
             [
              0.2222222222222222,
              "#7201a8"
             ],
             [
              0.3333333333333333,
              "#9c179e"
             ],
             [
              0.4444444444444444,
              "#bd3786"
             ],
             [
              0.5555555555555556,
              "#d8576b"
             ],
             [
              0.6666666666666666,
              "#ed7953"
             ],
             [
              0.7777777777777778,
              "#fb9f3a"
             ],
             [
              0.8888888888888888,
              "#fdca26"
             ],
             [
              1,
              "#f0f921"
             ]
            ],
            "type": "histogram2d"
           }
          ],
          "histogram2dcontour": [
           {
            "colorbar": {
             "outlinewidth": 0,
             "ticks": ""
            },
            "colorscale": [
             [
              0,
              "#0d0887"
             ],
             [
              0.1111111111111111,
              "#46039f"
             ],
             [
              0.2222222222222222,
              "#7201a8"
             ],
             [
              0.3333333333333333,
              "#9c179e"
             ],
             [
              0.4444444444444444,
              "#bd3786"
             ],
             [
              0.5555555555555556,
              "#d8576b"
             ],
             [
              0.6666666666666666,
              "#ed7953"
             ],
             [
              0.7777777777777778,
              "#fb9f3a"
             ],
             [
              0.8888888888888888,
              "#fdca26"
             ],
             [
              1,
              "#f0f921"
             ]
            ],
            "type": "histogram2dcontour"
           }
          ],
          "mesh3d": [
           {
            "colorbar": {
             "outlinewidth": 0,
             "ticks": ""
            },
            "type": "mesh3d"
           }
          ],
          "parcoords": [
           {
            "line": {
             "colorbar": {
              "outlinewidth": 0,
              "ticks": ""
             }
            },
            "type": "parcoords"
           }
          ],
          "pie": [
           {
            "automargin": true,
            "type": "pie"
           }
          ],
          "scatter": [
           {
            "marker": {
             "line": {
              "color": "#283442"
             }
            },
            "type": "scatter"
           }
          ],
          "scatter3d": [
           {
            "line": {
             "colorbar": {
              "outlinewidth": 0,
              "ticks": ""
             }
            },
            "marker": {
             "colorbar": {
              "outlinewidth": 0,
              "ticks": ""
             }
            },
            "type": "scatter3d"
           }
          ],
          "scattercarpet": [
           {
            "marker": {
             "colorbar": {
              "outlinewidth": 0,
              "ticks": ""
             }
            },
            "type": "scattercarpet"
           }
          ],
          "scattergeo": [
           {
            "marker": {
             "colorbar": {
              "outlinewidth": 0,
              "ticks": ""
             }
            },
            "type": "scattergeo"
           }
          ],
          "scattergl": [
           {
            "marker": {
             "line": {
              "color": "#283442"
             }
            },
            "type": "scattergl"
           }
          ],
          "scattermapbox": [
           {
            "marker": {
             "colorbar": {
              "outlinewidth": 0,
              "ticks": ""
             }
            },
            "type": "scattermapbox"
           }
          ],
          "scatterpolar": [
           {
            "marker": {
             "colorbar": {
              "outlinewidth": 0,
              "ticks": ""
             }
            },
            "type": "scatterpolar"
           }
          ],
          "scatterpolargl": [
           {
            "marker": {
             "colorbar": {
              "outlinewidth": 0,
              "ticks": ""
             }
            },
            "type": "scatterpolargl"
           }
          ],
          "scatterternary": [
           {
            "marker": {
             "colorbar": {
              "outlinewidth": 0,
              "ticks": ""
             }
            },
            "type": "scatterternary"
           }
          ],
          "surface": [
           {
            "colorbar": {
             "outlinewidth": 0,
             "ticks": ""
            },
            "colorscale": [
             [
              0,
              "#0d0887"
             ],
             [
              0.1111111111111111,
              "#46039f"
             ],
             [
              0.2222222222222222,
              "#7201a8"
             ],
             [
              0.3333333333333333,
              "#9c179e"
             ],
             [
              0.4444444444444444,
              "#bd3786"
             ],
             [
              0.5555555555555556,
              "#d8576b"
             ],
             [
              0.6666666666666666,
              "#ed7953"
             ],
             [
              0.7777777777777778,
              "#fb9f3a"
             ],
             [
              0.8888888888888888,
              "#fdca26"
             ],
             [
              1,
              "#f0f921"
             ]
            ],
            "type": "surface"
           }
          ],
          "table": [
           {
            "cells": {
             "fill": {
              "color": "#506784"
             },
             "line": {
              "color": "rgb(17,17,17)"
             }
            },
            "header": {
             "fill": {
              "color": "#2a3f5f"
             },
             "line": {
              "color": "rgb(17,17,17)"
             }
            },
            "type": "table"
           }
          ]
         },
         "layout": {
          "annotationdefaults": {
           "arrowcolor": "#f2f5fa",
           "arrowhead": 0,
           "arrowwidth": 1
          },
          "autotypenumbers": "strict",
          "coloraxis": {
           "colorbar": {
            "outlinewidth": 0,
            "ticks": ""
           }
          },
          "colorscale": {
           "diverging": [
            [
             0,
             "#8e0152"
            ],
            [
             0.1,
             "#c51b7d"
            ],
            [
             0.2,
             "#de77ae"
            ],
            [
             0.3,
             "#f1b6da"
            ],
            [
             0.4,
             "#fde0ef"
            ],
            [
             0.5,
             "#f7f7f7"
            ],
            [
             0.6,
             "#e6f5d0"
            ],
            [
             0.7,
             "#b8e186"
            ],
            [
             0.8,
             "#7fbc41"
            ],
            [
             0.9,
             "#4d9221"
            ],
            [
             1,
             "#276419"
            ]
           ],
           "sequential": [
            [
             0,
             "#0d0887"
            ],
            [
             0.1111111111111111,
             "#46039f"
            ],
            [
             0.2222222222222222,
             "#7201a8"
            ],
            [
             0.3333333333333333,
             "#9c179e"
            ],
            [
             0.4444444444444444,
             "#bd3786"
            ],
            [
             0.5555555555555556,
             "#d8576b"
            ],
            [
             0.6666666666666666,
             "#ed7953"
            ],
            [
             0.7777777777777778,
             "#fb9f3a"
            ],
            [
             0.8888888888888888,
             "#fdca26"
            ],
            [
             1,
             "#f0f921"
            ]
           ],
           "sequentialminus": [
            [
             0,
             "#0d0887"
            ],
            [
             0.1111111111111111,
             "#46039f"
            ],
            [
             0.2222222222222222,
             "#7201a8"
            ],
            [
             0.3333333333333333,
             "#9c179e"
            ],
            [
             0.4444444444444444,
             "#bd3786"
            ],
            [
             0.5555555555555556,
             "#d8576b"
            ],
            [
             0.6666666666666666,
             "#ed7953"
            ],
            [
             0.7777777777777778,
             "#fb9f3a"
            ],
            [
             0.8888888888888888,
             "#fdca26"
            ],
            [
             1,
             "#f0f921"
            ]
           ]
          },
          "colorway": [
           "#636efa",
           "#EF553B",
           "#00cc96",
           "#ab63fa",
           "#FFA15A",
           "#19d3f3",
           "#FF6692",
           "#B6E880",
           "#FF97FF",
           "#FECB52"
          ],
          "font": {
           "color": "#f2f5fa"
          },
          "geo": {
           "bgcolor": "rgb(17,17,17)",
           "lakecolor": "rgb(17,17,17)",
           "landcolor": "rgb(17,17,17)",
           "showlakes": true,
           "showland": true,
           "subunitcolor": "#506784"
          },
          "hoverlabel": {
           "align": "left"
          },
          "hovermode": "closest",
          "mapbox": {
           "style": "dark"
          },
          "paper_bgcolor": "rgb(17,17,17)",
          "plot_bgcolor": "rgb(17,17,17)",
          "polar": {
           "angularaxis": {
            "gridcolor": "#506784",
            "linecolor": "#506784",
            "ticks": ""
           },
           "bgcolor": "rgb(17,17,17)",
           "radialaxis": {
            "gridcolor": "#506784",
            "linecolor": "#506784",
            "ticks": ""
           }
          },
          "scene": {
           "xaxis": {
            "backgroundcolor": "rgb(17,17,17)",
            "gridcolor": "#506784",
            "gridwidth": 2,
            "linecolor": "#506784",
            "showbackground": true,
            "ticks": "",
            "zerolinecolor": "#C8D4E3"
           },
           "yaxis": {
            "backgroundcolor": "rgb(17,17,17)",
            "gridcolor": "#506784",
            "gridwidth": 2,
            "linecolor": "#506784",
            "showbackground": true,
            "ticks": "",
            "zerolinecolor": "#C8D4E3"
           },
           "zaxis": {
            "backgroundcolor": "rgb(17,17,17)",
            "gridcolor": "#506784",
            "gridwidth": 2,
            "linecolor": "#506784",
            "showbackground": true,
            "ticks": "",
            "zerolinecolor": "#C8D4E3"
           }
          },
          "shapedefaults": {
           "line": {
            "color": "#f2f5fa"
           }
          },
          "sliderdefaults": {
           "bgcolor": "#C8D4E3",
           "bordercolor": "rgb(17,17,17)",
           "borderwidth": 1,
           "tickwidth": 0
          },
          "ternary": {
           "aaxis": {
            "gridcolor": "#506784",
            "linecolor": "#506784",
            "ticks": ""
           },
           "baxis": {
            "gridcolor": "#506784",
            "linecolor": "#506784",
            "ticks": ""
           },
           "bgcolor": "rgb(17,17,17)",
           "caxis": {
            "gridcolor": "#506784",
            "linecolor": "#506784",
            "ticks": ""
           }
          },
          "title": {
           "x": 0.05
          },
          "updatemenudefaults": {
           "bgcolor": "#506784",
           "borderwidth": 0
          },
          "xaxis": {
           "automargin": true,
           "gridcolor": "#283442",
           "linecolor": "#506784",
           "ticks": "",
           "title": {
            "standoff": 15
           },
           "zerolinecolor": "#283442",
           "zerolinewidth": 2
          },
          "yaxis": {
           "automargin": true,
           "gridcolor": "#283442",
           "linecolor": "#506784",
           "ticks": "",
           "title": {
            "standoff": 15
           },
           "zerolinecolor": "#283442",
           "zerolinewidth": 2
          }
         }
        },
        "title": {
         "text": "<b>Spread between Italian and German Yield Curves over the last 6 months</b>"
        },
        "yaxis": {
         "title": {
          "text": "$y_t^{\\text{IT}} - y_t^{\\text{DE}}$"
         }
        }
       }
      }
     },
     "metadata": {},
     "output_type": "display_data"
    },
    {
     "data": {
      "application/vnd.plotly.v1+json": {
       "config": {
        "plotlyServerURL": "https://plot.ly"
       },
       "data": [
        {
         "type": "scatter",
         "x": [
          "2023-01-06T00:00:00",
          "2023-01-09T00:00:00",
          "2023-01-10T00:00:00",
          "2023-01-11T00:00:00",
          "2023-01-12T00:00:00",
          "2023-01-13T00:00:00",
          "2023-01-16T00:00:00",
          "2023-01-17T00:00:00",
          "2023-01-18T00:00:00",
          "2023-01-19T00:00:00",
          "2023-01-20T00:00:00",
          "2023-01-23T00:00:00",
          "2023-01-24T00:00:00",
          "2023-01-25T00:00:00",
          "2023-01-26T00:00:00",
          "2023-01-27T00:00:00",
          "2023-01-30T00:00:00",
          "2023-01-31T00:00:00",
          "2023-02-01T00:00:00",
          "2023-02-02T00:00:00",
          "2023-02-03T00:00:00",
          "2023-02-06T00:00:00",
          "2023-02-07T00:00:00",
          "2023-02-08T00:00:00",
          "2023-02-09T00:00:00",
          "2023-02-10T00:00:00",
          "2023-02-13T00:00:00",
          "2023-02-14T00:00:00",
          "2023-02-15T00:00:00",
          "2023-02-16T00:00:00",
          "2023-02-17T00:00:00",
          "2023-02-20T00:00:00",
          "2023-02-21T00:00:00",
          "2023-02-22T00:00:00",
          "2023-02-23T00:00:00",
          "2023-02-24T00:00:00",
          "2023-02-27T00:00:00",
          "2023-02-28T00:00:00",
          "2023-03-01T00:00:00",
          "2023-03-02T00:00:00",
          "2023-03-03T00:00:00",
          "2023-03-06T00:00:00",
          "2023-03-07T00:00:00",
          "2023-03-08T00:00:00",
          "2023-03-09T00:00:00",
          "2023-03-10T00:00:00",
          "2023-03-13T00:00:00",
          "2023-03-14T00:00:00",
          "2023-03-15T00:00:00",
          "2023-03-16T00:00:00",
          "2023-03-17T00:00:00",
          "2023-03-20T00:00:00",
          "2023-03-21T00:00:00",
          "2023-03-22T00:00:00",
          "2023-03-23T00:00:00",
          "2023-03-24T00:00:00",
          "2023-03-27T00:00:00",
          "2023-03-28T00:00:00",
          "2023-03-29T00:00:00",
          "2023-03-30T00:00:00",
          "2023-03-31T00:00:00",
          "2023-04-03T00:00:00",
          "2023-04-04T00:00:00",
          "2023-04-05T00:00:00",
          "2023-04-06T00:00:00",
          "2023-04-07T00:00:00",
          "2023-04-10T00:00:00",
          "2023-04-11T00:00:00",
          "2023-04-12T00:00:00",
          "2023-04-13T00:00:00",
          "2023-04-14T00:00:00",
          "2023-04-17T00:00:00",
          "2023-04-18T00:00:00",
          "2023-04-19T00:00:00",
          "2023-04-20T00:00:00",
          "2023-04-21T00:00:00",
          "2023-04-24T00:00:00",
          "2023-04-25T00:00:00",
          "2023-04-26T00:00:00",
          "2023-04-27T00:00:00",
          "2023-04-28T00:00:00",
          "2023-05-01T00:00:00",
          "2023-05-02T00:00:00",
          "2023-05-03T00:00:00",
          "2023-05-04T00:00:00",
          "2023-05-05T00:00:00",
          "2023-05-08T00:00:00",
          "2023-05-09T00:00:00",
          "2023-05-10T00:00:00",
          "2023-05-11T00:00:00",
          "2023-05-12T00:00:00",
          "2023-05-15T00:00:00",
          "2023-05-16T00:00:00",
          "2023-05-17T00:00:00",
          "2023-05-18T00:00:00",
          "2023-05-19T00:00:00",
          "2023-05-22T00:00:00",
          "2023-05-23T00:00:00",
          "2023-05-24T00:00:00",
          "2023-05-25T00:00:00",
          "2023-05-26T00:00:00",
          "2023-05-29T00:00:00",
          "2023-05-30T00:00:00",
          "2023-05-31T00:00:00",
          "2023-06-01T00:00:00",
          "2023-06-02T00:00:00",
          "2023-06-05T00:00:00",
          "2023-06-06T00:00:00",
          "2023-06-07T00:00:00",
          "2023-06-08T00:00:00",
          "2023-06-09T00:00:00",
          "2023-06-12T00:00:00",
          "2023-06-13T00:00:00",
          "2023-06-14T00:00:00",
          "2023-06-15T00:00:00",
          "2023-06-16T00:00:00",
          "2023-06-19T00:00:00",
          "2023-06-20T00:00:00",
          "2023-06-21T00:00:00",
          "2023-06-22T00:00:00",
          "2023-06-23T00:00:00",
          "2023-06-26T00:00:00",
          "2023-06-27T00:00:00",
          "2023-06-28T00:00:00",
          "2023-06-29T00:00:00",
          "2023-06-30T00:00:00",
          "2023-07-03T00:00:00",
          "2023-07-04T00:00:00",
          "2023-07-05T00:00:00",
          "2023-07-06T00:00:00"
         ],
         "xaxis": "x",
         "y": [
          null,
          25385,
          25365,
          25547,
          25734,
          25783,
          25901,
          25981,
          26052,
          25596,
          25776,
          25821,
          25884,
          25875,
          26218,
          26436,
          26336,
          26600,
          26704,
          27101,
          26951,
          27022,
          27119,
          27161,
          27504,
          27268,
          27439,
          27498,
          27534,
          27854,
          27751,
          27597,
          27409,
          27102,
          27278,
          26986,
          27444,
          27478,
          27315,
          27398,
          27825,
          27949,
          27762,
          27912,
          27711,
          27282,
          26184,
          26801,
          25566,
          25919,
          25495,
          25900,
          26554,
          26523,
          26482,
          25892,
          26207,
          26329,
          26739,
          27021,
          27114,
          27179,
          27027,
          26867,
          27214,
          27214,
          27214,
          27526,
          27629,
          27627,
          27872,
          27700,
          27891,
          27934,
          27627,
          27746,
          27537,
          27253,
          27108,
          27158,
          27077,
          27077,
          26630,
          26835,
          26670,
          27349,
          27426,
          27384,
          27265,
          27099,
          27347,
          27245,
          27199,
          27196,
          27236,
          27520,
          27311,
          27175,
          26525,
          26408,
          26713,
          26617,
          26576,
          26051,
          26576,
          27068,
          26857,
          27037,
          27056,
          27275,
          27162,
          27410,
          27566,
          27809,
          27732,
          27862,
          27754,
          27576,
          27609,
          27410,
          27210,
          27243,
          27401,
          27637,
          27928,
          28231,
          28447,
          28387,
          28220,
          27506.91015625
         ],
         "yaxis": "y"
        },
        {
         "type": "scatter",
         "x": [
          "2023-01-06T00:00:00",
          "2023-01-09T00:00:00",
          "2023-01-10T00:00:00",
          "2023-01-11T00:00:00",
          "2023-01-12T00:00:00",
          "2023-01-13T00:00:00",
          "2023-01-16T00:00:00",
          "2023-01-17T00:00:00",
          "2023-01-18T00:00:00",
          "2023-01-19T00:00:00",
          "2023-01-20T00:00:00",
          "2023-01-23T00:00:00",
          "2023-01-24T00:00:00",
          "2023-01-25T00:00:00",
          "2023-01-26T00:00:00",
          "2023-01-27T00:00:00",
          "2023-01-30T00:00:00",
          "2023-01-31T00:00:00",
          "2023-02-01T00:00:00",
          "2023-02-02T00:00:00",
          "2023-02-03T00:00:00",
          "2023-02-06T00:00:00",
          "2023-02-07T00:00:00",
          "2023-02-08T00:00:00",
          "2023-02-09T00:00:00",
          "2023-02-10T00:00:00",
          "2023-02-13T00:00:00",
          "2023-02-14T00:00:00",
          "2023-02-15T00:00:00",
          "2023-02-16T00:00:00",
          "2023-02-17T00:00:00",
          "2023-02-20T00:00:00",
          "2023-02-21T00:00:00",
          "2023-02-22T00:00:00",
          "2023-02-23T00:00:00",
          "2023-02-24T00:00:00",
          "2023-02-27T00:00:00",
          "2023-02-28T00:00:00",
          "2023-03-01T00:00:00",
          "2023-03-02T00:00:00",
          "2023-03-03T00:00:00",
          "2023-03-06T00:00:00",
          "2023-03-07T00:00:00",
          "2023-03-08T00:00:00",
          "2023-03-09T00:00:00",
          "2023-03-10T00:00:00",
          "2023-03-13T00:00:00",
          "2023-03-14T00:00:00",
          "2023-03-15T00:00:00",
          "2023-03-16T00:00:00",
          "2023-03-17T00:00:00",
          "2023-03-20T00:00:00",
          "2023-03-21T00:00:00",
          "2023-03-22T00:00:00",
          "2023-03-23T00:00:00",
          "2023-03-24T00:00:00",
          "2023-03-27T00:00:00",
          "2023-03-28T00:00:00",
          "2023-03-29T00:00:00",
          "2023-03-30T00:00:00",
          "2023-03-31T00:00:00",
          "2023-04-03T00:00:00",
          "2023-04-04T00:00:00",
          "2023-04-05T00:00:00",
          "2023-04-06T00:00:00",
          "2023-04-07T00:00:00",
          "2023-04-10T00:00:00",
          "2023-04-11T00:00:00",
          "2023-04-12T00:00:00",
          "2023-04-13T00:00:00",
          "2023-04-14T00:00:00",
          "2023-04-17T00:00:00",
          "2023-04-18T00:00:00",
          "2023-04-19T00:00:00",
          "2023-04-20T00:00:00",
          "2023-04-21T00:00:00",
          "2023-04-24T00:00:00",
          "2023-04-25T00:00:00",
          "2023-04-26T00:00:00",
          "2023-04-27T00:00:00",
          "2023-04-28T00:00:00",
          "2023-05-01T00:00:00",
          "2023-05-02T00:00:00",
          "2023-05-03T00:00:00",
          "2023-05-04T00:00:00",
          "2023-05-05T00:00:00",
          "2023-05-08T00:00:00",
          "2023-05-09T00:00:00",
          "2023-05-10T00:00:00",
          "2023-05-11T00:00:00",
          "2023-05-12T00:00:00",
          "2023-05-15T00:00:00",
          "2023-05-16T00:00:00",
          "2023-05-17T00:00:00",
          "2023-05-18T00:00:00",
          "2023-05-19T00:00:00",
          "2023-05-22T00:00:00",
          "2023-05-23T00:00:00",
          "2023-05-24T00:00:00",
          "2023-05-25T00:00:00",
          "2023-05-26T00:00:00",
          "2023-05-29T00:00:00",
          "2023-05-30T00:00:00",
          "2023-05-31T00:00:00",
          "2023-06-01T00:00:00",
          "2023-06-02T00:00:00",
          "2023-06-05T00:00:00",
          "2023-06-06T00:00:00",
          "2023-06-07T00:00:00",
          "2023-06-08T00:00:00",
          "2023-06-09T00:00:00",
          "2023-06-12T00:00:00",
          "2023-06-13T00:00:00",
          "2023-06-14T00:00:00",
          "2023-06-15T00:00:00",
          "2023-06-16T00:00:00",
          "2023-06-19T00:00:00",
          "2023-06-20T00:00:00",
          "2023-06-21T00:00:00",
          "2023-06-22T00:00:00",
          "2023-06-23T00:00:00",
          "2023-06-26T00:00:00",
          "2023-06-27T00:00:00",
          "2023-06-28T00:00:00",
          "2023-06-29T00:00:00",
          "2023-06-30T00:00:00",
          "2023-07-03T00:00:00",
          "2023-07-04T00:00:00",
          "2023-07-05T00:00:00",
          "2023-07-06T00:00:00"
         ],
         "xaxis": "x2",
         "y": [
          null,
          14792.830078125,
          14774.599609375,
          14947.91015625,
          15058.2998046875,
          15086.51953125,
          15134.0400390625,
          15187.0703125,
          15181.7998046875,
          14920.3603515625,
          15033.5595703125,
          15102.9501953125,
          15093.1103515625,
          15081.6396484375,
          15132.849609375,
          15150.0302734375,
          15126.080078125,
          15128.26953125,
          15180.740234375,
          15509.1904296875,
          15476.4296875,
          15345.91015625,
          15320.8798828125,
          15412.0498046875,
          15523.419921875,
          15307.98046875,
          15397.33984375,
          15380.5595703125,
          15506.33984375,
          15533.6396484375,
          15482,
          15477.5498046875,
          15397.6201171875,
          15399.8896484375,
          15475.6904296875,
          15209.740234375,
          15381.4296875,
          15365.1396484375,
          15305.01953125,
          15327.6396484375,
          15578.3896484375,
          15653.580078125,
          15559.5302734375,
          15631.8701171875,
          15633.2099609375,
          15427.9697265625,
          14959.4697265625,
          15232.830078125,
          14735.259765625,
          14967.099609375,
          14768.2001953125,
          14933.3798828125,
          15195.33984375,
          15216.1904296875,
          15210.3896484375,
          14957.23046875,
          15127.6796875,
          15142.01953125,
          15328.7802734375,
          15522.400390625,
          15628.83984375,
          15580.919921875,
          15603.4697265625,
          15520.169921875,
          15597.8896484375,
          15597.8896484375,
          15597.8896484375,
          15655.169921875,
          15703.599609375,
          15729.4599609375,
          15807.5,
          15789.5302734375,
          15882.669921875,
          15895.2001953125,
          15795.9697265625,
          15881.66015625,
          15863.9501953125,
          15872.1298828125,
          15795.73046875,
          15800.4501953125,
          15922.3798828125,
          15922.3798828125,
          15726.9404296875,
          15815.0595703125,
          15734.240234375,
          15961.01953125,
          15952.830078125,
          15955.48046875,
          15896.23046875,
          15834.91015625,
          15913.8203125,
          15917.240234375,
          15897.9296875,
          15951.2998046875,
          16163.3603515625,
          16275.3798828125,
          16223.990234375,
          16152.8603515625,
          15842.1298828125,
          15793.7998046875,
          15983.9697265625,
          15952.73046875,
          15908.91015625,
          15664.01953125,
          15853.66015625,
          16051.23046875,
          15963.8896484375,
          15992.4404296875,
          15960.5595703125,
          15989.9599609375,
          15949.83984375,
          16097.8701171875,
          16230.6796875,
          16310.7900390625,
          16290.1201171875,
          16357.6298828125,
          16201.2001953125,
          16111.3203125,
          16023.1298828125,
          15988.16015625,
          15829.9404296875,
          15813.0595703125,
          15846.8603515625,
          15949,
          15946.7197265625,
          16147.900390625,
          16081.0400390625,
          16039.169921875,
          15937.580078125,
          15528.5400390625
         ],
         "yaxis": "y2"
        },
        {
         "type": "scatter",
         "x": [
          "2023-01-06T00:00:00",
          "2023-01-09T00:00:00",
          "2023-01-10T00:00:00",
          "2023-01-11T00:00:00",
          "2023-01-12T00:00:00",
          "2023-01-13T00:00:00",
          "2023-01-16T00:00:00",
          "2023-01-17T00:00:00",
          "2023-01-18T00:00:00",
          "2023-01-19T00:00:00",
          "2023-01-20T00:00:00",
          "2023-01-23T00:00:00",
          "2023-01-24T00:00:00",
          "2023-01-25T00:00:00",
          "2023-01-26T00:00:00",
          "2023-01-27T00:00:00",
          "2023-01-30T00:00:00",
          "2023-01-31T00:00:00",
          "2023-02-01T00:00:00",
          "2023-02-02T00:00:00",
          "2023-02-03T00:00:00",
          "2023-02-06T00:00:00",
          "2023-02-07T00:00:00",
          "2023-02-08T00:00:00",
          "2023-02-09T00:00:00",
          "2023-02-10T00:00:00",
          "2023-02-13T00:00:00",
          "2023-02-14T00:00:00",
          "2023-02-15T00:00:00",
          "2023-02-16T00:00:00",
          "2023-02-17T00:00:00",
          "2023-02-20T00:00:00",
          "2023-02-21T00:00:00",
          "2023-02-22T00:00:00",
          "2023-02-23T00:00:00",
          "2023-02-24T00:00:00",
          "2023-02-27T00:00:00",
          "2023-02-28T00:00:00",
          "2023-03-01T00:00:00",
          "2023-03-02T00:00:00",
          "2023-03-03T00:00:00",
          "2023-03-06T00:00:00",
          "2023-03-07T00:00:00",
          "2023-03-08T00:00:00",
          "2023-03-09T00:00:00",
          "2023-03-10T00:00:00",
          "2023-03-13T00:00:00",
          "2023-03-14T00:00:00",
          "2023-03-15T00:00:00",
          "2023-03-16T00:00:00",
          "2023-03-17T00:00:00",
          "2023-03-20T00:00:00",
          "2023-03-21T00:00:00",
          "2023-03-22T00:00:00",
          "2023-03-23T00:00:00",
          "2023-03-24T00:00:00",
          "2023-03-27T00:00:00",
          "2023-03-28T00:00:00",
          "2023-03-29T00:00:00",
          "2023-03-30T00:00:00",
          "2023-03-31T00:00:00",
          "2023-04-03T00:00:00",
          "2023-04-04T00:00:00",
          "2023-04-05T00:00:00",
          "2023-04-06T00:00:00",
          "2023-04-07T00:00:00",
          "2023-04-10T00:00:00",
          "2023-04-11T00:00:00",
          "2023-04-12T00:00:00",
          "2023-04-13T00:00:00",
          "2023-04-14T00:00:00",
          "2023-04-17T00:00:00",
          "2023-04-18T00:00:00",
          "2023-04-19T00:00:00",
          "2023-04-20T00:00:00",
          "2023-04-21T00:00:00",
          "2023-04-24T00:00:00",
          "2023-04-25T00:00:00",
          "2023-04-26T00:00:00",
          "2023-04-27T00:00:00",
          "2023-04-28T00:00:00",
          "2023-05-01T00:00:00",
          "2023-05-02T00:00:00",
          "2023-05-03T00:00:00",
          "2023-05-04T00:00:00",
          "2023-05-05T00:00:00",
          "2023-05-08T00:00:00",
          "2023-05-09T00:00:00",
          "2023-05-10T00:00:00",
          "2023-05-11T00:00:00",
          "2023-05-12T00:00:00",
          "2023-05-15T00:00:00",
          "2023-05-16T00:00:00",
          "2023-05-17T00:00:00",
          "2023-05-18T00:00:00",
          "2023-05-19T00:00:00",
          "2023-05-22T00:00:00",
          "2023-05-23T00:00:00",
          "2023-05-24T00:00:00",
          "2023-05-25T00:00:00",
          "2023-05-26T00:00:00",
          "2023-05-29T00:00:00",
          "2023-05-30T00:00:00",
          "2023-05-31T00:00:00",
          "2023-06-01T00:00:00",
          "2023-06-02T00:00:00",
          "2023-06-05T00:00:00",
          "2023-06-06T00:00:00",
          "2023-06-07T00:00:00",
          "2023-06-08T00:00:00",
          "2023-06-09T00:00:00",
          "2023-06-12T00:00:00",
          "2023-06-13T00:00:00",
          "2023-06-14T00:00:00",
          "2023-06-15T00:00:00",
          "2023-06-16T00:00:00",
          "2023-06-19T00:00:00",
          "2023-06-20T00:00:00",
          "2023-06-21T00:00:00",
          "2023-06-22T00:00:00",
          "2023-06-23T00:00:00",
          "2023-06-26T00:00:00",
          "2023-06-27T00:00:00",
          "2023-06-28T00:00:00",
          "2023-06-29T00:00:00",
          "2023-06-30T00:00:00",
          "2023-07-03T00:00:00",
          "2023-07-04T00:00:00",
          "2023-07-05T00:00:00",
          "2023-07-06T00:00:00"
         ],
         "xaxis": "x3",
         "y": [
          7699.5,
          7724.89990234375,
          7694.5,
          7725,
          7794,
          7844.10009765625,
          7860.10009765625,
          7851,
          7830.7001953125,
          7747.2998046875,
          7770.60009765625,
          7784.7001953125,
          7757.39990234375,
          7744.89990234375,
          7761.10009765625,
          7765.2001953125,
          7784.89990234375,
          7771.7001953125,
          7761.10009765625,
          7820.2001953125,
          7901.7998046875,
          7836.7001953125,
          7864.7001953125,
          7885.2001953125,
          7911.2001953125,
          7882.5,
          7947.60009765625,
          7953.89990234375,
          7997.7998046875,
          8012.5,
          8004.39990234375,
          8014.2998046875,
          7977.7998046875,
          7930.60009765625,
          7907.7001953125,
          7878.7001953125,
          7935.10009765625,
          7876.2998046875,
          7914.89990234375,
          7944,
          7947.10009765625,
          7929.7998046875,
          7919.5,
          7929.89990234375,
          7880,
          7748.39990234375,
          7548.60009765625,
          7637.10009765625,
          7344.5,
          7410,
          7335.39990234375,
          7403.89990234375,
          7536.2001953125,
          7566.7998046875,
          7499.60009765625,
          7405.5,
          7471.7998046875,
          7484.2998046875,
          7564.2998046875,
          7620.39990234375,
          7631.7001953125,
          7673,
          7634.5,
          7662.89990234375,
          7741.60009765625,
          7741.60009765625,
          7741.60009765625,
          7785.7001953125,
          7824.7998046875,
          7843.39990234375,
          7871.89990234375,
          7879.5,
          7909.39990234375,
          7898.7998046875,
          7902.60009765625,
          7914.10009765625,
          7912.2001953125,
          7891.10009765625,
          7852.60009765625,
          7831.60009765625,
          7870.60009765625,
          7870.60009765625,
          7773,
          7788.39990234375,
          7702.60009765625,
          7778.39990234375,
          7778.39990234375,
          7764.10009765625,
          7741.2998046875,
          7730.60009765625,
          7754.60009765625,
          7777.7001953125,
          7751.10009765625,
          7723.2001953125,
          7742.2998046875,
          7756.89990234375,
          7771,
          7763,
          7627.10009765625,
          7570.89990234375,
          7627.2001953125,
          7627.2001953125,
          7522.10009765625,
          7446.10009765625,
          7490.2998046875,
          7607.2998046875,
          7600,
          7628.10009765625,
          7624.2998046875,
          7599.7001953125,
          7562.39990234375,
          7570.7001953125,
          7594.7998046875,
          7602.7001953125,
          7628.2998046875,
          7642.7001953125,
          7588.5,
          7569.2998046875,
          7559.2001953125,
          7502,
          7461.89990234375,
          7453.60009765625,
          7461.5,
          7500.5,
          7471.7001953125,
          7531.5,
          7527.2998046875,
          7519.7001953125,
          7442.10009765625,
          7280.5
         ],
         "yaxis": "y3"
        },
        {
         "type": "scatter",
         "x": [
          "2023-01-06T00:00:00",
          "2023-01-09T00:00:00",
          "2023-01-10T00:00:00",
          "2023-01-11T00:00:00",
          "2023-01-12T00:00:00",
          "2023-01-13T00:00:00",
          "2023-01-16T00:00:00",
          "2023-01-17T00:00:00",
          "2023-01-18T00:00:00",
          "2023-01-19T00:00:00",
          "2023-01-20T00:00:00",
          "2023-01-23T00:00:00",
          "2023-01-24T00:00:00",
          "2023-01-25T00:00:00",
          "2023-01-26T00:00:00",
          "2023-01-27T00:00:00",
          "2023-01-30T00:00:00",
          "2023-01-31T00:00:00",
          "2023-02-01T00:00:00",
          "2023-02-02T00:00:00",
          "2023-02-03T00:00:00",
          "2023-02-06T00:00:00",
          "2023-02-07T00:00:00",
          "2023-02-08T00:00:00",
          "2023-02-09T00:00:00",
          "2023-02-10T00:00:00",
          "2023-02-13T00:00:00",
          "2023-02-14T00:00:00",
          "2023-02-15T00:00:00",
          "2023-02-16T00:00:00",
          "2023-02-17T00:00:00",
          "2023-02-20T00:00:00",
          "2023-02-21T00:00:00",
          "2023-02-22T00:00:00",
          "2023-02-23T00:00:00",
          "2023-02-24T00:00:00",
          "2023-02-27T00:00:00",
          "2023-02-28T00:00:00",
          "2023-03-01T00:00:00",
          "2023-03-02T00:00:00",
          "2023-03-03T00:00:00",
          "2023-03-06T00:00:00",
          "2023-03-07T00:00:00",
          "2023-03-08T00:00:00",
          "2023-03-09T00:00:00",
          "2023-03-10T00:00:00",
          "2023-03-13T00:00:00",
          "2023-03-14T00:00:00",
          "2023-03-15T00:00:00",
          "2023-03-16T00:00:00",
          "2023-03-17T00:00:00",
          "2023-03-20T00:00:00",
          "2023-03-21T00:00:00",
          "2023-03-22T00:00:00",
          "2023-03-23T00:00:00",
          "2023-03-24T00:00:00",
          "2023-03-27T00:00:00",
          "2023-03-28T00:00:00",
          "2023-03-29T00:00:00",
          "2023-03-30T00:00:00",
          "2023-03-31T00:00:00",
          "2023-04-03T00:00:00",
          "2023-04-04T00:00:00",
          "2023-04-05T00:00:00",
          "2023-04-06T00:00:00",
          "2023-04-07T00:00:00",
          "2023-04-10T00:00:00",
          "2023-04-11T00:00:00",
          "2023-04-12T00:00:00",
          "2023-04-13T00:00:00",
          "2023-04-14T00:00:00",
          "2023-04-17T00:00:00",
          "2023-04-18T00:00:00",
          "2023-04-19T00:00:00",
          "2023-04-20T00:00:00",
          "2023-04-21T00:00:00",
          "2023-04-24T00:00:00",
          "2023-04-25T00:00:00",
          "2023-04-26T00:00:00",
          "2023-04-27T00:00:00",
          "2023-04-28T00:00:00",
          "2023-05-01T00:00:00",
          "2023-05-02T00:00:00",
          "2023-05-03T00:00:00",
          "2023-05-04T00:00:00",
          "2023-05-05T00:00:00",
          "2023-05-08T00:00:00",
          "2023-05-09T00:00:00",
          "2023-05-10T00:00:00",
          "2023-05-11T00:00:00",
          "2023-05-12T00:00:00",
          "2023-05-15T00:00:00",
          "2023-05-16T00:00:00",
          "2023-05-17T00:00:00",
          "2023-05-18T00:00:00",
          "2023-05-19T00:00:00",
          "2023-05-22T00:00:00",
          "2023-05-23T00:00:00",
          "2023-05-24T00:00:00",
          "2023-05-25T00:00:00",
          "2023-05-26T00:00:00",
          "2023-05-29T00:00:00",
          "2023-05-30T00:00:00",
          "2023-05-31T00:00:00",
          "2023-06-01T00:00:00",
          "2023-06-02T00:00:00",
          "2023-06-05T00:00:00",
          "2023-06-06T00:00:00",
          "2023-06-07T00:00:00",
          "2023-06-08T00:00:00",
          "2023-06-09T00:00:00",
          "2023-06-12T00:00:00",
          "2023-06-13T00:00:00",
          "2023-06-14T00:00:00",
          "2023-06-15T00:00:00",
          "2023-06-16T00:00:00",
          "2023-06-19T00:00:00",
          "2023-06-20T00:00:00",
          "2023-06-21T00:00:00",
          "2023-06-22T00:00:00",
          "2023-06-23T00:00:00",
          "2023-06-26T00:00:00",
          "2023-06-27T00:00:00",
          "2023-06-28T00:00:00",
          "2023-06-29T00:00:00",
          "2023-06-30T00:00:00",
          "2023-07-03T00:00:00",
          "2023-07-04T00:00:00",
          "2023-07-05T00:00:00",
          "2023-07-06T00:00:00"
         ],
         "xaxis": "x4",
         "y": [
          3895.080078125,
          3892.090087890625,
          3919.25,
          3969.610107421875,
          3983.169921875,
          3999.090087890625,
          3999.090087890625,
          3990.969970703125,
          3928.860107421875,
          3898.85009765625,
          3972.610107421875,
          4019.81005859375,
          4016.949951171875,
          4016.219970703125,
          4060.429931640625,
          4070.56005859375,
          4017.77001953125,
          4076.60009765625,
          4119.2099609375,
          4179.759765625,
          4136.47998046875,
          4111.080078125,
          4164,
          4117.85986328125,
          4081.5,
          4090.4599609375,
          4137.2900390625,
          4136.1298828125,
          4147.60009765625,
          4090.409912109375,
          4079.090087890625,
          4079.090087890625,
          3997.340087890625,
          3991.050048828125,
          4012.320068359375,
          3970.0400390625,
          3982.239990234375,
          3970.14990234375,
          3951.389892578125,
          3981.35009765625,
          4045.639892578125,
          4048.419921875,
          3986.3701171875,
          3992.010009765625,
          3918.320068359375,
          3861.590087890625,
          3855.760009765625,
          3919.2900390625,
          3891.929931640625,
          3960.280029296875,
          3916.639892578125,
          3951.570068359375,
          4002.8701171875,
          3936.969970703125,
          3948.719970703125,
          3970.989990234375,
          3977.530029296875,
          3971.27001953125,
          4027.81005859375,
          4050.830078125,
          4109.31005859375,
          4124.509765625,
          4100.60009765625,
          4090.3798828125,
          4105.02001953125,
          4105.02001953125,
          4109.10986328125,
          4108.93994140625,
          4091.949951171875,
          4146.22021484375,
          4137.64013671875,
          4151.31982421875,
          4154.8701171875,
          4154.52001953125,
          4129.7900390625,
          4133.52001953125,
          4137.0400390625,
          4071.6298828125,
          4055.989990234375,
          4135.35009765625,
          4169.47998046875,
          4167.8701171875,
          4119.580078125,
          4090.75,
          4061.219970703125,
          4136.25,
          4138.1201171875,
          4119.169921875,
          4137.64013671875,
          4130.6201171875,
          4124.080078125,
          4136.27978515625,
          4109.89990234375,
          4158.77001953125,
          4198.0498046875,
          4191.97998046875,
          4192.6298828125,
          4145.580078125,
          4115.240234375,
          4151.27978515625,
          4205.4501953125,
          4205.4501953125,
          4205.52001953125,
          4179.830078125,
          4221.02001953125,
          4282.3701171875,
          4273.7900390625,
          4283.85009765625,
          4267.52001953125,
          4293.93017578125,
          4298.85986328125,
          4338.93017578125,
          4369.009765625,
          4372.58984375,
          4425.83984375,
          4409.58984375,
          4409.58984375,
          4388.7099609375,
          4365.68994140625,
          4381.89013671875,
          4348.330078125,
          4328.81982421875,
          4378.41015625,
          4376.85986328125,
          4396.43994140625,
          4450.3798828125,
          4455.58984375,
          4455.58984375,
          4446.81982421875,
          4400.2001953125
         ],
         "yaxis": "y4"
        },
        {
         "type": "scatter",
         "x": [
          "2023-01-06T00:00:00",
          "2023-01-09T00:00:00",
          "2023-01-10T00:00:00",
          "2023-01-11T00:00:00",
          "2023-01-12T00:00:00",
          "2023-01-13T00:00:00",
          "2023-01-16T00:00:00",
          "2023-01-17T00:00:00",
          "2023-01-18T00:00:00",
          "2023-01-19T00:00:00",
          "2023-01-20T00:00:00",
          "2023-01-23T00:00:00",
          "2023-01-24T00:00:00",
          "2023-01-25T00:00:00",
          "2023-01-26T00:00:00",
          "2023-01-27T00:00:00",
          "2023-01-30T00:00:00",
          "2023-01-31T00:00:00",
          "2023-02-01T00:00:00",
          "2023-02-02T00:00:00",
          "2023-02-03T00:00:00",
          "2023-02-06T00:00:00",
          "2023-02-07T00:00:00",
          "2023-02-08T00:00:00",
          "2023-02-09T00:00:00",
          "2023-02-10T00:00:00",
          "2023-02-13T00:00:00",
          "2023-02-14T00:00:00",
          "2023-02-15T00:00:00",
          "2023-02-16T00:00:00",
          "2023-02-17T00:00:00",
          "2023-02-20T00:00:00",
          "2023-02-21T00:00:00",
          "2023-02-22T00:00:00",
          "2023-02-23T00:00:00",
          "2023-02-24T00:00:00",
          "2023-02-27T00:00:00",
          "2023-02-28T00:00:00",
          "2023-03-01T00:00:00",
          "2023-03-02T00:00:00",
          "2023-03-03T00:00:00",
          "2023-03-06T00:00:00",
          "2023-03-07T00:00:00",
          "2023-03-08T00:00:00",
          "2023-03-09T00:00:00",
          "2023-03-10T00:00:00",
          "2023-03-13T00:00:00",
          "2023-03-14T00:00:00",
          "2023-03-15T00:00:00",
          "2023-03-16T00:00:00",
          "2023-03-17T00:00:00",
          "2023-03-20T00:00:00",
          "2023-03-21T00:00:00",
          "2023-03-22T00:00:00",
          "2023-03-23T00:00:00",
          "2023-03-24T00:00:00",
          "2023-03-27T00:00:00",
          "2023-03-28T00:00:00",
          "2023-03-29T00:00:00",
          "2023-03-30T00:00:00",
          "2023-03-31T00:00:00",
          "2023-04-03T00:00:00",
          "2023-04-04T00:00:00",
          "2023-04-05T00:00:00",
          "2023-04-06T00:00:00",
          "2023-04-07T00:00:00",
          "2023-04-10T00:00:00",
          "2023-04-11T00:00:00",
          "2023-04-12T00:00:00",
          "2023-04-13T00:00:00",
          "2023-04-14T00:00:00",
          "2023-04-17T00:00:00",
          "2023-04-18T00:00:00",
          "2023-04-19T00:00:00",
          "2023-04-20T00:00:00",
          "2023-04-21T00:00:00",
          "2023-04-24T00:00:00",
          "2023-04-25T00:00:00",
          "2023-04-26T00:00:00",
          "2023-04-27T00:00:00",
          "2023-04-28T00:00:00",
          "2023-05-01T00:00:00",
          "2023-05-02T00:00:00",
          "2023-05-03T00:00:00",
          "2023-05-04T00:00:00",
          "2023-05-05T00:00:00",
          "2023-05-08T00:00:00",
          "2023-05-09T00:00:00",
          "2023-05-10T00:00:00",
          "2023-05-11T00:00:00",
          "2023-05-12T00:00:00",
          "2023-05-15T00:00:00",
          "2023-05-16T00:00:00",
          "2023-05-17T00:00:00",
          "2023-05-18T00:00:00",
          "2023-05-19T00:00:00",
          "2023-05-22T00:00:00",
          "2023-05-23T00:00:00",
          "2023-05-24T00:00:00",
          "2023-05-25T00:00:00",
          "2023-05-26T00:00:00",
          "2023-05-29T00:00:00",
          "2023-05-30T00:00:00",
          "2023-05-31T00:00:00",
          "2023-06-01T00:00:00",
          "2023-06-02T00:00:00",
          "2023-06-05T00:00:00",
          "2023-06-06T00:00:00",
          "2023-06-07T00:00:00",
          "2023-06-08T00:00:00",
          "2023-06-09T00:00:00",
          "2023-06-12T00:00:00",
          "2023-06-13T00:00:00",
          "2023-06-14T00:00:00",
          "2023-06-15T00:00:00",
          "2023-06-16T00:00:00",
          "2023-06-19T00:00:00",
          "2023-06-20T00:00:00",
          "2023-06-21T00:00:00",
          "2023-06-22T00:00:00",
          "2023-06-23T00:00:00",
          "2023-06-26T00:00:00",
          "2023-06-27T00:00:00",
          "2023-06-28T00:00:00",
          "2023-06-29T00:00:00",
          "2023-06-30T00:00:00",
          "2023-07-03T00:00:00",
          "2023-07-04T00:00:00",
          "2023-07-05T00:00:00",
          "2023-07-06T00:00:00"
         ],
         "xaxis": "x5",
         "y": [
          10569.2900390625,
          10635.650390625,
          10742.6298828125,
          10931.669921875,
          11001.099609375,
          11079.16015625,
          11079.16015625,
          11095.1103515625,
          10957.009765625,
          10852.26953125,
          11140.4296875,
          11364.41015625,
          11334.26953125,
          11313.3603515625,
          11512.41015625,
          11621.7099609375,
          11393.8095703125,
          11584.5498046875,
          11816.3203125,
          12200.8203125,
          12006.9501953125,
          11887.4501953125,
          12113.7900390625,
          11910.51953125,
          11789.580078125,
          11718.1201171875,
          11891.7900390625,
          11960.150390625,
          12070.58984375,
          11855.830078125,
          11787.26953125,
          11787.26953125,
          11492.2998046875,
          11507.0703125,
          11590.400390625,
          11394.9404296875,
          11466.98046875,
          11455.5400390625,
          11379.48046875,
          11462.98046875,
          11689.009765625,
          11675.740234375,
          11530.330078125,
          11576,
          11338.349609375,
          11138.8896484375,
          11188.83984375,
          11428.150390625,
          11434.0498046875,
          11717.2802734375,
          11630.509765625,
          11675.5400390625,
          11860.1103515625,
          11669.9599609375,
          11787.400390625,
          11823.9599609375,
          11768.83984375,
          11716.080078125,
          11926.240234375,
          12013.4697265625,
          12221.91015625,
          12189.4501953125,
          12126.330078125,
          11996.8603515625,
          12087.9599609375,
          12087.9599609375,
          12084.3603515625,
          12031.8798828125,
          11929.33984375,
          12166.26953125,
          12123.4697265625,
          12157.7197265625,
          12153.41015625,
          12157.23046875,
          12059.5595703125,
          12072.4599609375,
          12037.2001953125,
          11799.16015625,
          11854.349609375,
          12142.240234375,
          12226.580078125,
          12212.599609375,
          12080.509765625,
          12025.330078125,
          11966.400390625,
          12235.41015625,
          12256.919921875,
          12179.5498046875,
          12306.4404296875,
          12328.509765625,
          12284.740234375,
          12365.2099609375,
          12343.0498046875,
          12500.5703125,
          12688.83984375,
          12657.900390625,
          12720.7802734375,
          12560.25,
          12484.16015625,
          12698.08984375,
          12975.6904296875,
          12975.6904296875,
          13017.4296875,
          12935.2900390625,
          13100.98046875,
          13240.76953125,
          13229.4296875,
          13276.419921875,
          13104.900390625,
          13238.51953125,
          13259.1396484375,
          13461.919921875,
          13573.3203125,
          13626.48046875,
          13782.8203125,
          13689.5703125,
          13689.5703125,
          13667.2900390625,
          13502.2001953125,
          13630.6103515625,
          13492.51953125,
          13335.7802734375,
          13555.669921875,
          13591.75,
          13591.330078125,
          13787.919921875,
          13816.76953125,
          13816.76953125,
          13791.650390625,
          13633.7109375
         ],
         "yaxis": "y5"
        },
        {
         "type": "scatter",
         "x": [
          "2023-01-06T00:00:00",
          "2023-01-09T00:00:00",
          "2023-01-10T00:00:00",
          "2023-01-11T00:00:00",
          "2023-01-12T00:00:00",
          "2023-01-13T00:00:00",
          "2023-01-16T00:00:00",
          "2023-01-17T00:00:00",
          "2023-01-18T00:00:00",
          "2023-01-19T00:00:00",
          "2023-01-20T00:00:00",
          "2023-01-23T00:00:00",
          "2023-01-24T00:00:00",
          "2023-01-25T00:00:00",
          "2023-01-26T00:00:00",
          "2023-01-27T00:00:00",
          "2023-01-30T00:00:00",
          "2023-01-31T00:00:00",
          "2023-02-01T00:00:00",
          "2023-02-02T00:00:00",
          "2023-02-03T00:00:00",
          "2023-02-06T00:00:00",
          "2023-02-07T00:00:00",
          "2023-02-08T00:00:00",
          "2023-02-09T00:00:00",
          "2023-02-10T00:00:00",
          "2023-02-13T00:00:00",
          "2023-02-14T00:00:00",
          "2023-02-15T00:00:00",
          "2023-02-16T00:00:00",
          "2023-02-17T00:00:00",
          "2023-02-20T00:00:00",
          "2023-02-21T00:00:00",
          "2023-02-22T00:00:00",
          "2023-02-23T00:00:00",
          "2023-02-24T00:00:00",
          "2023-02-27T00:00:00",
          "2023-02-28T00:00:00",
          "2023-03-01T00:00:00",
          "2023-03-02T00:00:00",
          "2023-03-03T00:00:00",
          "2023-03-06T00:00:00",
          "2023-03-07T00:00:00",
          "2023-03-08T00:00:00",
          "2023-03-09T00:00:00",
          "2023-03-10T00:00:00",
          "2023-03-13T00:00:00",
          "2023-03-14T00:00:00",
          "2023-03-15T00:00:00",
          "2023-03-16T00:00:00",
          "2023-03-17T00:00:00",
          "2023-03-20T00:00:00",
          "2023-03-21T00:00:00",
          "2023-03-22T00:00:00",
          "2023-03-23T00:00:00",
          "2023-03-24T00:00:00",
          "2023-03-27T00:00:00",
          "2023-03-28T00:00:00",
          "2023-03-29T00:00:00",
          "2023-03-30T00:00:00",
          "2023-03-31T00:00:00",
          "2023-04-03T00:00:00",
          "2023-04-04T00:00:00",
          "2023-04-05T00:00:00",
          "2023-04-06T00:00:00",
          "2023-04-07T00:00:00",
          "2023-04-10T00:00:00",
          "2023-04-11T00:00:00",
          "2023-04-12T00:00:00",
          "2023-04-13T00:00:00",
          "2023-04-14T00:00:00",
          "2023-04-17T00:00:00",
          "2023-04-18T00:00:00",
          "2023-04-19T00:00:00",
          "2023-04-20T00:00:00",
          "2023-04-21T00:00:00",
          "2023-04-24T00:00:00",
          "2023-04-25T00:00:00",
          "2023-04-26T00:00:00",
          "2023-04-27T00:00:00",
          "2023-04-28T00:00:00",
          "2023-05-01T00:00:00",
          "2023-05-02T00:00:00",
          "2023-05-03T00:00:00",
          "2023-05-04T00:00:00",
          "2023-05-05T00:00:00",
          "2023-05-08T00:00:00",
          "2023-05-09T00:00:00",
          "2023-05-10T00:00:00",
          "2023-05-11T00:00:00",
          "2023-05-12T00:00:00",
          "2023-05-15T00:00:00",
          "2023-05-16T00:00:00",
          "2023-05-17T00:00:00",
          "2023-05-18T00:00:00",
          "2023-05-19T00:00:00",
          "2023-05-22T00:00:00",
          "2023-05-23T00:00:00",
          "2023-05-24T00:00:00",
          "2023-05-25T00:00:00",
          "2023-05-26T00:00:00",
          "2023-05-29T00:00:00",
          "2023-05-30T00:00:00",
          "2023-05-31T00:00:00",
          "2023-06-01T00:00:00",
          "2023-06-02T00:00:00",
          "2023-06-05T00:00:00",
          "2023-06-06T00:00:00",
          "2023-06-07T00:00:00",
          "2023-06-08T00:00:00",
          "2023-06-09T00:00:00",
          "2023-06-12T00:00:00",
          "2023-06-13T00:00:00",
          "2023-06-14T00:00:00",
          "2023-06-15T00:00:00",
          "2023-06-16T00:00:00",
          "2023-06-19T00:00:00",
          "2023-06-20T00:00:00",
          "2023-06-21T00:00:00",
          "2023-06-22T00:00:00",
          "2023-06-23T00:00:00",
          "2023-06-26T00:00:00",
          "2023-06-27T00:00:00",
          "2023-06-28T00:00:00",
          "2023-06-29T00:00:00",
          "2023-06-30T00:00:00",
          "2023-07-03T00:00:00",
          "2023-07-04T00:00:00",
          "2023-07-05T00:00:00",
          "2023-07-06T00:00:00"
         ],
         "xaxis": "x6",
         "y": [
          null,
          null,
          26175.560546875,
          26446,
          26449.8203125,
          26119.51953125,
          25822.3203125,
          26138.6796875,
          26791.119140625,
          26405.23046875,
          26553.529296875,
          26906.0390625,
          27299.189453125,
          27395.009765625,
          27362.75,
          27382.560546875,
          27433.400390625,
          27327.109375,
          27346.880859375,
          27402.05078125,
          27509.4609375,
          27693.650390625,
          27685.470703125,
          27606.4609375,
          27584.349609375,
          27670.98046875,
          27427.3203125,
          27602.76953125,
          27501.859375,
          27696.439453125,
          27513.130859375,
          27531.939453125,
          27473.099609375,
          27104.3203125,
          27104.3203125,
          27453.48046875,
          27423.9609375,
          27445.560546875,
          27516.529296875,
          27498.869140625,
          27927.470703125,
          28237.779296875,
          28309.16015625,
          28444.189453125,
          28623.150390625,
          28143.970703125,
          27832.9609375,
          27222.0390625,
          27229.48046875,
          27010.609375,
          27333.7890625,
          26945.669921875,
          26945.669921875,
          27466.609375,
          27419.609375,
          27385.25,
          27476.869140625,
          27518.25,
          27883.779296875,
          27782.9296875,
          28041.48046875,
          28188.150390625,
          28287.419921875,
          27813.259765625,
          27472.630859375,
          27518.310546875,
          27633.66015625,
          27923.369140625,
          28082.69921875,
          28156.970703125,
          28493.470703125,
          28514.779296875,
          28658.830078125,
          28606.759765625,
          28657.5703125,
          28564.369140625,
          28593.51953125,
          28620.0703125,
          28416.470703125,
          28457.6796875,
          28856.439453125,
          29123.1796875,
          29157.94921875,
          29157.94921875,
          29157.94921875,
          29157.94921875,
          28949.880859375,
          29242.8203125,
          29122.1796875,
          29126.720703125,
          29388.30078125,
          29626.33984375,
          29842.990234375,
          30093.58984375,
          30573.9296875,
          30808.349609375,
          31086.8203125,
          30957.76953125,
          30682.6796875,
          30801.130859375,
          30916.310546875,
          31233.5390625,
          31328.16015625,
          30887.880859375,
          31148.009765625,
          31524.220703125,
          32217.4296875,
          32506.779296875,
          31913.740234375,
          31641.26953125,
          32265.169921875,
          32434,
          33018.6484375,
          33502.421875,
          33485.48828125,
          33706.078125,
          33370.421875,
          33388.91015625,
          33575.140625,
          33264.87890625,
          32781.5390625,
          32698.810546875,
          32538.330078125,
          33193.98828125,
          33234.140625,
          33189.0390625,
          33753.328125,
          33422.51953125,
          33338.69921875,
          32773.01953125
         ],
         "yaxis": "y6"
        },
        {
         "type": "scatter",
         "x": [
          "2023-01-06T00:00:00",
          "2023-01-09T00:00:00",
          "2023-01-10T00:00:00",
          "2023-01-11T00:00:00",
          "2023-01-12T00:00:00",
          "2023-01-13T00:00:00",
          "2023-01-16T00:00:00",
          "2023-01-17T00:00:00",
          "2023-01-18T00:00:00",
          "2023-01-19T00:00:00",
          "2023-01-20T00:00:00",
          "2023-01-23T00:00:00",
          "2023-01-24T00:00:00",
          "2023-01-25T00:00:00",
          "2023-01-26T00:00:00",
          "2023-01-27T00:00:00",
          "2023-01-30T00:00:00",
          "2023-01-31T00:00:00",
          "2023-02-01T00:00:00",
          "2023-02-02T00:00:00",
          "2023-02-03T00:00:00",
          "2023-02-06T00:00:00",
          "2023-02-07T00:00:00",
          "2023-02-08T00:00:00",
          "2023-02-09T00:00:00",
          "2023-02-10T00:00:00",
          "2023-02-13T00:00:00",
          "2023-02-14T00:00:00",
          "2023-02-15T00:00:00",
          "2023-02-16T00:00:00",
          "2023-02-17T00:00:00",
          "2023-02-20T00:00:00",
          "2023-02-21T00:00:00",
          "2023-02-22T00:00:00",
          "2023-02-23T00:00:00",
          "2023-02-24T00:00:00",
          "2023-02-27T00:00:00",
          "2023-02-28T00:00:00",
          "2023-03-01T00:00:00",
          "2023-03-02T00:00:00",
          "2023-03-03T00:00:00",
          "2023-03-06T00:00:00",
          "2023-03-07T00:00:00",
          "2023-03-08T00:00:00",
          "2023-03-09T00:00:00",
          "2023-03-10T00:00:00",
          "2023-03-13T00:00:00",
          "2023-03-14T00:00:00",
          "2023-03-15T00:00:00",
          "2023-03-16T00:00:00",
          "2023-03-17T00:00:00",
          "2023-03-20T00:00:00",
          "2023-03-21T00:00:00",
          "2023-03-22T00:00:00",
          "2023-03-23T00:00:00",
          "2023-03-24T00:00:00",
          "2023-03-27T00:00:00",
          "2023-03-28T00:00:00",
          "2023-03-29T00:00:00",
          "2023-03-30T00:00:00",
          "2023-03-31T00:00:00",
          "2023-04-03T00:00:00",
          "2023-04-04T00:00:00",
          "2023-04-05T00:00:00",
          "2023-04-06T00:00:00",
          "2023-04-07T00:00:00",
          "2023-04-10T00:00:00",
          "2023-04-11T00:00:00",
          "2023-04-12T00:00:00",
          "2023-04-13T00:00:00",
          "2023-04-14T00:00:00",
          "2023-04-17T00:00:00",
          "2023-04-18T00:00:00",
          "2023-04-19T00:00:00",
          "2023-04-20T00:00:00",
          "2023-04-21T00:00:00",
          "2023-04-24T00:00:00",
          "2023-04-25T00:00:00",
          "2023-04-26T00:00:00",
          "2023-04-27T00:00:00",
          "2023-04-28T00:00:00",
          "2023-05-01T00:00:00",
          "2023-05-02T00:00:00",
          "2023-05-03T00:00:00",
          "2023-05-04T00:00:00",
          "2023-05-05T00:00:00",
          "2023-05-08T00:00:00",
          "2023-05-09T00:00:00",
          "2023-05-10T00:00:00",
          "2023-05-11T00:00:00",
          "2023-05-12T00:00:00",
          "2023-05-15T00:00:00",
          "2023-05-16T00:00:00",
          "2023-05-17T00:00:00",
          "2023-05-18T00:00:00",
          "2023-05-19T00:00:00",
          "2023-05-22T00:00:00",
          "2023-05-23T00:00:00",
          "2023-05-24T00:00:00",
          "2023-05-25T00:00:00",
          "2023-05-26T00:00:00",
          "2023-05-29T00:00:00",
          "2023-05-30T00:00:00",
          "2023-05-31T00:00:00",
          "2023-06-01T00:00:00",
          "2023-06-02T00:00:00",
          "2023-06-05T00:00:00",
          "2023-06-06T00:00:00",
          "2023-06-07T00:00:00",
          "2023-06-08T00:00:00",
          "2023-06-09T00:00:00",
          "2023-06-12T00:00:00",
          "2023-06-13T00:00:00",
          "2023-06-14T00:00:00",
          "2023-06-15T00:00:00",
          "2023-06-16T00:00:00",
          "2023-06-19T00:00:00",
          "2023-06-20T00:00:00",
          "2023-06-21T00:00:00",
          "2023-06-22T00:00:00",
          "2023-06-23T00:00:00",
          "2023-06-26T00:00:00",
          "2023-06-27T00:00:00",
          "2023-06-28T00:00:00",
          "2023-06-29T00:00:00",
          "2023-06-30T00:00:00",
          "2023-07-03T00:00:00",
          "2023-07-04T00:00:00",
          "2023-07-05T00:00:00",
          "2023-07-06T00:00:00"
         ],
         "xaxis": "x7",
         "y": [
          null,
          21388.33984375,
          21331.4609375,
          21436.05078125,
          21514.099609375,
          21738.66015625,
          21746.720703125,
          21577.640625,
          21678,
          21650.98046875,
          22044.650390625,
          22044.650390625,
          22044.650390625,
          22044.650390625,
          22566.779296875,
          22688.900390625,
          22069.73046875,
          21842.330078125,
          22072.1796875,
          21958.359375,
          21660.470703125,
          21222.16015625,
          21298.69921875,
          21283.51953125,
          21624.359375,
          21190.419921875,
          21164.419921875,
          21113.759765625,
          20812.169921875,
          20987.669921875,
          20719.810546875,
          20886.9609375,
          20529.490234375,
          20423.83984375,
          20351.349609375,
          20010.0390625,
          19943.509765625,
          19785.939453125,
          20619.7109375,
          20429.4609375,
          20567.5390625,
          20603.189453125,
          20534.48046875,
          20051.25,
          19925.740234375,
          19319.919921875,
          19695.970703125,
          19247.9609375,
          19539.869140625,
          19203.91015625,
          19518.58984375,
          19000.7109375,
          19258.759765625,
          19591.4296875,
          20049.640625,
          19915.6796875,
          19567.689453125,
          19784.650390625,
          20192.400390625,
          20309.130859375,
          20400.109375,
          20409.1796875,
          20274.58984375,
          20274.58984375,
          20331.19921875,
          20331.19921875,
          20331.19921875,
          20485.240234375,
          20309.859375,
          20344.48046875,
          20438.810546875,
          20782.44921875,
          20650.509765625,
          20367.759765625,
          20396.970703125,
          20075.73046875,
          19959.939453125,
          19617.880859375,
          19757.26953125,
          19840.279296875,
          19894.5703125,
          19894.5703125,
          19933.810546875,
          19699.16015625,
          19948.73046875,
          20049.310546875,
          20297.029296875,
          19867.580078125,
          19762.19921875,
          19743.7890625,
          19627.240234375,
          19971.130859375,
          19978.25,
          19560.5703125,
          19727.25,
          19450.5703125,
          19678.169921875,
          19431.25,
          19115.9296875,
          18746.919921875,
          18746.919921875,
          18551.109375,
          18595.779296875,
          18234.26953125,
          18216.91015625,
          18949.939453125,
          19108.5,
          19099.279296875,
          19252,
          19299.1796875,
          19389.94921875,
          19404.310546875,
          19521.419921875,
          19408.419921875,
          19828.919921875,
          20040.369140625,
          19912.890625,
          19607.080078125,
          19218.349609375,
          19218.349609375,
          18889.970703125,
          18794.130859375,
          19148.130859375,
          19172.05078125,
          18934.359375,
          18916.4296875,
          19306.58984375,
          19415.6796875,
          19110.380859375,
          18533.05078125
         ],
         "yaxis": "y7"
        },
        {
         "type": "scatter",
         "x": [
          "2023-01-06T00:00:00",
          "2023-01-09T00:00:00",
          "2023-01-10T00:00:00",
          "2023-01-11T00:00:00",
          "2023-01-12T00:00:00",
          "2023-01-13T00:00:00",
          "2023-01-16T00:00:00",
          "2023-01-17T00:00:00",
          "2023-01-18T00:00:00",
          "2023-01-19T00:00:00",
          "2023-01-20T00:00:00",
          "2023-01-23T00:00:00",
          "2023-01-24T00:00:00",
          "2023-01-25T00:00:00",
          "2023-01-26T00:00:00",
          "2023-01-27T00:00:00",
          "2023-01-30T00:00:00",
          "2023-01-31T00:00:00",
          "2023-02-01T00:00:00",
          "2023-02-02T00:00:00",
          "2023-02-03T00:00:00",
          "2023-02-06T00:00:00",
          "2023-02-07T00:00:00",
          "2023-02-08T00:00:00",
          "2023-02-09T00:00:00",
          "2023-02-10T00:00:00",
          "2023-02-13T00:00:00",
          "2023-02-14T00:00:00",
          "2023-02-15T00:00:00",
          "2023-02-16T00:00:00",
          "2023-02-17T00:00:00",
          "2023-02-20T00:00:00",
          "2023-02-21T00:00:00",
          "2023-02-22T00:00:00",
          "2023-02-23T00:00:00",
          "2023-02-24T00:00:00",
          "2023-02-27T00:00:00",
          "2023-02-28T00:00:00",
          "2023-03-01T00:00:00",
          "2023-03-02T00:00:00",
          "2023-03-03T00:00:00",
          "2023-03-06T00:00:00",
          "2023-03-07T00:00:00",
          "2023-03-08T00:00:00",
          "2023-03-09T00:00:00",
          "2023-03-10T00:00:00",
          "2023-03-13T00:00:00",
          "2023-03-14T00:00:00",
          "2023-03-15T00:00:00",
          "2023-03-16T00:00:00",
          "2023-03-17T00:00:00",
          "2023-03-20T00:00:00",
          "2023-03-21T00:00:00",
          "2023-03-22T00:00:00",
          "2023-03-23T00:00:00",
          "2023-03-24T00:00:00",
          "2023-03-27T00:00:00",
          "2023-03-28T00:00:00",
          "2023-03-29T00:00:00",
          "2023-03-30T00:00:00",
          "2023-03-31T00:00:00",
          "2023-04-03T00:00:00",
          "2023-04-04T00:00:00",
          "2023-04-05T00:00:00",
          "2023-04-06T00:00:00",
          "2023-04-07T00:00:00",
          "2023-04-10T00:00:00",
          "2023-04-11T00:00:00",
          "2023-04-12T00:00:00",
          "2023-04-13T00:00:00",
          "2023-04-14T00:00:00",
          "2023-04-17T00:00:00",
          "2023-04-18T00:00:00",
          "2023-04-19T00:00:00",
          "2023-04-20T00:00:00",
          "2023-04-21T00:00:00",
          "2023-04-24T00:00:00",
          "2023-04-25T00:00:00",
          "2023-04-26T00:00:00",
          "2023-04-27T00:00:00",
          "2023-04-28T00:00:00",
          "2023-05-01T00:00:00",
          "2023-05-02T00:00:00",
          "2023-05-03T00:00:00",
          "2023-05-04T00:00:00",
          "2023-05-05T00:00:00",
          "2023-05-08T00:00:00",
          "2023-05-09T00:00:00",
          "2023-05-10T00:00:00",
          "2023-05-11T00:00:00",
          "2023-05-12T00:00:00",
          "2023-05-15T00:00:00",
          "2023-05-16T00:00:00",
          "2023-05-17T00:00:00",
          "2023-05-18T00:00:00",
          "2023-05-19T00:00:00",
          "2023-05-22T00:00:00",
          "2023-05-23T00:00:00",
          "2023-05-24T00:00:00",
          "2023-05-25T00:00:00",
          "2023-05-26T00:00:00",
          "2023-05-29T00:00:00",
          "2023-05-30T00:00:00",
          "2023-05-31T00:00:00",
          "2023-06-01T00:00:00",
          "2023-06-02T00:00:00",
          "2023-06-05T00:00:00",
          "2023-06-06T00:00:00",
          "2023-06-07T00:00:00",
          "2023-06-08T00:00:00",
          "2023-06-09T00:00:00",
          "2023-06-12T00:00:00",
          "2023-06-13T00:00:00",
          "2023-06-14T00:00:00",
          "2023-06-15T00:00:00",
          "2023-06-16T00:00:00",
          "2023-06-19T00:00:00",
          "2023-06-20T00:00:00",
          "2023-06-21T00:00:00",
          "2023-06-22T00:00:00",
          "2023-06-23T00:00:00",
          "2023-06-26T00:00:00",
          "2023-06-27T00:00:00",
          "2023-06-28T00:00:00",
          "2023-06-29T00:00:00",
          "2023-06-30T00:00:00",
          "2023-07-03T00:00:00",
          "2023-07-04T00:00:00",
          "2023-07-05T00:00:00",
          "2023-07-06T00:00:00"
         ],
         "xaxis": "x8",
         "y": [
          31.028339385986328,
          31.028339385986328,
          31.41619300842285,
          31.734432220458984,
          31.46591567993164,
          31.913440704345703,
          31.913440704345703,
          31.21729278564453,
          30.908998489379883,
          31.52558708190918,
          32.311241149902344,
          32.66925811767578,
          32.60959243774414,
          32.67920684814453,
          33.10683822631836,
          33.04716873168945,
          31.823936462402344,
          31.625036239624023,
          32.33112716674805,
          31.694652557373047,
          30.918943405151367,
          30.45153045654297,
          30.710098266601562,
          30.2824649810791,
          30.849328994750977,
          29.97416877746582,
          30.471418380737305,
          30.192960739135742,
          29.954280853271484,
          29.97416877746582,
          29.36752700805664,
          29.36752700805664,
          29.02939796447754,
          28.780773162841797,
          28.621652603149414,
          27.756439208984375,
          28.124404907226562,
          27.806163787841797,
          28.95978355407715,
          29.486865997314453,
          29.447086334228516,
          29.1189022064209,
          28.59181785583496,
          28.283523559570312,
          27.239299774169922,
          27.219411849975586,
          27.38847541809082,
          27.56748390197754,
          27.179630279541016,
          27.527706146240234,
          27.458091735839844,
          27.438199996948242,
          27.826053619384766,
          27.915559768676758,
          28.79071807861328,
          28.671377182006836,
          28.084623336791992,
          29.23824119567871,
          29.248186111450195,
          29.74543571472168,
          29.36752700805664,
          29.23824119567871,
          29.108957290649414,
          28.770828247070312,
          29.128847122192383,
          29.128847122192383,
          29.02939796447754,
          29.049285888671875,
          28.25368881225586,
          28.910057067871094,
          28.55203628540039,
          29.32774543762207,
          29.20840835571289,
          28.850387573242188,
          28.66143226623535,
          28.243743896484375,
          27.955339431762695,
          27.199522018432617,
          27.647043228149414,
          28.03489875793457,
          28.174129486083984,
          28.064733505249023,
          27.53765106201172,
          27.40836524963379,
          28.1442928314209,
          28.512258529663086,
          28.731046676635742,
          28.283523559570312,
          28.084623336791992,
          28.38297462463379,
          27.637100219726562,
          28.88022232055664,
          28.581872940063477,
          28.283523559570312,
          27.895668029785156,
          27.74649429321289,
          28.194019317626953,
          27.3387508392334,
          26.791776657104492,
          26.244802474975586,
          26.682382583618164,
          26.682382583618164,
          25.896728515625,
          25.827112197875977,
          26.48348045349121,
          27.279081344604492,
          27.239299774169922,
          27.83599853515625,
          27.5,
          27.790000915527344,
          27.81999969482422,
          27.75,
          28.06999969482422,
          28.450000762939453,
          29.079999923706055,
          28.90999984741211,
          28.90999984741211,
          27.670000076293945,
          27.5,
          27.440000534057617,
          26.8700008392334,
          27.010000228881836,
          27.600000381469727,
          27.3700008392334,
          26.940000534057617,
          27.190000534057617,
          27.709999084472656,
          27.709999084472656,
          27.389999389648438,
          26.585399627685547
         ],
         "yaxis": "y8"
        }
       ],
       "layout": {
        "annotations": [
         {
          "font": {
           "size": 16
          },
          "showarrow": false,
          "text": "MIB (Italy)",
          "x": 0.10625,
          "xanchor": "center",
          "xref": "paper",
          "y": 1,
          "yanchor": "bottom",
          "yref": "paper"
         },
         {
          "font": {
           "size": 16
          },
          "showarrow": false,
          "text": "DE40 (Germany)",
          "x": 0.36875,
          "xanchor": "center",
          "xref": "paper",
          "y": 1,
          "yanchor": "bottom",
          "yref": "paper"
         },
         {
          "font": {
           "size": 16
          },
          "showarrow": false,
          "text": "FTSE100 (U.K.)",
          "x": 0.6312500000000001,
          "xanchor": "center",
          "xref": "paper",
          "y": 1,
          "yanchor": "bottom",
          "yref": "paper"
         },
         {
          "font": {
           "size": 16
          },
          "showarrow": false,
          "text": "S&P500 (U.S.)",
          "x": 0.89375,
          "xanchor": "center",
          "xref": "paper",
          "y": 1,
          "yanchor": "bottom",
          "yref": "paper"
         },
         {
          "font": {
           "size": 16
          },
          "showarrow": false,
          "text": "Nasdaq Composite (U.S.)",
          "x": 0.10625,
          "xanchor": "center",
          "xref": "paper",
          "y": 0.375,
          "yanchor": "bottom",
          "yref": "paper"
         },
         {
          "font": {
           "size": 16
          },
          "showarrow": false,
          "text": "Nikkei (Japan)",
          "x": 0.36875,
          "xanchor": "center",
          "xref": "paper",
          "y": 0.375,
          "yanchor": "bottom",
          "yref": "paper"
         },
         {
          "font": {
           "size": 16
          },
          "showarrow": false,
          "text": "Hang Seng (H.K.)",
          "x": 0.6312500000000001,
          "xanchor": "center",
          "xref": "paper",
          "y": 0.375,
          "yanchor": "bottom",
          "yref": "paper"
         },
         {
          "font": {
           "size": 16
          },
          "showarrow": false,
          "text": "'FIX' China large-cap ETF",
          "x": 0.89375,
          "xanchor": "center",
          "xref": "paper",
          "y": 0.375,
          "yanchor": "bottom",
          "yref": "paper"
         }
        ],
        "height": 600,
        "showlegend": false,
        "template": {
         "data": {
          "bar": [
           {
            "error_x": {
             "color": "#f2f5fa"
            },
            "error_y": {
             "color": "#f2f5fa"
            },
            "marker": {
             "line": {
              "color": "rgb(17,17,17)",
              "width": 0.5
             },
             "pattern": {
              "fillmode": "overlay",
              "size": 10,
              "solidity": 0.2
             }
            },
            "type": "bar"
           }
          ],
          "barpolar": [
           {
            "marker": {
             "line": {
              "color": "rgb(17,17,17)",
              "width": 0.5
             },
             "pattern": {
              "fillmode": "overlay",
              "size": 10,
              "solidity": 0.2
             }
            },
            "type": "barpolar"
           }
          ],
          "carpet": [
           {
            "aaxis": {
             "endlinecolor": "#A2B1C6",
             "gridcolor": "#506784",
             "linecolor": "#506784",
             "minorgridcolor": "#506784",
             "startlinecolor": "#A2B1C6"
            },
            "baxis": {
             "endlinecolor": "#A2B1C6",
             "gridcolor": "#506784",
             "linecolor": "#506784",
             "minorgridcolor": "#506784",
             "startlinecolor": "#A2B1C6"
            },
            "type": "carpet"
           }
          ],
          "choropleth": [
           {
            "colorbar": {
             "outlinewidth": 0,
             "ticks": ""
            },
            "type": "choropleth"
           }
          ],
          "contour": [
           {
            "colorbar": {
             "outlinewidth": 0,
             "ticks": ""
            },
            "colorscale": [
             [
              0,
              "#0d0887"
             ],
             [
              0.1111111111111111,
              "#46039f"
             ],
             [
              0.2222222222222222,
              "#7201a8"
             ],
             [
              0.3333333333333333,
              "#9c179e"
             ],
             [
              0.4444444444444444,
              "#bd3786"
             ],
             [
              0.5555555555555556,
              "#d8576b"
             ],
             [
              0.6666666666666666,
              "#ed7953"
             ],
             [
              0.7777777777777778,
              "#fb9f3a"
             ],
             [
              0.8888888888888888,
              "#fdca26"
             ],
             [
              1,
              "#f0f921"
             ]
            ],
            "type": "contour"
           }
          ],
          "contourcarpet": [
           {
            "colorbar": {
             "outlinewidth": 0,
             "ticks": ""
            },
            "type": "contourcarpet"
           }
          ],
          "heatmap": [
           {
            "colorbar": {
             "outlinewidth": 0,
             "ticks": ""
            },
            "colorscale": [
             [
              0,
              "#0d0887"
             ],
             [
              0.1111111111111111,
              "#46039f"
             ],
             [
              0.2222222222222222,
              "#7201a8"
             ],
             [
              0.3333333333333333,
              "#9c179e"
             ],
             [
              0.4444444444444444,
              "#bd3786"
             ],
             [
              0.5555555555555556,
              "#d8576b"
             ],
             [
              0.6666666666666666,
              "#ed7953"
             ],
             [
              0.7777777777777778,
              "#fb9f3a"
             ],
             [
              0.8888888888888888,
              "#fdca26"
             ],
             [
              1,
              "#f0f921"
             ]
            ],
            "type": "heatmap"
           }
          ],
          "heatmapgl": [
           {
            "colorbar": {
             "outlinewidth": 0,
             "ticks": ""
            },
            "colorscale": [
             [
              0,
              "#0d0887"
             ],
             [
              0.1111111111111111,
              "#46039f"
             ],
             [
              0.2222222222222222,
              "#7201a8"
             ],
             [
              0.3333333333333333,
              "#9c179e"
             ],
             [
              0.4444444444444444,
              "#bd3786"
             ],
             [
              0.5555555555555556,
              "#d8576b"
             ],
             [
              0.6666666666666666,
              "#ed7953"
             ],
             [
              0.7777777777777778,
              "#fb9f3a"
             ],
             [
              0.8888888888888888,
              "#fdca26"
             ],
             [
              1,
              "#f0f921"
             ]
            ],
            "type": "heatmapgl"
           }
          ],
          "histogram": [
           {
            "marker": {
             "pattern": {
              "fillmode": "overlay",
              "size": 10,
              "solidity": 0.2
             }
            },
            "type": "histogram"
           }
          ],
          "histogram2d": [
           {
            "colorbar": {
             "outlinewidth": 0,
             "ticks": ""
            },
            "colorscale": [
             [
              0,
              "#0d0887"
             ],
             [
              0.1111111111111111,
              "#46039f"
             ],
             [
              0.2222222222222222,
              "#7201a8"
             ],
             [
              0.3333333333333333,
              "#9c179e"
             ],
             [
              0.4444444444444444,
              "#bd3786"
             ],
             [
              0.5555555555555556,
              "#d8576b"
             ],
             [
              0.6666666666666666,
              "#ed7953"
             ],
             [
              0.7777777777777778,
              "#fb9f3a"
             ],
             [
              0.8888888888888888,
              "#fdca26"
             ],
             [
              1,
              "#f0f921"
             ]
            ],
            "type": "histogram2d"
           }
          ],
          "histogram2dcontour": [
           {
            "colorbar": {
             "outlinewidth": 0,
             "ticks": ""
            },
            "colorscale": [
             [
              0,
              "#0d0887"
             ],
             [
              0.1111111111111111,
              "#46039f"
             ],
             [
              0.2222222222222222,
              "#7201a8"
             ],
             [
              0.3333333333333333,
              "#9c179e"
             ],
             [
              0.4444444444444444,
              "#bd3786"
             ],
             [
              0.5555555555555556,
              "#d8576b"
             ],
             [
              0.6666666666666666,
              "#ed7953"
             ],
             [
              0.7777777777777778,
              "#fb9f3a"
             ],
             [
              0.8888888888888888,
              "#fdca26"
             ],
             [
              1,
              "#f0f921"
             ]
            ],
            "type": "histogram2dcontour"
           }
          ],
          "mesh3d": [
           {
            "colorbar": {
             "outlinewidth": 0,
             "ticks": ""
            },
            "type": "mesh3d"
           }
          ],
          "parcoords": [
           {
            "line": {
             "colorbar": {
              "outlinewidth": 0,
              "ticks": ""
             }
            },
            "type": "parcoords"
           }
          ],
          "pie": [
           {
            "automargin": true,
            "type": "pie"
           }
          ],
          "scatter": [
           {
            "marker": {
             "line": {
              "color": "#283442"
             }
            },
            "type": "scatter"
           }
          ],
          "scatter3d": [
           {
            "line": {
             "colorbar": {
              "outlinewidth": 0,
              "ticks": ""
             }
            },
            "marker": {
             "colorbar": {
              "outlinewidth": 0,
              "ticks": ""
             }
            },
            "type": "scatter3d"
           }
          ],
          "scattercarpet": [
           {
            "marker": {
             "colorbar": {
              "outlinewidth": 0,
              "ticks": ""
             }
            },
            "type": "scattercarpet"
           }
          ],
          "scattergeo": [
           {
            "marker": {
             "colorbar": {
              "outlinewidth": 0,
              "ticks": ""
             }
            },
            "type": "scattergeo"
           }
          ],
          "scattergl": [
           {
            "marker": {
             "line": {
              "color": "#283442"
             }
            },
            "type": "scattergl"
           }
          ],
          "scattermapbox": [
           {
            "marker": {
             "colorbar": {
              "outlinewidth": 0,
              "ticks": ""
             }
            },
            "type": "scattermapbox"
           }
          ],
          "scatterpolar": [
           {
            "marker": {
             "colorbar": {
              "outlinewidth": 0,
              "ticks": ""
             }
            },
            "type": "scatterpolar"
           }
          ],
          "scatterpolargl": [
           {
            "marker": {
             "colorbar": {
              "outlinewidth": 0,
              "ticks": ""
             }
            },
            "type": "scatterpolargl"
           }
          ],
          "scatterternary": [
           {
            "marker": {
             "colorbar": {
              "outlinewidth": 0,
              "ticks": ""
             }
            },
            "type": "scatterternary"
           }
          ],
          "surface": [
           {
            "colorbar": {
             "outlinewidth": 0,
             "ticks": ""
            },
            "colorscale": [
             [
              0,
              "#0d0887"
             ],
             [
              0.1111111111111111,
              "#46039f"
             ],
             [
              0.2222222222222222,
              "#7201a8"
             ],
             [
              0.3333333333333333,
              "#9c179e"
             ],
             [
              0.4444444444444444,
              "#bd3786"
             ],
             [
              0.5555555555555556,
              "#d8576b"
             ],
             [
              0.6666666666666666,
              "#ed7953"
             ],
             [
              0.7777777777777778,
              "#fb9f3a"
             ],
             [
              0.8888888888888888,
              "#fdca26"
             ],
             [
              1,
              "#f0f921"
             ]
            ],
            "type": "surface"
           }
          ],
          "table": [
           {
            "cells": {
             "fill": {
              "color": "#506784"
             },
             "line": {
              "color": "rgb(17,17,17)"
             }
            },
            "header": {
             "fill": {
              "color": "#2a3f5f"
             },
             "line": {
              "color": "rgb(17,17,17)"
             }
            },
            "type": "table"
           }
          ]
         },
         "layout": {
          "annotationdefaults": {
           "arrowcolor": "#f2f5fa",
           "arrowhead": 0,
           "arrowwidth": 1
          },
          "autotypenumbers": "strict",
          "coloraxis": {
           "colorbar": {
            "outlinewidth": 0,
            "ticks": ""
           }
          },
          "colorscale": {
           "diverging": [
            [
             0,
             "#8e0152"
            ],
            [
             0.1,
             "#c51b7d"
            ],
            [
             0.2,
             "#de77ae"
            ],
            [
             0.3,
             "#f1b6da"
            ],
            [
             0.4,
             "#fde0ef"
            ],
            [
             0.5,
             "#f7f7f7"
            ],
            [
             0.6,
             "#e6f5d0"
            ],
            [
             0.7,
             "#b8e186"
            ],
            [
             0.8,
             "#7fbc41"
            ],
            [
             0.9,
             "#4d9221"
            ],
            [
             1,
             "#276419"
            ]
           ],
           "sequential": [
            [
             0,
             "#0d0887"
            ],
            [
             0.1111111111111111,
             "#46039f"
            ],
            [
             0.2222222222222222,
             "#7201a8"
            ],
            [
             0.3333333333333333,
             "#9c179e"
            ],
            [
             0.4444444444444444,
             "#bd3786"
            ],
            [
             0.5555555555555556,
             "#d8576b"
            ],
            [
             0.6666666666666666,
             "#ed7953"
            ],
            [
             0.7777777777777778,
             "#fb9f3a"
            ],
            [
             0.8888888888888888,
             "#fdca26"
            ],
            [
             1,
             "#f0f921"
            ]
           ],
           "sequentialminus": [
            [
             0,
             "#0d0887"
            ],
            [
             0.1111111111111111,
             "#46039f"
            ],
            [
             0.2222222222222222,
             "#7201a8"
            ],
            [
             0.3333333333333333,
             "#9c179e"
            ],
            [
             0.4444444444444444,
             "#bd3786"
            ],
            [
             0.5555555555555556,
             "#d8576b"
            ],
            [
             0.6666666666666666,
             "#ed7953"
            ],
            [
             0.7777777777777778,
             "#fb9f3a"
            ],
            [
             0.8888888888888888,
             "#fdca26"
            ],
            [
             1,
             "#f0f921"
            ]
           ]
          },
          "colorway": [
           "#636efa",
           "#EF553B",
           "#00cc96",
           "#ab63fa",
           "#FFA15A",
           "#19d3f3",
           "#FF6692",
           "#B6E880",
           "#FF97FF",
           "#FECB52"
          ],
          "font": {
           "color": "#f2f5fa"
          },
          "geo": {
           "bgcolor": "rgb(17,17,17)",
           "lakecolor": "rgb(17,17,17)",
           "landcolor": "rgb(17,17,17)",
           "showlakes": true,
           "showland": true,
           "subunitcolor": "#506784"
          },
          "hoverlabel": {
           "align": "left"
          },
          "hovermode": "closest",
          "mapbox": {
           "style": "dark"
          },
          "paper_bgcolor": "rgb(17,17,17)",
          "plot_bgcolor": "rgb(17,17,17)",
          "polar": {
           "angularaxis": {
            "gridcolor": "#506784",
            "linecolor": "#506784",
            "ticks": ""
           },
           "bgcolor": "rgb(17,17,17)",
           "radialaxis": {
            "gridcolor": "#506784",
            "linecolor": "#506784",
            "ticks": ""
           }
          },
          "scene": {
           "xaxis": {
            "backgroundcolor": "rgb(17,17,17)",
            "gridcolor": "#506784",
            "gridwidth": 2,
            "linecolor": "#506784",
            "showbackground": true,
            "ticks": "",
            "zerolinecolor": "#C8D4E3"
           },
           "yaxis": {
            "backgroundcolor": "rgb(17,17,17)",
            "gridcolor": "#506784",
            "gridwidth": 2,
            "linecolor": "#506784",
            "showbackground": true,
            "ticks": "",
            "zerolinecolor": "#C8D4E3"
           },
           "zaxis": {
            "backgroundcolor": "rgb(17,17,17)",
            "gridcolor": "#506784",
            "gridwidth": 2,
            "linecolor": "#506784",
            "showbackground": true,
            "ticks": "",
            "zerolinecolor": "#C8D4E3"
           }
          },
          "shapedefaults": {
           "line": {
            "color": "#f2f5fa"
           }
          },
          "sliderdefaults": {
           "bgcolor": "#C8D4E3",
           "bordercolor": "rgb(17,17,17)",
           "borderwidth": 1,
           "tickwidth": 0
          },
          "ternary": {
           "aaxis": {
            "gridcolor": "#506784",
            "linecolor": "#506784",
            "ticks": ""
           },
           "baxis": {
            "gridcolor": "#506784",
            "linecolor": "#506784",
            "ticks": ""
           },
           "bgcolor": "rgb(17,17,17)",
           "caxis": {
            "gridcolor": "#506784",
            "linecolor": "#506784",
            "ticks": ""
           }
          },
          "title": {
           "x": 0.05
          },
          "updatemenudefaults": {
           "bgcolor": "#506784",
           "borderwidth": 0
          },
          "xaxis": {
           "automargin": true,
           "gridcolor": "#283442",
           "linecolor": "#506784",
           "ticks": "",
           "title": {
            "standoff": 15
           },
           "zerolinecolor": "#283442",
           "zerolinewidth": 2
          },
          "yaxis": {
           "automargin": true,
           "gridcolor": "#283442",
           "linecolor": "#506784",
           "ticks": "",
           "title": {
            "standoff": 15
           },
           "zerolinecolor": "#283442",
           "zerolinewidth": 2
          }
         }
        },
        "title": {
         "text": "<b>Equity Indexes over the last 6 months</b>"
        },
        "xaxis": {
         "anchor": "y",
         "domain": [
          0,
          0.2125
         ]
        },
        "xaxis2": {
         "anchor": "y2",
         "domain": [
          0.2625,
          0.475
         ]
        },
        "xaxis3": {
         "anchor": "y3",
         "domain": [
          0.525,
          0.7375
         ]
        },
        "xaxis4": {
         "anchor": "y4",
         "domain": [
          0.7875,
          1
         ]
        },
        "xaxis5": {
         "anchor": "y5",
         "domain": [
          0,
          0.2125
         ]
        },
        "xaxis6": {
         "anchor": "y6",
         "domain": [
          0.2625,
          0.475
         ]
        },
        "xaxis7": {
         "anchor": "y7",
         "domain": [
          0.525,
          0.7375
         ]
        },
        "xaxis8": {
         "anchor": "y8",
         "domain": [
          0.7875,
          1
         ]
        },
        "yaxis": {
         "anchor": "x",
         "domain": [
          0.625,
          1
         ]
        },
        "yaxis2": {
         "anchor": "x2",
         "domain": [
          0.625,
          1
         ]
        },
        "yaxis3": {
         "anchor": "x3",
         "domain": [
          0.625,
          1
         ]
        },
        "yaxis4": {
         "anchor": "x4",
         "domain": [
          0.625,
          1
         ]
        },
        "yaxis5": {
         "anchor": "x5",
         "domain": [
          0,
          0.375
         ]
        },
        "yaxis6": {
         "anchor": "x6",
         "domain": [
          0,
          0.375
         ]
        },
        "yaxis7": {
         "anchor": "x7",
         "domain": [
          0,
          0.375
         ]
        },
        "yaxis8": {
         "anchor": "x8",
         "domain": [
          0,
          0.375
         ]
        }
       }
      }
     },
     "metadata": {},
     "output_type": "display_data"
    },
    {
     "data": {
      "application/vnd.plotly.v1+json": {
       "config": {
        "plotlyServerURL": "https://plot.ly"
       },
       "data": [
        {
         "hovertemplate": "variable=MIB (Italy)<br>Date=%{x}<br>value=%{y}<extra></extra>",
         "legendgroup": "MIB (Italy)",
         "line": {
          "color": "#636efa",
          "dash": "solid"
         },
         "marker": {
          "symbol": "circle"
         },
         "mode": "lines",
         "name": "MIB (Italy)",
         "orientation": "v",
         "showlegend": true,
         "type": "scatter",
         "x": [
          "2023-01-06T00:00:00",
          "2023-01-09T00:00:00",
          "2023-01-10T00:00:00",
          "2023-01-11T00:00:00",
          "2023-01-12T00:00:00",
          "2023-01-13T00:00:00",
          "2023-01-16T00:00:00",
          "2023-01-17T00:00:00",
          "2023-01-18T00:00:00",
          "2023-01-19T00:00:00",
          "2023-01-20T00:00:00",
          "2023-01-23T00:00:00",
          "2023-01-24T00:00:00",
          "2023-01-25T00:00:00",
          "2023-01-26T00:00:00",
          "2023-01-27T00:00:00",
          "2023-01-30T00:00:00",
          "2023-01-31T00:00:00",
          "2023-02-01T00:00:00",
          "2023-02-02T00:00:00",
          "2023-02-03T00:00:00",
          "2023-02-06T00:00:00",
          "2023-02-07T00:00:00",
          "2023-02-08T00:00:00",
          "2023-02-09T00:00:00",
          "2023-02-10T00:00:00",
          "2023-02-13T00:00:00",
          "2023-02-14T00:00:00",
          "2023-02-15T00:00:00",
          "2023-02-16T00:00:00",
          "2023-02-17T00:00:00",
          "2023-02-20T00:00:00",
          "2023-02-21T00:00:00",
          "2023-02-22T00:00:00",
          "2023-02-23T00:00:00",
          "2023-02-24T00:00:00",
          "2023-02-27T00:00:00",
          "2023-02-28T00:00:00",
          "2023-03-01T00:00:00",
          "2023-03-02T00:00:00",
          "2023-03-03T00:00:00",
          "2023-03-06T00:00:00",
          "2023-03-07T00:00:00",
          "2023-03-08T00:00:00",
          "2023-03-09T00:00:00",
          "2023-03-10T00:00:00",
          "2023-03-13T00:00:00",
          "2023-03-14T00:00:00",
          "2023-03-15T00:00:00",
          "2023-03-16T00:00:00",
          "2023-03-17T00:00:00",
          "2023-03-20T00:00:00",
          "2023-03-21T00:00:00",
          "2023-03-22T00:00:00",
          "2023-03-23T00:00:00",
          "2023-03-24T00:00:00",
          "2023-03-27T00:00:00",
          "2023-03-28T00:00:00",
          "2023-03-29T00:00:00",
          "2023-03-30T00:00:00",
          "2023-03-31T00:00:00",
          "2023-04-03T00:00:00",
          "2023-04-04T00:00:00",
          "2023-04-05T00:00:00",
          "2023-04-06T00:00:00",
          "2023-04-07T00:00:00",
          "2023-04-10T00:00:00",
          "2023-04-11T00:00:00",
          "2023-04-12T00:00:00",
          "2023-04-13T00:00:00",
          "2023-04-14T00:00:00",
          "2023-04-17T00:00:00",
          "2023-04-18T00:00:00",
          "2023-04-19T00:00:00",
          "2023-04-20T00:00:00",
          "2023-04-21T00:00:00",
          "2023-04-24T00:00:00",
          "2023-04-25T00:00:00",
          "2023-04-26T00:00:00",
          "2023-04-27T00:00:00",
          "2023-04-28T00:00:00",
          "2023-05-01T00:00:00",
          "2023-05-02T00:00:00",
          "2023-05-03T00:00:00",
          "2023-05-04T00:00:00",
          "2023-05-05T00:00:00",
          "2023-05-08T00:00:00",
          "2023-05-09T00:00:00",
          "2023-05-10T00:00:00",
          "2023-05-11T00:00:00",
          "2023-05-12T00:00:00",
          "2023-05-15T00:00:00",
          "2023-05-16T00:00:00",
          "2023-05-17T00:00:00",
          "2023-05-18T00:00:00",
          "2023-05-19T00:00:00",
          "2023-05-22T00:00:00",
          "2023-05-23T00:00:00",
          "2023-05-24T00:00:00",
          "2023-05-25T00:00:00",
          "2023-05-26T00:00:00",
          "2023-05-29T00:00:00",
          "2023-05-30T00:00:00",
          "2023-05-31T00:00:00",
          "2023-06-01T00:00:00",
          "2023-06-02T00:00:00",
          "2023-06-05T00:00:00",
          "2023-06-06T00:00:00",
          "2023-06-07T00:00:00",
          "2023-06-08T00:00:00",
          "2023-06-09T00:00:00",
          "2023-06-12T00:00:00",
          "2023-06-13T00:00:00",
          "2023-06-14T00:00:00",
          "2023-06-15T00:00:00",
          "2023-06-16T00:00:00",
          "2023-06-19T00:00:00",
          "2023-06-20T00:00:00",
          "2023-06-21T00:00:00",
          "2023-06-22T00:00:00",
          "2023-06-23T00:00:00",
          "2023-06-26T00:00:00",
          "2023-06-27T00:00:00",
          "2023-06-28T00:00:00",
          "2023-06-29T00:00:00",
          "2023-06-30T00:00:00",
          "2023-07-03T00:00:00",
          "2023-07-04T00:00:00",
          "2023-07-05T00:00:00",
          "2023-07-06T00:00:00"
         ],
         "xaxis": "x",
         "y": [
          null,
          null,
          -0.0007881773807043251,
          0.006361444526714702,
          0.013654626363440912,
          0.01555691161981504,
          0.020123129599396224,
          0.02320705324936689,
          0.02593609228479763,
          0.00827764087785638,
          0.015285378035261182,
          0.017029665936089643,
          0.019466568795662244,
          0.0191188031861757,
          0.03228774937626008,
          0.04056826920884898,
          0.036778376095301865,
          0.04675276738829594,
          0.05065491852012189,
          0.06541217917449957,
          0.0598619540186388,
          0.062492900638409815,
          0.06607614083666355,
          0.06762367246459244,
          0.08017300024113586,
          0.07155540510118127,
          0.07780691064557115,
          0.07995482635568434,
          0.08126315624139377,
          0.09281813423154253,
          0.08911342717983958,
          0.08354862276377227,
          0.07671297821442617,
          0.06544907750116455,
          0.07192206810532586,
          0.06115976460923802,
          0.07798911642928695,
          0.079227236102399,
          0.07327755344832354,
          0.07631156962984031,
          0.09177644876225109,
          0.09622297238638355,
          0.08950973075356022,
          0.09489825548511563,
          0.08767099787922533,
          0.07206869567157109,
          0.030990088799521913,
          0.05428075185416062,
          0.007104895346472559,
          0.020817842093566102,
          0.004323906107761687,
          0.020084520306134692,
          0.045021947074352836,
          0.043853832692419624,
          0.04230680851820762,
          0.019775592283906317,
          0.03186810225517551,
          0.03651254489654673,
          0.05196472541733259,
          0.062455893070358134,
          0.06589175125784023,
          0.0682861678881609,
          0.06267791793805522,
          0.05674031931604075,
          0.06957309836930933,
          0.06957309836930933,
          0.06957309836930933,
          0.08097256415798335,
          0.08470749733666597,
          0.08463510700798224,
          0.09346415227073487,
          0.08727396479393537,
          0.09414560774247305,
          0.09568613648422197,
          0.08463510700798207,
          0.08893323725917622,
          0.08137210650570609,
          0.07100515839336356,
          0.06567043887450896,
          0.06751321387724538,
          0.06452621064225823,
          0.06452621064225823,
          0.04787995142648317,
          0.05554855722943444,
          0.04938088979456517,
          0.074521516728889,
          0.07733302017830446,
          0.07580045282852634,
          0.07144537997866703,
          0.06533837843645833,
          0.07444838523843662,
          0.0707115696357038,
          0.06902175952087303,
          0.06891145526485536,
          0.07038117922136239,
          0.08075456466578508,
          0.0731311030398309,
          0.06813898460791534,
          0.04392923610068907,
          0.03950854615153411,
          0.05099188989946382,
          0.04739166099666383,
          0.04585010447158136,
          0.025897706779159632,
          0.045850104471581346,
          0.06419376997062139,
          0.05636804621219527,
          0.06304784987479807,
          0.06375034375686682,
          0.07181208331977681,
          0.0676604892825188,
          0.07674946191533663,
          0.08242468087288929,
          0.09120126091161551,
          0.08842853268088621,
          0.09310530488467547,
          0.08922152554946103,
          0.08278738081520653,
          0.08398335812547174,
          0.07674946191533669,
          0.0694261043957972,
          0.0706381589764432,
          0.07642106067905619,
          0.08499700625918136,
          0.09547132140337723,
          0.10626221654718668,
          0.1138842584582773,
          0.11177284549102803,
          0.1058724980253101,
          0.08027880311712683
         ],
         "yaxis": "y"
        },
        {
         "hovertemplate": "variable=DE40 (Germany)<br>Date=%{x}<br>value=%{y}<extra></extra>",
         "legendgroup": "DE40 (Germany)",
         "line": {
          "color": "#EF553B",
          "dash": "solid"
         },
         "marker": {
          "symbol": "circle"
         },
         "mode": "lines",
         "name": "DE40 (Germany)",
         "orientation": "v",
         "showlegend": true,
         "type": "scatter",
         "x": [
          "2023-01-06T00:00:00",
          "2023-01-09T00:00:00",
          "2023-01-10T00:00:00",
          "2023-01-11T00:00:00",
          "2023-01-12T00:00:00",
          "2023-01-13T00:00:00",
          "2023-01-16T00:00:00",
          "2023-01-17T00:00:00",
          "2023-01-18T00:00:00",
          "2023-01-19T00:00:00",
          "2023-01-20T00:00:00",
          "2023-01-23T00:00:00",
          "2023-01-24T00:00:00",
          "2023-01-25T00:00:00",
          "2023-01-26T00:00:00",
          "2023-01-27T00:00:00",
          "2023-01-30T00:00:00",
          "2023-01-31T00:00:00",
          "2023-02-01T00:00:00",
          "2023-02-02T00:00:00",
          "2023-02-03T00:00:00",
          "2023-02-06T00:00:00",
          "2023-02-07T00:00:00",
          "2023-02-08T00:00:00",
          "2023-02-09T00:00:00",
          "2023-02-10T00:00:00",
          "2023-02-13T00:00:00",
          "2023-02-14T00:00:00",
          "2023-02-15T00:00:00",
          "2023-02-16T00:00:00",
          "2023-02-17T00:00:00",
          "2023-02-20T00:00:00",
          "2023-02-21T00:00:00",
          "2023-02-22T00:00:00",
          "2023-02-23T00:00:00",
          "2023-02-24T00:00:00",
          "2023-02-27T00:00:00",
          "2023-02-28T00:00:00",
          "2023-03-01T00:00:00",
          "2023-03-02T00:00:00",
          "2023-03-03T00:00:00",
          "2023-03-06T00:00:00",
          "2023-03-07T00:00:00",
          "2023-03-08T00:00:00",
          "2023-03-09T00:00:00",
          "2023-03-10T00:00:00",
          "2023-03-13T00:00:00",
          "2023-03-14T00:00:00",
          "2023-03-15T00:00:00",
          "2023-03-16T00:00:00",
          "2023-03-17T00:00:00",
          "2023-03-20T00:00:00",
          "2023-03-21T00:00:00",
          "2023-03-22T00:00:00",
          "2023-03-23T00:00:00",
          "2023-03-24T00:00:00",
          "2023-03-27T00:00:00",
          "2023-03-28T00:00:00",
          "2023-03-29T00:00:00",
          "2023-03-30T00:00:00",
          "2023-03-31T00:00:00",
          "2023-04-03T00:00:00",
          "2023-04-04T00:00:00",
          "2023-04-05T00:00:00",
          "2023-04-06T00:00:00",
          "2023-04-07T00:00:00",
          "2023-04-10T00:00:00",
          "2023-04-11T00:00:00",
          "2023-04-12T00:00:00",
          "2023-04-13T00:00:00",
          "2023-04-14T00:00:00",
          "2023-04-17T00:00:00",
          "2023-04-18T00:00:00",
          "2023-04-19T00:00:00",
          "2023-04-20T00:00:00",
          "2023-04-21T00:00:00",
          "2023-04-24T00:00:00",
          "2023-04-25T00:00:00",
          "2023-04-26T00:00:00",
          "2023-04-27T00:00:00",
          "2023-04-28T00:00:00",
          "2023-05-01T00:00:00",
          "2023-05-02T00:00:00",
          "2023-05-03T00:00:00",
          "2023-05-04T00:00:00",
          "2023-05-05T00:00:00",
          "2023-05-08T00:00:00",
          "2023-05-09T00:00:00",
          "2023-05-10T00:00:00",
          "2023-05-11T00:00:00",
          "2023-05-12T00:00:00",
          "2023-05-15T00:00:00",
          "2023-05-16T00:00:00",
          "2023-05-17T00:00:00",
          "2023-05-18T00:00:00",
          "2023-05-19T00:00:00",
          "2023-05-22T00:00:00",
          "2023-05-23T00:00:00",
          "2023-05-24T00:00:00",
          "2023-05-25T00:00:00",
          "2023-05-26T00:00:00",
          "2023-05-29T00:00:00",
          "2023-05-30T00:00:00",
          "2023-05-31T00:00:00",
          "2023-06-01T00:00:00",
          "2023-06-02T00:00:00",
          "2023-06-05T00:00:00",
          "2023-06-06T00:00:00",
          "2023-06-07T00:00:00",
          "2023-06-08T00:00:00",
          "2023-06-09T00:00:00",
          "2023-06-12T00:00:00",
          "2023-06-13T00:00:00",
          "2023-06-14T00:00:00",
          "2023-06-15T00:00:00",
          "2023-06-16T00:00:00",
          "2023-06-19T00:00:00",
          "2023-06-20T00:00:00",
          "2023-06-21T00:00:00",
          "2023-06-22T00:00:00",
          "2023-06-23T00:00:00",
          "2023-06-26T00:00:00",
          "2023-06-27T00:00:00",
          "2023-06-28T00:00:00",
          "2023-06-29T00:00:00",
          "2023-06-30T00:00:00",
          "2023-07-03T00:00:00",
          "2023-07-04T00:00:00",
          "2023-07-05T00:00:00",
          "2023-07-06T00:00:00"
         ],
         "xaxis": "x",
         "y": [
          null,
          0,
          0.012422500267067167,
          0.022501320701309648,
          0.014003957470364219,
          0.0281262991224853,
          0.0281262991224853,
          0.006071236598171305,
          -0.0038536058664216354,
          0.015898543794241733,
          0.040514232275055476,
          0.05153355636461198,
          0.0497055310228891,
          0.0518380388203457,
          0.06483889336145249,
          0.06303493579170263,
          0.02531776495446319,
          0.019048132339679193,
          0.041129494926807716,
          0.021247016987464937,
          -0.00353190937928273,
          -0.018764706432844655,
          -0.010309426352489536,
          -0.024332129124017887,
          -0.005785961084796884,
          -0.03456499062181191,
          -0.018111818636690476,
          -0.027292151520832704,
          -0.0352287129455823,
          -0.03456499062181203,
          -0.05501142025082152,
          -0.05501142025082152,
          -0.06659192119491161,
          -0.07519339493796784,
          -0.08073744521584943,
          -0.1114331037828102,
          -0.09826325917774799,
          -0.10964324551662953,
          -0.06899286709615282,
          -0.050956016848601085,
          -0.0523059914406142,
          -0.0635134369617784,
          -0.0817803726865789,
          -0.09262153189867217,
          -0.1302401854674575,
          -0.1309705709093944,
          -0.12477864088862545,
          -0.11826400192309258,
          -0.13243315465972666,
          -0.11970796690856562,
          -0.12224005520321624,
          -0.12296475769711186,
          -0.10892819825382366,
          -0.10571672945058336,
          -0.07484791436569349,
          -0.07900164623545405,
          -0.09967874627366725,
          -0.05942347817844081,
          -0.0590834021531057,
          -0.04222526175682813,
          -0.05501142025082176,
          -0.05942347817844075,
          -0.06385502313561618,
          -0.07553899490831935,
          -0.0631719674292129,
          -0.0631719674292129,
          -0.0665919211949118,
          -0.06590705977408608,
          -0.09367693413136773,
          -0.07071143061422709,
          -0.08317270358406846,
          -0.05636694940567179,
          -0.06044433541442131,
          -0.07277753367925695,
          -0.07934856507536214,
          -0.09402898254834514,
          -0.10429274414241413,
          -0.1317015603285088,
          -0.1153821740647977,
          -0.10145084232915762,
          -0.09649679785426075,
          -0.10038720790149491,
          -0.11934676282731407,
          -0.12405269274365627,
          -0.09755636792837671,
          -0.08456684197862742,
          -0.07692265680923124,
          -0.09262153189867275,
          -0.09967874627366756,
          -0.08911148026826861,
          -0.1157418796841655,
          -0.0717439485491028,
          -0.08212825702755307,
          -0.09262153189867274,
          -0.10642955160191526,
          -0.1117914601885138,
          -0.09579108610780258,
          -0.12659582023211224,
          -0.1468059613456994,
          -0.16743299214476923,
          -0.1508974413295346,
          -0.1508974413295346,
          -0.180784312034903,
          -0.18347616008120504,
          -0.15837980112722294,
          -0.12878080326722513,
          -0.13024018546745791,
          -0.10857086626578691,
          -0.12071495595178863,
          -0.11022468392541372,
          -0.10914578509867189,
          -0.11166512043187089,
          -0.10019958112247844,
          -0.08675277323512236,
          -0.06485031058258398,
          -0.0707134098740912,
          -0.0707134098740912,
          -0.11455216406819951,
          -0.12071495595178872,
          -0.12289913830388893,
          -0.14389050676381493,
          -0.13869378434582366,
          -0.11708517407984327,
          -0.12545340690919893,
          -0.1412887698181317,
          -0.13205168233824288,
          -0.11310763478902898,
          -0.11310763478902898,
          -0.12472299963306513,
          -0.1545387817070587
         ],
         "yaxis": "y"
        },
        {
         "hovertemplate": "variable=FTSE100 (U.K.)<br>Date=%{x}<br>value=%{y}<extra></extra>",
         "legendgroup": "FTSE100 (U.K.)",
         "line": {
          "color": "#00cc96",
          "dash": "solid"
         },
         "marker": {
          "symbol": "circle"
         },
         "mode": "lines",
         "name": "FTSE100 (U.K.)",
         "orientation": "v",
         "showlegend": true,
         "type": "scatter",
         "x": [
          "2023-01-06T00:00:00",
          "2023-01-09T00:00:00",
          "2023-01-10T00:00:00",
          "2023-01-11T00:00:00",
          "2023-01-12T00:00:00",
          "2023-01-13T00:00:00",
          "2023-01-16T00:00:00",
          "2023-01-17T00:00:00",
          "2023-01-18T00:00:00",
          "2023-01-19T00:00:00",
          "2023-01-20T00:00:00",
          "2023-01-23T00:00:00",
          "2023-01-24T00:00:00",
          "2023-01-25T00:00:00",
          "2023-01-26T00:00:00",
          "2023-01-27T00:00:00",
          "2023-01-30T00:00:00",
          "2023-01-31T00:00:00",
          "2023-02-01T00:00:00",
          "2023-02-02T00:00:00",
          "2023-02-03T00:00:00",
          "2023-02-06T00:00:00",
          "2023-02-07T00:00:00",
          "2023-02-08T00:00:00",
          "2023-02-09T00:00:00",
          "2023-02-10T00:00:00",
          "2023-02-13T00:00:00",
          "2023-02-14T00:00:00",
          "2023-02-15T00:00:00",
          "2023-02-16T00:00:00",
          "2023-02-17T00:00:00",
          "2023-02-20T00:00:00",
          "2023-02-21T00:00:00",
          "2023-02-22T00:00:00",
          "2023-02-23T00:00:00",
          "2023-02-24T00:00:00",
          "2023-02-27T00:00:00",
          "2023-02-28T00:00:00",
          "2023-03-01T00:00:00",
          "2023-03-02T00:00:00",
          "2023-03-03T00:00:00",
          "2023-03-06T00:00:00",
          "2023-03-07T00:00:00",
          "2023-03-08T00:00:00",
          "2023-03-09T00:00:00",
          "2023-03-10T00:00:00",
          "2023-03-13T00:00:00",
          "2023-03-14T00:00:00",
          "2023-03-15T00:00:00",
          "2023-03-16T00:00:00",
          "2023-03-17T00:00:00",
          "2023-03-20T00:00:00",
          "2023-03-21T00:00:00",
          "2023-03-22T00:00:00",
          "2023-03-23T00:00:00",
          "2023-03-24T00:00:00",
          "2023-03-27T00:00:00",
          "2023-03-28T00:00:00",
          "2023-03-29T00:00:00",
          "2023-03-30T00:00:00",
          "2023-03-31T00:00:00",
          "2023-04-03T00:00:00",
          "2023-04-04T00:00:00",
          "2023-04-05T00:00:00",
          "2023-04-06T00:00:00",
          "2023-04-07T00:00:00",
          "2023-04-10T00:00:00",
          "2023-04-11T00:00:00",
          "2023-04-12T00:00:00",
          "2023-04-13T00:00:00",
          "2023-04-14T00:00:00",
          "2023-04-17T00:00:00",
          "2023-04-18T00:00:00",
          "2023-04-19T00:00:00",
          "2023-04-20T00:00:00",
          "2023-04-21T00:00:00",
          "2023-04-24T00:00:00",
          "2023-04-25T00:00:00",
          "2023-04-26T00:00:00",
          "2023-04-27T00:00:00",
          "2023-04-28T00:00:00",
          "2023-05-01T00:00:00",
          "2023-05-02T00:00:00",
          "2023-05-03T00:00:00",
          "2023-05-04T00:00:00",
          "2023-05-05T00:00:00",
          "2023-05-08T00:00:00",
          "2023-05-09T00:00:00",
          "2023-05-10T00:00:00",
          "2023-05-11T00:00:00",
          "2023-05-12T00:00:00",
          "2023-05-15T00:00:00",
          "2023-05-16T00:00:00",
          "2023-05-17T00:00:00",
          "2023-05-18T00:00:00",
          "2023-05-19T00:00:00",
          "2023-05-22T00:00:00",
          "2023-05-23T00:00:00",
          "2023-05-24T00:00:00",
          "2023-05-25T00:00:00",
          "2023-05-26T00:00:00",
          "2023-05-29T00:00:00",
          "2023-05-30T00:00:00",
          "2023-05-31T00:00:00",
          "2023-06-01T00:00:00",
          "2023-06-02T00:00:00",
          "2023-06-05T00:00:00",
          "2023-06-06T00:00:00",
          "2023-06-07T00:00:00",
          "2023-06-08T00:00:00",
          "2023-06-09T00:00:00",
          "2023-06-12T00:00:00",
          "2023-06-13T00:00:00",
          "2023-06-14T00:00:00",
          "2023-06-15T00:00:00",
          "2023-06-16T00:00:00",
          "2023-06-19T00:00:00",
          "2023-06-20T00:00:00",
          "2023-06-21T00:00:00",
          "2023-06-22T00:00:00",
          "2023-06-23T00:00:00",
          "2023-06-26T00:00:00",
          "2023-06-27T00:00:00",
          "2023-06-28T00:00:00",
          "2023-06-29T00:00:00",
          "2023-06-30T00:00:00",
          "2023-07-03T00:00:00",
          "2023-07-04T00:00:00",
          "2023-07-05T00:00:00",
          "2023-07-06T00:00:00"
         ],
         "xaxis": "x",
         "y": [
          null,
          0.003293473388123449,
          -0.0006496037645610494,
          0.0033064310974787086,
          0.012198815230186996,
          0.018606277613804643,
          0.020643949744464214,
          0.01948552052978809,
          0.01689653900692957,
          0.006188978670871644,
          0.00919200235653064,
          0.011004902300919772,
          0.007491822231309175,
          0.005879157934200355,
          0.00796869762295408,
          0.008496846335035176,
          0.01103055575765698,
          0.009333564112171766,
          0.007968697622954088,
          0.015554762966797649,
          0.02593516521700525,
          0.017662460620435944,
          0.021229025255983594,
          0.02383221779285986,
          0.027124109975413913,
          0.02348972075074867,
          0.0317146168979813,
          0.03250697045168339,
          0.03801108775329343,
          0.039847430560458086,
          0.03883598659861989,
          0.040072029946112114,
          0.03550726806106925,
          0.02957331545492732,
          0.026681601334397707,
          0.02300754874429837,
          0.03014057691395824,
          0.022702833968852802,
          0.02759165498976575,
          0.03126153505654134,
          0.03165170284562161,
          0.02947239833122863,
          0.028172680834007785,
          0.029485021225495164,
          0.02317251218345753,
          0.006330966148545853,
          -0.019793263146325506,
          -0.008137428931809043,
          -0.047203657896997625,
          -0.03832495237833452,
          -0.048443461830599915,
          -0.03914851646898583,
          -0.0214372895697213,
          -0.017385160688729022,
          -0.026305692878143657,
          -0.038932424301439776,
          -0.03001948385326258,
          -0.0283479246584179,
          -0.017715605942185526,
          -0.010326542742295301,
          -0.008844740896765518,
          -0.00344771849080157,
          -0.008477943044900443,
          -0.004764902246674918,
          0.0054530055127447775,
          0.0054530055127447775,
          0.0054530055127447775,
          0.01113335114954157,
          0.0161427603471142,
          0.018517009685459277,
          0.022144052325225868,
          0.023109058393659166,
          0.02689652151917282,
          0.025555432787830238,
          0.02603643992207267,
          0.0274905993718269,
          0.0272505050582215,
          0.02458016281282477,
          0.01968930789725068,
          0.017011452184165703,
          0.021978919126502326,
          0.021978919126502326,
          0.009500798561753052,
          0.011480043034320028,
          0.00040255519422234716,
          0.010195257272181511,
          0.010195257272181511,
          0.008355166074195125,
          0.005414215238225114,
          0.0040311001968270505,
          0.007130836579181772,
          0.010105298088667624,
          0.006679389689927345,
          0.003073419526825593,
          0.0055433841687862195,
          0.007427365567912843,
          0.009243464540775336,
          0.008213465737213507,
          -0.009447684471265238,
          -0.016843453846095466,
          -0.009434560610540122,
          -0.009434560610540122,
          -0.02331002440736342,
          -0.03346497318135348,
          -0.02754656763016961,
          -0.012047104762824343,
          -0.013007144394044275,
          -0.00931658163569048,
          -0.009814902302827925,
          -0.013046593157333872,
          -0.017966804470686198,
          -0.01686983243620138,
          -0.013691614815815899,
          -0.012651918637277052,
          -0.009290401536513917,
          -0.0074044222432892055,
          -0.014521448268366408,
          -0.017054824593267938,
          -0.01839000136233017,
          -0.025985740026634282,
          -0.03134533129739155,
          -0.03245824143036152,
          -0.031398925296944276,
          -0.026185706699522047,
          -0.030032815318448293,
          -0.02206116652559717,
          -0.022619005858863568,
          -0.02362912216393155,
          -0.034002311481990455,
          -0.05595585051750776
         ],
         "yaxis": "y"
        },
        {
         "hovertemplate": "variable=S&P500 (U.S.)<br>Date=%{x}<br>value=%{y}<extra></extra>",
         "legendgroup": "S&P500 (U.S.)",
         "line": {
          "color": "#ab63fa",
          "dash": "solid"
         },
         "marker": {
          "symbol": "circle"
         },
         "mode": "lines",
         "name": "S&P500 (U.S.)",
         "orientation": "v",
         "showlegend": true,
         "type": "scatter",
         "x": [
          "2023-01-06T00:00:00",
          "2023-01-09T00:00:00",
          "2023-01-10T00:00:00",
          "2023-01-11T00:00:00",
          "2023-01-12T00:00:00",
          "2023-01-13T00:00:00",
          "2023-01-16T00:00:00",
          "2023-01-17T00:00:00",
          "2023-01-18T00:00:00",
          "2023-01-19T00:00:00",
          "2023-01-20T00:00:00",
          "2023-01-23T00:00:00",
          "2023-01-24T00:00:00",
          "2023-01-25T00:00:00",
          "2023-01-26T00:00:00",
          "2023-01-27T00:00:00",
          "2023-01-30T00:00:00",
          "2023-01-31T00:00:00",
          "2023-02-01T00:00:00",
          "2023-02-02T00:00:00",
          "2023-02-03T00:00:00",
          "2023-02-06T00:00:00",
          "2023-02-07T00:00:00",
          "2023-02-08T00:00:00",
          "2023-02-09T00:00:00",
          "2023-02-10T00:00:00",
          "2023-02-13T00:00:00",
          "2023-02-14T00:00:00",
          "2023-02-15T00:00:00",
          "2023-02-16T00:00:00",
          "2023-02-17T00:00:00",
          "2023-02-20T00:00:00",
          "2023-02-21T00:00:00",
          "2023-02-22T00:00:00",
          "2023-02-23T00:00:00",
          "2023-02-24T00:00:00",
          "2023-02-27T00:00:00",
          "2023-02-28T00:00:00",
          "2023-03-01T00:00:00",
          "2023-03-02T00:00:00",
          "2023-03-03T00:00:00",
          "2023-03-06T00:00:00",
          "2023-03-07T00:00:00",
          "2023-03-08T00:00:00",
          "2023-03-09T00:00:00",
          "2023-03-10T00:00:00",
          "2023-03-13T00:00:00",
          "2023-03-14T00:00:00",
          "2023-03-15T00:00:00",
          "2023-03-16T00:00:00",
          "2023-03-17T00:00:00",
          "2023-03-20T00:00:00",
          "2023-03-21T00:00:00",
          "2023-03-22T00:00:00",
          "2023-03-23T00:00:00",
          "2023-03-24T00:00:00",
          "2023-03-27T00:00:00",
          "2023-03-28T00:00:00",
          "2023-03-29T00:00:00",
          "2023-03-30T00:00:00",
          "2023-03-31T00:00:00",
          "2023-04-03T00:00:00",
          "2023-04-04T00:00:00",
          "2023-04-05T00:00:00",
          "2023-04-06T00:00:00",
          "2023-04-07T00:00:00",
          "2023-04-10T00:00:00",
          "2023-04-11T00:00:00",
          "2023-04-12T00:00:00",
          "2023-04-13T00:00:00",
          "2023-04-14T00:00:00",
          "2023-04-17T00:00:00",
          "2023-04-18T00:00:00",
          "2023-04-19T00:00:00",
          "2023-04-20T00:00:00",
          "2023-04-21T00:00:00",
          "2023-04-24T00:00:00",
          "2023-04-25T00:00:00",
          "2023-04-26T00:00:00",
          "2023-04-27T00:00:00",
          "2023-04-28T00:00:00",
          "2023-05-01T00:00:00",
          "2023-05-02T00:00:00",
          "2023-05-03T00:00:00",
          "2023-05-04T00:00:00",
          "2023-05-05T00:00:00",
          "2023-05-08T00:00:00",
          "2023-05-09T00:00:00",
          "2023-05-10T00:00:00",
          "2023-05-11T00:00:00",
          "2023-05-12T00:00:00",
          "2023-05-15T00:00:00",
          "2023-05-16T00:00:00",
          "2023-05-17T00:00:00",
          "2023-05-18T00:00:00",
          "2023-05-19T00:00:00",
          "2023-05-22T00:00:00",
          "2023-05-23T00:00:00",
          "2023-05-24T00:00:00",
          "2023-05-25T00:00:00",
          "2023-05-26T00:00:00",
          "2023-05-29T00:00:00",
          "2023-05-30T00:00:00",
          "2023-05-31T00:00:00",
          "2023-06-01T00:00:00",
          "2023-06-02T00:00:00",
          "2023-06-05T00:00:00",
          "2023-06-06T00:00:00",
          "2023-06-07T00:00:00",
          "2023-06-08T00:00:00",
          "2023-06-09T00:00:00",
          "2023-06-12T00:00:00",
          "2023-06-13T00:00:00",
          "2023-06-14T00:00:00",
          "2023-06-15T00:00:00",
          "2023-06-16T00:00:00",
          "2023-06-19T00:00:00",
          "2023-06-20T00:00:00",
          "2023-06-21T00:00:00",
          "2023-06-22T00:00:00",
          "2023-06-23T00:00:00",
          "2023-06-26T00:00:00",
          "2023-06-27T00:00:00",
          "2023-06-28T00:00:00",
          "2023-06-29T00:00:00",
          "2023-06-30T00:00:00",
          "2023-07-03T00:00:00",
          "2023-07-04T00:00:00",
          "2023-07-05T00:00:00",
          "2023-07-06T00:00:00"
         ],
         "xaxis": "x",
         "y": [
          null,
          null,
          -0.0012331454747913722,
          0.010428891982234784,
          0.017786712020100327,
          0.01965898960727189,
          0.022803904701824883,
          0.026301819315980007,
          0.02595471994448033,
          0.008584137529965296,
          0.016142397546806107,
          0.020747492706771658,
          0.020095762386982643,
          0.019335477468132432,
          0.022725242526626742,
          0.02385992099659538,
          0.02227780228780462,
          0.022422538707994915,
          0.025884925367902323,
          0.04729016995519541,
          0.04517559201414365,
          0.03670638999620754,
          0.035073987063661945,
          0.04100704910772761,
          0.04820723706773025,
          0.03423168247399774,
          0.04005214787644004,
          0.03896173719737515,
          0.04710635327236604,
          0.048865362922061895,
          0.04553544957903544,
          0.04524796507934316,
          0.040070350428926614,
          0.04021773450454699,
          0.0451278241837111,
          0.027793418314050442,
          0.03901830812849659,
          0.03795867507423618,
          0.03403823932832541,
          0.03551510238263979,
          0.05174206571977437,
          0.05655704060695215,
          0.050530721008667366,
          0.055169177284755316,
          0.05525488592503216,
          0.042039468900649364,
          0.011201916629223596,
          0.029310363035911516,
          -0.0038993640124499254,
          0.011711823587964427,
          -0.0016663755142525983,
          0.009456358697108445,
          0.02684618241368582,
          0.028217411616365616,
          0.027836114651318196,
          0.011052217110087921,
          0.02238354844225836,
          0.023331020349337123,
          0.035589515833619155,
          0.04814155793668466,
          0.054975306227394535,
          0.05190447454576942,
          0.05335069869009833,
          0.047997854066071946,
          0.0529930169546696,
          0.0529930169546696,
          0.0529930169546696,
          0.05665859967599012,
          0.05974735135388336,
          0.06139277548698265,
          0.06634190174714556,
          0.0652044702642275,
          0.07108596358349535,
          0.0718745799407711,
          0.06561221769353641,
          0.07102238499563554,
          0.06990664253054471,
          0.07042212444645804,
          0.06559707081565216,
          0.06589582379771565,
          0.07358305016662882,
          0.07358305016662882,
          0.061232583524513676,
          0.06682001424399721,
          0.06169663507403712,
          0.07600686118204592,
          0.07549363865295615,
          0.07565976406578243,
          0.07193939447829475,
          0.06807439702615227,
          0.07304532452938328,
          0.07326020407341365,
          0.07204628321152548,
          0.07539770916393412,
          0.08860436481959286,
          0.09551092011259396,
          0.09234841628048755,
          0.08795453633463776,
          0.06853023044231799,
          0.06547483638872667,
          0.07744371871709042,
          0.07548739463948045,
          0.07273673024997102,
          0.0572237234716592,
          0.06925778914534508,
          0.08164290215357528,
          0.07618666543327016,
          0.07797352824115816,
          0.07597804300008357,
          0.07781841363283115,
          0.0753061788327539,
          0.08454436317780431,
          0.09276064991193908,
          0.09768424519331062,
          0.0964161870596172,
          0.10055183878733068,
          0.09094271642101157,
          0.08537954071035865,
          0.07989068681277574,
          0.07770584887400217,
          0.0677605015545902,
          0.06669354450396743,
          0.06882878642344253,
          0.0752535221371307,
          0.07511053909984965,
          0.08764742524112054,
          0.08349833150191019,
          0.08089124138923244,
          0.07453723821233986,
          0.04853701446280234
         ],
         "yaxis": "y"
        },
        {
         "hovertemplate": "variable=Nasdaq Composite (U.S.)<br>Date=%{x}<br>value=%{y}<extra></extra>",
         "legendgroup": "Nasdaq Composite (U.S.)",
         "line": {
          "color": "#FFA15A",
          "dash": "solid"
         },
         "marker": {
          "symbol": "circle"
         },
         "mode": "lines",
         "name": "Nasdaq Composite (U.S.)",
         "orientation": "v",
         "showlegend": true,
         "type": "scatter",
         "x": [
          "2023-01-06T00:00:00",
          "2023-01-09T00:00:00",
          "2023-01-10T00:00:00",
          "2023-01-11T00:00:00",
          "2023-01-12T00:00:00",
          "2023-01-13T00:00:00",
          "2023-01-16T00:00:00",
          "2023-01-17T00:00:00",
          "2023-01-18T00:00:00",
          "2023-01-19T00:00:00",
          "2023-01-20T00:00:00",
          "2023-01-23T00:00:00",
          "2023-01-24T00:00:00",
          "2023-01-25T00:00:00",
          "2023-01-26T00:00:00",
          "2023-01-27T00:00:00",
          "2023-01-30T00:00:00",
          "2023-01-31T00:00:00",
          "2023-02-01T00:00:00",
          "2023-02-02T00:00:00",
          "2023-02-03T00:00:00",
          "2023-02-06T00:00:00",
          "2023-02-07T00:00:00",
          "2023-02-08T00:00:00",
          "2023-02-09T00:00:00",
          "2023-02-10T00:00:00",
          "2023-02-13T00:00:00",
          "2023-02-14T00:00:00",
          "2023-02-15T00:00:00",
          "2023-02-16T00:00:00",
          "2023-02-17T00:00:00",
          "2023-02-20T00:00:00",
          "2023-02-21T00:00:00",
          "2023-02-22T00:00:00",
          "2023-02-23T00:00:00",
          "2023-02-24T00:00:00",
          "2023-02-27T00:00:00",
          "2023-02-28T00:00:00",
          "2023-03-01T00:00:00",
          "2023-03-02T00:00:00",
          "2023-03-03T00:00:00",
          "2023-03-06T00:00:00",
          "2023-03-07T00:00:00",
          "2023-03-08T00:00:00",
          "2023-03-09T00:00:00",
          "2023-03-10T00:00:00",
          "2023-03-13T00:00:00",
          "2023-03-14T00:00:00",
          "2023-03-15T00:00:00",
          "2023-03-16T00:00:00",
          "2023-03-17T00:00:00",
          "2023-03-20T00:00:00",
          "2023-03-21T00:00:00",
          "2023-03-22T00:00:00",
          "2023-03-23T00:00:00",
          "2023-03-24T00:00:00",
          "2023-03-27T00:00:00",
          "2023-03-28T00:00:00",
          "2023-03-29T00:00:00",
          "2023-03-30T00:00:00",
          "2023-03-31T00:00:00",
          "2023-04-03T00:00:00",
          "2023-04-04T00:00:00",
          "2023-04-05T00:00:00",
          "2023-04-06T00:00:00",
          "2023-04-07T00:00:00",
          "2023-04-10T00:00:00",
          "2023-04-11T00:00:00",
          "2023-04-12T00:00:00",
          "2023-04-13T00:00:00",
          "2023-04-14T00:00:00",
          "2023-04-17T00:00:00",
          "2023-04-18T00:00:00",
          "2023-04-19T00:00:00",
          "2023-04-20T00:00:00",
          "2023-04-21T00:00:00",
          "2023-04-24T00:00:00",
          "2023-04-25T00:00:00",
          "2023-04-26T00:00:00",
          "2023-04-27T00:00:00",
          "2023-04-28T00:00:00",
          "2023-05-01T00:00:00",
          "2023-05-02T00:00:00",
          "2023-05-03T00:00:00",
          "2023-05-04T00:00:00",
          "2023-05-05T00:00:00",
          "2023-05-08T00:00:00",
          "2023-05-09T00:00:00",
          "2023-05-10T00:00:00",
          "2023-05-11T00:00:00",
          "2023-05-12T00:00:00",
          "2023-05-15T00:00:00",
          "2023-05-16T00:00:00",
          "2023-05-17T00:00:00",
          "2023-05-18T00:00:00",
          "2023-05-19T00:00:00",
          "2023-05-22T00:00:00",
          "2023-05-23T00:00:00",
          "2023-05-24T00:00:00",
          "2023-05-25T00:00:00",
          "2023-05-26T00:00:00",
          "2023-05-29T00:00:00",
          "2023-05-30T00:00:00",
          "2023-05-31T00:00:00",
          "2023-06-01T00:00:00",
          "2023-06-02T00:00:00",
          "2023-06-05T00:00:00",
          "2023-06-06T00:00:00",
          "2023-06-07T00:00:00",
          "2023-06-08T00:00:00",
          "2023-06-09T00:00:00",
          "2023-06-12T00:00:00",
          "2023-06-13T00:00:00",
          "2023-06-14T00:00:00",
          "2023-06-15T00:00:00",
          "2023-06-16T00:00:00",
          "2023-06-19T00:00:00",
          "2023-06-20T00:00:00",
          "2023-06-21T00:00:00",
          "2023-06-22T00:00:00",
          "2023-06-23T00:00:00",
          "2023-06-26T00:00:00",
          "2023-06-27T00:00:00",
          "2023-06-28T00:00:00",
          "2023-06-29T00:00:00",
          "2023-06-30T00:00:00",
          "2023-07-03T00:00:00",
          "2023-07-04T00:00:00",
          "2023-07-05T00:00:00",
          "2023-07-06T00:00:00"
         ],
         "xaxis": "x",
         "y": [
          null,
          -0.0007679273259905782,
          0.006186070644603155,
          0.01895364183689683,
          0.02236372674893956,
          0.026352618893595612,
          0.026352618893595612,
          0.0243200634625993,
          0.008635096484854627,
          0.0009674245830421993,
          0.01970909813539416,
          0.031520414086722716,
          0.030808657722430896,
          0.030626916148965233,
          0.041574624178079535,
          0.04406635819978339,
          0.03101278888449073,
          0.045549093300910254,
          0.05594714959779498,
          0.07053953422464936,
          0.0601309415873639,
          0.05397154839342464,
          0.06676191243082172,
          0.055619339418410366,
          0.04675032958737298,
          0.04894318529659011,
          0.06032675524774525,
          0.06004630139225149,
          0.06281563892532818,
          0.04893094972044658,
          0.04615970754816384,
          0.04615970754816384,
          0.025914923574692144,
          0.02434012808904876,
          0.029655406352286487,
          0.019061941732512303,
          0.02213023427206458,
          0.01908961444111687,
          0.014353150237624037,
          0.02190674396882001,
          0.037925493145303066,
          0.038612423924151366,
          0.023166833444888818,
          0.02458062758049209,
          0.005948769635009735,
          -0.008635199801056904,
          -0.010146101641795673,
          0.006196286593567992,
          -0.0008090773357856051,
          0.016600498913246116,
          0.005519877639292414,
          0.014398747275233267,
          0.027297394793792368,
          0.010697146153949483,
          0.013677230023131905,
          0.01930119310743511,
          0.020946792671202193,
          0.019371709382814305,
          0.03350858015786111,
          0.03920757935734376,
          0.05354090713938031,
          0.057232929705183136,
          0.051419089960020606,
          0.048923608302899185,
          0.052496381435702434,
          0.052496381435702434,
          0.053492188452712516,
          0.05345083511972899,
          0.049307378796267606,
          0.062482889294099155,
          0.06041137170952117,
          0.06371207529213592,
          0.0645669300956019,
          0.06448266454766227,
          0.05851232935935114,
          0.05941511061665203,
          0.06026632739492434,
          0.04432914357634789,
          0.04048056007300301,
          0.05985775347569937,
          0.06807708478894284,
          0.06769090374043205,
          0.05603699705986026,
          0.04901408900496729,
          0.041769175549904544,
          0.06007534193178434,
          0.06052736841666641,
          0.05593742946760681,
          0.060411371709521246,
          0.05871330681981449,
          0.05712874523037544,
          0.06008254291069238,
          0.05368443522877492,
          0.06550512385084649,
          0.07490584691457364,
          0.0734589330338982,
          0.07361395571370058,
          0.06232848694541628,
          0.05498297426711107,
          0.06370243034612295,
          0.07666711127776374,
          0.07666711127776374,
          0.07668371440842951,
          0.07055635622221541,
          0.08036257130806923,
          0.09479238369817664,
          0.09278679220751893,
          0.0951379224413695,
          0.09131862851494887,
          0.09748820012247213,
          0.09863560114552265,
          0.10791357612727681,
          0.1148221468531857,
          0.11564123683331229,
          0.1277458173269023,
          0.12406744085915121,
          0.12406744085915121,
          0.11932108702391517,
          0.11406200065698997,
          0.11776593104432449,
          0.11007764298782234,
          0.10558070862469017,
          0.11697144214887092,
          0.1166173027604811,
          0.1210808708749711,
          0.13327522113685691,
          0.13444521422953057,
          0.13444521422953057,
          0.13247495613191784,
          0.1219358005019287
         ],
         "yaxis": "y"
        },
        {
         "hovertemplate": "variable=Nikkei (Japan)<br>Date=%{x}<br>value=%{y}<extra></extra>",
         "legendgroup": "Nikkei (Japan)",
         "line": {
          "color": "#19d3f3",
          "dash": "solid"
         },
         "marker": {
          "symbol": "circle"
         },
         "mode": "lines",
         "name": "Nikkei (Japan)",
         "orientation": "v",
         "showlegend": true,
         "type": "scatter",
         "x": [
          "2023-01-06T00:00:00",
          "2023-01-09T00:00:00",
          "2023-01-10T00:00:00",
          "2023-01-11T00:00:00",
          "2023-01-12T00:00:00",
          "2023-01-13T00:00:00",
          "2023-01-16T00:00:00",
          "2023-01-17T00:00:00",
          "2023-01-18T00:00:00",
          "2023-01-19T00:00:00",
          "2023-01-20T00:00:00",
          "2023-01-23T00:00:00",
          "2023-01-24T00:00:00",
          "2023-01-25T00:00:00",
          "2023-01-26T00:00:00",
          "2023-01-27T00:00:00",
          "2023-01-30T00:00:00",
          "2023-01-31T00:00:00",
          "2023-02-01T00:00:00",
          "2023-02-02T00:00:00",
          "2023-02-03T00:00:00",
          "2023-02-06T00:00:00",
          "2023-02-07T00:00:00",
          "2023-02-08T00:00:00",
          "2023-02-09T00:00:00",
          "2023-02-10T00:00:00",
          "2023-02-13T00:00:00",
          "2023-02-14T00:00:00",
          "2023-02-15T00:00:00",
          "2023-02-16T00:00:00",
          "2023-02-17T00:00:00",
          "2023-02-20T00:00:00",
          "2023-02-21T00:00:00",
          "2023-02-22T00:00:00",
          "2023-02-23T00:00:00",
          "2023-02-24T00:00:00",
          "2023-02-27T00:00:00",
          "2023-02-28T00:00:00",
          "2023-03-01T00:00:00",
          "2023-03-02T00:00:00",
          "2023-03-03T00:00:00",
          "2023-03-06T00:00:00",
          "2023-03-07T00:00:00",
          "2023-03-08T00:00:00",
          "2023-03-09T00:00:00",
          "2023-03-10T00:00:00",
          "2023-03-13T00:00:00",
          "2023-03-14T00:00:00",
          "2023-03-15T00:00:00",
          "2023-03-16T00:00:00",
          "2023-03-17T00:00:00",
          "2023-03-20T00:00:00",
          "2023-03-21T00:00:00",
          "2023-03-22T00:00:00",
          "2023-03-23T00:00:00",
          "2023-03-24T00:00:00",
          "2023-03-27T00:00:00",
          "2023-03-28T00:00:00",
          "2023-03-29T00:00:00",
          "2023-03-30T00:00:00",
          "2023-03-31T00:00:00",
          "2023-04-03T00:00:00",
          "2023-04-04T00:00:00",
          "2023-04-05T00:00:00",
          "2023-04-06T00:00:00",
          "2023-04-07T00:00:00",
          "2023-04-10T00:00:00",
          "2023-04-11T00:00:00",
          "2023-04-12T00:00:00",
          "2023-04-13T00:00:00",
          "2023-04-14T00:00:00",
          "2023-04-17T00:00:00",
          "2023-04-18T00:00:00",
          "2023-04-19T00:00:00",
          "2023-04-20T00:00:00",
          "2023-04-21T00:00:00",
          "2023-04-24T00:00:00",
          "2023-04-25T00:00:00",
          "2023-04-26T00:00:00",
          "2023-04-27T00:00:00",
          "2023-04-28T00:00:00",
          "2023-05-01T00:00:00",
          "2023-05-02T00:00:00",
          "2023-05-03T00:00:00",
          "2023-05-04T00:00:00",
          "2023-05-05T00:00:00",
          "2023-05-08T00:00:00",
          "2023-05-09T00:00:00",
          "2023-05-10T00:00:00",
          "2023-05-11T00:00:00",
          "2023-05-12T00:00:00",
          "2023-05-15T00:00:00",
          "2023-05-16T00:00:00",
          "2023-05-17T00:00:00",
          "2023-05-18T00:00:00",
          "2023-05-19T00:00:00",
          "2023-05-22T00:00:00",
          "2023-05-23T00:00:00",
          "2023-05-24T00:00:00",
          "2023-05-25T00:00:00",
          "2023-05-26T00:00:00",
          "2023-05-29T00:00:00",
          "2023-05-30T00:00:00",
          "2023-05-31T00:00:00",
          "2023-06-01T00:00:00",
          "2023-06-02T00:00:00",
          "2023-06-05T00:00:00",
          "2023-06-06T00:00:00",
          "2023-06-07T00:00:00",
          "2023-06-08T00:00:00",
          "2023-06-09T00:00:00",
          "2023-06-12T00:00:00",
          "2023-06-13T00:00:00",
          "2023-06-14T00:00:00",
          "2023-06-15T00:00:00",
          "2023-06-16T00:00:00",
          "2023-06-19T00:00:00",
          "2023-06-20T00:00:00",
          "2023-06-21T00:00:00",
          "2023-06-22T00:00:00",
          "2023-06-23T00:00:00",
          "2023-06-26T00:00:00",
          "2023-06-27T00:00:00",
          "2023-06-28T00:00:00",
          "2023-06-29T00:00:00",
          "2023-06-30T00:00:00",
          "2023-07-03T00:00:00",
          "2023-07-04T00:00:00",
          "2023-07-05T00:00:00",
          "2023-07-06T00:00:00"
         ],
         "xaxis": "x",
         "y": [
          null,
          null,
          -0.0026628841343018144,
          0.0022282141809298545,
          0.005862609559119598,
          0.01624634302725777,
          0.016617067478005117,
          0.008811715876569343,
          0.013452014974266456,
          0.012204834243955767,
          0.030224053368280386,
          0.030224053368280386,
          0.030224053368280386,
          0.030224053368280386,
          0.05363297581726498,
          0.05902992890746704,
          0.031361101212477455,
          0.02100392732542984,
          0.03147207143301588,
          0.026301997731675845,
          0.012643066363642482,
          -0.007799980287765268,
          -0.004199905110986437,
          -0.00491286411540655,
          0.010974521682386757,
          -0.009296717352191399,
          -0.01052444024580826,
          -0.01292095688255997,
          -0.027307998414003956,
          -0.018910787711302588,
          -0.031755632560400544,
          -0.023720820730271017,
          -0.04098350597558663,
          -0.04614306808204552,
          -0.04969867685874623,
          -0.06661180567663005,
          -0.06994214104441598,
          -0.07787434960962099,
          -0.03659844647869075,
          -0.04586788376753607,
          -0.03913184712591882,
          -0.037400014786745185,
          -0.04074045912385187,
          -0.06455441047037834,
          -0.07083353139796443,
          -0.1017092224739967,
          -0.08243182443133694,
          -0.1054407766206577,
          -0.0903889568268246,
          -0.10773199414885706,
          -0.09147856965506457,
          -0.11836951018972078,
          -0.10487989643086669,
          -0.08775369665105603,
          -0.0646346767674994,
          -0.07133856094302382,
          -0.0889661977391547,
          -0.07793950216385628,
          -0.057539591085878784,
          -0.051775325471135794,
          -0.04730564406388684,
          -0.04686112210049439,
          -0.05347753627718534,
          -0.05347753627718534,
          -0.05068929287732315,
          -0.05068929287732315,
          -0.05068929287732315,
          -0.043141268158248966,
          -0.051739454780068826,
          -0.050036261357062545,
          -0.04541033519997885,
          -0.028737063461219133,
          -0.035105901330261924,
          -0.048892659370137176,
          -0.04745951154044075,
          -0.06333426026215616,
          -0.06911866895114663,
          -0.08640446732165712,
          -0.07932440526443281,
          -0.07513172719819461,
          -0.07239906053689256,
          -0.07239906053689256,
          -0.07042859393870578,
          -0.08226990324654129,
          -0.06968040075988306,
          -0.06465113994747619,
          -0.05237137113572007,
          -0.07375664498618298,
          -0.07907492379712072,
          -0.08000694237879061,
          -0.08592749719560837,
          -0.06855813268425218,
          -0.06820172462248915,
          -0.08933008515690334,
          -0.08084497775159971,
          -0.09496951480528347,
          -0.08333601089383254,
          -0.09596331159436555,
          -0.11232390391165184,
          -0.13181643833013712,
          -0.13181643833013712,
          -0.14231631457186078,
          -0.1399112709731169,
          -0.15954314157083282,
          -0.16049561424585726,
          -0.12104516998171343,
          -0.11271264418347823,
          -0.11319530522652713,
          -0.10523095497842952,
          -0.10278331465008284,
          -0.09809105610833681,
          -0.09735067189336283,
          -0.09133358618057578,
          -0.09713891791647306,
          -0.07570443224564685,
          -0.06509721018140997,
          -0.07147861430083617,
          -0.08695517693435413,
          -0.10698037496285151,
          -0.10698037496285151,
          -0.12421477582687587,
          -0.12930127365542762,
          -0.11064080081090955,
          -0.10939237640592876,
          -0.1218676784870991,
          -0.12281506633740001,
          -0.10239942610539247,
          -0.09676493547862346,
          -0.11261421851876888,
          -0.14329023956308828
         ],
         "yaxis": "y"
        },
        {
         "hovertemplate": "variable=Hang Seng (H.K.)<br>Date=%{x}<br>value=%{y}<extra></extra>",
         "legendgroup": "Hang Seng (H.K.)",
         "line": {
          "color": "#FF6692",
          "dash": "solid"
         },
         "marker": {
          "symbol": "circle"
         },
         "mode": "lines",
         "name": "Hang Seng (H.K.)",
         "orientation": "v",
         "showlegend": true,
         "type": "scatter",
         "x": [
          "2023-01-06T00:00:00",
          "2023-01-09T00:00:00",
          "2023-01-10T00:00:00",
          "2023-01-11T00:00:00",
          "2023-01-12T00:00:00",
          "2023-01-13T00:00:00",
          "2023-01-16T00:00:00",
          "2023-01-17T00:00:00",
          "2023-01-18T00:00:00",
          "2023-01-19T00:00:00",
          "2023-01-20T00:00:00",
          "2023-01-23T00:00:00",
          "2023-01-24T00:00:00",
          "2023-01-25T00:00:00",
          "2023-01-26T00:00:00",
          "2023-01-27T00:00:00",
          "2023-01-30T00:00:00",
          "2023-01-31T00:00:00",
          "2023-02-01T00:00:00",
          "2023-02-02T00:00:00",
          "2023-02-03T00:00:00",
          "2023-02-06T00:00:00",
          "2023-02-07T00:00:00",
          "2023-02-08T00:00:00",
          "2023-02-09T00:00:00",
          "2023-02-10T00:00:00",
          "2023-02-13T00:00:00",
          "2023-02-14T00:00:00",
          "2023-02-15T00:00:00",
          "2023-02-16T00:00:00",
          "2023-02-17T00:00:00",
          "2023-02-20T00:00:00",
          "2023-02-21T00:00:00",
          "2023-02-22T00:00:00",
          "2023-02-23T00:00:00",
          "2023-02-24T00:00:00",
          "2023-02-27T00:00:00",
          "2023-02-28T00:00:00",
          "2023-03-01T00:00:00",
          "2023-03-02T00:00:00",
          "2023-03-03T00:00:00",
          "2023-03-06T00:00:00",
          "2023-03-07T00:00:00",
          "2023-03-08T00:00:00",
          "2023-03-09T00:00:00",
          "2023-03-10T00:00:00",
          "2023-03-13T00:00:00",
          "2023-03-14T00:00:00",
          "2023-03-15T00:00:00",
          "2023-03-16T00:00:00",
          "2023-03-17T00:00:00",
          "2023-03-20T00:00:00",
          "2023-03-21T00:00:00",
          "2023-03-22T00:00:00",
          "2023-03-23T00:00:00",
          "2023-03-24T00:00:00",
          "2023-03-27T00:00:00",
          "2023-03-28T00:00:00",
          "2023-03-29T00:00:00",
          "2023-03-30T00:00:00",
          "2023-03-31T00:00:00",
          "2023-04-03T00:00:00",
          "2023-04-04T00:00:00",
          "2023-04-05T00:00:00",
          "2023-04-06T00:00:00",
          "2023-04-07T00:00:00",
          "2023-04-10T00:00:00",
          "2023-04-11T00:00:00",
          "2023-04-12T00:00:00",
          "2023-04-13T00:00:00",
          "2023-04-14T00:00:00",
          "2023-04-17T00:00:00",
          "2023-04-18T00:00:00",
          "2023-04-19T00:00:00",
          "2023-04-20T00:00:00",
          "2023-04-21T00:00:00",
          "2023-04-24T00:00:00",
          "2023-04-25T00:00:00",
          "2023-04-26T00:00:00",
          "2023-04-27T00:00:00",
          "2023-04-28T00:00:00",
          "2023-05-01T00:00:00",
          "2023-05-02T00:00:00",
          "2023-05-03T00:00:00",
          "2023-05-04T00:00:00",
          "2023-05-05T00:00:00",
          "2023-05-08T00:00:00",
          "2023-05-09T00:00:00",
          "2023-05-10T00:00:00",
          "2023-05-11T00:00:00",
          "2023-05-12T00:00:00",
          "2023-05-15T00:00:00",
          "2023-05-16T00:00:00",
          "2023-05-17T00:00:00",
          "2023-05-18T00:00:00",
          "2023-05-19T00:00:00",
          "2023-05-22T00:00:00",
          "2023-05-23T00:00:00",
          "2023-05-24T00:00:00",
          "2023-05-25T00:00:00",
          "2023-05-26T00:00:00",
          "2023-05-29T00:00:00",
          "2023-05-30T00:00:00",
          "2023-05-31T00:00:00",
          "2023-06-01T00:00:00",
          "2023-06-02T00:00:00",
          "2023-06-05T00:00:00",
          "2023-06-06T00:00:00",
          "2023-06-07T00:00:00",
          "2023-06-08T00:00:00",
          "2023-06-09T00:00:00",
          "2023-06-12T00:00:00",
          "2023-06-13T00:00:00",
          "2023-06-14T00:00:00",
          "2023-06-15T00:00:00",
          "2023-06-16T00:00:00",
          "2023-06-19T00:00:00",
          "2023-06-20T00:00:00",
          "2023-06-21T00:00:00",
          "2023-06-22T00:00:00",
          "2023-06-23T00:00:00",
          "2023-06-26T00:00:00",
          "2023-06-27T00:00:00",
          "2023-06-28T00:00:00",
          "2023-06-29T00:00:00",
          "2023-06-30T00:00:00",
          "2023-07-03T00:00:00",
          "2023-07-04T00:00:00",
          "2023-07-05T00:00:00",
          "2023-07-06T00:00:00"
         ],
         "xaxis": "x",
         "y": [
          null,
          0.006258972376728372,
          0.016267297068738633,
          0.033711443772857355,
          0.04004260220834041,
          0.04711325019137853,
          0.04711325019137853,
          0.04855187231496118,
          0.0360267826084483,
          0.026421601417312743,
          0.05262817526159243,
          0.07253392585310663,
          0.06987820815236853,
          0.06803172922839415,
          0.08547296745105161,
          0.09492226722191527,
          0.07511755768103788,
          0.09171966685573346,
          0.11152902314911065,
          0.14355055812574752,
          0.1275330349864533,
          0.11753060811141272,
          0.13639184623606626,
          0.11946937376484235,
          0.1092634670491464,
          0.10318374164355175,
          0.11789561925183688,
          0.12362769282785141,
          0.1328192724119823,
          0.11486710622652202,
          0.10906746572406031,
          0.10906746572406031,
          0.08372459881528874,
          0.08500902615115767,
          0.09222457288681306,
          0.07521680484254781,
          0.08151901171499445,
          0.0805208291081988,
          0.07385914456383882,
          0.08117012319734905,
          0.10069643399700773,
          0.09956057483509341,
          0.08702833155317856,
          0.09098135924663303,
          0.07023812053335436,
          0.05248992695680986,
          0.056964208917292355,
          0.07812701403706628,
          0.07864309859087468,
          0.10311206855613997,
          0.09567916744142943,
          0.09954342842511818,
          0.11522806795997365,
          0.09906538527065444,
          0.10907856741714266,
          0.11217534786396811,
          0.10750271740616588,
          0.10300963379684423,
          0.12078840416652974,
          0.12807586741247182,
          0.14527762537722821,
          0.14261820946585804,
          0.13742649788965147,
          0.12669234810263097,
          0.1342572825840493,
          0.1342572825840493,
          0.1339594535502559,
          0.12960715393119443,
          0.12104826868311612,
          0.14071470003792538,
          0.1371905906575257,
          0.14001170638429494,
          0.13965717161948443,
          0.13997146301068036,
          0.1319050406750376,
          0.13297419212646477,
          0.13004924083849487,
          0.11007572565698462,
          0.11474222579360778,
          0.13873767183393393,
          0.14565964667073397,
          0.1445155435990459,
          0.1336407606749031,
          0.12906263485687394,
          0.12415012501620114,
          0.14638158944185914,
          0.14813803899863037,
          0.14180566966777863,
          0.1521701074285198,
          0.1539618173095213,
          0.15040523072401568,
          0.15693425100849492,
          0.15514050572639598,
          0.1678216381849175,
          0.1827702245920811,
          0.1803289269573293,
          0.18528426819944363,
          0.1725844352180109,
          0.1665080231647126,
          0.1834989460659418,
          0.20512500986100002,
          0.20512500986100002,
          0.2083365745750262,
          0.20200660811522683,
          0.21473444226656155,
          0.2253480404329317,
          0.22449123959437284,
          0.2280368934252272,
          0.2150336057959441,
          0.22517809629280727,
          0.22673446934523472,
          0.24191232303151244,
          0.25015349419596133,
          0.2540623628207581,
          0.2654702816514969,
          0.2586816217639413,
          0.2586816217639413,
          0.25705275952775414,
          0.24490001951301107,
          0.25436539463521907,
          0.24418279299052467,
          0.23249803903326113,
          0.2488522741385287,
          0.25151036094547047,
          0.25147946511807884,
          0.2658402107422506,
          0.267930407766743,
          0.267930407766743,
          0.26611073480991976,
          0.2545928410416779
         ],
         "yaxis": "y"
        },
        {
         "hovertemplate": "variable='FIX' China large-cap ETF<br>Date=%{x}<br>value=%{y}<extra></extra>",
         "legendgroup": "'FIX' China large-cap ETF",
         "line": {
          "color": "#B6E880",
          "dash": "solid"
         },
         "marker": {
          "symbol": "circle"
         },
         "mode": "lines",
         "name": "'FIX' China large-cap ETF",
         "orientation": "v",
         "showlegend": true,
         "type": "scatter",
         "x": [
          "2023-01-06T00:00:00",
          "2023-01-09T00:00:00",
          "2023-01-10T00:00:00",
          "2023-01-11T00:00:00",
          "2023-01-12T00:00:00",
          "2023-01-13T00:00:00",
          "2023-01-16T00:00:00",
          "2023-01-17T00:00:00",
          "2023-01-18T00:00:00",
          "2023-01-19T00:00:00",
          "2023-01-20T00:00:00",
          "2023-01-23T00:00:00",
          "2023-01-24T00:00:00",
          "2023-01-25T00:00:00",
          "2023-01-26T00:00:00",
          "2023-01-27T00:00:00",
          "2023-01-30T00:00:00",
          "2023-01-31T00:00:00",
          "2023-02-01T00:00:00",
          "2023-02-02T00:00:00",
          "2023-02-03T00:00:00",
          "2023-02-06T00:00:00",
          "2023-02-07T00:00:00",
          "2023-02-08T00:00:00",
          "2023-02-09T00:00:00",
          "2023-02-10T00:00:00",
          "2023-02-13T00:00:00",
          "2023-02-14T00:00:00",
          "2023-02-15T00:00:00",
          "2023-02-16T00:00:00",
          "2023-02-17T00:00:00",
          "2023-02-20T00:00:00",
          "2023-02-21T00:00:00",
          "2023-02-22T00:00:00",
          "2023-02-23T00:00:00",
          "2023-02-24T00:00:00",
          "2023-02-27T00:00:00",
          "2023-02-28T00:00:00",
          "2023-03-01T00:00:00",
          "2023-03-02T00:00:00",
          "2023-03-03T00:00:00",
          "2023-03-06T00:00:00",
          "2023-03-07T00:00:00",
          "2023-03-08T00:00:00",
          "2023-03-09T00:00:00",
          "2023-03-10T00:00:00",
          "2023-03-13T00:00:00",
          "2023-03-14T00:00:00",
          "2023-03-15T00:00:00",
          "2023-03-16T00:00:00",
          "2023-03-17T00:00:00",
          "2023-03-20T00:00:00",
          "2023-03-21T00:00:00",
          "2023-03-22T00:00:00",
          "2023-03-23T00:00:00",
          "2023-03-24T00:00:00",
          "2023-03-27T00:00:00",
          "2023-03-28T00:00:00",
          "2023-03-29T00:00:00",
          "2023-03-30T00:00:00",
          "2023-03-31T00:00:00",
          "2023-04-03T00:00:00",
          "2023-04-04T00:00:00",
          "2023-04-05T00:00:00",
          "2023-04-06T00:00:00",
          "2023-04-07T00:00:00",
          "2023-04-10T00:00:00",
          "2023-04-11T00:00:00",
          "2023-04-12T00:00:00",
          "2023-04-13T00:00:00",
          "2023-04-14T00:00:00",
          "2023-04-17T00:00:00",
          "2023-04-18T00:00:00",
          "2023-04-19T00:00:00",
          "2023-04-20T00:00:00",
          "2023-04-21T00:00:00",
          "2023-04-24T00:00:00",
          "2023-04-25T00:00:00",
          "2023-04-26T00:00:00",
          "2023-04-27T00:00:00",
          "2023-04-28T00:00:00",
          "2023-05-01T00:00:00",
          "2023-05-02T00:00:00",
          "2023-05-03T00:00:00",
          "2023-05-04T00:00:00",
          "2023-05-05T00:00:00",
          "2023-05-08T00:00:00",
          "2023-05-09T00:00:00",
          "2023-05-10T00:00:00",
          "2023-05-11T00:00:00",
          "2023-05-12T00:00:00",
          "2023-05-15T00:00:00",
          "2023-05-16T00:00:00",
          "2023-05-17T00:00:00",
          "2023-05-18T00:00:00",
          "2023-05-19T00:00:00",
          "2023-05-22T00:00:00",
          "2023-05-23T00:00:00",
          "2023-05-24T00:00:00",
          "2023-05-25T00:00:00",
          "2023-05-26T00:00:00",
          "2023-05-29T00:00:00",
          "2023-05-30T00:00:00",
          "2023-05-31T00:00:00",
          "2023-06-01T00:00:00",
          "2023-06-02T00:00:00",
          "2023-06-05T00:00:00",
          "2023-06-06T00:00:00",
          "2023-06-07T00:00:00",
          "2023-06-08T00:00:00",
          "2023-06-09T00:00:00",
          "2023-06-12T00:00:00",
          "2023-06-13T00:00:00",
          "2023-06-14T00:00:00",
          "2023-06-15T00:00:00",
          "2023-06-16T00:00:00",
          "2023-06-19T00:00:00",
          "2023-06-20T00:00:00",
          "2023-06-21T00:00:00",
          "2023-06-22T00:00:00",
          "2023-06-23T00:00:00",
          "2023-06-26T00:00:00",
          "2023-06-27T00:00:00",
          "2023-06-28T00:00:00",
          "2023-06-29T00:00:00",
          "2023-06-30T00:00:00",
          "2023-07-03T00:00:00",
          "2023-07-04T00:00:00",
          "2023-07-05T00:00:00",
          "2023-07-06T00:00:00"
         ],
         "xaxis": "x",
         "y": [
          null,
          null,
          null,
          0.010278746253945429,
          0.010423192922286089,
          -0.002143262310475496,
          -0.013586925569513625,
          -0.001409974237216411,
          0.023244285369368255,
          0.008735942463941352,
          0.014336497175274004,
          0.027524589995333606,
          0.04203083950773936,
          0.04553469958435171,
          0.044356427518608604,
          0.04508016248483017,
          0.046935091503963064,
          0.04305305499387466,
          0.043776305122577595,
          0.04579168474353649,
          0.049703807716591095,
          0.056376987260634406,
          0.05608158034922323,
          0.05322366538558193,
          0.05242239687407003,
          0.05555805565068485,
          0.046713436444679624,
          0.053089941143307284,
          0.04942744414250473,
          0.05647769345230966,
          0.049837204627226905,
          0.050520593507474426,
          0.04838115802315308,
          0.03486696442423383,
          0.03486696442423383,
          0.04766678107008387,
          0.04659094614262502,
          0.047378254284062706,
          0.04996071756532884,
          0.04931870978721012,
          0.0647846455484197,
          0.07583460085610985,
          0.07835926082815846,
          0.08311773068390169,
          0.08938967273139535,
          0.07250697515053696,
          0.0613947917274904,
          0.03920073298886028,
          0.03947405525278928,
          0.03140355675782688,
          0.043297459594757275,
          0.028996441762972586,
          0.028996441762972586,
          0.04814489050280484,
          0.04643225616367796,
          0.0451783753985948,
          0.048518356691019705,
          0.050023249046241045,
          0.06321896066677599,
          0.05959562019813917,
          0.06885868734947485,
          0.07407551884107257,
          0.07759100820885625,
          0.06068670508838983,
          0.04836409573292529,
          0.05002544928820379,
          0.05420842864856955,
          0.06463776995912324,
          0.07032752868097497,
          0.07296877915971799,
          0.08484879101096761,
          0.08559635280219444,
          0.09063542896476316,
          0.08881687345900795,
          0.09059147066952425,
          0.08733393500460142,
          0.08835393045333667,
          0.08928205900560758,
          0.08214275951334005,
          0.0835918885571482,
          0.09750700078136369,
          0.10670823805197245,
          0.10790140421149862,
          0.10790140421149862,
          0.10790140421149862,
          0.10790140421149862,
          0.10073991673693147,
          0.11080791226538082,
          0.10667390055244193,
          0.10682981819565059,
          0.11577049065721419,
          0.12383765334515784,
          0.13112380736107132,
          0.13948601519285608,
          0.15532150294736013,
          0.16295957257373345,
          0.1719577733186291,
          0.16779783068130194,
          0.15887214394303256,
          0.16272523363829353,
          0.16645772217294766,
          0.17666631552020623,
          0.17969120669419641,
          0.16553772989221938,
          0.17392417935734533,
          0.18592998970044053,
          0.20768142886543423,
          0.21662248945235504,
          0.19821047352359966,
          0.18963609446317936,
          0.20916214593908897,
          0.21438108341649714,
          0.2322463341412304,
          0.2467915591133133,
          0.2462859874640055,
          0.25285200900704347,
          0.24284376314610556,
          0.24339764171738903,
          0.2489597589040588,
          0.23967598103147553,
          0.22503935159883767,
          0.22251253064764343,
          0.21759260954370746,
          0.23754261177957955,
          0.23875150774883538,
          0.2373935008107911,
          0.25425285168720846,
          0.24440373836858303,
          0.24189268904645966,
          0.22477942974196857
         ],
         "yaxis": "y"
        }
       ],
       "layout": {
        "height": 600,
        "legend": {
         "title": {
          "text": ""
         },
         "tracegroupgap": 0
        },
        "margin": {
         "t": 60
        },
        "showlegend": true,
        "template": {
         "data": {
          "bar": [
           {
            "error_x": {
             "color": "#f2f5fa"
            },
            "error_y": {
             "color": "#f2f5fa"
            },
            "marker": {
             "line": {
              "color": "rgb(17,17,17)",
              "width": 0.5
             },
             "pattern": {
              "fillmode": "overlay",
              "size": 10,
              "solidity": 0.2
             }
            },
            "type": "bar"
           }
          ],
          "barpolar": [
           {
            "marker": {
             "line": {
              "color": "rgb(17,17,17)",
              "width": 0.5
             },
             "pattern": {
              "fillmode": "overlay",
              "size": 10,
              "solidity": 0.2
             }
            },
            "type": "barpolar"
           }
          ],
          "carpet": [
           {
            "aaxis": {
             "endlinecolor": "#A2B1C6",
             "gridcolor": "#506784",
             "linecolor": "#506784",
             "minorgridcolor": "#506784",
             "startlinecolor": "#A2B1C6"
            },
            "baxis": {
             "endlinecolor": "#A2B1C6",
             "gridcolor": "#506784",
             "linecolor": "#506784",
             "minorgridcolor": "#506784",
             "startlinecolor": "#A2B1C6"
            },
            "type": "carpet"
           }
          ],
          "choropleth": [
           {
            "colorbar": {
             "outlinewidth": 0,
             "ticks": ""
            },
            "type": "choropleth"
           }
          ],
          "contour": [
           {
            "colorbar": {
             "outlinewidth": 0,
             "ticks": ""
            },
            "colorscale": [
             [
              0,
              "#0d0887"
             ],
             [
              0.1111111111111111,
              "#46039f"
             ],
             [
              0.2222222222222222,
              "#7201a8"
             ],
             [
              0.3333333333333333,
              "#9c179e"
             ],
             [
              0.4444444444444444,
              "#bd3786"
             ],
             [
              0.5555555555555556,
              "#d8576b"
             ],
             [
              0.6666666666666666,
              "#ed7953"
             ],
             [
              0.7777777777777778,
              "#fb9f3a"
             ],
             [
              0.8888888888888888,
              "#fdca26"
             ],
             [
              1,
              "#f0f921"
             ]
            ],
            "type": "contour"
           }
          ],
          "contourcarpet": [
           {
            "colorbar": {
             "outlinewidth": 0,
             "ticks": ""
            },
            "type": "contourcarpet"
           }
          ],
          "heatmap": [
           {
            "colorbar": {
             "outlinewidth": 0,
             "ticks": ""
            },
            "colorscale": [
             [
              0,
              "#0d0887"
             ],
             [
              0.1111111111111111,
              "#46039f"
             ],
             [
              0.2222222222222222,
              "#7201a8"
             ],
             [
              0.3333333333333333,
              "#9c179e"
             ],
             [
              0.4444444444444444,
              "#bd3786"
             ],
             [
              0.5555555555555556,
              "#d8576b"
             ],
             [
              0.6666666666666666,
              "#ed7953"
             ],
             [
              0.7777777777777778,
              "#fb9f3a"
             ],
             [
              0.8888888888888888,
              "#fdca26"
             ],
             [
              1,
              "#f0f921"
             ]
            ],
            "type": "heatmap"
           }
          ],
          "heatmapgl": [
           {
            "colorbar": {
             "outlinewidth": 0,
             "ticks": ""
            },
            "colorscale": [
             [
              0,
              "#0d0887"
             ],
             [
              0.1111111111111111,
              "#46039f"
             ],
             [
              0.2222222222222222,
              "#7201a8"
             ],
             [
              0.3333333333333333,
              "#9c179e"
             ],
             [
              0.4444444444444444,
              "#bd3786"
             ],
             [
              0.5555555555555556,
              "#d8576b"
             ],
             [
              0.6666666666666666,
              "#ed7953"
             ],
             [
              0.7777777777777778,
              "#fb9f3a"
             ],
             [
              0.8888888888888888,
              "#fdca26"
             ],
             [
              1,
              "#f0f921"
             ]
            ],
            "type": "heatmapgl"
           }
          ],
          "histogram": [
           {
            "marker": {
             "pattern": {
              "fillmode": "overlay",
              "size": 10,
              "solidity": 0.2
             }
            },
            "type": "histogram"
           }
          ],
          "histogram2d": [
           {
            "colorbar": {
             "outlinewidth": 0,
             "ticks": ""
            },
            "colorscale": [
             [
              0,
              "#0d0887"
             ],
             [
              0.1111111111111111,
              "#46039f"
             ],
             [
              0.2222222222222222,
              "#7201a8"
             ],
             [
              0.3333333333333333,
              "#9c179e"
             ],
             [
              0.4444444444444444,
              "#bd3786"
             ],
             [
              0.5555555555555556,
              "#d8576b"
             ],
             [
              0.6666666666666666,
              "#ed7953"
             ],
             [
              0.7777777777777778,
              "#fb9f3a"
             ],
             [
              0.8888888888888888,
              "#fdca26"
             ],
             [
              1,
              "#f0f921"
             ]
            ],
            "type": "histogram2d"
           }
          ],
          "histogram2dcontour": [
           {
            "colorbar": {
             "outlinewidth": 0,
             "ticks": ""
            },
            "colorscale": [
             [
              0,
              "#0d0887"
             ],
             [
              0.1111111111111111,
              "#46039f"
             ],
             [
              0.2222222222222222,
              "#7201a8"
             ],
             [
              0.3333333333333333,
              "#9c179e"
             ],
             [
              0.4444444444444444,
              "#bd3786"
             ],
             [
              0.5555555555555556,
              "#d8576b"
             ],
             [
              0.6666666666666666,
              "#ed7953"
             ],
             [
              0.7777777777777778,
              "#fb9f3a"
             ],
             [
              0.8888888888888888,
              "#fdca26"
             ],
             [
              1,
              "#f0f921"
             ]
            ],
            "type": "histogram2dcontour"
           }
          ],
          "mesh3d": [
           {
            "colorbar": {
             "outlinewidth": 0,
             "ticks": ""
            },
            "type": "mesh3d"
           }
          ],
          "parcoords": [
           {
            "line": {
             "colorbar": {
              "outlinewidth": 0,
              "ticks": ""
             }
            },
            "type": "parcoords"
           }
          ],
          "pie": [
           {
            "automargin": true,
            "type": "pie"
           }
          ],
          "scatter": [
           {
            "marker": {
             "line": {
              "color": "#283442"
             }
            },
            "type": "scatter"
           }
          ],
          "scatter3d": [
           {
            "line": {
             "colorbar": {
              "outlinewidth": 0,
              "ticks": ""
             }
            },
            "marker": {
             "colorbar": {
              "outlinewidth": 0,
              "ticks": ""
             }
            },
            "type": "scatter3d"
           }
          ],
          "scattercarpet": [
           {
            "marker": {
             "colorbar": {
              "outlinewidth": 0,
              "ticks": ""
             }
            },
            "type": "scattercarpet"
           }
          ],
          "scattergeo": [
           {
            "marker": {
             "colorbar": {
              "outlinewidth": 0,
              "ticks": ""
             }
            },
            "type": "scattergeo"
           }
          ],
          "scattergl": [
           {
            "marker": {
             "line": {
              "color": "#283442"
             }
            },
            "type": "scattergl"
           }
          ],
          "scattermapbox": [
           {
            "marker": {
             "colorbar": {
              "outlinewidth": 0,
              "ticks": ""
             }
            },
            "type": "scattermapbox"
           }
          ],
          "scatterpolar": [
           {
            "marker": {
             "colorbar": {
              "outlinewidth": 0,
              "ticks": ""
             }
            },
            "type": "scatterpolar"
           }
          ],
          "scatterpolargl": [
           {
            "marker": {
             "colorbar": {
              "outlinewidth": 0,
              "ticks": ""
             }
            },
            "type": "scatterpolargl"
           }
          ],
          "scatterternary": [
           {
            "marker": {
             "colorbar": {
              "outlinewidth": 0,
              "ticks": ""
             }
            },
            "type": "scatterternary"
           }
          ],
          "surface": [
           {
            "colorbar": {
             "outlinewidth": 0,
             "ticks": ""
            },
            "colorscale": [
             [
              0,
              "#0d0887"
             ],
             [
              0.1111111111111111,
              "#46039f"
             ],
             [
              0.2222222222222222,
              "#7201a8"
             ],
             [
              0.3333333333333333,
              "#9c179e"
             ],
             [
              0.4444444444444444,
              "#bd3786"
             ],
             [
              0.5555555555555556,
              "#d8576b"
             ],
             [
              0.6666666666666666,
              "#ed7953"
             ],
             [
              0.7777777777777778,
              "#fb9f3a"
             ],
             [
              0.8888888888888888,
              "#fdca26"
             ],
             [
              1,
              "#f0f921"
             ]
            ],
            "type": "surface"
           }
          ],
          "table": [
           {
            "cells": {
             "fill": {
              "color": "#506784"
             },
             "line": {
              "color": "rgb(17,17,17)"
             }
            },
            "header": {
             "fill": {
              "color": "#2a3f5f"
             },
             "line": {
              "color": "rgb(17,17,17)"
             }
            },
            "type": "table"
           }
          ]
         },
         "layout": {
          "annotationdefaults": {
           "arrowcolor": "#f2f5fa",
           "arrowhead": 0,
           "arrowwidth": 1
          },
          "autotypenumbers": "strict",
          "coloraxis": {
           "colorbar": {
            "outlinewidth": 0,
            "ticks": ""
           }
          },
          "colorscale": {
           "diverging": [
            [
             0,
             "#8e0152"
            ],
            [
             0.1,
             "#c51b7d"
            ],
            [
             0.2,
             "#de77ae"
            ],
            [
             0.3,
             "#f1b6da"
            ],
            [
             0.4,
             "#fde0ef"
            ],
            [
             0.5,
             "#f7f7f7"
            ],
            [
             0.6,
             "#e6f5d0"
            ],
            [
             0.7,
             "#b8e186"
            ],
            [
             0.8,
             "#7fbc41"
            ],
            [
             0.9,
             "#4d9221"
            ],
            [
             1,
             "#276419"
            ]
           ],
           "sequential": [
            [
             0,
             "#0d0887"
            ],
            [
             0.1111111111111111,
             "#46039f"
            ],
            [
             0.2222222222222222,
             "#7201a8"
            ],
            [
             0.3333333333333333,
             "#9c179e"
            ],
            [
             0.4444444444444444,
             "#bd3786"
            ],
            [
             0.5555555555555556,
             "#d8576b"
            ],
            [
             0.6666666666666666,
             "#ed7953"
            ],
            [
             0.7777777777777778,
             "#fb9f3a"
            ],
            [
             0.8888888888888888,
             "#fdca26"
            ],
            [
             1,
             "#f0f921"
            ]
           ],
           "sequentialminus": [
            [
             0,
             "#0d0887"
            ],
            [
             0.1111111111111111,
             "#46039f"
            ],
            [
             0.2222222222222222,
             "#7201a8"
            ],
            [
             0.3333333333333333,
             "#9c179e"
            ],
            [
             0.4444444444444444,
             "#bd3786"
            ],
            [
             0.5555555555555556,
             "#d8576b"
            ],
            [
             0.6666666666666666,
             "#ed7953"
            ],
            [
             0.7777777777777778,
             "#fb9f3a"
            ],
            [
             0.8888888888888888,
             "#fdca26"
            ],
            [
             1,
             "#f0f921"
            ]
           ]
          },
          "colorway": [
           "#636efa",
           "#EF553B",
           "#00cc96",
           "#ab63fa",
           "#FFA15A",
           "#19d3f3",
           "#FF6692",
           "#B6E880",
           "#FF97FF",
           "#FECB52"
          ],
          "font": {
           "color": "#f2f5fa"
          },
          "geo": {
           "bgcolor": "rgb(17,17,17)",
           "lakecolor": "rgb(17,17,17)",
           "landcolor": "rgb(17,17,17)",
           "showlakes": true,
           "showland": true,
           "subunitcolor": "#506784"
          },
          "hoverlabel": {
           "align": "left"
          },
          "hovermode": "closest",
          "mapbox": {
           "style": "dark"
          },
          "paper_bgcolor": "rgb(17,17,17)",
          "plot_bgcolor": "rgb(17,17,17)",
          "polar": {
           "angularaxis": {
            "gridcolor": "#506784",
            "linecolor": "#506784",
            "ticks": ""
           },
           "bgcolor": "rgb(17,17,17)",
           "radialaxis": {
            "gridcolor": "#506784",
            "linecolor": "#506784",
            "ticks": ""
           }
          },
          "scene": {
           "xaxis": {
            "backgroundcolor": "rgb(17,17,17)",
            "gridcolor": "#506784",
            "gridwidth": 2,
            "linecolor": "#506784",
            "showbackground": true,
            "ticks": "",
            "zerolinecolor": "#C8D4E3"
           },
           "yaxis": {
            "backgroundcolor": "rgb(17,17,17)",
            "gridcolor": "#506784",
            "gridwidth": 2,
            "linecolor": "#506784",
            "showbackground": true,
            "ticks": "",
            "zerolinecolor": "#C8D4E3"
           },
           "zaxis": {
            "backgroundcolor": "rgb(17,17,17)",
            "gridcolor": "#506784",
            "gridwidth": 2,
            "linecolor": "#506784",
            "showbackground": true,
            "ticks": "",
            "zerolinecolor": "#C8D4E3"
           }
          },
          "shapedefaults": {
           "line": {
            "color": "#f2f5fa"
           }
          },
          "sliderdefaults": {
           "bgcolor": "#C8D4E3",
           "bordercolor": "rgb(17,17,17)",
           "borderwidth": 1,
           "tickwidth": 0
          },
          "ternary": {
           "aaxis": {
            "gridcolor": "#506784",
            "linecolor": "#506784",
            "ticks": ""
           },
           "baxis": {
            "gridcolor": "#506784",
            "linecolor": "#506784",
            "ticks": ""
           },
           "bgcolor": "rgb(17,17,17)",
           "caxis": {
            "gridcolor": "#506784",
            "linecolor": "#506784",
            "ticks": ""
           }
          },
          "title": {
           "x": 0.05
          },
          "updatemenudefaults": {
           "bgcolor": "#506784",
           "borderwidth": 0
          },
          "xaxis": {
           "automargin": true,
           "gridcolor": "#283442",
           "linecolor": "#506784",
           "ticks": "",
           "title": {
            "standoff": 15
           },
           "zerolinecolor": "#283442",
           "zerolinewidth": 2
          },
          "yaxis": {
           "automargin": true,
           "gridcolor": "#283442",
           "linecolor": "#506784",
           "ticks": "",
           "title": {
            "standoff": 15
           },
           "zerolinecolor": "#283442",
           "zerolinewidth": 2
          }
         }
        },
        "title": {
         "text": "<b>Cumulative Returns of Equity Indexes over the last 6 months</b>"
        },
        "xaxis": {
         "anchor": "y",
         "domain": [
          0,
          1
         ],
         "title": {
          "text": ""
         }
        },
        "yaxis": {
         "anchor": "x",
         "domain": [
          0,
          1
         ],
         "title": {
          "text": "Cumulative log returns"
         }
        }
       }
      }
     },
     "metadata": {},
     "output_type": "display_data"
    },
    {
     "data": {
      "application/vnd.plotly.v1+json": {
       "config": {
        "plotlyServerURL": "https://plot.ly"
       },
       "data": [
        {
         "type": "scatter",
         "x": [
          "2023-01-06T00:00:00",
          "2023-01-09T00:00:00",
          "2023-01-10T00:00:00",
          "2023-01-11T00:00:00",
          "2023-01-12T00:00:00",
          "2023-01-13T00:00:00",
          "2023-01-16T00:00:00",
          "2023-01-17T00:00:00",
          "2023-01-18T00:00:00",
          "2023-01-19T00:00:00",
          "2023-01-20T00:00:00",
          "2023-01-23T00:00:00",
          "2023-01-24T00:00:00",
          "2023-01-25T00:00:00",
          "2023-01-26T00:00:00",
          "2023-01-27T00:00:00",
          "2023-01-30T00:00:00",
          "2023-01-31T00:00:00",
          "2023-02-01T00:00:00",
          "2023-02-02T00:00:00",
          "2023-02-03T00:00:00",
          "2023-02-06T00:00:00",
          "2023-02-07T00:00:00",
          "2023-02-08T00:00:00",
          "2023-02-09T00:00:00",
          "2023-02-10T00:00:00",
          "2023-02-13T00:00:00",
          "2023-02-14T00:00:00",
          "2023-02-15T00:00:00",
          "2023-02-16T00:00:00",
          "2023-02-17T00:00:00",
          "2023-02-21T00:00:00",
          "2023-02-22T00:00:00",
          "2023-02-23T00:00:00",
          "2023-02-24T00:00:00",
          "2023-02-27T00:00:00",
          "2023-02-28T00:00:00",
          "2023-03-01T00:00:00",
          "2023-03-02T00:00:00",
          "2023-03-03T00:00:00",
          "2023-03-06T00:00:00",
          "2023-03-07T00:00:00",
          "2023-03-08T00:00:00",
          "2023-03-09T00:00:00",
          "2023-03-10T00:00:00",
          "2023-03-13T00:00:00",
          "2023-03-14T00:00:00",
          "2023-03-15T00:00:00",
          "2023-03-16T00:00:00",
          "2023-03-17T00:00:00",
          "2023-03-20T00:00:00",
          "2023-03-21T00:00:00",
          "2023-03-22T00:00:00",
          "2023-03-23T00:00:00",
          "2023-03-24T00:00:00",
          "2023-03-27T00:00:00",
          "2023-03-28T00:00:00",
          "2023-03-29T00:00:00",
          "2023-03-30T00:00:00",
          "2023-03-31T00:00:00",
          "2023-04-03T00:00:00",
          "2023-04-04T00:00:00",
          "2023-04-05T00:00:00",
          "2023-04-06T00:00:00",
          "2023-04-10T00:00:00",
          "2023-04-11T00:00:00",
          "2023-04-12T00:00:00",
          "2023-04-13T00:00:00",
          "2023-04-14T00:00:00",
          "2023-04-17T00:00:00",
          "2023-04-18T00:00:00",
          "2023-04-19T00:00:00",
          "2023-04-20T00:00:00",
          "2023-04-21T00:00:00",
          "2023-04-24T00:00:00",
          "2023-04-25T00:00:00",
          "2023-04-26T00:00:00",
          "2023-04-27T00:00:00",
          "2023-04-28T00:00:00",
          "2023-05-01T00:00:00",
          "2023-05-02T00:00:00",
          "2023-05-03T00:00:00",
          "2023-05-04T00:00:00",
          "2023-05-05T00:00:00",
          "2023-05-08T00:00:00",
          "2023-05-09T00:00:00",
          "2023-05-10T00:00:00",
          "2023-05-11T00:00:00",
          "2023-05-12T00:00:00",
          "2023-05-15T00:00:00",
          "2023-05-16T00:00:00",
          "2023-05-17T00:00:00",
          "2023-05-18T00:00:00",
          "2023-05-19T00:00:00",
          "2023-05-22T00:00:00",
          "2023-05-23T00:00:00",
          "2023-05-24T00:00:00",
          "2023-05-25T00:00:00",
          "2023-05-26T00:00:00",
          "2023-05-30T00:00:00",
          "2023-05-31T00:00:00",
          "2023-06-01T00:00:00",
          "2023-06-02T00:00:00",
          "2023-06-05T00:00:00",
          "2023-06-06T00:00:00",
          "2023-06-07T00:00:00",
          "2023-06-08T00:00:00",
          "2023-06-09T00:00:00",
          "2023-06-12T00:00:00",
          "2023-06-13T00:00:00",
          "2023-06-14T00:00:00",
          "2023-06-15T00:00:00",
          "2023-06-16T00:00:00",
          "2023-06-20T00:00:00",
          "2023-06-21T00:00:00",
          "2023-06-22T00:00:00",
          "2023-06-23T00:00:00",
          "2023-06-26T00:00:00",
          "2023-06-27T00:00:00",
          "2023-06-28T00:00:00",
          "2023-06-29T00:00:00",
          "2023-06-30T00:00:00",
          "2023-07-03T00:00:00",
          "2023-07-05T00:00:00",
          "2023-07-06T00:00:00"
         ],
         "xaxis": "x",
         "y": [
          1864.199951171875,
          1872.699951171875,
          1871.5999755859375,
          1874.5999755859375,
          1895.5,
          1918.4000244140625,
          1912.4000244140625,
          1907.199951171875,
          1904.4000244140625,
          1922.0999755859375,
          1926.4000244140625,
          1927.0999755859375,
          1933.9000244140625,
          1941.199951171875,
          1929.0999755859375,
          1928.5999755859375,
          1922.9000244140625,
          1929.5,
          1927.800048828125,
          1916.300048828125,
          1862.9000244140625,
          1866.199951171875,
          1871.699951171875,
          1877.4000244140625,
          1866.199951171875,
          1862.800048828125,
          1851.9000244140625,
          1854,
          1834.199951171875,
          1842,
          1840.4000244140625,
          1833,
          1832,
          1818,
          1808.800048828125,
          1817,
          1828.9000244140625,
          1837.699951171875,
          1833.5,
          1847.699951171875,
          1847.9000244140625,
          1813.9000244140625,
          1812.699951171875,
          1829.300048828125,
          1862,
          1911.699951171875,
          1906.199951171875,
          1926.5999755859375,
          1919,
          1969.800048828125,
          1979.199951171875,
          1938,
          1946.800048828125,
          1993.800048828125,
          1982.0999755859375,
          1952.4000244140625,
          1972.4000244140625,
          1966.0999755859375,
          1980.300048828125,
          1969,
          1983.9000244140625,
          2022.199951171875,
          2020.9000244140625,
          2011.9000244140625,
          1989.0999755859375,
          2004.800048828125,
          2010.9000244140625,
          2041.300048828125,
          2002.199951171875,
          1994.199951171875,
          2007.4000244140625,
          1995.199951171875,
          2007.5999755859375,
          1979.5,
          1989.0999755859375,
          1994,
          1985.699951171875,
          1989.9000244140625,
          1990.0999755859375,
          1983.4000244140625,
          2014.300048828125,
          2028.5999755859375,
          2048,
          2017.4000244140625,
          2026.300048828125,
          2036.199951171875,
          2030.5,
          2014.699951171875,
          2014.5,
          2018,
          1988.4000244140625,
          1980.699951171875,
          1956.5,
          1978.699951171875,
          1974.800048828125,
          1972.4000244140625,
          1962.800048828125,
          1943.0999755859375,
          1944.0999755859375,
          1958,
          1963.9000244140625,
          1978,
          1952.4000244140625,
          1958,
          1965.5,
          1942.699951171875,
          1963.5999755859375,
          1962.199951171875,
          1955.300048828125,
          1944.5999755859375,
          1955.300048828125,
          1957.800048828125,
          1958.4000244140625,
          1935.5,
          1933.300048828125,
          1912.699951171875,
          1919.0999755859375,
          1923.699951171875,
          1914,
          1912.300048828125,
          1909.199951171875,
          1921.0999755859375,
          1921.699951171875,
          1919.5999755859375,
          1917.800048828125
         ],
         "yaxis": "y"
        },
        {
         "type": "scatter",
         "x": [
          "2023-01-06T00:00:00",
          "2023-01-09T00:00:00",
          "2023-01-10T00:00:00",
          "2023-01-11T00:00:00",
          "2023-01-12T00:00:00",
          "2023-01-13T00:00:00",
          "2023-01-16T00:00:00",
          "2023-01-17T00:00:00",
          "2023-01-18T00:00:00",
          "2023-01-19T00:00:00",
          "2023-01-20T00:00:00",
          "2023-01-23T00:00:00",
          "2023-01-24T00:00:00",
          "2023-01-25T00:00:00",
          "2023-01-26T00:00:00",
          "2023-01-27T00:00:00",
          "2023-01-30T00:00:00",
          "2023-01-31T00:00:00",
          "2023-02-01T00:00:00",
          "2023-02-02T00:00:00",
          "2023-02-03T00:00:00",
          "2023-02-06T00:00:00",
          "2023-02-07T00:00:00",
          "2023-02-08T00:00:00",
          "2023-02-09T00:00:00",
          "2023-02-10T00:00:00",
          "2023-02-13T00:00:00",
          "2023-02-14T00:00:00",
          "2023-02-15T00:00:00",
          "2023-02-16T00:00:00",
          "2023-02-17T00:00:00",
          "2023-02-21T00:00:00",
          "2023-02-22T00:00:00",
          "2023-02-23T00:00:00",
          "2023-02-24T00:00:00",
          "2023-02-27T00:00:00",
          "2023-02-28T00:00:00",
          "2023-03-01T00:00:00",
          "2023-03-02T00:00:00",
          "2023-03-03T00:00:00",
          "2023-03-06T00:00:00",
          "2023-03-07T00:00:00",
          "2023-03-08T00:00:00",
          "2023-03-09T00:00:00",
          "2023-03-10T00:00:00",
          "2023-03-13T00:00:00",
          "2023-03-14T00:00:00",
          "2023-03-15T00:00:00",
          "2023-03-16T00:00:00",
          "2023-03-17T00:00:00",
          "2023-03-20T00:00:00",
          "2023-03-21T00:00:00",
          "2023-03-22T00:00:00",
          "2023-03-23T00:00:00",
          "2023-03-24T00:00:00",
          "2023-03-27T00:00:00",
          "2023-03-28T00:00:00",
          "2023-03-29T00:00:00",
          "2023-03-30T00:00:00",
          "2023-03-31T00:00:00",
          "2023-04-03T00:00:00",
          "2023-04-04T00:00:00",
          "2023-04-05T00:00:00",
          "2023-04-06T00:00:00",
          "2023-04-10T00:00:00",
          "2023-04-11T00:00:00",
          "2023-04-12T00:00:00",
          "2023-04-13T00:00:00",
          "2023-04-14T00:00:00",
          "2023-04-17T00:00:00",
          "2023-04-18T00:00:00",
          "2023-04-19T00:00:00",
          "2023-04-20T00:00:00",
          "2023-04-21T00:00:00",
          "2023-04-24T00:00:00",
          "2023-04-25T00:00:00",
          "2023-04-26T00:00:00",
          "2023-04-27T00:00:00",
          "2023-04-28T00:00:00",
          "2023-05-01T00:00:00",
          "2023-05-02T00:00:00",
          "2023-05-03T00:00:00",
          "2023-05-04T00:00:00",
          "2023-05-05T00:00:00",
          "2023-05-08T00:00:00",
          "2023-05-09T00:00:00",
          "2023-05-10T00:00:00",
          "2023-05-11T00:00:00",
          "2023-05-12T00:00:00",
          "2023-05-15T00:00:00",
          "2023-05-16T00:00:00",
          "2023-05-17T00:00:00",
          "2023-05-18T00:00:00",
          "2023-05-19T00:00:00",
          "2023-05-22T00:00:00",
          "2023-05-23T00:00:00",
          "2023-05-24T00:00:00",
          "2023-05-25T00:00:00",
          "2023-05-26T00:00:00",
          "2023-05-30T00:00:00",
          "2023-05-31T00:00:00",
          "2023-06-01T00:00:00",
          "2023-06-02T00:00:00",
          "2023-06-05T00:00:00",
          "2023-06-06T00:00:00",
          "2023-06-07T00:00:00",
          "2023-06-08T00:00:00",
          "2023-06-09T00:00:00",
          "2023-06-12T00:00:00",
          "2023-06-13T00:00:00",
          "2023-06-14T00:00:00",
          "2023-06-15T00:00:00",
          "2023-06-16T00:00:00",
          "2023-06-20T00:00:00",
          "2023-06-21T00:00:00",
          "2023-06-22T00:00:00",
          "2023-06-23T00:00:00",
          "2023-06-26T00:00:00",
          "2023-06-27T00:00:00",
          "2023-06-28T00:00:00",
          "2023-06-29T00:00:00",
          "2023-06-30T00:00:00",
          "2023-07-03T00:00:00",
          "2023-07-05T00:00:00",
          "2023-07-06T00:00:00"
         ],
         "xaxis": "x2",
         "y": [
          1092.5999755859375,
          1086.300048828125,
          1076.5999755859375,
          1073.800048828125,
          1074.5999755859375,
          1063.699951171875,
          1053.5,
          1037.5,
          1034.5,
          1032,
          1038.0999755859375,
          1046.699951171875,
          1057.699951171875,
          1037,
          1013.5999755859375,
          1007.4000244140625,
          1011.4000244140625,
          1012,
          992.5999755859375,
          1023.5,
          971.7999877929688,
          966.0999755859375,
          977.7000122070312,
          978.7000122070312,
          957.9000244140625,
          945.5999755859375,
          953.2999877929688,
          933.0999755859375,
          911.7000122070312,
          925.0999755859375,
          915.5,
          942.7000122070312,
          947.4000244140625,
          939.5999755859375,
          902,
          941.5999755859375,
          955.2000122070312,
          961.5,
          962.9000244140625,
          977.2000122070312,
          976.0999755859375,
          933.4000244140625,
          938.0999755859375,
          946.7999877929688,
          959.7000122070312,
          1002.5,
          994.9000244140625,
          967.9000244140625,
          974.7000122070312,
          976.7000122070312,
          994.9000244140625,
          974.7999877929688,
          985.0999755859375,
          991,
          982,
          975.2000122070312,
          961.5,
          963.5999755859375,
          985.2000122070312,
          994.0999755859375,
          986.9000244140625,
          1018.7000122070312,
          997.5,
          1006.9000244140625,
          993.0999755859375,
          995.5999755859375,
          1018,
          1056.0999755859375,
          1044.5999755859375,
          1050.4000244140625,
          1087.9000244140625,
          1096.699951171875,
          1098.699951171875,
          1129.800048828125,
          1088.800048828125,
          1089.300048828125,
          1097.0999755859375,
          1091.300048828125,
          1088.199951171875,
          1062.800048828125,
          1076.4000244140625,
          1059.9000244140625,
          1048.4000244140625,
          1066.4000244140625,
          1088.800048828125,
          1117.0999755859375,
          1122.199951171875,
          1108.0999755859375,
          1070.0999755859375,
          1077.800048828125,
          1070,
          1085.699951171875,
          1061.300048828125,
          1078.800048828125,
          1080.4000244140625,
          1060.699951171875,
          1032.5999755859375,
          1029.4000244140625,
          1031.199951171875,
          1030,
          1007.0999755859375,
          1018.2000122070312,
          1011.5999755859375,
          1044.5,
          1046.800048828125,
          1032.699951171875,
          1022,
          1020.9000244140625,
          1003.4000244140625,
          990,
          988.0999755859375,
          1000,
          995.4000244140625,
          976.0999755859375,
          957.0999755859375,
          934.5999755859375,
          931.7999877929688,
          936.7000122070312,
          936.5999755859375,
          923.4000244140625,
          897.7999877929688,
          904.5,
          909.2999877929688,
          918.0999755859375,
          907.7999877929688
         ],
         "yaxis": "y2"
        },
        {
         "type": "scatter",
         "x": [
          "2023-01-06T00:00:00",
          "2023-01-09T00:00:00",
          "2023-01-10T00:00:00",
          "2023-01-11T00:00:00",
          "2023-01-12T00:00:00",
          "2023-01-13T00:00:00",
          "2023-01-16T00:00:00",
          "2023-01-17T00:00:00",
          "2023-01-18T00:00:00",
          "2023-01-19T00:00:00",
          "2023-01-20T00:00:00",
          "2023-01-23T00:00:00",
          "2023-01-24T00:00:00",
          "2023-01-25T00:00:00",
          "2023-01-26T00:00:00",
          "2023-01-27T00:00:00",
          "2023-01-30T00:00:00",
          "2023-01-31T00:00:00",
          "2023-02-01T00:00:00",
          "2023-02-02T00:00:00",
          "2023-02-03T00:00:00",
          "2023-02-06T00:00:00",
          "2023-02-07T00:00:00",
          "2023-02-08T00:00:00",
          "2023-02-09T00:00:00",
          "2023-02-10T00:00:00",
          "2023-02-13T00:00:00",
          "2023-02-14T00:00:00",
          "2023-02-15T00:00:00",
          "2023-02-16T00:00:00",
          "2023-02-17T00:00:00",
          "2023-02-21T00:00:00",
          "2023-02-22T00:00:00",
          "2023-02-23T00:00:00",
          "2023-02-24T00:00:00",
          "2023-02-27T00:00:00",
          "2023-02-28T00:00:00",
          "2023-03-01T00:00:00",
          "2023-03-02T00:00:00",
          "2023-03-03T00:00:00",
          "2023-03-06T00:00:00",
          "2023-03-07T00:00:00",
          "2023-03-08T00:00:00",
          "2023-03-09T00:00:00",
          "2023-03-10T00:00:00",
          "2023-03-13T00:00:00",
          "2023-03-14T00:00:00",
          "2023-03-15T00:00:00",
          "2023-03-16T00:00:00",
          "2023-03-17T00:00:00",
          "2023-03-20T00:00:00",
          "2023-03-21T00:00:00",
          "2023-03-22T00:00:00",
          "2023-03-23T00:00:00",
          "2023-03-24T00:00:00",
          "2023-03-27T00:00:00",
          "2023-03-28T00:00:00",
          "2023-03-29T00:00:00",
          "2023-03-30T00:00:00",
          "2023-03-31T00:00:00",
          "2023-04-03T00:00:00",
          "2023-04-04T00:00:00",
          "2023-04-05T00:00:00",
          "2023-04-06T00:00:00",
          "2023-04-10T00:00:00",
          "2023-04-11T00:00:00",
          "2023-04-12T00:00:00",
          "2023-04-13T00:00:00",
          "2023-04-14T00:00:00",
          "2023-04-17T00:00:00",
          "2023-04-18T00:00:00",
          "2023-04-19T00:00:00",
          "2023-04-20T00:00:00",
          "2023-04-21T00:00:00",
          "2023-04-24T00:00:00",
          "2023-04-25T00:00:00",
          "2023-04-26T00:00:00",
          "2023-04-27T00:00:00",
          "2023-04-28T00:00:00",
          "2023-05-01T00:00:00",
          "2023-05-02T00:00:00",
          "2023-05-03T00:00:00",
          "2023-05-04T00:00:00",
          "2023-05-05T00:00:00",
          "2023-05-08T00:00:00",
          "2023-05-09T00:00:00",
          "2023-05-10T00:00:00",
          "2023-05-11T00:00:00",
          "2023-05-12T00:00:00",
          "2023-05-15T00:00:00",
          "2023-05-16T00:00:00",
          "2023-05-17T00:00:00",
          "2023-05-18T00:00:00",
          "2023-05-19T00:00:00",
          "2023-05-22T00:00:00",
          "2023-05-23T00:00:00",
          "2023-05-24T00:00:00",
          "2023-05-25T00:00:00",
          "2023-05-26T00:00:00",
          "2023-05-30T00:00:00",
          "2023-05-31T00:00:00",
          "2023-06-01T00:00:00",
          "2023-06-02T00:00:00",
          "2023-06-05T00:00:00",
          "2023-06-06T00:00:00",
          "2023-06-07T00:00:00",
          "2023-06-08T00:00:00",
          "2023-06-09T00:00:00",
          "2023-06-12T00:00:00",
          "2023-06-13T00:00:00",
          "2023-06-14T00:00:00",
          "2023-06-15T00:00:00",
          "2023-06-16T00:00:00",
          "2023-06-20T00:00:00",
          "2023-06-21T00:00:00",
          "2023-06-22T00:00:00",
          "2023-06-23T00:00:00",
          "2023-06-26T00:00:00",
          "2023-06-27T00:00:00",
          "2023-06-28T00:00:00",
          "2023-06-29T00:00:00",
          "2023-06-30T00:00:00",
          "2023-07-03T00:00:00",
          "2023-07-05T00:00:00",
          "2023-07-06T00:00:00"
         ],
         "xaxis": "x3",
         "y": [
          78.56999969482422,
          79.6500015258789,
          80.0999984741211,
          82.66999816894531,
          84.02999877929688,
          85.27999877929688,
          84.23999786376953,
          85.91999816894531,
          84.9800033569336,
          86.16000366210938,
          87.62999725341797,
          88.19000244140625,
          86.12999725341797,
          86.12000274658203,
          87.47000122070312,
          86.66000366210938,
          84.9000015258789,
          84.48999786376953,
          82.83999633789062,
          82.16999816894531,
          79.94000244140625,
          80.98999786376953,
          83.69000244140625,
          85.08999633789062,
          84.5,
          86.38999938964844,
          86.61000061035156,
          85.58000183105469,
          85.37999725341797,
          85.13999938964844,
          83,
          83.05000305175781,
          80.5999984741211,
          82.20999908447266,
          83.16000366210938,
          82.44999694824219,
          83.88999938964844,
          84.30999755859375,
          84.75,
          85.83000183105469,
          86.18000030517578,
          83.29000091552734,
          82.66000366210938,
          81.58999633789062,
          82.77999877929688,
          80.7699966430664,
          77.44999694824219,
          73.69000244140625,
          74.69999694824219,
          72.97000122070312,
          73.79000091552734,
          75.31999969482422,
          76.69000244140625,
          75.91000366210938,
          74.98999786376953,
          78.12000274658203,
          78.6500015258789,
          78.27999877929688,
          79.2699966430664,
          79.7699966430664,
          84.93000030517578,
          84.94000244140625,
          84.98999786376953,
          85.12000274658203,
          84.18000030517578,
          85.61000061035156,
          87.33000183105469,
          86.08999633789062,
          86.30999755859375,
          84.76000213623047,
          84.7699966430664,
          83.12000274658203,
          81.0999984741211,
          81.66000366210938,
          82.7300033569336,
          80.7699966430664,
          77.69000244140625,
          78.37000274658203,
          79.54000091552734,
          79.30999755859375,
          75.31999969482422,
          72.33000183105469,
          72.5,
          75.30000305175781,
          77.01000213623047,
          77.44000244140625,
          76.41000366210938,
          74.9800033569336,
          74.16999816894531,
          75.2300033569336,
          74.91000366210938,
          76.95999908447266,
          75.86000061035156,
          75.58000183105469,
          75.98999786376953,
          76.83999633789062,
          78.36000061035156,
          76.26000213623047,
          76.94999694824219,
          73.54000091552734,
          72.66000366210938,
          74.27999877929688,
          76.12999725341797,
          76.70999908447266,
          76.29000091552734,
          76.94999694824219,
          75.95999908447266,
          74.79000091552734,
          71.83999633789062,
          74.29000091552734,
          73.19999694824219,
          75.66999816894531,
          76.61000061035156,
          75.9000015258789,
          77.12000274658203,
          74.13999938964844,
          73.8499984741211,
          74.18000030517578,
          72.26000213623047,
          74.02999877929688,
          74.33999633789062,
          74.9000015258789,
          74.6500015258789,
          76.6500015258789,
          75.86000061035156
         ],
         "yaxis": "y3"
        },
        {
         "type": "scatter",
         "x": [
          "2023-01-06T00:00:00",
          "2023-01-09T00:00:00",
          "2023-01-10T00:00:00",
          "2023-01-11T00:00:00",
          "2023-01-12T00:00:00",
          "2023-01-13T00:00:00",
          "2023-01-16T00:00:00",
          "2023-01-17T00:00:00",
          "2023-01-18T00:00:00",
          "2023-01-19T00:00:00",
          "2023-01-20T00:00:00",
          "2023-01-23T00:00:00",
          "2023-01-24T00:00:00",
          "2023-01-25T00:00:00",
          "2023-01-26T00:00:00",
          "2023-01-27T00:00:00",
          "2023-01-30T00:00:00",
          "2023-01-31T00:00:00",
          "2023-02-01T00:00:00",
          "2023-02-02T00:00:00",
          "2023-02-03T00:00:00",
          "2023-02-06T00:00:00",
          "2023-02-07T00:00:00",
          "2023-02-08T00:00:00",
          "2023-02-09T00:00:00",
          "2023-02-10T00:00:00",
          "2023-02-13T00:00:00",
          "2023-02-14T00:00:00",
          "2023-02-15T00:00:00",
          "2023-02-16T00:00:00",
          "2023-02-17T00:00:00",
          "2023-02-21T00:00:00",
          "2023-02-22T00:00:00",
          "2023-02-23T00:00:00",
          "2023-02-24T00:00:00",
          "2023-02-27T00:00:00",
          "2023-02-28T00:00:00",
          "2023-03-01T00:00:00",
          "2023-03-02T00:00:00",
          "2023-03-03T00:00:00",
          "2023-03-06T00:00:00",
          "2023-03-07T00:00:00",
          "2023-03-08T00:00:00",
          "2023-03-09T00:00:00",
          "2023-03-10T00:00:00",
          "2023-03-13T00:00:00",
          "2023-03-14T00:00:00",
          "2023-03-15T00:00:00",
          "2023-03-16T00:00:00",
          "2023-03-17T00:00:00",
          "2023-03-20T00:00:00",
          "2023-03-21T00:00:00",
          "2023-03-22T00:00:00",
          "2023-03-23T00:00:00",
          "2023-03-24T00:00:00",
          "2023-03-27T00:00:00",
          "2023-03-28T00:00:00",
          "2023-03-29T00:00:00",
          "2023-03-30T00:00:00",
          "2023-03-31T00:00:00",
          "2023-04-03T00:00:00",
          "2023-04-04T00:00:00",
          "2023-04-05T00:00:00",
          "2023-04-06T00:00:00",
          "2023-04-10T00:00:00",
          "2023-04-11T00:00:00",
          "2023-04-12T00:00:00",
          "2023-04-13T00:00:00",
          "2023-04-14T00:00:00",
          "2023-04-17T00:00:00",
          "2023-04-18T00:00:00",
          "2023-04-19T00:00:00",
          "2023-04-20T00:00:00",
          "2023-04-21T00:00:00",
          "2023-04-24T00:00:00",
          "2023-04-25T00:00:00",
          "2023-04-26T00:00:00",
          "2023-04-27T00:00:00",
          "2023-04-28T00:00:00",
          "2023-05-01T00:00:00",
          "2023-05-02T00:00:00",
          "2023-05-03T00:00:00",
          "2023-05-04T00:00:00",
          "2023-05-05T00:00:00",
          "2023-05-08T00:00:00",
          "2023-05-09T00:00:00",
          "2023-05-10T00:00:00",
          "2023-05-11T00:00:00",
          "2023-05-12T00:00:00",
          "2023-05-15T00:00:00",
          "2023-05-16T00:00:00",
          "2023-05-17T00:00:00",
          "2023-05-18T00:00:00",
          "2023-05-19T00:00:00",
          "2023-05-22T00:00:00",
          "2023-05-23T00:00:00",
          "2023-05-24T00:00:00",
          "2023-05-25T00:00:00",
          "2023-05-26T00:00:00",
          "2023-05-30T00:00:00",
          "2023-05-31T00:00:00",
          "2023-06-01T00:00:00",
          "2023-06-02T00:00:00",
          "2023-06-05T00:00:00",
          "2023-06-06T00:00:00",
          "2023-06-07T00:00:00",
          "2023-06-08T00:00:00",
          "2023-06-09T00:00:00",
          "2023-06-12T00:00:00",
          "2023-06-13T00:00:00",
          "2023-06-14T00:00:00",
          "2023-06-15T00:00:00",
          "2023-06-16T00:00:00",
          "2023-06-20T00:00:00",
          "2023-06-21T00:00:00",
          "2023-06-22T00:00:00",
          "2023-06-23T00:00:00",
          "2023-06-26T00:00:00",
          "2023-06-27T00:00:00",
          "2023-06-28T00:00:00",
          "2023-06-29T00:00:00",
          "2023-06-30T00:00:00",
          "2023-07-03T00:00:00",
          "2023-07-05T00:00:00",
          "2023-07-06T00:00:00"
         ],
         "xaxis": "x4",
         "y": [
          3.7100000381469727,
          3.9100000858306885,
          3.6389999389648438,
          3.6710000038146973,
          3.694999933242798,
          3.4189999103546143,
          3.625,
          3.5859999656677246,
          3.311000108718872,
          3.2750000953674316,
          3.1740000247955322,
          3.447000026702881,
          3.257999897003174,
          3.066999912261963,
          2.944000005722046,
          3.1089999675750732,
          2.677000045776367,
          2.684000015258789,
          2.4679999351501465,
          2.4560000896453857,
          2.4100000858306885,
          2.4570000171661377,
          2.5840001106262207,
          2.3959999084472656,
          2.430000066757202,
          2.5139999389648438,
          2.4049999713897705,
          2.566999912261963,
          2.4709999561309814,
          2.3889999389648438,
          2.2750000953674316,
          2.072999954223633,
          2.1740000247955322,
          2.313999891281128,
          2.4509999752044678,
          2.7309999465942383,
          2.746999979019165,
          2.811000108718872,
          2.765000104904175,
          3.009000062942505,
          2.572000026702881,
          2.687000036239624,
          2.5510001182556152,
          2.5429999828338623,
          2.430000066757202,
          2.6059999465942383,
          2.572999954223633,
          2.438999891281128,
          2.5139999389648438,
          2.3380000591278076,
          2.2230000495910645,
          2.3480000495910645,
          2.1710000038146973,
          2.1540000438690186,
          2.2160000801086426,
          2.0880000591278076,
          2.0299999713897705,
          1.9910000562667847,
          2.1040000915527344,
          2.2160000801086426,
          2.0969998836517334,
          2.1059999465942383,
          2.1549999713897705,
          2.010999917984009,
          2.171999931335449,
          2.186000108718872,
          2.0929999351501465,
          2.006999969482422,
          2.114000082015991,
          2.2750000953674316,
          2.365999937057495,
          2.2219998836517334,
          2.249000072479248,
          2.2330000400543213,
          2.2730000019073486,
          2.306999921798706,
          2.117000102996826,
          2.3550000190734863,
          2.4100000858306885,
          2.318000078201294,
          2.2139999866485596,
          2.1700000762939453,
          2.1010000705718994,
          2.13700008392334,
          2.23799991607666,
          2.2669999599456787,
          2.190999984741211,
          2.190000057220459,
          2.2660000324249268,
          2.375,
          2.375999927520752,
          2.365000009536743,
          2.5920000076293945,
          2.5850000381469727,
          2.4000000953674316,
          2.321000099182129,
          2.3980000019073486,
          2.306999921798706,
          2.180999994277954,
          2.3269999027252197,
          2.2660000324249268,
          2.1579999923706055,
          2.171999931335449,
          2.244999885559082,
          2.26200008392334,
          2.3289999961853027,
          2.3519999980926514,
          2.253999948501587,
          2.2660000324249268,
          2.3399999141693115,
          2.3420000076293945,
          2.5329999923706055,
          2.631999969482422,
          2.492000102996826,
          2.5969998836517334,
          2.6080000400543213,
          2.7290000915527344,
          2.7909998893737793,
          2.763000011444092,
          2.6029999256134033,
          2.7009999752044678,
          2.7980000972747803,
          2.7090001106262207,
          2.6570000648498535,
          2.6059999465942383
         ],
         "yaxis": "y4"
        },
        {
         "type": "scatter",
         "x": [
          "2023-01-06T00:00:00",
          "2023-01-09T00:00:00",
          "2023-01-10T00:00:00",
          "2023-01-11T00:00:00",
          "2023-01-12T00:00:00",
          "2023-01-13T00:00:00",
          "2023-01-16T00:00:00",
          "2023-01-17T00:00:00",
          "2023-01-18T00:00:00",
          "2023-01-19T00:00:00",
          "2023-01-20T00:00:00",
          "2023-01-23T00:00:00",
          "2023-01-24T00:00:00",
          "2023-01-25T00:00:00",
          "2023-01-26T00:00:00",
          "2023-01-27T00:00:00",
          "2023-01-30T00:00:00",
          "2023-01-31T00:00:00",
          "2023-02-01T00:00:00",
          "2023-02-02T00:00:00",
          "2023-02-03T00:00:00",
          "2023-02-06T00:00:00",
          "2023-02-07T00:00:00",
          "2023-02-08T00:00:00",
          "2023-02-09T00:00:00",
          "2023-02-10T00:00:00",
          "2023-02-13T00:00:00",
          "2023-02-14T00:00:00",
          "2023-02-15T00:00:00",
          "2023-02-16T00:00:00",
          "2023-02-17T00:00:00",
          "2023-02-21T00:00:00",
          "2023-02-22T00:00:00",
          "2023-02-23T00:00:00",
          "2023-02-24T00:00:00",
          "2023-02-27T00:00:00",
          "2023-02-28T00:00:00",
          "2023-03-01T00:00:00",
          "2023-03-02T00:00:00",
          "2023-03-03T00:00:00",
          "2023-03-06T00:00:00",
          "2023-03-07T00:00:00",
          "2023-03-08T00:00:00",
          "2023-03-09T00:00:00",
          "2023-03-10T00:00:00",
          "2023-03-13T00:00:00",
          "2023-03-14T00:00:00",
          "2023-03-15T00:00:00",
          "2023-03-16T00:00:00",
          "2023-03-17T00:00:00",
          "2023-03-20T00:00:00",
          "2023-03-21T00:00:00",
          "2023-03-22T00:00:00",
          "2023-03-23T00:00:00",
          "2023-03-24T00:00:00",
          "2023-03-27T00:00:00",
          "2023-03-28T00:00:00",
          "2023-03-29T00:00:00",
          "2023-03-30T00:00:00",
          "2023-03-31T00:00:00",
          "2023-04-03T00:00:00",
          "2023-04-04T00:00:00",
          "2023-04-05T00:00:00",
          "2023-04-06T00:00:00",
          "2023-04-10T00:00:00",
          "2023-04-11T00:00:00",
          "2023-04-12T00:00:00",
          "2023-04-13T00:00:00",
          "2023-04-14T00:00:00",
          "2023-04-17T00:00:00",
          "2023-04-18T00:00:00",
          "2023-04-19T00:00:00",
          "2023-04-20T00:00:00",
          "2023-04-21T00:00:00",
          "2023-04-24T00:00:00",
          "2023-04-25T00:00:00",
          "2023-04-26T00:00:00",
          "2023-04-27T00:00:00",
          "2023-04-28T00:00:00",
          "2023-05-01T00:00:00",
          "2023-05-02T00:00:00",
          "2023-05-03T00:00:00",
          "2023-05-04T00:00:00",
          "2023-05-05T00:00:00",
          "2023-05-08T00:00:00",
          "2023-05-09T00:00:00",
          "2023-05-10T00:00:00",
          "2023-05-11T00:00:00",
          "2023-05-12T00:00:00",
          "2023-05-15T00:00:00",
          "2023-05-16T00:00:00",
          "2023-05-17T00:00:00",
          "2023-05-18T00:00:00",
          "2023-05-19T00:00:00",
          "2023-05-22T00:00:00",
          "2023-05-23T00:00:00",
          "2023-05-24T00:00:00",
          "2023-05-25T00:00:00",
          "2023-05-26T00:00:00",
          "2023-05-30T00:00:00",
          "2023-05-31T00:00:00",
          "2023-06-01T00:00:00",
          "2023-06-02T00:00:00",
          "2023-06-05T00:00:00",
          "2023-06-06T00:00:00",
          "2023-06-07T00:00:00",
          "2023-06-08T00:00:00",
          "2023-06-09T00:00:00",
          "2023-06-12T00:00:00",
          "2023-06-13T00:00:00",
          "2023-06-14T00:00:00",
          "2023-06-15T00:00:00",
          "2023-06-16T00:00:00",
          "2023-06-20T00:00:00",
          "2023-06-21T00:00:00",
          "2023-06-22T00:00:00",
          "2023-06-23T00:00:00",
          "2023-06-26T00:00:00",
          "2023-06-27T00:00:00",
          "2023-06-28T00:00:00",
          "2023-06-29T00:00:00",
          "2023-06-30T00:00:00",
          "2023-07-03T00:00:00",
          "2023-07-05T00:00:00",
          "2023-07-06T00:00:00"
         ],
         "xaxis": "x5",
         "y": [
          743.5,
          741.5,
          731,
          740,
          742.75,
          743.75,
          743.75,
          751.75,
          742.5,
          734.5,
          741.5,
          720,
          734.5,
          741.25,
          752.5,
          750,
          752.5,
          761.25,
          759.75,
          761,
          756.75,
          750.25,
          749.75,
          764.75,
          757.25,
          786,
          792,
          786,
          769.25,
          765,
          765.5,
          750.5,
          736.5,
          738.25,
          708.25,
          696,
          691.5,
          697,
          701.25,
          695.75,
          682.5,
          684.75,
          674.5,
          653.5,
          666.75,
          672.25,
          686.5,
          702.75,
          699,
          710.5,
          700.75,
          683.25,
          663.5,
          662,
          688.5,
          698,
          699.75,
          704.75,
          692.25,
          692.25,
          693.5,
          691.5,
          682,
          675.5,
          678.5,
          674,
          679.5,
          667,
          682.5,
          696.5,
          698,
          681.75,
          667.75,
          661.75,
          643.5,
          638.75,
          627.25,
          614.75,
          619.75,
          603.75,
          595.5,
          626.25,
          631.5,
          647,
          641,
          630.5,
          628.25,
          614.25,
          624.5,
          660.75,
          647.5,
          625.5,
          611.75,
          605,
          606.25,
          622.25,
          606.25,
          604.25,
          616,
          591,
          594.25,
          610.75,
          619,
          624,
          627.75,
          616.75,
          626.25,
          630.25,
          633.75,
          636.25,
          630.25,
          661.5,
          688,
          695.75,
          734.5,
          739,
          733.25,
          724.25,
          685,
          655.75,
          653,
          636.25,
          628.5,
          662,
          661.75
         ],
         "yaxis": "y5"
        },
        {
         "type": "scatter",
         "x": [
          "2023-01-06T00:00:00",
          "2023-01-09T00:00:00",
          "2023-01-10T00:00:00",
          "2023-01-11T00:00:00",
          "2023-01-12T00:00:00",
          "2023-01-13T00:00:00",
          "2023-01-16T00:00:00",
          "2023-01-17T00:00:00",
          "2023-01-18T00:00:00",
          "2023-01-19T00:00:00",
          "2023-01-20T00:00:00",
          "2023-01-23T00:00:00",
          "2023-01-24T00:00:00",
          "2023-01-25T00:00:00",
          "2023-01-26T00:00:00",
          "2023-01-27T00:00:00",
          "2023-01-30T00:00:00",
          "2023-01-31T00:00:00",
          "2023-02-01T00:00:00",
          "2023-02-02T00:00:00",
          "2023-02-03T00:00:00",
          "2023-02-06T00:00:00",
          "2023-02-07T00:00:00",
          "2023-02-08T00:00:00",
          "2023-02-09T00:00:00",
          "2023-02-10T00:00:00",
          "2023-02-13T00:00:00",
          "2023-02-14T00:00:00",
          "2023-02-15T00:00:00",
          "2023-02-16T00:00:00",
          "2023-02-17T00:00:00",
          "2023-02-21T00:00:00",
          "2023-02-22T00:00:00",
          "2023-02-23T00:00:00",
          "2023-02-24T00:00:00",
          "2023-02-27T00:00:00",
          "2023-02-28T00:00:00",
          "2023-03-01T00:00:00",
          "2023-03-02T00:00:00",
          "2023-03-03T00:00:00",
          "2023-03-06T00:00:00",
          "2023-03-07T00:00:00",
          "2023-03-08T00:00:00",
          "2023-03-09T00:00:00",
          "2023-03-10T00:00:00",
          "2023-03-13T00:00:00",
          "2023-03-14T00:00:00",
          "2023-03-15T00:00:00",
          "2023-03-16T00:00:00",
          "2023-03-17T00:00:00",
          "2023-03-20T00:00:00",
          "2023-03-21T00:00:00",
          "2023-03-22T00:00:00",
          "2023-03-23T00:00:00",
          "2023-03-24T00:00:00",
          "2023-03-27T00:00:00",
          "2023-03-28T00:00:00",
          "2023-03-29T00:00:00",
          "2023-03-30T00:00:00",
          "2023-03-31T00:00:00",
          "2023-04-03T00:00:00",
          "2023-04-04T00:00:00",
          "2023-04-05T00:00:00",
          "2023-04-06T00:00:00",
          "2023-04-10T00:00:00",
          "2023-04-11T00:00:00",
          "2023-04-12T00:00:00",
          "2023-04-13T00:00:00",
          "2023-04-14T00:00:00",
          "2023-04-17T00:00:00",
          "2023-04-18T00:00:00",
          "2023-04-19T00:00:00",
          "2023-04-20T00:00:00",
          "2023-04-21T00:00:00",
          "2023-04-24T00:00:00",
          "2023-04-25T00:00:00",
          "2023-04-26T00:00:00",
          "2023-04-27T00:00:00",
          "2023-04-28T00:00:00",
          "2023-05-01T00:00:00",
          "2023-05-02T00:00:00",
          "2023-05-03T00:00:00",
          "2023-05-04T00:00:00",
          "2023-05-05T00:00:00",
          "2023-05-08T00:00:00",
          "2023-05-09T00:00:00",
          "2023-05-10T00:00:00",
          "2023-05-11T00:00:00",
          "2023-05-12T00:00:00",
          "2023-05-15T00:00:00",
          "2023-05-16T00:00:00",
          "2023-05-17T00:00:00",
          "2023-05-18T00:00:00",
          "2023-05-19T00:00:00",
          "2023-05-22T00:00:00",
          "2023-05-23T00:00:00",
          "2023-05-24T00:00:00",
          "2023-05-25T00:00:00",
          "2023-05-26T00:00:00",
          "2023-05-30T00:00:00",
          "2023-05-31T00:00:00",
          "2023-06-01T00:00:00",
          "2023-06-02T00:00:00",
          "2023-06-05T00:00:00",
          "2023-06-06T00:00:00",
          "2023-06-07T00:00:00",
          "2023-06-08T00:00:00",
          "2023-06-09T00:00:00",
          "2023-06-12T00:00:00",
          "2023-06-13T00:00:00",
          "2023-06-14T00:00:00",
          "2023-06-15T00:00:00",
          "2023-06-16T00:00:00",
          "2023-06-20T00:00:00",
          "2023-06-21T00:00:00",
          "2023-06-22T00:00:00",
          "2023-06-23T00:00:00",
          "2023-06-26T00:00:00",
          "2023-06-27T00:00:00",
          "2023-06-28T00:00:00",
          "2023-06-29T00:00:00",
          "2023-06-30T00:00:00",
          "2023-07-03T00:00:00",
          "2023-07-05T00:00:00",
          "2023-07-06T00:00:00"
         ],
         "xaxis": "x6",
         "y": [
          654,
          652.75,
          655,
          656,
          671,
          675,
          675,
          685.25,
          681.25,
          677.25,
          676.25,
          666.25,
          677,
          674.75,
          682.5,
          683,
          683.75,
          679.75,
          681,
          675.25,
          677.5,
          679,
          674,
          678.5,
          670.75,
          680.5,
          685,
          682.25,
          676.25,
          676,
          677.75,
          680.5,
          674,
          660.25,
          650,
          642.75,
          629.5,
          640.5,
          637.75,
          645.25,
          644.5,
          642,
          634.5,
          618.5,
          624.25,
          624.5,
          627.5,
          626.5,
          632.75,
          634.25,
          633,
          630,
          633.5,
          631.75,
          643,
          648.25,
          647.25,
          650.5,
          649.5,
          660.5,
          657.75,
          653.75,
          652.75,
          643.5,
          654,
          651,
          656,
          652.25,
          666.25,
          676.5,
          677.5,
          672.25,
          663.75,
          663.25,
          651.25,
          646.5,
          641.5,
          627,
          636,
          639.5,
          638,
          645.25,
          646.5,
          653.25,
          656.5,
          642.25,
          645.5,
          632.5,
          633.25,
          592.5,
          581.25,
          561.5,
          555.25,
          554.5,
          571,
          577.5,
          587.25,
          590.75,
          604,
          594,
          594,
          592.5,
          609,
          597.5,
          608,
          604.25,
          610.25,
          604.25,
          617.25,
          612.5,
          607.75,
          623.25,
          640.25,
          643.75,
          671,
          660.5,
          630.75,
          637.25,
          623,
          590,
          581,
          554.5,
          557.25,
          548.25,
          502.5
         ],
         "yaxis": "y6"
        }
       ],
       "layout": {
        "annotations": [
         {
          "font": {
           "size": 16
          },
          "showarrow": false,
          "text": "Gold",
          "x": 0.225,
          "xanchor": "center",
          "xref": "paper",
          "y": 1,
          "yanchor": "bottom",
          "yref": "paper"
         },
         {
          "font": {
           "size": 16
          },
          "showarrow": false,
          "text": "Platinum",
          "x": 0.775,
          "xanchor": "center",
          "xref": "paper",
          "y": 1,
          "yanchor": "bottom",
          "yref": "paper"
         },
         {
          "font": {
           "size": 16
          },
          "showarrow": false,
          "text": "Brent",
          "x": 0.225,
          "xanchor": "center",
          "xref": "paper",
          "y": 0.6111111111111112,
          "yanchor": "bottom",
          "yref": "paper"
         },
         {
          "font": {
           "size": 16
          },
          "showarrow": false,
          "text": "Natural Gas",
          "x": 0.775,
          "xanchor": "center",
          "xref": "paper",
          "y": 0.6111111111111112,
          "yanchor": "bottom",
          "yref": "paper"
         },
         {
          "font": {
           "size": 16
          },
          "showarrow": false,
          "text": "Wheat",
          "x": 0.225,
          "xanchor": "center",
          "xref": "paper",
          "y": 0.22222222222222224,
          "yanchor": "bottom",
          "yref": "paper"
         },
         {
          "font": {
           "size": 16
          },
          "showarrow": false,
          "text": "Corn",
          "x": 0.775,
          "xanchor": "center",
          "xref": "paper",
          "y": 0.22222222222222224,
          "yanchor": "bottom",
          "yref": "paper"
         }
        ],
        "height": 800,
        "showlegend": false,
        "template": {
         "data": {
          "bar": [
           {
            "error_x": {
             "color": "#f2f5fa"
            },
            "error_y": {
             "color": "#f2f5fa"
            },
            "marker": {
             "line": {
              "color": "rgb(17,17,17)",
              "width": 0.5
             },
             "pattern": {
              "fillmode": "overlay",
              "size": 10,
              "solidity": 0.2
             }
            },
            "type": "bar"
           }
          ],
          "barpolar": [
           {
            "marker": {
             "line": {
              "color": "rgb(17,17,17)",
              "width": 0.5
             },
             "pattern": {
              "fillmode": "overlay",
              "size": 10,
              "solidity": 0.2
             }
            },
            "type": "barpolar"
           }
          ],
          "carpet": [
           {
            "aaxis": {
             "endlinecolor": "#A2B1C6",
             "gridcolor": "#506784",
             "linecolor": "#506784",
             "minorgridcolor": "#506784",
             "startlinecolor": "#A2B1C6"
            },
            "baxis": {
             "endlinecolor": "#A2B1C6",
             "gridcolor": "#506784",
             "linecolor": "#506784",
             "minorgridcolor": "#506784",
             "startlinecolor": "#A2B1C6"
            },
            "type": "carpet"
           }
          ],
          "choropleth": [
           {
            "colorbar": {
             "outlinewidth": 0,
             "ticks": ""
            },
            "type": "choropleth"
           }
          ],
          "contour": [
           {
            "colorbar": {
             "outlinewidth": 0,
             "ticks": ""
            },
            "colorscale": [
             [
              0,
              "#0d0887"
             ],
             [
              0.1111111111111111,
              "#46039f"
             ],
             [
              0.2222222222222222,
              "#7201a8"
             ],
             [
              0.3333333333333333,
              "#9c179e"
             ],
             [
              0.4444444444444444,
              "#bd3786"
             ],
             [
              0.5555555555555556,
              "#d8576b"
             ],
             [
              0.6666666666666666,
              "#ed7953"
             ],
             [
              0.7777777777777778,
              "#fb9f3a"
             ],
             [
              0.8888888888888888,
              "#fdca26"
             ],
             [
              1,
              "#f0f921"
             ]
            ],
            "type": "contour"
           }
          ],
          "contourcarpet": [
           {
            "colorbar": {
             "outlinewidth": 0,
             "ticks": ""
            },
            "type": "contourcarpet"
           }
          ],
          "heatmap": [
           {
            "colorbar": {
             "outlinewidth": 0,
             "ticks": ""
            },
            "colorscale": [
             [
              0,
              "#0d0887"
             ],
             [
              0.1111111111111111,
              "#46039f"
             ],
             [
              0.2222222222222222,
              "#7201a8"
             ],
             [
              0.3333333333333333,
              "#9c179e"
             ],
             [
              0.4444444444444444,
              "#bd3786"
             ],
             [
              0.5555555555555556,
              "#d8576b"
             ],
             [
              0.6666666666666666,
              "#ed7953"
             ],
             [
              0.7777777777777778,
              "#fb9f3a"
             ],
             [
              0.8888888888888888,
              "#fdca26"
             ],
             [
              1,
              "#f0f921"
             ]
            ],
            "type": "heatmap"
           }
          ],
          "heatmapgl": [
           {
            "colorbar": {
             "outlinewidth": 0,
             "ticks": ""
            },
            "colorscale": [
             [
              0,
              "#0d0887"
             ],
             [
              0.1111111111111111,
              "#46039f"
             ],
             [
              0.2222222222222222,
              "#7201a8"
             ],
             [
              0.3333333333333333,
              "#9c179e"
             ],
             [
              0.4444444444444444,
              "#bd3786"
             ],
             [
              0.5555555555555556,
              "#d8576b"
             ],
             [
              0.6666666666666666,
              "#ed7953"
             ],
             [
              0.7777777777777778,
              "#fb9f3a"
             ],
             [
              0.8888888888888888,
              "#fdca26"
             ],
             [
              1,
              "#f0f921"
             ]
            ],
            "type": "heatmapgl"
           }
          ],
          "histogram": [
           {
            "marker": {
             "pattern": {
              "fillmode": "overlay",
              "size": 10,
              "solidity": 0.2
             }
            },
            "type": "histogram"
           }
          ],
          "histogram2d": [
           {
            "colorbar": {
             "outlinewidth": 0,
             "ticks": ""
            },
            "colorscale": [
             [
              0,
              "#0d0887"
             ],
             [
              0.1111111111111111,
              "#46039f"
             ],
             [
              0.2222222222222222,
              "#7201a8"
             ],
             [
              0.3333333333333333,
              "#9c179e"
             ],
             [
              0.4444444444444444,
              "#bd3786"
             ],
             [
              0.5555555555555556,
              "#d8576b"
             ],
             [
              0.6666666666666666,
              "#ed7953"
             ],
             [
              0.7777777777777778,
              "#fb9f3a"
             ],
             [
              0.8888888888888888,
              "#fdca26"
             ],
             [
              1,
              "#f0f921"
             ]
            ],
            "type": "histogram2d"
           }
          ],
          "histogram2dcontour": [
           {
            "colorbar": {
             "outlinewidth": 0,
             "ticks": ""
            },
            "colorscale": [
             [
              0,
              "#0d0887"
             ],
             [
              0.1111111111111111,
              "#46039f"
             ],
             [
              0.2222222222222222,
              "#7201a8"
             ],
             [
              0.3333333333333333,
              "#9c179e"
             ],
             [
              0.4444444444444444,
              "#bd3786"
             ],
             [
              0.5555555555555556,
              "#d8576b"
             ],
             [
              0.6666666666666666,
              "#ed7953"
             ],
             [
              0.7777777777777778,
              "#fb9f3a"
             ],
             [
              0.8888888888888888,
              "#fdca26"
             ],
             [
              1,
              "#f0f921"
             ]
            ],
            "type": "histogram2dcontour"
           }
          ],
          "mesh3d": [
           {
            "colorbar": {
             "outlinewidth": 0,
             "ticks": ""
            },
            "type": "mesh3d"
           }
          ],
          "parcoords": [
           {
            "line": {
             "colorbar": {
              "outlinewidth": 0,
              "ticks": ""
             }
            },
            "type": "parcoords"
           }
          ],
          "pie": [
           {
            "automargin": true,
            "type": "pie"
           }
          ],
          "scatter": [
           {
            "marker": {
             "line": {
              "color": "#283442"
             }
            },
            "type": "scatter"
           }
          ],
          "scatter3d": [
           {
            "line": {
             "colorbar": {
              "outlinewidth": 0,
              "ticks": ""
             }
            },
            "marker": {
             "colorbar": {
              "outlinewidth": 0,
              "ticks": ""
             }
            },
            "type": "scatter3d"
           }
          ],
          "scattercarpet": [
           {
            "marker": {
             "colorbar": {
              "outlinewidth": 0,
              "ticks": ""
             }
            },
            "type": "scattercarpet"
           }
          ],
          "scattergeo": [
           {
            "marker": {
             "colorbar": {
              "outlinewidth": 0,
              "ticks": ""
             }
            },
            "type": "scattergeo"
           }
          ],
          "scattergl": [
           {
            "marker": {
             "line": {
              "color": "#283442"
             }
            },
            "type": "scattergl"
           }
          ],
          "scattermapbox": [
           {
            "marker": {
             "colorbar": {
              "outlinewidth": 0,
              "ticks": ""
             }
            },
            "type": "scattermapbox"
           }
          ],
          "scatterpolar": [
           {
            "marker": {
             "colorbar": {
              "outlinewidth": 0,
              "ticks": ""
             }
            },
            "type": "scatterpolar"
           }
          ],
          "scatterpolargl": [
           {
            "marker": {
             "colorbar": {
              "outlinewidth": 0,
              "ticks": ""
             }
            },
            "type": "scatterpolargl"
           }
          ],
          "scatterternary": [
           {
            "marker": {
             "colorbar": {
              "outlinewidth": 0,
              "ticks": ""
             }
            },
            "type": "scatterternary"
           }
          ],
          "surface": [
           {
            "colorbar": {
             "outlinewidth": 0,
             "ticks": ""
            },
            "colorscale": [
             [
              0,
              "#0d0887"
             ],
             [
              0.1111111111111111,
              "#46039f"
             ],
             [
              0.2222222222222222,
              "#7201a8"
             ],
             [
              0.3333333333333333,
              "#9c179e"
             ],
             [
              0.4444444444444444,
              "#bd3786"
             ],
             [
              0.5555555555555556,
              "#d8576b"
             ],
             [
              0.6666666666666666,
              "#ed7953"
             ],
             [
              0.7777777777777778,
              "#fb9f3a"
             ],
             [
              0.8888888888888888,
              "#fdca26"
             ],
             [
              1,
              "#f0f921"
             ]
            ],
            "type": "surface"
           }
          ],
          "table": [
           {
            "cells": {
             "fill": {
              "color": "#506784"
             },
             "line": {
              "color": "rgb(17,17,17)"
             }
            },
            "header": {
             "fill": {
              "color": "#2a3f5f"
             },
             "line": {
              "color": "rgb(17,17,17)"
             }
            },
            "type": "table"
           }
          ]
         },
         "layout": {
          "annotationdefaults": {
           "arrowcolor": "#f2f5fa",
           "arrowhead": 0,
           "arrowwidth": 1
          },
          "autotypenumbers": "strict",
          "coloraxis": {
           "colorbar": {
            "outlinewidth": 0,
            "ticks": ""
           }
          },
          "colorscale": {
           "diverging": [
            [
             0,
             "#8e0152"
            ],
            [
             0.1,
             "#c51b7d"
            ],
            [
             0.2,
             "#de77ae"
            ],
            [
             0.3,
             "#f1b6da"
            ],
            [
             0.4,
             "#fde0ef"
            ],
            [
             0.5,
             "#f7f7f7"
            ],
            [
             0.6,
             "#e6f5d0"
            ],
            [
             0.7,
             "#b8e186"
            ],
            [
             0.8,
             "#7fbc41"
            ],
            [
             0.9,
             "#4d9221"
            ],
            [
             1,
             "#276419"
            ]
           ],
           "sequential": [
            [
             0,
             "#0d0887"
            ],
            [
             0.1111111111111111,
             "#46039f"
            ],
            [
             0.2222222222222222,
             "#7201a8"
            ],
            [
             0.3333333333333333,
             "#9c179e"
            ],
            [
             0.4444444444444444,
             "#bd3786"
            ],
            [
             0.5555555555555556,
             "#d8576b"
            ],
            [
             0.6666666666666666,
             "#ed7953"
            ],
            [
             0.7777777777777778,
             "#fb9f3a"
            ],
            [
             0.8888888888888888,
             "#fdca26"
            ],
            [
             1,
             "#f0f921"
            ]
           ],
           "sequentialminus": [
            [
             0,
             "#0d0887"
            ],
            [
             0.1111111111111111,
             "#46039f"
            ],
            [
             0.2222222222222222,
             "#7201a8"
            ],
            [
             0.3333333333333333,
             "#9c179e"
            ],
            [
             0.4444444444444444,
             "#bd3786"
            ],
            [
             0.5555555555555556,
             "#d8576b"
            ],
            [
             0.6666666666666666,
             "#ed7953"
            ],
            [
             0.7777777777777778,
             "#fb9f3a"
            ],
            [
             0.8888888888888888,
             "#fdca26"
            ],
            [
             1,
             "#f0f921"
            ]
           ]
          },
          "colorway": [
           "#636efa",
           "#EF553B",
           "#00cc96",
           "#ab63fa",
           "#FFA15A",
           "#19d3f3",
           "#FF6692",
           "#B6E880",
           "#FF97FF",
           "#FECB52"
          ],
          "font": {
           "color": "#f2f5fa"
          },
          "geo": {
           "bgcolor": "rgb(17,17,17)",
           "lakecolor": "rgb(17,17,17)",
           "landcolor": "rgb(17,17,17)",
           "showlakes": true,
           "showland": true,
           "subunitcolor": "#506784"
          },
          "hoverlabel": {
           "align": "left"
          },
          "hovermode": "closest",
          "mapbox": {
           "style": "dark"
          },
          "paper_bgcolor": "rgb(17,17,17)",
          "plot_bgcolor": "rgb(17,17,17)",
          "polar": {
           "angularaxis": {
            "gridcolor": "#506784",
            "linecolor": "#506784",
            "ticks": ""
           },
           "bgcolor": "rgb(17,17,17)",
           "radialaxis": {
            "gridcolor": "#506784",
            "linecolor": "#506784",
            "ticks": ""
           }
          },
          "scene": {
           "xaxis": {
            "backgroundcolor": "rgb(17,17,17)",
            "gridcolor": "#506784",
            "gridwidth": 2,
            "linecolor": "#506784",
            "showbackground": true,
            "ticks": "",
            "zerolinecolor": "#C8D4E3"
           },
           "yaxis": {
            "backgroundcolor": "rgb(17,17,17)",
            "gridcolor": "#506784",
            "gridwidth": 2,
            "linecolor": "#506784",
            "showbackground": true,
            "ticks": "",
            "zerolinecolor": "#C8D4E3"
           },
           "zaxis": {
            "backgroundcolor": "rgb(17,17,17)",
            "gridcolor": "#506784",
            "gridwidth": 2,
            "linecolor": "#506784",
            "showbackground": true,
            "ticks": "",
            "zerolinecolor": "#C8D4E3"
           }
          },
          "shapedefaults": {
           "line": {
            "color": "#f2f5fa"
           }
          },
          "sliderdefaults": {
           "bgcolor": "#C8D4E3",
           "bordercolor": "rgb(17,17,17)",
           "borderwidth": 1,
           "tickwidth": 0
          },
          "ternary": {
           "aaxis": {
            "gridcolor": "#506784",
            "linecolor": "#506784",
            "ticks": ""
           },
           "baxis": {
            "gridcolor": "#506784",
            "linecolor": "#506784",
            "ticks": ""
           },
           "bgcolor": "rgb(17,17,17)",
           "caxis": {
            "gridcolor": "#506784",
            "linecolor": "#506784",
            "ticks": ""
           }
          },
          "title": {
           "x": 0.05
          },
          "updatemenudefaults": {
           "bgcolor": "#506784",
           "borderwidth": 0
          },
          "xaxis": {
           "automargin": true,
           "gridcolor": "#283442",
           "linecolor": "#506784",
           "ticks": "",
           "title": {
            "standoff": 15
           },
           "zerolinecolor": "#283442",
           "zerolinewidth": 2
          },
          "yaxis": {
           "automargin": true,
           "gridcolor": "#283442",
           "linecolor": "#506784",
           "ticks": "",
           "title": {
            "standoff": 15
           },
           "zerolinecolor": "#283442",
           "zerolinewidth": 2
          }
         }
        },
        "title": {
         "text": "<b>Commodity Futures over the last 6 months</b>"
        },
        "xaxis": {
         "anchor": "y",
         "domain": [
          0,
          0.45
         ]
        },
        "xaxis2": {
         "anchor": "y2",
         "domain": [
          0.55,
          1
         ]
        },
        "xaxis3": {
         "anchor": "y3",
         "domain": [
          0,
          0.45
         ]
        },
        "xaxis4": {
         "anchor": "y4",
         "domain": [
          0.55,
          1
         ]
        },
        "xaxis5": {
         "anchor": "y5",
         "domain": [
          0,
          0.45
         ]
        },
        "xaxis6": {
         "anchor": "y6",
         "domain": [
          0.55,
          1
         ]
        },
        "yaxis": {
         "anchor": "x",
         "domain": [
          0.7777777777777778,
          1
         ]
        },
        "yaxis2": {
         "anchor": "x2",
         "domain": [
          0.7777777777777778,
          1
         ]
        },
        "yaxis3": {
         "anchor": "x3",
         "domain": [
          0.3888888888888889,
          0.6111111111111112
         ]
        },
        "yaxis4": {
         "anchor": "x4",
         "domain": [
          0.3888888888888889,
          0.6111111111111112
         ]
        },
        "yaxis5": {
         "anchor": "x5",
         "domain": [
          0,
          0.22222222222222224
         ]
        },
        "yaxis6": {
         "anchor": "x6",
         "domain": [
          0,
          0.22222222222222224
         ]
        }
       }
      }
     },
     "metadata": {},
     "output_type": "display_data"
    },
    {
     "data": {
      "application/vnd.plotly.v1+json": {
       "config": {
        "plotlyServerURL": "https://plot.ly"
       },
       "data": [
        {
         "type": "scatter",
         "x": [
          "2023-01-06T00:00:00",
          "2023-01-09T00:00:00",
          "2023-01-10T00:00:00",
          "2023-01-11T00:00:00",
          "2023-01-12T00:00:00",
          "2023-01-13T00:00:00",
          "2023-01-16T00:00:00",
          "2023-01-17T00:00:00",
          "2023-01-18T00:00:00",
          "2023-01-19T00:00:00",
          "2023-01-20T00:00:00",
          "2023-01-23T00:00:00",
          "2023-01-24T00:00:00",
          "2023-01-25T00:00:00",
          "2023-01-26T00:00:00",
          "2023-01-27T00:00:00",
          "2023-01-30T00:00:00",
          "2023-01-31T00:00:00",
          "2023-02-01T00:00:00",
          "2023-02-02T00:00:00",
          "2023-02-03T00:00:00",
          "2023-02-06T00:00:00",
          "2023-02-07T00:00:00",
          "2023-02-08T00:00:00",
          "2023-02-09T00:00:00",
          "2023-02-10T00:00:00",
          "2023-02-13T00:00:00",
          "2023-02-14T00:00:00",
          "2023-02-15T00:00:00",
          "2023-02-16T00:00:00",
          "2023-02-17T00:00:00",
          "2023-02-20T00:00:00",
          "2023-02-21T00:00:00",
          "2023-02-22T00:00:00",
          "2023-02-23T00:00:00",
          "2023-02-24T00:00:00",
          "2023-02-27T00:00:00",
          "2023-02-28T00:00:00",
          "2023-03-01T00:00:00",
          "2023-03-02T00:00:00",
          "2023-03-03T00:00:00",
          "2023-03-06T00:00:00",
          "2023-03-07T00:00:00",
          "2023-03-08T00:00:00",
          "2023-03-09T00:00:00",
          "2023-03-10T00:00:00",
          "2023-03-13T00:00:00",
          "2023-03-14T00:00:00",
          "2023-03-15T00:00:00",
          "2023-03-16T00:00:00",
          "2023-03-17T00:00:00",
          "2023-03-20T00:00:00",
          "2023-03-21T00:00:00",
          "2023-03-22T00:00:00",
          "2023-03-23T00:00:00",
          "2023-03-24T00:00:00",
          "2023-03-27T00:00:00",
          "2023-03-28T00:00:00",
          "2023-03-29T00:00:00",
          "2023-03-30T00:00:00",
          "2023-03-31T00:00:00",
          "2023-04-03T00:00:00",
          "2023-04-04T00:00:00",
          "2023-04-05T00:00:00",
          "2023-04-06T00:00:00",
          "2023-04-07T00:00:00",
          "2023-04-10T00:00:00",
          "2023-04-11T00:00:00",
          "2023-04-12T00:00:00",
          "2023-04-13T00:00:00",
          "2023-04-14T00:00:00",
          "2023-04-17T00:00:00",
          "2023-04-18T00:00:00",
          "2023-04-19T00:00:00",
          "2023-04-20T00:00:00",
          "2023-04-21T00:00:00",
          "2023-04-24T00:00:00",
          "2023-04-25T00:00:00",
          "2023-04-26T00:00:00",
          "2023-04-27T00:00:00",
          "2023-04-28T00:00:00",
          "2023-05-01T00:00:00",
          "2023-05-02T00:00:00",
          "2023-05-03T00:00:00",
          "2023-05-04T00:00:00",
          "2023-05-05T00:00:00",
          "2023-05-08T00:00:00",
          "2023-05-09T00:00:00",
          "2023-05-10T00:00:00",
          "2023-05-11T00:00:00",
          "2023-05-12T00:00:00",
          "2023-05-15T00:00:00",
          "2023-05-16T00:00:00",
          "2023-05-17T00:00:00",
          "2023-05-18T00:00:00",
          "2023-05-19T00:00:00",
          "2023-05-22T00:00:00",
          "2023-05-23T00:00:00",
          "2023-05-24T00:00:00",
          "2023-05-25T00:00:00",
          "2023-05-26T00:00:00",
          "2023-05-29T00:00:00",
          "2023-05-30T00:00:00",
          "2023-05-31T00:00:00",
          "2023-06-01T00:00:00",
          "2023-06-02T00:00:00",
          "2023-06-05T00:00:00",
          "2023-06-06T00:00:00",
          "2023-06-07T00:00:00",
          "2023-06-08T00:00:00",
          "2023-06-09T00:00:00",
          "2023-06-12T00:00:00",
          "2023-06-13T00:00:00",
          "2023-06-14T00:00:00",
          "2023-06-15T00:00:00",
          "2023-06-16T00:00:00",
          "2023-06-19T00:00:00",
          "2023-06-20T00:00:00",
          "2023-06-21T00:00:00",
          "2023-06-22T00:00:00",
          "2023-06-23T00:00:00",
          "2023-06-26T00:00:00",
          "2023-06-27T00:00:00",
          "2023-06-28T00:00:00",
          "2023-06-29T00:00:00",
          "2023-06-30T00:00:00",
          "2023-07-03T00:00:00",
          "2023-07-04T00:00:00",
          "2023-07-05T00:00:00",
          "2023-07-06T00:00:00"
         ],
         "xaxis": "x",
         "y": [
          1.0522217750549316,
          1.0656323432922363,
          1.073318362236023,
          1.0738946199417114,
          1.0766000747680664,
          1.0860239267349243,
          1.082461953163147,
          1.0830129384994507,
          1.0793308019638062,
          1.0797853469848633,
          1.083388328552246,
          1.086507797241211,
          1.0874292850494385,
          1.088814616203308,
          1.0922038555145264,
          1.0894432067871094,
          1.0871455669403076,
          1.0850694179534912,
          1.0860947370529175,
          1.1012852191925049,
          1.0905125141143799,
          1.079086184501648,
          1.0730764865875244,
          1.0729728937149048,
          1.0715816020965576,
          1.0742292404174805,
          1.0677714347839355,
          1.0730419158935547,
          1.0735719203948975,
          1.0691757202148438,
          1.0665756464004517,
          1.0684444904327393,
          1.068261981010437,
          1.065200924873352,
          1.0605803728103638,
          1.0598047971725464,
          1.0554758310317993,
          1.0611205101013184,
          1.0577309131622314,
          1.066894292831421,
          1.0599732398986816,
          1.0626201629638672,
          1.0688328742980957,
          1.05507493019104,
          1.0549525022506714,
          1.0584698915481567,
          1.0683646202087402,
          1.0725010633468628,
          1.0727657079696655,
          1.0583354234695435,
          1.0614134073257446,
          1.0678855180740356,
          1.071914792060852,
          1.0774236917495728,
          1.0870392322540283,
          1.0835057497024536,
          1.077818512916565,
          1.0807071924209595,
          1.0839520692825317,
          1.0843634605407715,
          1.0904649496078491,
          1.0803335905075073,
          1.091226577758789,
          1.0960105657577515,
          1.090334177017212,
          1.0920130014419556,
          1.0913575887680054,
          1.086932897567749,
          1.0917507410049438,
          1.0999890565872192,
          1.1054610013961792,
          1.098659634590149,
          1.0925379991531372,
          1.0975382328033447,
          1.095218300819397,
          1.0970927476882935,
          1.0992271900177002,
          1.1059499979019165,
          1.0978394746780396,
          1.1047282218933105,
          1.1032048463821411,
          1.1010911464691162,
          1.0969241857528687,
          1.1010911464691162,
          1.1068925857543945,
          1.102292776107788,
          1.10186767578125,
          1.0996140241622925,
          1.096467137336731,
          1.098406195640564,
          1.0912145376205444,
          1.0852696895599365,
          1.0873701572418213,
          1.0865668058395386,
          1.0838346481323242,
          1.0775396823883057,
          1.0822745561599731,
          1.0811045169830322,
          1.076971173286438,
          1.0757315158843994,
          1.0724436044692993,
          1.0723055601119995,
          1.0707669258117676,
          1.073306918144226,
          1.0695186853408813,
          1.0760787725448608,
          1.0698620080947876,
          1.0711798667907715,
          1.0698047876358032,
          1.0707440376281738,
          1.078271746635437,
          1.0750954151153564,
          1.0762988328933716,
          1.078934907913208,
          1.084304690361023,
          1.0945948362350464,
          1.0942115783691406,
          1.0924304723739624,
          1.0920368432998657,
          1.0992635488510132,
          1.0958904027938843,
          1.0906671285629272,
          1.091048002243042,
          1.0957223176956177,
          1.0915838479995728,
          1.0868029594421387,
          1.0907504558563232,
          1.091309905052185,
          1.0884946584701538,
          1.0888501405715942
         ],
         "yaxis": "y"
        },
        {
         "type": "scatter",
         "x": [
          "2023-01-06T00:00:00",
          "2023-01-09T00:00:00",
          "2023-01-10T00:00:00",
          "2023-01-11T00:00:00",
          "2023-01-12T00:00:00",
          "2023-01-13T00:00:00",
          "2023-01-16T00:00:00",
          "2023-01-17T00:00:00",
          "2023-01-18T00:00:00",
          "2023-01-19T00:00:00",
          "2023-01-20T00:00:00",
          "2023-01-23T00:00:00",
          "2023-01-24T00:00:00",
          "2023-01-25T00:00:00",
          "2023-01-26T00:00:00",
          "2023-01-27T00:00:00",
          "2023-01-30T00:00:00",
          "2023-01-31T00:00:00",
          "2023-02-01T00:00:00",
          "2023-02-02T00:00:00",
          "2023-02-03T00:00:00",
          "2023-02-06T00:00:00",
          "2023-02-07T00:00:00",
          "2023-02-08T00:00:00",
          "2023-02-09T00:00:00",
          "2023-02-10T00:00:00",
          "2023-02-13T00:00:00",
          "2023-02-14T00:00:00",
          "2023-02-15T00:00:00",
          "2023-02-16T00:00:00",
          "2023-02-17T00:00:00",
          "2023-02-20T00:00:00",
          "2023-02-21T00:00:00",
          "2023-02-22T00:00:00",
          "2023-02-23T00:00:00",
          "2023-02-24T00:00:00",
          "2023-02-27T00:00:00",
          "2023-02-28T00:00:00",
          "2023-03-01T00:00:00",
          "2023-03-02T00:00:00",
          "2023-03-03T00:00:00",
          "2023-03-06T00:00:00",
          "2023-03-07T00:00:00",
          "2023-03-08T00:00:00",
          "2023-03-09T00:00:00",
          "2023-03-10T00:00:00",
          "2023-03-13T00:00:00",
          "2023-03-14T00:00:00",
          "2023-03-15T00:00:00",
          "2023-03-16T00:00:00",
          "2023-03-17T00:00:00",
          "2023-03-20T00:00:00",
          "2023-03-21T00:00:00",
          "2023-03-22T00:00:00",
          "2023-03-23T00:00:00",
          "2023-03-24T00:00:00",
          "2023-03-27T00:00:00",
          "2023-03-28T00:00:00",
          "2023-03-29T00:00:00",
          "2023-03-30T00:00:00",
          "2023-03-31T00:00:00",
          "2023-04-03T00:00:00",
          "2023-04-04T00:00:00",
          "2023-04-05T00:00:00",
          "2023-04-06T00:00:00",
          "2023-04-07T00:00:00",
          "2023-04-10T00:00:00",
          "2023-04-11T00:00:00",
          "2023-04-12T00:00:00",
          "2023-04-13T00:00:00",
          "2023-04-14T00:00:00",
          "2023-04-17T00:00:00",
          "2023-04-18T00:00:00",
          "2023-04-19T00:00:00",
          "2023-04-20T00:00:00",
          "2023-04-21T00:00:00",
          "2023-04-24T00:00:00",
          "2023-04-25T00:00:00",
          "2023-04-26T00:00:00",
          "2023-04-27T00:00:00",
          "2023-04-28T00:00:00",
          "2023-05-01T00:00:00",
          "2023-05-02T00:00:00",
          "2023-05-03T00:00:00",
          "2023-05-04T00:00:00",
          "2023-05-05T00:00:00",
          "2023-05-08T00:00:00",
          "2023-05-09T00:00:00",
          "2023-05-10T00:00:00",
          "2023-05-11T00:00:00",
          "2023-05-12T00:00:00",
          "2023-05-15T00:00:00",
          "2023-05-16T00:00:00",
          "2023-05-17T00:00:00",
          "2023-05-18T00:00:00",
          "2023-05-19T00:00:00",
          "2023-05-22T00:00:00",
          "2023-05-23T00:00:00",
          "2023-05-24T00:00:00",
          "2023-05-25T00:00:00",
          "2023-05-26T00:00:00",
          "2023-05-29T00:00:00",
          "2023-05-30T00:00:00",
          "2023-05-31T00:00:00",
          "2023-06-01T00:00:00",
          "2023-06-02T00:00:00",
          "2023-06-05T00:00:00",
          "2023-06-06T00:00:00",
          "2023-06-07T00:00:00",
          "2023-06-08T00:00:00",
          "2023-06-09T00:00:00",
          "2023-06-12T00:00:00",
          "2023-06-13T00:00:00",
          "2023-06-14T00:00:00",
          "2023-06-15T00:00:00",
          "2023-06-16T00:00:00",
          "2023-06-19T00:00:00",
          "2023-06-20T00:00:00",
          "2023-06-21T00:00:00",
          "2023-06-22T00:00:00",
          "2023-06-23T00:00:00",
          "2023-06-26T00:00:00",
          "2023-06-27T00:00:00",
          "2023-06-28T00:00:00",
          "2023-06-29T00:00:00",
          "2023-06-30T00:00:00",
          "2023-07-03T00:00:00",
          "2023-07-04T00:00:00",
          "2023-07-05T00:00:00",
          "2023-07-06T00:00:00"
         ],
         "xaxis": "x2",
         "y": [
          0.9848499894142151,
          0.9876099824905396,
          0.9884399771690369,
          0.9904599785804749,
          1.0019999742507935,
          1.0069700479507446,
          1.0030299425125122,
          1.00232994556427,
          0.9946399927139282,
          0.9889199733734131,
          0.9920499920845032,
          0.9993799924850464,
          1.0019999742507935,
          1.0042200088500977,
          1.0017000436782837,
          1.0023399591445923,
          1.0010199546813965,
          1.0039700269699097,
          0.9952999949455261,
          0.9990500211715698,
          0.9959499835968018,
          0.9995200037956238,
          0.9954299926757812,
          0.9888899922370911,
          0.9867500066757202,
          0.9904999732971191,
          0.9858999848365784,
          0.9858099818229675,
          0.9893100261688232,
          0.987089991569519,
          0.9882100224494934,
          0.9884700179100037,
          0.9861800074577332,
          0.9879599809646606,
          0.9876099824905396,
          0.9894599914550781,
          0.9921000003814697,
          0.9926400184631348,
          0.9963200092315674,
          1.0022599697113037,
          0.9982500076293945,
          0.995419979095459,
          0.9943900108337402,
          0.9939000010490417,
          0.9924799799919128,
          0.9873999953269958,
          0.9811400175094604,
          0.978600025177002,
          0.9810199737548828,
          0.985509991645813,
          0.9862099885940552,
          0.9895700216293335,
          0.995959997177124,
          0.9927899837493896,
          0.9962800145149231,
          0.9930800199508667,
          0.9897000193595886,
          0.9888299703598022,
          0.9975100159645081,
          0.9956700205802917,
          0.9959999918937683,
          0.9911199808120728,
          0.9956600069999695,
          0.992330014705658,
          0.9882299900054932,
          0.9876099824905396,
          0.9872000217437744,
          0.987820029258728,
          0.9858199954032898,
          0.9850999712944031,
          0.9825299978256226,
          0.9829000234603882,
          0.981660008430481,
          0.9833300113677979,
          0.983020007610321,
          0.978659987449646,
          0.9803599715232849,
          0.9807599782943726,
          0.9790899753570557,
          0.9839400053024292,
          0.9861199855804443,
          0.9853000044822693,
          0.9826700091362,
          0.9825000166893005,
          0.9777500033378601,
          0.9758599996566772,
          0.9818000197410583,
          0.9785400032997131,
          0.9760199785232544,
          0.9766899943351746,
          0.9756500124931335,
          0.9748799800872803,
          0.9736199975013733,
          0.9740999937057495,
          0.9736999869346619,
          0.9749299883842468,
          0.972029983997345,
          0.9710000157356262,
          0.970740020275116,
          0.9726200103759766,
          0.9705899953842163,
          0.9710999727249146,
          0.9683700203895569,
          0.9721999764442444,
          0.9730100035667419,
          0.9743800163269043,
          0.9731000065803528,
          0.9703699946403503,
          0.970329999923706,
          0.9738199710845947,
          0.9691299796104431,
          0.9713000059127808,
          0.9776899814605713,
          0.9766200184822083,
          0.9759699702262878,
          0.9760000109672546,
          0.9785000085830688,
          0.9785799980163574,
          0.9802299737930298,
          0.9808800220489502,
          0.9804999828338623,
          0.9768999814987183,
          0.9771999716758728,
          0.979200005531311,
          0.9787600040435791,
          0.9771599769592285,
          0.9764000177383423,
          0.9778000116348267,
          0.975820004940033,
          0.9750699996948242
         ],
         "yaxis": "y2"
        },
        {
         "type": "scatter",
         "x": [
          "2023-01-06T00:00:00",
          "2023-01-09T00:00:00",
          "2023-01-10T00:00:00",
          "2023-01-11T00:00:00",
          "2023-01-12T00:00:00",
          "2023-01-13T00:00:00",
          "2023-01-16T00:00:00",
          "2023-01-17T00:00:00",
          "2023-01-18T00:00:00",
          "2023-01-19T00:00:00",
          "2023-01-20T00:00:00",
          "2023-01-23T00:00:00",
          "2023-01-24T00:00:00",
          "2023-01-25T00:00:00",
          "2023-01-26T00:00:00",
          "2023-01-27T00:00:00",
          "2023-01-30T00:00:00",
          "2023-01-31T00:00:00",
          "2023-02-01T00:00:00",
          "2023-02-02T00:00:00",
          "2023-02-03T00:00:00",
          "2023-02-06T00:00:00",
          "2023-02-07T00:00:00",
          "2023-02-08T00:00:00",
          "2023-02-09T00:00:00",
          "2023-02-10T00:00:00",
          "2023-02-13T00:00:00",
          "2023-02-14T00:00:00",
          "2023-02-15T00:00:00",
          "2023-02-16T00:00:00",
          "2023-02-17T00:00:00",
          "2023-02-20T00:00:00",
          "2023-02-21T00:00:00",
          "2023-02-22T00:00:00",
          "2023-02-23T00:00:00",
          "2023-02-24T00:00:00",
          "2023-02-27T00:00:00",
          "2023-02-28T00:00:00",
          "2023-03-01T00:00:00",
          "2023-03-02T00:00:00",
          "2023-03-03T00:00:00",
          "2023-03-06T00:00:00",
          "2023-03-07T00:00:00",
          "2023-03-08T00:00:00",
          "2023-03-09T00:00:00",
          "2023-03-10T00:00:00",
          "2023-03-13T00:00:00",
          "2023-03-14T00:00:00",
          "2023-03-15T00:00:00",
          "2023-03-16T00:00:00",
          "2023-03-17T00:00:00",
          "2023-03-20T00:00:00",
          "2023-03-21T00:00:00",
          "2023-03-22T00:00:00",
          "2023-03-23T00:00:00",
          "2023-03-24T00:00:00",
          "2023-03-27T00:00:00",
          "2023-03-28T00:00:00",
          "2023-03-29T00:00:00",
          "2023-03-30T00:00:00",
          "2023-03-31T00:00:00",
          "2023-04-03T00:00:00",
          "2023-04-04T00:00:00",
          "2023-04-05T00:00:00",
          "2023-04-06T00:00:00",
          "2023-04-07T00:00:00",
          "2023-04-10T00:00:00",
          "2023-04-11T00:00:00",
          "2023-04-12T00:00:00",
          "2023-04-13T00:00:00",
          "2023-04-14T00:00:00",
          "2023-04-17T00:00:00",
          "2023-04-18T00:00:00",
          "2023-04-19T00:00:00",
          "2023-04-20T00:00:00",
          "2023-04-21T00:00:00",
          "2023-04-24T00:00:00",
          "2023-04-25T00:00:00",
          "2023-04-26T00:00:00",
          "2023-04-27T00:00:00",
          "2023-04-28T00:00:00",
          "2023-05-01T00:00:00",
          "2023-05-02T00:00:00",
          "2023-05-03T00:00:00",
          "2023-05-04T00:00:00",
          "2023-05-05T00:00:00",
          "2023-05-08T00:00:00",
          "2023-05-09T00:00:00",
          "2023-05-10T00:00:00",
          "2023-05-11T00:00:00",
          "2023-05-12T00:00:00",
          "2023-05-15T00:00:00",
          "2023-05-16T00:00:00",
          "2023-05-17T00:00:00",
          "2023-05-18T00:00:00",
          "2023-05-19T00:00:00",
          "2023-05-22T00:00:00",
          "2023-05-23T00:00:00",
          "2023-05-24T00:00:00",
          "2023-05-25T00:00:00",
          "2023-05-26T00:00:00",
          "2023-05-29T00:00:00",
          "2023-05-30T00:00:00",
          "2023-05-31T00:00:00",
          "2023-06-01T00:00:00",
          "2023-06-02T00:00:00",
          "2023-06-05T00:00:00",
          "2023-06-06T00:00:00",
          "2023-06-07T00:00:00",
          "2023-06-08T00:00:00",
          "2023-06-09T00:00:00",
          "2023-06-12T00:00:00",
          "2023-06-13T00:00:00",
          "2023-06-14T00:00:00",
          "2023-06-15T00:00:00",
          "2023-06-16T00:00:00",
          "2023-06-19T00:00:00",
          "2023-06-20T00:00:00",
          "2023-06-21T00:00:00",
          "2023-06-22T00:00:00",
          "2023-06-23T00:00:00",
          "2023-06-26T00:00:00",
          "2023-06-27T00:00:00",
          "2023-06-28T00:00:00",
          "2023-06-29T00:00:00",
          "2023-06-30T00:00:00",
          "2023-07-03T00:00:00",
          "2023-07-04T00:00:00",
          "2023-07-05T00:00:00",
          "2023-07-06T00:00:00"
         ],
         "xaxis": "x3",
         "y": [
          140.25999450683594,
          140.5070037841797,
          141.3730010986328,
          141.8520050048828,
          141.99200439453125,
          140.27499389648438,
          138.5780029296875,
          138.9600067138672,
          138.4010009765625,
          138.79299926757812,
          139.0679931640625,
          140.64999389648438,
          141.9720001220703,
          141.79200744628906,
          141.13999938964844,
          141.39300537109375,
          141.16200256347656,
          141.56900024414062,
          141.3000030517578,
          141.63699340820312,
          140.3800048828125,
          142.43699645996094,
          142.27999877929688,
          140.59800720214844,
          140.78700256347656,
          141.24000549316406,
          140.45899963378906,
          141.99400329589844,
          142.7689971923828,
          143.15199279785156,
          142.99099731445312,
          143.50399780273438,
          143.5,
          143.7949981689453,
          143.0989990234375,
          142.66400146484375,
          143.9499969482422,
          144.60899353027344,
          144.2050018310547,
          145.29299926757812,
          144.89599609375,
          144.5240020751953,
          145.31100463867188,
          144.91799926757812,
          144.75900268554688,
          144.35499572753906,
          143.66000366210938,
          142.7429962158203,
          144.16900634765625,
          140.6750030517578,
          141.552001953125,
          141.2530059814453,
          140.83900451660156,
          142.5850067138672,
          142.58700561523438,
          141.78399658203125,
          141.02099609375,
          141.8179931640625,
          142.03799438476562,
          143.7550048828125,
          145.24099731445312,
          144.04600524902344,
          144.3179931640625,
          144.00999450683594,
          142.7220001220703,
          143.7570037841797,
          144.1529998779297,
          145.06199645996094,
          145.84300231933594,
          146.3509979248047,
          146.41900634765625,
          147.1300048828125,
          146.8730010986328,
          147.10800170898438,
          147.51499938964844,
          146.96099853515625,
          147.24200439453125,
          148.24000549316406,
          146.78500366210938,
          147.37899780273438,
          147.51199340820312,
          150.19700622558594,
          150.8820037841797,
          150.2565460205078,
          148.91600036621094,
          147.8939971923828,
          148.96299743652344,
          148.51800537109375,
          148.33099365234375,
          147.2899932861328,
          146.76246643066406,
          147.39500427246094,
          147.92300415039062,
          148.22900390625,
          149.14300537109375,
          149.3699951171875,
          149.01300048828125,
          149.91000366210938,
          149.25799560546875,
          149.8179931640625,
          150.1490020751953,
          151.0489959716797,
          150.37100219726562,
          150.01199340820312,
          148.76300048828125,
          149.29400634765625,
          149.97900390625,
          149.29400634765625,
          149.25599670410156,
          149.78799438476562,
          149.72000122070312,
          149.82000732421875,
          150.09100341796875,
          151.23199462890625,
          151.76499938964844,
          153.52699279785156,
          155.17999267578125,
          155.0070037841797,
          154.33599853515625,
          155.73699951171875,
          156.6999969482422,
          156.54800415039062,
          156.51199340820312,
          157.63800048828125,
          157.60800170898438,
          157.34800720214844,
          157.49200439453125,
          157.7740020751953,
          157.13999938964844,
          156.72000122070312
         ],
         "yaxis": "y3"
        },
        {
         "type": "scatter",
         "x": [
          "2023-01-06T00:00:00",
          "2023-01-09T00:00:00",
          "2023-01-10T00:00:00",
          "2023-01-11T00:00:00",
          "2023-01-12T00:00:00",
          "2023-01-13T00:00:00",
          "2023-01-16T00:00:00",
          "2023-01-17T00:00:00",
          "2023-01-18T00:00:00",
          "2023-01-19T00:00:00",
          "2023-01-20T00:00:00",
          "2023-01-23T00:00:00",
          "2023-01-24T00:00:00",
          "2023-01-25T00:00:00",
          "2023-01-26T00:00:00",
          "2023-01-27T00:00:00",
          "2023-01-30T00:00:00",
          "2023-01-31T00:00:00",
          "2023-02-01T00:00:00",
          "2023-02-02T00:00:00",
          "2023-02-03T00:00:00",
          "2023-02-06T00:00:00",
          "2023-02-07T00:00:00",
          "2023-02-08T00:00:00",
          "2023-02-09T00:00:00",
          "2023-02-10T00:00:00",
          "2023-02-13T00:00:00",
          "2023-02-14T00:00:00",
          "2023-02-15T00:00:00",
          "2023-02-16T00:00:00",
          "2023-02-17T00:00:00",
          "2023-02-20T00:00:00",
          "2023-02-21T00:00:00",
          "2023-02-22T00:00:00",
          "2023-02-23T00:00:00",
          "2023-02-24T00:00:00",
          "2023-02-27T00:00:00",
          "2023-02-28T00:00:00",
          "2023-03-01T00:00:00",
          "2023-03-02T00:00:00",
          "2023-03-03T00:00:00",
          "2023-03-06T00:00:00",
          "2023-03-07T00:00:00",
          "2023-03-08T00:00:00",
          "2023-03-09T00:00:00",
          "2023-03-10T00:00:00",
          "2023-03-13T00:00:00",
          "2023-03-14T00:00:00",
          "2023-03-15T00:00:00",
          "2023-03-16T00:00:00",
          "2023-03-17T00:00:00",
          "2023-03-20T00:00:00",
          "2023-03-21T00:00:00",
          "2023-03-22T00:00:00",
          "2023-03-23T00:00:00",
          "2023-03-24T00:00:00",
          "2023-03-27T00:00:00",
          "2023-03-28T00:00:00",
          "2023-03-29T00:00:00",
          "2023-03-30T00:00:00",
          "2023-03-31T00:00:00",
          "2023-04-03T00:00:00",
          "2023-04-04T00:00:00",
          "2023-04-05T00:00:00",
          "2023-04-06T00:00:00",
          "2023-04-07T00:00:00",
          "2023-04-10T00:00:00",
          "2023-04-11T00:00:00",
          "2023-04-12T00:00:00",
          "2023-04-13T00:00:00",
          "2023-04-14T00:00:00",
          "2023-04-17T00:00:00",
          "2023-04-18T00:00:00",
          "2023-04-19T00:00:00",
          "2023-04-20T00:00:00",
          "2023-04-21T00:00:00",
          "2023-04-24T00:00:00",
          "2023-04-25T00:00:00",
          "2023-04-26T00:00:00",
          "2023-04-27T00:00:00",
          "2023-04-28T00:00:00",
          "2023-05-01T00:00:00",
          "2023-05-02T00:00:00",
          "2023-05-03T00:00:00",
          "2023-05-04T00:00:00",
          "2023-05-05T00:00:00",
          "2023-05-08T00:00:00",
          "2023-05-09T00:00:00",
          "2023-05-10T00:00:00",
          "2023-05-11T00:00:00",
          "2023-05-12T00:00:00",
          "2023-05-15T00:00:00",
          "2023-05-16T00:00:00",
          "2023-05-17T00:00:00",
          "2023-05-18T00:00:00",
          "2023-05-19T00:00:00",
          "2023-05-22T00:00:00",
          "2023-05-23T00:00:00",
          "2023-05-24T00:00:00",
          "2023-05-25T00:00:00",
          "2023-05-26T00:00:00",
          "2023-05-29T00:00:00",
          "2023-05-30T00:00:00",
          "2023-05-31T00:00:00",
          "2023-06-01T00:00:00",
          "2023-06-02T00:00:00",
          "2023-06-05T00:00:00",
          "2023-06-06T00:00:00",
          "2023-06-07T00:00:00",
          "2023-06-08T00:00:00",
          "2023-06-09T00:00:00",
          "2023-06-12T00:00:00",
          "2023-06-13T00:00:00",
          "2023-06-14T00:00:00",
          "2023-06-15T00:00:00",
          "2023-06-16T00:00:00",
          "2023-06-19T00:00:00",
          "2023-06-20T00:00:00",
          "2023-06-21T00:00:00",
          "2023-06-22T00:00:00",
          "2023-06-23T00:00:00",
          "2023-06-26T00:00:00",
          "2023-06-27T00:00:00",
          "2023-06-28T00:00:00",
          "2023-06-29T00:00:00",
          "2023-06-30T00:00:00",
          "2023-07-03T00:00:00",
          "2023-07-04T00:00:00",
          "2023-07-05T00:00:00",
          "2023-07-06T00:00:00"
         ],
         "xaxis": "x4",
         "y": [
          0.8832399845123291,
          0.8794400095939636,
          0.880649983882904,
          0.8834800124168396,
          0.8852900266647339,
          0.8888300061225891,
          0.8852699995040894,
          0.8870900273323059,
          0.8781999945640564,
          0.8744300007820129,
          0.8741199970245361,
          0.8756899833679199,
          0.8781300187110901,
          0.882860004901886,
          0.879859983921051,
          0.8773900270462036,
          0.8766599893569946,
          0.8785099983215332,
          0.882319986820221,
          0.8889999985694885,
          0.8920599818229675,
          0.8958200216293335,
          0.8920199871063232,
          0.890030026435852,
          0.8875600099563599,
          0.8866000175476074,
          0.885890007019043,
          0.8829399943351746,
          0.8817700147628784,
          0.8881199955940247,
          0.8905900120735168,
          0.8881099820137024,
          0.887179970741272,
          0.8795999884605408,
          0.8802700042724609,
          0.8817999958992004,
          0.8829900026321411,
          0.8795400261878967,
          0.8788300156593323,
          0.8869900107383728,
          0.8868499994277954,
          0.8833500146865845,
          0.8882899880409241,
          0.8917199969291687,
          0.8901799917221069,
          0.8877300024032593,
          0.88441002368927,
          0.8811299800872803,
          0.8827499747276306,
          0.8766099810600281,
          0.8762800097465515,
          0.8761299848556519,
          0.8732200264930725,
          0.8810099959373474,
          0.8850700259208679,
          0.8819199800491333,
          0.8794999718666077,
          0.8787400126457214,
          0.879010021686554,
          0.8806399703025818,
          0.8802400231361389,
          0.8791599869728088,
          0.8780500292778015,
          0.8766099810600281,
          0.8748300075531006,
          0.8778700232505798,
          0.877810001373291,
          0.8770300149917603,
          0.8781300187110901,
          0.8802499771118164,
          0.8822299838066101,
          0.8857499957084656,
          0.8827400207519531,
          0.8831700086593628,
          0.8811299800872803,
          0.8814399838447571,
          0.8829699754714966,
          0.8845999836921692,
          0.8841500282287598,
          0.8856300115585327,
          0.8826799988746643,
          0.8767799735069275,
          0.8785200119018555,
          0.8824700117111206,
          0.8805999755859375,
          0.8761000037193298,
          0.8723300099372864,
          0.8717700242996216,
          0.8684399724006653,
          0.8697999715805054,
          0.8721100091934204,
          0.8715800046920776,
          0.8679999709129333,
          0.8702399730682373,
          0.8682100176811218,
          0.8680700063705444,
          0.8684800267219543,
          0.869350016117096,
          0.8672699928283691,
          0.8694300055503845,
          0.8705099821090698,
          0.8684300184249878,
          0.8670099973678589,
          0.864579975605011,
          0.8589000105857849,
          0.8590199947357178,
          0.8605599999427795,
          0.86149001121521,
          0.8607100248336792,
          0.8603600263595581,
          0.8583800196647644,
          0.8544899821281433,
          0.8596600294113159,
          0.8555700182914734,
          0.8554099798202515,
          0.8560500144958496,
          0.8525999784469604,
          0.8537600040435791,
          0.8553100228309631,
          0.8607000112533569,
          0.8593999743461609,
          0.8567500114440918,
          0.8579699993133545,
          0.8596600294113159,
          0.8632500171661377,
          0.8614799976348877,
          0.8592600226402283,
          0.8597300052642822,
          0.8553799986839294,
          0.8550599813461304
         ],
         "yaxis": "y4"
        },
        {
         "type": "scatter",
         "x": [
          "2023-01-06T00:00:00",
          "2023-01-09T00:00:00",
          "2023-01-10T00:00:00",
          "2023-01-11T00:00:00",
          "2023-01-12T00:00:00",
          "2023-01-13T00:00:00",
          "2023-01-16T00:00:00",
          "2023-01-17T00:00:00",
          "2023-01-18T00:00:00",
          "2023-01-19T00:00:00",
          "2023-01-20T00:00:00",
          "2023-01-23T00:00:00",
          "2023-01-24T00:00:00",
          "2023-01-25T00:00:00",
          "2023-01-26T00:00:00",
          "2023-01-27T00:00:00",
          "2023-01-30T00:00:00",
          "2023-01-31T00:00:00",
          "2023-02-01T00:00:00",
          "2023-02-02T00:00:00",
          "2023-02-03T00:00:00",
          "2023-02-06T00:00:00",
          "2023-02-07T00:00:00",
          "2023-02-08T00:00:00",
          "2023-02-09T00:00:00",
          "2023-02-10T00:00:00",
          "2023-02-13T00:00:00",
          "2023-02-14T00:00:00",
          "2023-02-15T00:00:00",
          "2023-02-16T00:00:00",
          "2023-02-17T00:00:00",
          "2023-02-20T00:00:00",
          "2023-02-21T00:00:00",
          "2023-02-22T00:00:00",
          "2023-02-23T00:00:00",
          "2023-02-24T00:00:00",
          "2023-02-27T00:00:00",
          "2023-02-28T00:00:00",
          "2023-03-01T00:00:00",
          "2023-03-02T00:00:00",
          "2023-03-03T00:00:00",
          "2023-03-06T00:00:00",
          "2023-03-07T00:00:00",
          "2023-03-08T00:00:00",
          "2023-03-09T00:00:00",
          "2023-03-10T00:00:00",
          "2023-03-13T00:00:00",
          "2023-03-14T00:00:00",
          "2023-03-15T00:00:00",
          "2023-03-16T00:00:00",
          "2023-03-17T00:00:00",
          "2023-03-20T00:00:00",
          "2023-03-21T00:00:00",
          "2023-03-22T00:00:00",
          "2023-03-23T00:00:00",
          "2023-03-24T00:00:00",
          "2023-03-27T00:00:00",
          "2023-03-28T00:00:00",
          "2023-03-29T00:00:00",
          "2023-03-30T00:00:00",
          "2023-03-31T00:00:00",
          "2023-04-03T00:00:00",
          "2023-04-04T00:00:00",
          "2023-04-05T00:00:00",
          "2023-04-06T00:00:00",
          "2023-04-07T00:00:00",
          "2023-04-10T00:00:00",
          "2023-04-11T00:00:00",
          "2023-04-12T00:00:00",
          "2023-04-13T00:00:00",
          "2023-04-14T00:00:00",
          "2023-04-17T00:00:00",
          "2023-04-18T00:00:00",
          "2023-04-19T00:00:00",
          "2023-04-20T00:00:00",
          "2023-04-21T00:00:00",
          "2023-04-24T00:00:00",
          "2023-04-25T00:00:00",
          "2023-04-26T00:00:00",
          "2023-04-27T00:00:00",
          "2023-04-28T00:00:00",
          "2023-05-01T00:00:00",
          "2023-05-02T00:00:00",
          "2023-05-03T00:00:00",
          "2023-05-04T00:00:00",
          "2023-05-05T00:00:00",
          "2023-05-08T00:00:00",
          "2023-05-09T00:00:00",
          "2023-05-10T00:00:00",
          "2023-05-11T00:00:00",
          "2023-05-12T00:00:00",
          "2023-05-15T00:00:00",
          "2023-05-16T00:00:00",
          "2023-05-17T00:00:00",
          "2023-05-18T00:00:00",
          "2023-05-19T00:00:00",
          "2023-05-22T00:00:00",
          "2023-05-23T00:00:00",
          "2023-05-24T00:00:00",
          "2023-05-25T00:00:00",
          "2023-05-26T00:00:00",
          "2023-05-29T00:00:00",
          "2023-05-30T00:00:00",
          "2023-05-31T00:00:00",
          "2023-06-01T00:00:00",
          "2023-06-02T00:00:00",
          "2023-06-05T00:00:00",
          "2023-06-06T00:00:00",
          "2023-06-07T00:00:00",
          "2023-06-08T00:00:00",
          "2023-06-09T00:00:00",
          "2023-06-12T00:00:00",
          "2023-06-13T00:00:00",
          "2023-06-14T00:00:00",
          "2023-06-15T00:00:00",
          "2023-06-16T00:00:00",
          "2023-06-19T00:00:00",
          "2023-06-20T00:00:00",
          "2023-06-21T00:00:00",
          "2023-06-22T00:00:00",
          "2023-06-23T00:00:00",
          "2023-06-26T00:00:00",
          "2023-06-27T00:00:00",
          "2023-06-28T00:00:00",
          "2023-06-29T00:00:00",
          "2023-06-30T00:00:00",
          "2023-07-03T00:00:00",
          "2023-07-04T00:00:00",
          "2023-07-05T00:00:00",
          "2023-07-06T00:00:00"
         ],
         "xaxis": "x5",
         "y": [
          1.1912277936935425,
          1.2116365432739258,
          1.2184869050979614,
          1.2154507637023926,
          1.2159533500671387,
          1.2217769622802734,
          1.2226732969284058,
          1.2207776308059692,
          1.228471040725708,
          1.2347661256790161,
          1.2393262386322021,
          1.240633249282837,
          1.2379761934280396,
          1.232923984527588,
          1.2412492036819458,
          1.2415266036987305,
          1.2400301694869995,
          1.2353609800338745,
          1.2308903932571411,
          1.2390038967132568,
          1.222299575805664,
          1.2045146226882935,
          1.2026747465133667,
          1.2054582834243774,
          1.2071462869644165,
          1.2116806507110596,
          1.2052258253097534,
          1.215214490890503,
          1.2174336910247803,
          1.2039779424667358,
          1.197533130645752,
          1.2029786109924316,
          1.2039200067520142,
          1.2109322547912598,
          1.204993486404419,
          1.2017786502838135,
          1.1952428817749023,
          1.2061562538146973,
          1.2033549547195435,
          1.2029930353164673,
          1.1951572895050049,
          1.2028483152389526,
          1.2026457786560059,
          1.1827740669250488,
          1.1850166320800781,
          1.192250370979309,
          1.2079336643218994,
          1.2171372175216675,
          1.215214490890503,
          1.20692777633667,
          1.2110495567321777,
          1.2187690734863281,
          1.2276264429092407,
          1.2225087881088257,
          1.227973222732544,
          1.228154182434082,
          1.2246003150939941,
          1.229755163192749,
          1.2330456972122192,
          1.2313603162765503,
          1.2387275695800781,
          1.228697419166565,
          1.2423131465911865,
          1.249843716621399,
          1.2463078498840332,
          1.243900179862976,
          1.2431625127792358,
          1.239218831062317,
          1.2431007623672485,
          1.2492660284042358,
          1.2525300979614258,
          1.2400178909301758,
          1.2375471591949463,
          1.2425447702407837,
          1.2428845167160034,
          1.2440905570983887,
          1.2449734210968018,
          1.25,
          1.2414803504943848,
          1.2471472024917603,
          1.249750018119812,
          1.2557607889175415,
          1.2485953569412231,
          1.2476606369018555,
          1.256897211074829,
          1.2583364248275757,
          1.2630568742752075,
          1.2612725496292114,
          1.2624667882919312,
          1.2626996040344238,
          1.2508130073547363,
          1.2450973987579346,
          1.2525207996368408,
          1.2484394311904907,
          1.2482805252075195,
          1.2412338256835938,
          1.2461059093475342,
          1.243440866470337,
          1.2417269945144653,
          1.2371032238006592,
          1.2318304777145386,
          1.2346898317337036,
          1.234933853149414,
          1.241187572479248,
          1.244694471359253,
          1.2525991201400757,
          1.2430236339569092,
          1.2433171272277832,
          1.2428536415100098,
          1.2445859909057617,
          1.2559500932693481,
          1.25809907913208,
          1.2515331506729126,
          1.2606843709945679,
          1.26708984375,
          1.278576135635376,
          1.2830382585525513,
          1.2794759273529053,
          1.276535987854004,
          1.2772045135498047,
          1.2747135162353516,
          1.2729610204696655,
          1.2711971998214722,
          1.2744698524475098,
          1.2642544507980347,
          1.2614636421203613,
          1.2693254947662354,
          1.269293189048767,
          1.2717629671096802,
          1.273058295249939
         ],
         "yaxis": "y5"
        },
        {
         "type": "scatter",
         "x": [
          "2023-01-06T00:00:00",
          "2023-01-09T00:00:00",
          "2023-01-10T00:00:00",
          "2023-01-11T00:00:00",
          "2023-01-12T00:00:00",
          "2023-01-13T00:00:00",
          "2023-01-16T00:00:00",
          "2023-01-17T00:00:00",
          "2023-01-18T00:00:00",
          "2023-01-19T00:00:00",
          "2023-01-20T00:00:00",
          "2023-01-23T00:00:00",
          "2023-01-24T00:00:00",
          "2023-01-25T00:00:00",
          "2023-01-26T00:00:00",
          "2023-01-27T00:00:00",
          "2023-01-30T00:00:00",
          "2023-01-31T00:00:00",
          "2023-02-01T00:00:00",
          "2023-02-02T00:00:00",
          "2023-02-03T00:00:00",
          "2023-02-06T00:00:00",
          "2023-02-07T00:00:00",
          "2023-02-08T00:00:00",
          "2023-02-09T00:00:00",
          "2023-02-10T00:00:00",
          "2023-02-13T00:00:00",
          "2023-02-14T00:00:00",
          "2023-02-15T00:00:00",
          "2023-02-16T00:00:00",
          "2023-02-17T00:00:00",
          "2023-02-20T00:00:00",
          "2023-02-21T00:00:00",
          "2023-02-22T00:00:00",
          "2023-02-23T00:00:00",
          "2023-02-24T00:00:00",
          "2023-02-27T00:00:00",
          "2023-02-28T00:00:00",
          "2023-03-01T00:00:00",
          "2023-03-02T00:00:00",
          "2023-03-03T00:00:00",
          "2023-03-06T00:00:00",
          "2023-03-07T00:00:00",
          "2023-03-08T00:00:00",
          "2023-03-09T00:00:00",
          "2023-03-10T00:00:00",
          "2023-03-13T00:00:00",
          "2023-03-14T00:00:00",
          "2023-03-15T00:00:00",
          "2023-03-16T00:00:00",
          "2023-03-17T00:00:00",
          "2023-03-20T00:00:00",
          "2023-03-21T00:00:00",
          "2023-03-22T00:00:00",
          "2023-03-23T00:00:00",
          "2023-03-24T00:00:00",
          "2023-03-27T00:00:00",
          "2023-03-28T00:00:00",
          "2023-03-29T00:00:00",
          "2023-03-30T00:00:00",
          "2023-03-31T00:00:00",
          "2023-04-03T00:00:00",
          "2023-04-04T00:00:00",
          "2023-04-05T00:00:00",
          "2023-04-06T00:00:00",
          "2023-04-07T00:00:00",
          "2023-04-10T00:00:00",
          "2023-04-11T00:00:00",
          "2023-04-12T00:00:00",
          "2023-04-13T00:00:00",
          "2023-04-14T00:00:00",
          "2023-04-17T00:00:00",
          "2023-04-18T00:00:00",
          "2023-04-19T00:00:00",
          "2023-04-20T00:00:00",
          "2023-04-21T00:00:00",
          "2023-04-24T00:00:00",
          "2023-04-25T00:00:00",
          "2023-04-26T00:00:00",
          "2023-04-27T00:00:00",
          "2023-04-28T00:00:00",
          "2023-05-01T00:00:00",
          "2023-05-02T00:00:00",
          "2023-05-03T00:00:00",
          "2023-05-04T00:00:00",
          "2023-05-05T00:00:00",
          "2023-05-08T00:00:00",
          "2023-05-09T00:00:00",
          "2023-05-10T00:00:00",
          "2023-05-11T00:00:00",
          "2023-05-12T00:00:00",
          "2023-05-15T00:00:00",
          "2023-05-16T00:00:00",
          "2023-05-17T00:00:00",
          "2023-05-18T00:00:00",
          "2023-05-19T00:00:00",
          "2023-05-22T00:00:00",
          "2023-05-23T00:00:00",
          "2023-05-24T00:00:00",
          "2023-05-25T00:00:00",
          "2023-05-26T00:00:00",
          "2023-05-29T00:00:00",
          "2023-05-30T00:00:00",
          "2023-05-31T00:00:00",
          "2023-06-01T00:00:00",
          "2023-06-02T00:00:00",
          "2023-06-05T00:00:00",
          "2023-06-06T00:00:00",
          "2023-06-07T00:00:00",
          "2023-06-08T00:00:00",
          "2023-06-09T00:00:00",
          "2023-06-12T00:00:00",
          "2023-06-13T00:00:00",
          "2023-06-14T00:00:00",
          "2023-06-15T00:00:00",
          "2023-06-16T00:00:00",
          "2023-06-19T00:00:00",
          "2023-06-20T00:00:00",
          "2023-06-21T00:00:00",
          "2023-06-22T00:00:00",
          "2023-06-23T00:00:00",
          "2023-06-26T00:00:00",
          "2023-06-27T00:00:00",
          "2023-06-28T00:00:00",
          "2023-06-29T00:00:00",
          "2023-06-30T00:00:00",
          "2023-07-03T00:00:00",
          "2023-07-04T00:00:00",
          "2023-07-05T00:00:00",
          "2023-07-06T00:00:00"
         ],
         "xaxis": "x6",
         "y": [
          133.3070068359375,
          131.86199951171875,
          131.72900390625,
          132.1009979248047,
          131.90199279785156,
          129.1719970703125,
          128.0260009765625,
          128.3209991455078,
          128.281005859375,
          128.53900146484375,
          128.3699951171875,
          129.35400390625,
          130.5970001220703,
          130.23899841308594,
          129.23699951171875,
          129.8000030517578,
          129.85400390625,
          130.47900390625,
          130.11000061035156,
          128.6219940185547,
          128.74600219726562,
          132.00900268554688,
          132.6230010986328,
          131.04200744628906,
          131.38699340820312,
          131.5189971923828,
          131.55099487304688,
          132.33700561523438,
          132.99099731445312,
          133.9029998779297,
          134.07400512695312,
          134.3070068359375,
          134.33599853515625,
          134.9759979248047,
          134.9320068359375,
          134.6280059814453,
          136.39500427246094,
          136.31700134277344,
          136.34800720214844,
          136.19400024414062,
          136.7050018310547,
          135.86000061035156,
          135.99899291992188,
          137.39100646972656,
          137.2259979248047,
          136.39500427246094,
          134.97999572753906,
          133.11399841308594,
          134.39700317382812,
          132.9290008544922,
          133.3679962158203,
          132.28399658203125,
          131.39199829101562,
          132.34800720214844,
          131.1790008544922,
          130.86500549316406,
          130.8459930419922,
          131.23300170898438,
          131.04600524902344,
          132.5760040283203,
          133.2010040283203,
          133.3470001220703,
          132.2989959716797,
          131.48500061035156,
          130.9340057373047,
          131.66900634765625,
          132.0970001220703,
          133.468994140625,
          133.593994140625,
          133.0850067138672,
          132.48699951171875,
          133.9709930419922,
          134.4250030517578,
          134.04400634765625,
          134.70399475097656,
          133.99600219726562,
          133.96099853515625,
          134.08399963378906,
          133.71099853515625,
          133.46499633789062,
          133.802001953125,
          136.38600158691406,
          137.52099609375,
          136.46600341796875,
          134.54400634765625,
          134.1790008544922,
          135.19900512695312,
          135.072998046875,
          135.28799438476562,
          134.08700561523438,
          134.4980010986328,
          135.82200622558594,
          136.0449981689453,
          136.42999267578125,
          137.61399841308594,
          138.6199951171875,
          137.69200134277344,
          138.6719970703125,
          138.59800720214844,
          139.2830047607422,
          140.01699829101562,
          140.87100219726562,
          140.4409942626953,
          139.79200744628906,
          139.1269989013672,
          138.7480010986328,
          140.20700073242188,
          139.38299560546875,
          139.52699279785156,
          139.8990020751953,
          138.86300659179688,
          139.37100219726562,
          139.4600067138672,
          140.177001953125,
          139.9770050048828,
          140.26800537109375,
          141.86700439453125,
          141.8990020751953,
          141.3350067138672,
          141.68800354003906,
          143.02999877929688,
          143.54100036621094,
          143.4600067138672,
          143.8820037841797,
          144.38900756835938,
          144.77999877929688,
          144.3979949951172,
          144.58399963378906,
          144.406005859375,
          143.9810028076172
         ],
         "yaxis": "y6"
        },
        {
         "type": "scatter",
         "x": [
          "2023-01-06T00:00:00",
          "2023-01-09T00:00:00",
          "2023-01-10T00:00:00",
          "2023-01-11T00:00:00",
          "2023-01-12T00:00:00",
          "2023-01-13T00:00:00",
          "2023-01-16T00:00:00",
          "2023-01-17T00:00:00",
          "2023-01-18T00:00:00",
          "2023-01-19T00:00:00",
          "2023-01-20T00:00:00",
          "2023-01-23T00:00:00",
          "2023-01-24T00:00:00",
          "2023-01-25T00:00:00",
          "2023-01-26T00:00:00",
          "2023-01-27T00:00:00",
          "2023-01-30T00:00:00",
          "2023-01-31T00:00:00",
          "2023-02-01T00:00:00",
          "2023-02-02T00:00:00",
          "2023-02-03T00:00:00",
          "2023-02-06T00:00:00",
          "2023-02-07T00:00:00",
          "2023-02-08T00:00:00",
          "2023-02-09T00:00:00",
          "2023-02-10T00:00:00",
          "2023-02-13T00:00:00",
          "2023-02-14T00:00:00",
          "2023-02-15T00:00:00",
          "2023-02-16T00:00:00",
          "2023-02-17T00:00:00",
          "2023-02-20T00:00:00",
          "2023-02-21T00:00:00",
          "2023-02-22T00:00:00",
          "2023-02-23T00:00:00",
          "2023-02-24T00:00:00",
          "2023-02-27T00:00:00",
          "2023-02-28T00:00:00",
          "2023-03-01T00:00:00",
          "2023-03-02T00:00:00",
          "2023-03-03T00:00:00",
          "2023-03-06T00:00:00",
          "2023-03-07T00:00:00",
          "2023-03-08T00:00:00",
          "2023-03-09T00:00:00",
          "2023-03-10T00:00:00",
          "2023-03-13T00:00:00",
          "2023-03-14T00:00:00",
          "2023-03-15T00:00:00",
          "2023-03-16T00:00:00",
          "2023-03-17T00:00:00",
          "2023-03-20T00:00:00",
          "2023-03-21T00:00:00",
          "2023-03-22T00:00:00",
          "2023-03-23T00:00:00",
          "2023-03-24T00:00:00",
          "2023-03-27T00:00:00",
          "2023-03-28T00:00:00",
          "2023-03-29T00:00:00",
          "2023-03-30T00:00:00",
          "2023-03-31T00:00:00",
          "2023-04-03T00:00:00",
          "2023-04-04T00:00:00",
          "2023-04-05T00:00:00",
          "2023-04-06T00:00:00",
          "2023-04-07T00:00:00",
          "2023-04-10T00:00:00",
          "2023-04-11T00:00:00",
          "2023-04-12T00:00:00",
          "2023-04-13T00:00:00",
          "2023-04-14T00:00:00",
          "2023-04-17T00:00:00",
          "2023-04-18T00:00:00",
          "2023-04-19T00:00:00",
          "2023-04-20T00:00:00",
          "2023-04-21T00:00:00",
          "2023-04-24T00:00:00",
          "2023-04-25T00:00:00",
          "2023-04-26T00:00:00",
          "2023-04-27T00:00:00",
          "2023-04-28T00:00:00",
          "2023-05-01T00:00:00",
          "2023-05-02T00:00:00",
          "2023-05-03T00:00:00",
          "2023-05-04T00:00:00",
          "2023-05-05T00:00:00",
          "2023-05-08T00:00:00",
          "2023-05-09T00:00:00",
          "2023-05-10T00:00:00",
          "2023-05-11T00:00:00",
          "2023-05-12T00:00:00",
          "2023-05-15T00:00:00",
          "2023-05-16T00:00:00",
          "2023-05-17T00:00:00",
          "2023-05-18T00:00:00",
          "2023-05-19T00:00:00",
          "2023-05-22T00:00:00",
          "2023-05-23T00:00:00",
          "2023-05-24T00:00:00",
          "2023-05-25T00:00:00",
          "2023-05-26T00:00:00",
          "2023-05-29T00:00:00",
          "2023-05-30T00:00:00",
          "2023-05-31T00:00:00",
          "2023-06-01T00:00:00",
          "2023-06-02T00:00:00",
          "2023-06-05T00:00:00",
          "2023-06-06T00:00:00",
          "2023-06-07T00:00:00",
          "2023-06-08T00:00:00",
          "2023-06-09T00:00:00",
          "2023-06-12T00:00:00",
          "2023-06-13T00:00:00",
          "2023-06-14T00:00:00",
          "2023-06-15T00:00:00",
          "2023-06-16T00:00:00",
          "2023-06-19T00:00:00",
          "2023-06-20T00:00:00",
          "2023-06-21T00:00:00",
          "2023-06-22T00:00:00",
          "2023-06-23T00:00:00",
          "2023-06-26T00:00:00",
          "2023-06-27T00:00:00",
          "2023-06-28T00:00:00",
          "2023-06-29T00:00:00",
          "2023-06-30T00:00:00",
          "2023-07-03T00:00:00",
          "2023-07-04T00:00:00",
          "2023-07-05T00:00:00",
          "2023-07-06T00:00:00"
         ],
         "xaxis": "x7",
         "y": [
          0.9358299970626831,
          0.9268699884414673,
          0.920930027961731,
          0.9222400188446045,
          0.9309200048446655,
          0.9272000193595886,
          0.9267200231552124,
          0.9253900051116943,
          0.9219200015068054,
          0.91593998670578,
          0.9154999852180481,
          0.9198899865150452,
          0.9216700196266174,
          0.9222999811172485,
          0.9169700145721436,
          0.920199990272522,
          0.9208599925041199,
          0.925279974937439,
          0.9162499904632568,
          0.907260000705719,
          0.9132000207901001,
          0.9263299703598022,
          0.927869975566864,
          0.9216499924659729,
          0.9209100008010864,
          0.9219740033149719,
          0.9237899780273438,
          0.9186199903488159,
          0.92153000831604,
          0.9233599901199341,
          0.9264600276947021,
          0.92535001039505,
          0.9231799840927124,
          0.9275000095367432,
          0.9312400221824646,
          0.9336900115013123,
          0.9400299787521362,
          0.9355999827384949,
          0.941868007183075,
          0.9394699931144714,
          0.9418699741363525,
          0.9368000030517578,
          0.9306899905204773,
          0.9422299861907959,
          0.9408699870109558,
          0.9328500032424927,
          0.91839998960495,
          0.9124910235404968,
          0.9144999980926514,
          0.9310299754142761,
          0.9291700124740601,
          0.9267399907112122,
          0.9291999936103821,
          0.9214699864387512,
          0.9165199995040894,
          0.9164000153541565,
          0.9199000000953674,
          0.9150199890136719,
          0.9204000234603882,
          0.9180999994277954,
          0.9133800268173218,
          0.9175099730491638,
          0.9127100110054016,
          0.9053999781608582,
          0.9063599705696106,
          0.9043999910354614,
          0.9042699933052063,
          0.908810019493103,
          0.902899980545044,
          0.8957729935646057,
          0.8889999985694885,
          0.8948000073432922,
          0.8985099792480469,
          0.8959000110626221,
          0.8977000117301941,
          0.8923199772834778,
          0.891700029373169,
          0.8870900273323059,
          0.8918200135231018,
          0.8908100128173828,
          0.8938800096511841,
          0.8948000073432922,
          0.8958699703216553,
          0.8922500014305115,
          0.8834199905395508,
          0.885200023651123,
          0.8911700248718262,
          0.8899099826812744,
          0.8901600241661072,
          0.8892899751663208,
          0.8939999938011169,
          0.8983799815177917,
          0.8954600095748901,
          0.8963500261306763,
          0.8987420201301575,
          0.9048699736595154,
          0.8981900215148926,
          0.8982999920845032,
          0.9013100266456604,
          0.9039999842643738,
          0.9050499796867371,
          0.9056900143623352,
          0.9044600129127502,
          0.9057999849319458,
          0.9098899960517883,
          0.9055899977684021,
          0.9097200036048889,
          0.9059000015258789,
          0.9071300029754639,
          0.9095399975776672,
          0.8986999988555908,
          0.9031999707221985,
          0.90829998254776,
          0.9052600264549255,
          0.9000800251960754,
          0.8916400074958801,
          0.8942000269889832,
          0.8957800269126892,
          0.8976699709892273,
          0.892300009727478,
          0.8948799967765808,
          0.8957800269126892,
          0.895609974861145,
          0.893750011920929,
          0.8966599702835083,
          0.8991400003433228,
          0.8949999809265137,
          0.895799994468689,
          0.8966400027275085,
          0.8958399891853333
         ],
         "yaxis": "y7"
        },
        {
         "type": "scatter",
         "x": [
          "2023-01-06T00:00:00",
          "2023-01-09T00:00:00",
          "2023-01-10T00:00:00",
          "2023-01-11T00:00:00",
          "2023-01-12T00:00:00",
          "2023-01-13T00:00:00",
          "2023-01-16T00:00:00",
          "2023-01-17T00:00:00",
          "2023-01-18T00:00:00",
          "2023-01-19T00:00:00",
          "2023-01-20T00:00:00",
          "2023-01-23T00:00:00",
          "2023-01-24T00:00:00",
          "2023-01-25T00:00:00",
          "2023-01-26T00:00:00",
          "2023-01-27T00:00:00",
          "2023-01-30T00:00:00",
          "2023-01-31T00:00:00",
          "2023-02-01T00:00:00",
          "2023-02-02T00:00:00",
          "2023-02-03T00:00:00",
          "2023-02-06T00:00:00",
          "2023-02-07T00:00:00",
          "2023-02-08T00:00:00",
          "2023-02-09T00:00:00",
          "2023-02-10T00:00:00",
          "2023-02-13T00:00:00",
          "2023-02-14T00:00:00",
          "2023-02-15T00:00:00",
          "2023-02-16T00:00:00",
          "2023-02-17T00:00:00",
          "2023-02-20T00:00:00",
          "2023-02-21T00:00:00",
          "2023-02-22T00:00:00",
          "2023-02-23T00:00:00",
          "2023-02-24T00:00:00",
          "2023-02-27T00:00:00",
          "2023-02-28T00:00:00",
          "2023-03-01T00:00:00",
          "2023-03-02T00:00:00",
          "2023-03-03T00:00:00",
          "2023-03-06T00:00:00",
          "2023-03-07T00:00:00",
          "2023-03-08T00:00:00",
          "2023-03-09T00:00:00",
          "2023-03-10T00:00:00",
          "2023-03-13T00:00:00",
          "2023-03-14T00:00:00",
          "2023-03-15T00:00:00",
          "2023-03-16T00:00:00",
          "2023-03-17T00:00:00",
          "2023-03-20T00:00:00",
          "2023-03-21T00:00:00",
          "2023-03-22T00:00:00",
          "2023-03-23T00:00:00",
          "2023-03-24T00:00:00",
          "2023-03-27T00:00:00",
          "2023-03-28T00:00:00",
          "2023-03-29T00:00:00",
          "2023-03-30T00:00:00",
          "2023-03-31T00:00:00",
          "2023-04-03T00:00:00",
          "2023-04-04T00:00:00",
          "2023-04-05T00:00:00",
          "2023-04-06T00:00:00",
          "2023-04-07T00:00:00",
          "2023-04-10T00:00:00",
          "2023-04-11T00:00:00",
          "2023-04-12T00:00:00",
          "2023-04-13T00:00:00",
          "2023-04-14T00:00:00",
          "2023-04-17T00:00:00",
          "2023-04-18T00:00:00",
          "2023-04-19T00:00:00",
          "2023-04-20T00:00:00",
          "2023-04-21T00:00:00",
          "2023-04-24T00:00:00",
          "2023-04-25T00:00:00",
          "2023-04-26T00:00:00",
          "2023-04-27T00:00:00",
          "2023-04-28T00:00:00",
          "2023-05-01T00:00:00",
          "2023-05-02T00:00:00",
          "2023-05-03T00:00:00",
          "2023-05-04T00:00:00",
          "2023-05-05T00:00:00",
          "2023-05-08T00:00:00",
          "2023-05-09T00:00:00",
          "2023-05-10T00:00:00",
          "2023-05-11T00:00:00",
          "2023-05-12T00:00:00",
          "2023-05-15T00:00:00",
          "2023-05-16T00:00:00",
          "2023-05-17T00:00:00",
          "2023-05-18T00:00:00",
          "2023-05-19T00:00:00",
          "2023-05-22T00:00:00",
          "2023-05-23T00:00:00",
          "2023-05-24T00:00:00",
          "2023-05-25T00:00:00",
          "2023-05-26T00:00:00",
          "2023-05-29T00:00:00",
          "2023-05-30T00:00:00",
          "2023-05-31T00:00:00",
          "2023-06-01T00:00:00",
          "2023-06-02T00:00:00",
          "2023-06-05T00:00:00",
          "2023-06-06T00:00:00",
          "2023-06-07T00:00:00",
          "2023-06-08T00:00:00",
          "2023-06-09T00:00:00",
          "2023-06-12T00:00:00",
          "2023-06-13T00:00:00",
          "2023-06-14T00:00:00",
          "2023-06-15T00:00:00",
          "2023-06-16T00:00:00",
          "2023-06-19T00:00:00",
          "2023-06-20T00:00:00",
          "2023-06-21T00:00:00",
          "2023-06-22T00:00:00",
          "2023-06-23T00:00:00",
          "2023-06-26T00:00:00",
          "2023-06-27T00:00:00",
          "2023-06-28T00:00:00",
          "2023-06-29T00:00:00",
          "2023-06-30T00:00:00",
          "2023-07-03T00:00:00",
          "2023-07-04T00:00:00",
          "2023-07-05T00:00:00",
          "2023-07-06T00:00:00"
         ],
         "xaxis": "x8",
         "y": [
          1.4802320003509521,
          1.4505399465560913,
          1.447240948677063,
          1.4503259658813477,
          1.4469690322875977,
          1.43517005443573,
          1.434000015258789,
          1.4354619979858398,
          1.43094003200531,
          1.4400919675827026,
          1.4463410377502441,
          1.4321099519729614,
          1.4226200580596924,
          1.419100046157837,
          1.4068260192871094,
          1.4056990146636963,
          1.4068700075149536,
          1.4168119430541992,
          1.4181580543518066,
          1.3995800018310547,
          1.4134900569915771,
          1.4449199438095093,
          1.451841950416565,
          1.4358329772949219,
          1.4430010318756104,
          1.4410500526428223,
          1.4464499950408936,
          1.4347200393676758,
          1.4311100244522095,
          1.4478280544281006,
          1.4572160243988037,
          1.4557299613952637,
          1.4473869800567627,
          1.4573220014572144,
          1.4678000211715698,
          1.468400001525879,
          1.4846299886703491,
          1.4830189943313599,
          1.4857100248336792,
          1.4793339967727661,
          1.48478102684021,
          1.4804699420928955,
          1.485200047492981,
          1.5172200202941895,
          1.5165300369262695,
          1.5172200202941895,
          1.5073399543762207,
          1.5016820430755615,
          1.4949699640274048,
          1.5109620094299316,
          1.5007350444793701,
          1.4895999431610107,
          1.4887820482254028,
          1.4974770545959473,
          1.4926899671554565,
          1.4966479539871216,
          1.502560019493103,
          1.501479983329773,
          1.4910000562667847,
          1.4964499473571777,
          1.488800048828125,
          1.5017499923706055,
          1.473078966140747,
          1.4797099828720093,
          1.4888299703598022,
          1.4979000091552734,
          1.4984639883041382,
          1.5041439533233643,
          1.5028549432754517,
          1.4927599430084229,
          1.4740569591522217,
          1.491379976272583,
          1.4924479722976685,
          1.4846270084381104,
          1.4913100004196167,
          1.4829800128936768,
          1.4939899444580078,
          1.4916900396347046,
          1.5068409442901611,
          1.5132299661636353,
          1.5082050561904907,
          1.5123100280761719,
          1.5099350214004517,
          1.498576045036316,
          1.505679965019226,
          1.4934070110321045,
          1.4819899797439575,
          1.4747099876403809,
          1.4777799844741821,
          1.4745099544525146,
          1.4925600290298462,
          1.5044599771499634,
          1.4918689727783203,
          1.5019999742507935,
          1.5024900436401367,
          1.5082999467849731,
          1.5012760162353516,
          1.5038299560546875,
          1.5120400190353394,
          1.5278600454330444,
          1.5388200283050537,
          1.532099962234497,
          1.5317449569702148,
          1.5342600345611572,
          1.5369479656219482,
          1.5202200412750244,
          1.5151519775390625,
          1.5120600461959839,
          1.4972100257873535,
          1.501816987991333,
          1.4897359609603882,
          1.4825799465179443,
          1.480800986289978,
          1.4772599935531616,
          1.4712599515914917,
          1.4534250497817993,
          1.454334020614624,
          1.4595600366592407,
          1.4730099439620972,
          1.4708689451217651,
          1.4791369438171387,
          1.4968899488449097,
          1.4982399940490723,
          1.4966919422149658,
          1.5150099992752075,
          1.510640025138855,
          1.5018800497055054,
          1.498329997062683,
          1.4941649436950684,
          1.5088000297546387
         ],
         "yaxis": "y8"
        },
        {
         "type": "scatter",
         "x": [
          "2023-01-06T00:00:00",
          "2023-01-09T00:00:00",
          "2023-01-10T00:00:00",
          "2023-01-11T00:00:00",
          "2023-01-12T00:00:00",
          "2023-01-13T00:00:00",
          "2023-01-16T00:00:00",
          "2023-01-17T00:00:00",
          "2023-01-18T00:00:00",
          "2023-01-19T00:00:00",
          "2023-01-20T00:00:00",
          "2023-01-23T00:00:00",
          "2023-01-24T00:00:00",
          "2023-01-25T00:00:00",
          "2023-01-26T00:00:00",
          "2023-01-27T00:00:00",
          "2023-01-30T00:00:00",
          "2023-01-31T00:00:00",
          "2023-02-01T00:00:00",
          "2023-02-02T00:00:00",
          "2023-02-03T00:00:00",
          "2023-02-06T00:00:00",
          "2023-02-07T00:00:00",
          "2023-02-08T00:00:00",
          "2023-02-09T00:00:00",
          "2023-02-10T00:00:00",
          "2023-02-13T00:00:00",
          "2023-02-14T00:00:00",
          "2023-02-15T00:00:00",
          "2023-02-16T00:00:00",
          "2023-02-17T00:00:00",
          "2023-02-20T00:00:00",
          "2023-02-21T00:00:00",
          "2023-02-22T00:00:00",
          "2023-02-23T00:00:00",
          "2023-02-24T00:00:00",
          "2023-02-27T00:00:00",
          "2023-02-28T00:00:00",
          "2023-03-01T00:00:00",
          "2023-03-02T00:00:00",
          "2023-03-03T00:00:00",
          "2023-03-06T00:00:00",
          "2023-03-07T00:00:00",
          "2023-03-08T00:00:00",
          "2023-03-09T00:00:00",
          "2023-03-10T00:00:00",
          "2023-03-13T00:00:00",
          "2023-03-14T00:00:00",
          "2023-03-15T00:00:00",
          "2023-03-16T00:00:00",
          "2023-03-17T00:00:00",
          "2023-03-20T00:00:00",
          "2023-03-21T00:00:00",
          "2023-03-22T00:00:00",
          "2023-03-23T00:00:00",
          "2023-03-24T00:00:00",
          "2023-03-27T00:00:00",
          "2023-03-28T00:00:00",
          "2023-03-29T00:00:00",
          "2023-03-30T00:00:00",
          "2023-03-31T00:00:00",
          "2023-04-03T00:00:00",
          "2023-04-04T00:00:00",
          "2023-04-05T00:00:00",
          "2023-04-06T00:00:00",
          "2023-04-07T00:00:00",
          "2023-04-10T00:00:00",
          "2023-04-11T00:00:00",
          "2023-04-12T00:00:00",
          "2023-04-13T00:00:00",
          "2023-04-14T00:00:00",
          "2023-04-17T00:00:00",
          "2023-04-18T00:00:00",
          "2023-04-19T00:00:00",
          "2023-04-20T00:00:00",
          "2023-04-21T00:00:00",
          "2023-04-24T00:00:00",
          "2023-04-25T00:00:00",
          "2023-04-26T00:00:00",
          "2023-04-27T00:00:00",
          "2023-04-28T00:00:00",
          "2023-05-01T00:00:00",
          "2023-05-02T00:00:00",
          "2023-05-03T00:00:00",
          "2023-05-04T00:00:00",
          "2023-05-05T00:00:00",
          "2023-05-08T00:00:00",
          "2023-05-09T00:00:00",
          "2023-05-10T00:00:00",
          "2023-05-11T00:00:00",
          "2023-05-12T00:00:00",
          "2023-05-15T00:00:00",
          "2023-05-16T00:00:00",
          "2023-05-17T00:00:00",
          "2023-05-18T00:00:00",
          "2023-05-19T00:00:00",
          "2023-05-22T00:00:00",
          "2023-05-23T00:00:00",
          "2023-05-24T00:00:00",
          "2023-05-25T00:00:00",
          "2023-05-26T00:00:00",
          "2023-05-29T00:00:00",
          "2023-05-30T00:00:00",
          "2023-05-31T00:00:00",
          "2023-06-01T00:00:00",
          "2023-06-02T00:00:00",
          "2023-06-05T00:00:00",
          "2023-06-06T00:00:00",
          "2023-06-07T00:00:00",
          "2023-06-08T00:00:00",
          "2023-06-09T00:00:00",
          "2023-06-12T00:00:00",
          "2023-06-13T00:00:00",
          "2023-06-14T00:00:00",
          "2023-06-15T00:00:00",
          "2023-06-16T00:00:00",
          "2023-06-19T00:00:00",
          "2023-06-20T00:00:00",
          "2023-06-21T00:00:00",
          "2023-06-22T00:00:00",
          "2023-06-23T00:00:00",
          "2023-06-26T00:00:00",
          "2023-06-27T00:00:00",
          "2023-06-28T00:00:00",
          "2023-06-29T00:00:00",
          "2023-06-30T00:00:00",
          "2023-07-03T00:00:00",
          "2023-07-04T00:00:00",
          "2023-07-05T00:00:00",
          "2023-07-06T00:00:00"
         ],
         "xaxis": "x9",
         "y": [
          1.3559900522232056,
          1.3435200452804565,
          1.3393700122833252,
          1.3432899713516235,
          1.343000054359436,
          1.3375999927520752,
          1.3396199941635132,
          1.3397799730300903,
          1.3389999866485596,
          1.3495800495147705,
          1.3463799953460693,
          1.3371000289916992,
          1.3370100259780884,
          1.3374799489974976,
          1.3380199670791626,
          1.3316099643707275,
          1.3303200006484985,
          1.338379979133606,
          1.3306000232696533,
          1.3274999856948853,
          1.3316600322723389,
          1.3399699926376343,
          1.344099998474121,
          1.3390100002288818,
          1.344499945640564,
          1.3448699712753296,
          1.3357399702072144,
          1.3333100080490112,
          1.3340599536895752,
          1.3390599489212036,
          1.3473000526428223,
          1.3481999635696411,
          1.3452999591827393,
          1.3534899950027466,
          1.3545399904251099,
          1.3543200492858887,
          1.3593699932098389,
          1.3573999404907227,
          1.3645199537277222,
          1.3589600324630737,
          1.3594800233840942,
          1.3602999448776245,
          1.3616199493408203,
          1.3747999668121338,
          1.3799400329589844,
          1.3831000328063965,
          1.3763799667358398,
          1.373520016670227,
          1.3688900470733643,
          1.3764899969100952,
          1.3719099760055542,
          1.3709800243377686,
          1.3671000003814697,
          1.3708800077438354,
          1.3716700077056885,
          1.3717000484466553,
          1.3727400302886963,
          1.3654099702835083,
          1.3593300580978394,
          1.3563100099563599,
          1.3521900177001953,
          1.3501800298690796,
          1.343369960784912,
          1.3437999486923218,
          1.3454300165176392,
          1.3494999408721924,
          1.3503999710083008,
          1.3503400087356567,
          1.346250057220459,
          1.343999981880188,
          1.3339999914169312,
          1.3365000486373901,
          1.3392000198364258,
          1.3390899896621704,
          1.3467999696731567,
          1.348080039024353,
          1.3538399934768677,
          1.353369951248169,
          1.361840009689331,
          1.363070011138916,
          1.359969973564148,
          1.3559099435806274,
          1.3552000522613525,
          1.3619500398635864,
          1.3631900548934937,
          1.3523000478744507,
          1.3380000591278076,
          1.3372399806976318,
          1.337499976158142,
          1.3372100591659546,
          1.3493000268936157,
          1.3553999662399292,
          1.346500039100647,
          1.3477200269699097,
          1.3466700315475464,
          1.349769949913025,
          1.3487999439239502,
          1.3502899408340454,
          1.3499399423599243,
          1.3588500022888184,
          1.3643200397491455,
          1.3609000444412231,
          1.3601000308990479,
          1.359969973564148,
          1.356600046157837,
          1.3443000316619873,
          1.342829942703247,
          1.3447999954223633,
          1.339859962463379,
          1.3371599912643433,
          1.3361999988555908,
          1.3336800336837769,
          1.336300015449524,
          1.331470012664795,
          1.3326400518417358,
          1.3221900463104248,
          1.3198000192642212,
          1.3209500312805176,
          1.3225599527359009,
          1.316100001335144,
          1.3145899772644043,
          1.3164700269699097,
          1.315000057220459,
          1.3197699785232544,
          1.3251800537109375,
          1.3250000476837158,
          1.3250000476837158,
          1.3248000144958496,
          1.322350025177002,
          1.3355000019073486
         ],
         "yaxis": "y9"
        }
       ],
       "layout": {
        "annotations": [
         {
          "font": {
           "size": 16
          },
          "showarrow": false,
          "text": "EUR/USD",
          "x": 0.14444444444444446,
          "xanchor": "center",
          "xref": "paper",
          "y": 1,
          "yanchor": "bottom",
          "yref": "paper"
         },
         {
          "font": {
           "size": 16
          },
          "showarrow": false,
          "text": "EUR/CHF",
          "x": 0.5,
          "xanchor": "center",
          "xref": "paper",
          "y": 1,
          "yanchor": "bottom",
          "yref": "paper"
         },
         {
          "font": {
           "size": 16
          },
          "showarrow": false,
          "text": "EUR/JPY",
          "x": 0.8555555555555556,
          "xanchor": "center",
          "xref": "paper",
          "y": 1,
          "yanchor": "bottom",
          "yref": "paper"
         },
         {
          "font": {
           "size": 16
          },
          "showarrow": false,
          "text": "EUR/GBP",
          "x": 0.14444444444444446,
          "xanchor": "center",
          "xref": "paper",
          "y": 0.6111111111111112,
          "yanchor": "bottom",
          "yref": "paper"
         },
         {
          "font": {
           "size": 16
          },
          "showarrow": false,
          "text": "GBP/USD",
          "x": 0.5,
          "xanchor": "center",
          "xref": "paper",
          "y": 0.6111111111111112,
          "yanchor": "bottom",
          "yref": "paper"
         },
         {
          "font": {
           "size": 16
          },
          "showarrow": false,
          "text": "USD/JPY",
          "x": 0.8555555555555556,
          "xanchor": "center",
          "xref": "paper",
          "y": 0.6111111111111112,
          "yanchor": "bottom",
          "yref": "paper"
         },
         {
          "font": {
           "size": 16
          },
          "showarrow": false,
          "text": "USD/CHF",
          "x": 0.14444444444444446,
          "xanchor": "center",
          "xref": "paper",
          "y": 0.22222222222222224,
          "yanchor": "bottom",
          "yref": "paper"
         },
         {
          "font": {
           "size": 16
          },
          "showarrow": false,
          "text": "USD/AUD",
          "x": 0.5,
          "xanchor": "center",
          "xref": "paper",
          "y": 0.22222222222222224,
          "yanchor": "bottom",
          "yref": "paper"
         },
         {
          "font": {
           "size": 16
          },
          "showarrow": false,
          "text": "USD/CAD",
          "x": 0.8555555555555556,
          "xanchor": "center",
          "xref": "paper",
          "y": 0.22222222222222224,
          "yanchor": "bottom",
          "yref": "paper"
         }
        ],
        "height": 800,
        "showlegend": false,
        "template": {
         "data": {
          "bar": [
           {
            "error_x": {
             "color": "#f2f5fa"
            },
            "error_y": {
             "color": "#f2f5fa"
            },
            "marker": {
             "line": {
              "color": "rgb(17,17,17)",
              "width": 0.5
             },
             "pattern": {
              "fillmode": "overlay",
              "size": 10,
              "solidity": 0.2
             }
            },
            "type": "bar"
           }
          ],
          "barpolar": [
           {
            "marker": {
             "line": {
              "color": "rgb(17,17,17)",
              "width": 0.5
             },
             "pattern": {
              "fillmode": "overlay",
              "size": 10,
              "solidity": 0.2
             }
            },
            "type": "barpolar"
           }
          ],
          "carpet": [
           {
            "aaxis": {
             "endlinecolor": "#A2B1C6",
             "gridcolor": "#506784",
             "linecolor": "#506784",
             "minorgridcolor": "#506784",
             "startlinecolor": "#A2B1C6"
            },
            "baxis": {
             "endlinecolor": "#A2B1C6",
             "gridcolor": "#506784",
             "linecolor": "#506784",
             "minorgridcolor": "#506784",
             "startlinecolor": "#A2B1C6"
            },
            "type": "carpet"
           }
          ],
          "choropleth": [
           {
            "colorbar": {
             "outlinewidth": 0,
             "ticks": ""
            },
            "type": "choropleth"
           }
          ],
          "contour": [
           {
            "colorbar": {
             "outlinewidth": 0,
             "ticks": ""
            },
            "colorscale": [
             [
              0,
              "#0d0887"
             ],
             [
              0.1111111111111111,
              "#46039f"
             ],
             [
              0.2222222222222222,
              "#7201a8"
             ],
             [
              0.3333333333333333,
              "#9c179e"
             ],
             [
              0.4444444444444444,
              "#bd3786"
             ],
             [
              0.5555555555555556,
              "#d8576b"
             ],
             [
              0.6666666666666666,
              "#ed7953"
             ],
             [
              0.7777777777777778,
              "#fb9f3a"
             ],
             [
              0.8888888888888888,
              "#fdca26"
             ],
             [
              1,
              "#f0f921"
             ]
            ],
            "type": "contour"
           }
          ],
          "contourcarpet": [
           {
            "colorbar": {
             "outlinewidth": 0,
             "ticks": ""
            },
            "type": "contourcarpet"
           }
          ],
          "heatmap": [
           {
            "colorbar": {
             "outlinewidth": 0,
             "ticks": ""
            },
            "colorscale": [
             [
              0,
              "#0d0887"
             ],
             [
              0.1111111111111111,
              "#46039f"
             ],
             [
              0.2222222222222222,
              "#7201a8"
             ],
             [
              0.3333333333333333,
              "#9c179e"
             ],
             [
              0.4444444444444444,
              "#bd3786"
             ],
             [
              0.5555555555555556,
              "#d8576b"
             ],
             [
              0.6666666666666666,
              "#ed7953"
             ],
             [
              0.7777777777777778,
              "#fb9f3a"
             ],
             [
              0.8888888888888888,
              "#fdca26"
             ],
             [
              1,
              "#f0f921"
             ]
            ],
            "type": "heatmap"
           }
          ],
          "heatmapgl": [
           {
            "colorbar": {
             "outlinewidth": 0,
             "ticks": ""
            },
            "colorscale": [
             [
              0,
              "#0d0887"
             ],
             [
              0.1111111111111111,
              "#46039f"
             ],
             [
              0.2222222222222222,
              "#7201a8"
             ],
             [
              0.3333333333333333,
              "#9c179e"
             ],
             [
              0.4444444444444444,
              "#bd3786"
             ],
             [
              0.5555555555555556,
              "#d8576b"
             ],
             [
              0.6666666666666666,
              "#ed7953"
             ],
             [
              0.7777777777777778,
              "#fb9f3a"
             ],
             [
              0.8888888888888888,
              "#fdca26"
             ],
             [
              1,
              "#f0f921"
             ]
            ],
            "type": "heatmapgl"
           }
          ],
          "histogram": [
           {
            "marker": {
             "pattern": {
              "fillmode": "overlay",
              "size": 10,
              "solidity": 0.2
             }
            },
            "type": "histogram"
           }
          ],
          "histogram2d": [
           {
            "colorbar": {
             "outlinewidth": 0,
             "ticks": ""
            },
            "colorscale": [
             [
              0,
              "#0d0887"
             ],
             [
              0.1111111111111111,
              "#46039f"
             ],
             [
              0.2222222222222222,
              "#7201a8"
             ],
             [
              0.3333333333333333,
              "#9c179e"
             ],
             [
              0.4444444444444444,
              "#bd3786"
             ],
             [
              0.5555555555555556,
              "#d8576b"
             ],
             [
              0.6666666666666666,
              "#ed7953"
             ],
             [
              0.7777777777777778,
              "#fb9f3a"
             ],
             [
              0.8888888888888888,
              "#fdca26"
             ],
             [
              1,
              "#f0f921"
             ]
            ],
            "type": "histogram2d"
           }
          ],
          "histogram2dcontour": [
           {
            "colorbar": {
             "outlinewidth": 0,
             "ticks": ""
            },
            "colorscale": [
             [
              0,
              "#0d0887"
             ],
             [
              0.1111111111111111,
              "#46039f"
             ],
             [
              0.2222222222222222,
              "#7201a8"
             ],
             [
              0.3333333333333333,
              "#9c179e"
             ],
             [
              0.4444444444444444,
              "#bd3786"
             ],
             [
              0.5555555555555556,
              "#d8576b"
             ],
             [
              0.6666666666666666,
              "#ed7953"
             ],
             [
              0.7777777777777778,
              "#fb9f3a"
             ],
             [
              0.8888888888888888,
              "#fdca26"
             ],
             [
              1,
              "#f0f921"
             ]
            ],
            "type": "histogram2dcontour"
           }
          ],
          "mesh3d": [
           {
            "colorbar": {
             "outlinewidth": 0,
             "ticks": ""
            },
            "type": "mesh3d"
           }
          ],
          "parcoords": [
           {
            "line": {
             "colorbar": {
              "outlinewidth": 0,
              "ticks": ""
             }
            },
            "type": "parcoords"
           }
          ],
          "pie": [
           {
            "automargin": true,
            "type": "pie"
           }
          ],
          "scatter": [
           {
            "marker": {
             "line": {
              "color": "#283442"
             }
            },
            "type": "scatter"
           }
          ],
          "scatter3d": [
           {
            "line": {
             "colorbar": {
              "outlinewidth": 0,
              "ticks": ""
             }
            },
            "marker": {
             "colorbar": {
              "outlinewidth": 0,
              "ticks": ""
             }
            },
            "type": "scatter3d"
           }
          ],
          "scattercarpet": [
           {
            "marker": {
             "colorbar": {
              "outlinewidth": 0,
              "ticks": ""
             }
            },
            "type": "scattercarpet"
           }
          ],
          "scattergeo": [
           {
            "marker": {
             "colorbar": {
              "outlinewidth": 0,
              "ticks": ""
             }
            },
            "type": "scattergeo"
           }
          ],
          "scattergl": [
           {
            "marker": {
             "line": {
              "color": "#283442"
             }
            },
            "type": "scattergl"
           }
          ],
          "scattermapbox": [
           {
            "marker": {
             "colorbar": {
              "outlinewidth": 0,
              "ticks": ""
             }
            },
            "type": "scattermapbox"
           }
          ],
          "scatterpolar": [
           {
            "marker": {
             "colorbar": {
              "outlinewidth": 0,
              "ticks": ""
             }
            },
            "type": "scatterpolar"
           }
          ],
          "scatterpolargl": [
           {
            "marker": {
             "colorbar": {
              "outlinewidth": 0,
              "ticks": ""
             }
            },
            "type": "scatterpolargl"
           }
          ],
          "scatterternary": [
           {
            "marker": {
             "colorbar": {
              "outlinewidth": 0,
              "ticks": ""
             }
            },
            "type": "scatterternary"
           }
          ],
          "surface": [
           {
            "colorbar": {
             "outlinewidth": 0,
             "ticks": ""
            },
            "colorscale": [
             [
              0,
              "#0d0887"
             ],
             [
              0.1111111111111111,
              "#46039f"
             ],
             [
              0.2222222222222222,
              "#7201a8"
             ],
             [
              0.3333333333333333,
              "#9c179e"
             ],
             [
              0.4444444444444444,
              "#bd3786"
             ],
             [
              0.5555555555555556,
              "#d8576b"
             ],
             [
              0.6666666666666666,
              "#ed7953"
             ],
             [
              0.7777777777777778,
              "#fb9f3a"
             ],
             [
              0.8888888888888888,
              "#fdca26"
             ],
             [
              1,
              "#f0f921"
             ]
            ],
            "type": "surface"
           }
          ],
          "table": [
           {
            "cells": {
             "fill": {
              "color": "#506784"
             },
             "line": {
              "color": "rgb(17,17,17)"
             }
            },
            "header": {
             "fill": {
              "color": "#2a3f5f"
             },
             "line": {
              "color": "rgb(17,17,17)"
             }
            },
            "type": "table"
           }
          ]
         },
         "layout": {
          "annotationdefaults": {
           "arrowcolor": "#f2f5fa",
           "arrowhead": 0,
           "arrowwidth": 1
          },
          "autotypenumbers": "strict",
          "coloraxis": {
           "colorbar": {
            "outlinewidth": 0,
            "ticks": ""
           }
          },
          "colorscale": {
           "diverging": [
            [
             0,
             "#8e0152"
            ],
            [
             0.1,
             "#c51b7d"
            ],
            [
             0.2,
             "#de77ae"
            ],
            [
             0.3,
             "#f1b6da"
            ],
            [
             0.4,
             "#fde0ef"
            ],
            [
             0.5,
             "#f7f7f7"
            ],
            [
             0.6,
             "#e6f5d0"
            ],
            [
             0.7,
             "#b8e186"
            ],
            [
             0.8,
             "#7fbc41"
            ],
            [
             0.9,
             "#4d9221"
            ],
            [
             1,
             "#276419"
            ]
           ],
           "sequential": [
            [
             0,
             "#0d0887"
            ],
            [
             0.1111111111111111,
             "#46039f"
            ],
            [
             0.2222222222222222,
             "#7201a8"
            ],
            [
             0.3333333333333333,
             "#9c179e"
            ],
            [
             0.4444444444444444,
             "#bd3786"
            ],
            [
             0.5555555555555556,
             "#d8576b"
            ],
            [
             0.6666666666666666,
             "#ed7953"
            ],
            [
             0.7777777777777778,
             "#fb9f3a"
            ],
            [
             0.8888888888888888,
             "#fdca26"
            ],
            [
             1,
             "#f0f921"
            ]
           ],
           "sequentialminus": [
            [
             0,
             "#0d0887"
            ],
            [
             0.1111111111111111,
             "#46039f"
            ],
            [
             0.2222222222222222,
             "#7201a8"
            ],
            [
             0.3333333333333333,
             "#9c179e"
            ],
            [
             0.4444444444444444,
             "#bd3786"
            ],
            [
             0.5555555555555556,
             "#d8576b"
            ],
            [
             0.6666666666666666,
             "#ed7953"
            ],
            [
             0.7777777777777778,
             "#fb9f3a"
            ],
            [
             0.8888888888888888,
             "#fdca26"
            ],
            [
             1,
             "#f0f921"
            ]
           ]
          },
          "colorway": [
           "#636efa",
           "#EF553B",
           "#00cc96",
           "#ab63fa",
           "#FFA15A",
           "#19d3f3",
           "#FF6692",
           "#B6E880",
           "#FF97FF",
           "#FECB52"
          ],
          "font": {
           "color": "#f2f5fa"
          },
          "geo": {
           "bgcolor": "rgb(17,17,17)",
           "lakecolor": "rgb(17,17,17)",
           "landcolor": "rgb(17,17,17)",
           "showlakes": true,
           "showland": true,
           "subunitcolor": "#506784"
          },
          "hoverlabel": {
           "align": "left"
          },
          "hovermode": "closest",
          "mapbox": {
           "style": "dark"
          },
          "paper_bgcolor": "rgb(17,17,17)",
          "plot_bgcolor": "rgb(17,17,17)",
          "polar": {
           "angularaxis": {
            "gridcolor": "#506784",
            "linecolor": "#506784",
            "ticks": ""
           },
           "bgcolor": "rgb(17,17,17)",
           "radialaxis": {
            "gridcolor": "#506784",
            "linecolor": "#506784",
            "ticks": ""
           }
          },
          "scene": {
           "xaxis": {
            "backgroundcolor": "rgb(17,17,17)",
            "gridcolor": "#506784",
            "gridwidth": 2,
            "linecolor": "#506784",
            "showbackground": true,
            "ticks": "",
            "zerolinecolor": "#C8D4E3"
           },
           "yaxis": {
            "backgroundcolor": "rgb(17,17,17)",
            "gridcolor": "#506784",
            "gridwidth": 2,
            "linecolor": "#506784",
            "showbackground": true,
            "ticks": "",
            "zerolinecolor": "#C8D4E3"
           },
           "zaxis": {
            "backgroundcolor": "rgb(17,17,17)",
            "gridcolor": "#506784",
            "gridwidth": 2,
            "linecolor": "#506784",
            "showbackground": true,
            "ticks": "",
            "zerolinecolor": "#C8D4E3"
           }
          },
          "shapedefaults": {
           "line": {
            "color": "#f2f5fa"
           }
          },
          "sliderdefaults": {
           "bgcolor": "#C8D4E3",
           "bordercolor": "rgb(17,17,17)",
           "borderwidth": 1,
           "tickwidth": 0
          },
          "ternary": {
           "aaxis": {
            "gridcolor": "#506784",
            "linecolor": "#506784",
            "ticks": ""
           },
           "baxis": {
            "gridcolor": "#506784",
            "linecolor": "#506784",
            "ticks": ""
           },
           "bgcolor": "rgb(17,17,17)",
           "caxis": {
            "gridcolor": "#506784",
            "linecolor": "#506784",
            "ticks": ""
           }
          },
          "title": {
           "x": 0.05
          },
          "updatemenudefaults": {
           "bgcolor": "#506784",
           "borderwidth": 0
          },
          "xaxis": {
           "automargin": true,
           "gridcolor": "#283442",
           "linecolor": "#506784",
           "ticks": "",
           "title": {
            "standoff": 15
           },
           "zerolinecolor": "#283442",
           "zerolinewidth": 2
          },
          "yaxis": {
           "automargin": true,
           "gridcolor": "#283442",
           "linecolor": "#506784",
           "ticks": "",
           "title": {
            "standoff": 15
           },
           "zerolinecolor": "#283442",
           "zerolinewidth": 2
          }
         }
        },
        "title": {
         "text": "<b>FX Pairs over the last 6 months</b>"
        },
        "xaxis": {
         "anchor": "y",
         "domain": [
          0,
          0.2888888888888889
         ]
        },
        "xaxis2": {
         "anchor": "y2",
         "domain": [
          0.35555555555555557,
          0.6444444444444445
         ]
        },
        "xaxis3": {
         "anchor": "y3",
         "domain": [
          0.7111111111111111,
          1
         ]
        },
        "xaxis4": {
         "anchor": "y4",
         "domain": [
          0,
          0.2888888888888889
         ]
        },
        "xaxis5": {
         "anchor": "y5",
         "domain": [
          0.35555555555555557,
          0.6444444444444445
         ]
        },
        "xaxis6": {
         "anchor": "y6",
         "domain": [
          0.7111111111111111,
          1
         ]
        },
        "xaxis7": {
         "anchor": "y7",
         "domain": [
          0,
          0.2888888888888889
         ]
        },
        "xaxis8": {
         "anchor": "y8",
         "domain": [
          0.35555555555555557,
          0.6444444444444445
         ]
        },
        "xaxis9": {
         "anchor": "y9",
         "domain": [
          0.7111111111111111,
          1
         ]
        },
        "yaxis": {
         "anchor": "x",
         "domain": [
          0.7777777777777778,
          1
         ]
        },
        "yaxis2": {
         "anchor": "x2",
         "domain": [
          0.7777777777777778,
          1
         ]
        },
        "yaxis3": {
         "anchor": "x3",
         "domain": [
          0.7777777777777778,
          1
         ]
        },
        "yaxis4": {
         "anchor": "x4",
         "domain": [
          0.3888888888888889,
          0.6111111111111112
         ]
        },
        "yaxis5": {
         "anchor": "x5",
         "domain": [
          0.3888888888888889,
          0.6111111111111112
         ]
        },
        "yaxis6": {
         "anchor": "x6",
         "domain": [
          0.3888888888888889,
          0.6111111111111112
         ]
        },
        "yaxis7": {
         "anchor": "x7",
         "domain": [
          0,
          0.22222222222222224
         ]
        },
        "yaxis8": {
         "anchor": "x8",
         "domain": [
          0,
          0.22222222222222224
         ]
        },
        "yaxis9": {
         "anchor": "x9",
         "domain": [
          0,
          0.22222222222222224
         ]
        }
       }
      }
     },
     "metadata": {},
     "output_type": "display_data"
    }
   ],
   "source": [
    "# Show the bond plot\n",
    "yc_fig.show()\n",
    "\n",
    "# Show the spread plot\n",
    "spread_fig.show()\n",
    "\n",
    "# Show the equity indexes plot\n",
    "eq_indexes_fig.show()\n",
    "\n",
    "# Show the equity index cumulative returns plot\n",
    "cum_ret_fig.show()\n",
    "\n",
    "# Show the commodity futures plot\n",
    "futures_dash.show()\n",
    "\n",
    "# Show the FX plot\n",
    "FX_fig.show()"
   ]
  },
  {
   "cell_type": "code",
   "execution_count": null,
   "id": "6bbc5d4a-7eb1-4d6a-a1d4-c20db491dbc2",
   "metadata": {},
   "outputs": [],
   "source": []
  }
 ],
 "metadata": {
  "interpreter": {
   "hash": "04e587905b8bc50ee3ef9ea9ad2184de4f0abb87b05c2439fd966be1908608ad"
  },
  "kernelspec": {
   "display_name": "Python 3 (ipykernel)",
   "language": "python",
   "name": "python3"
  },
  "language_info": {
   "codemirror_mode": {
    "name": "ipython",
    "version": 3
   },
   "file_extension": ".py",
   "mimetype": "text/x-python",
   "name": "python",
   "nbconvert_exporter": "python",
   "pygments_lexer": "ipython3",
   "version": "3.10.8"
  }
 },
 "nbformat": 4,
 "nbformat_minor": 5
}
